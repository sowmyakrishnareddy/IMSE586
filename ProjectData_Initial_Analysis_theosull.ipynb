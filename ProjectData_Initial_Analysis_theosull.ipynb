{
 "cells": [
  {
   "cell_type": "code",
   "execution_count": 1,
   "id": "68125ad3",
   "metadata": {},
   "outputs": [],
   "source": [
    "import numpy as np\n",
    "import pandas as pd\n",
    "import matplotlib.pyplot as plt\n",
    "import seaborn as sns\n",
    "import statsmodels.formula.api as smf\n",
    "from sklearn.preprocessing import StandardScaler, FunctionTransformer, OneHotEncoder\n",
    "from sklearn.model_selection import train_test_split\n",
    "from sklearn.linear_model import LogisticRegression\n",
    "from sklearn import metrics\n"
   ]
  },
  {
   "cell_type": "code",
   "execution_count": 2,
   "id": "a8c56f88",
   "metadata": {},
   "outputs": [],
   "source": [
    "cn = ['age','sex','chest_pain_type','restbps','chol','blood_sugar','restecg','max_heartrate','exang','oldpeak','slope','num_mjr_vess','thal','dx']\n",
    "\n",
    "\n",
    "df = pd.read_csv('https://archive.ics.uci.edu/ml/machine-learning-databases/heart-disease/processed.cleveland.data', names=cn)"
   ]
  },
  {
   "cell_type": "code",
   "execution_count": 3,
   "id": "7c65c232",
   "metadata": {},
   "outputs": [
    {
     "data": {
      "text/html": [
       "<div>\n",
       "<style scoped>\n",
       "    .dataframe tbody tr th:only-of-type {\n",
       "        vertical-align: middle;\n",
       "    }\n",
       "\n",
       "    .dataframe tbody tr th {\n",
       "        vertical-align: top;\n",
       "    }\n",
       "\n",
       "    .dataframe thead th {\n",
       "        text-align: right;\n",
       "    }\n",
       "</style>\n",
       "<table border=\"1\" class=\"dataframe\">\n",
       "  <thead>\n",
       "    <tr style=\"text-align: right;\">\n",
       "      <th></th>\n",
       "      <th>age</th>\n",
       "      <th>sex</th>\n",
       "      <th>chest_pain_type</th>\n",
       "      <th>restbps</th>\n",
       "      <th>chol</th>\n",
       "      <th>blood_sugar</th>\n",
       "      <th>restecg</th>\n",
       "      <th>max_heartrate</th>\n",
       "      <th>exang</th>\n",
       "      <th>oldpeak</th>\n",
       "      <th>slope</th>\n",
       "      <th>num_mjr_vess</th>\n",
       "      <th>thal</th>\n",
       "      <th>dx</th>\n",
       "    </tr>\n",
       "  </thead>\n",
       "  <tbody>\n",
       "    <tr>\n",
       "      <th>0</th>\n",
       "      <td>63.0</td>\n",
       "      <td>1.0</td>\n",
       "      <td>1.0</td>\n",
       "      <td>145.0</td>\n",
       "      <td>233.0</td>\n",
       "      <td>1.0</td>\n",
       "      <td>2.0</td>\n",
       "      <td>150.0</td>\n",
       "      <td>0.0</td>\n",
       "      <td>2.3</td>\n",
       "      <td>3.0</td>\n",
       "      <td>0.0</td>\n",
       "      <td>6.0</td>\n",
       "      <td>0</td>\n",
       "    </tr>\n",
       "    <tr>\n",
       "      <th>1</th>\n",
       "      <td>67.0</td>\n",
       "      <td>1.0</td>\n",
       "      <td>4.0</td>\n",
       "      <td>160.0</td>\n",
       "      <td>286.0</td>\n",
       "      <td>0.0</td>\n",
       "      <td>2.0</td>\n",
       "      <td>108.0</td>\n",
       "      <td>1.0</td>\n",
       "      <td>1.5</td>\n",
       "      <td>2.0</td>\n",
       "      <td>3.0</td>\n",
       "      <td>3.0</td>\n",
       "      <td>2</td>\n",
       "    </tr>\n",
       "    <tr>\n",
       "      <th>2</th>\n",
       "      <td>67.0</td>\n",
       "      <td>1.0</td>\n",
       "      <td>4.0</td>\n",
       "      <td>120.0</td>\n",
       "      <td>229.0</td>\n",
       "      <td>0.0</td>\n",
       "      <td>2.0</td>\n",
       "      <td>129.0</td>\n",
       "      <td>1.0</td>\n",
       "      <td>2.6</td>\n",
       "      <td>2.0</td>\n",
       "      <td>2.0</td>\n",
       "      <td>7.0</td>\n",
       "      <td>1</td>\n",
       "    </tr>\n",
       "    <tr>\n",
       "      <th>3</th>\n",
       "      <td>37.0</td>\n",
       "      <td>1.0</td>\n",
       "      <td>3.0</td>\n",
       "      <td>130.0</td>\n",
       "      <td>250.0</td>\n",
       "      <td>0.0</td>\n",
       "      <td>0.0</td>\n",
       "      <td>187.0</td>\n",
       "      <td>0.0</td>\n",
       "      <td>3.5</td>\n",
       "      <td>3.0</td>\n",
       "      <td>0.0</td>\n",
       "      <td>3.0</td>\n",
       "      <td>0</td>\n",
       "    </tr>\n",
       "    <tr>\n",
       "      <th>4</th>\n",
       "      <td>41.0</td>\n",
       "      <td>0.0</td>\n",
       "      <td>2.0</td>\n",
       "      <td>130.0</td>\n",
       "      <td>204.0</td>\n",
       "      <td>0.0</td>\n",
       "      <td>2.0</td>\n",
       "      <td>172.0</td>\n",
       "      <td>0.0</td>\n",
       "      <td>1.4</td>\n",
       "      <td>1.0</td>\n",
       "      <td>0.0</td>\n",
       "      <td>3.0</td>\n",
       "      <td>0</td>\n",
       "    </tr>\n",
       "  </tbody>\n",
       "</table>\n",
       "</div>"
      ],
      "text/plain": [
       "    age  sex  chest_pain_type  restbps   chol  blood_sugar  restecg  \\\n",
       "0  63.0  1.0              1.0    145.0  233.0          1.0      2.0   \n",
       "1  67.0  1.0              4.0    160.0  286.0          0.0      2.0   \n",
       "2  67.0  1.0              4.0    120.0  229.0          0.0      2.0   \n",
       "3  37.0  1.0              3.0    130.0  250.0          0.0      0.0   \n",
       "4  41.0  0.0              2.0    130.0  204.0          0.0      2.0   \n",
       "\n",
       "   max_heartrate  exang  oldpeak  slope num_mjr_vess thal  dx  \n",
       "0          150.0    0.0      2.3    3.0          0.0  6.0   0  \n",
       "1          108.0    1.0      1.5    2.0          3.0  3.0   2  \n",
       "2          129.0    1.0      2.6    2.0          2.0  7.0   1  \n",
       "3          187.0    0.0      3.5    3.0          0.0  3.0   0  \n",
       "4          172.0    0.0      1.4    1.0          0.0  3.0   0  "
      ]
     },
     "execution_count": 3,
     "metadata": {},
     "output_type": "execute_result"
    }
   ],
   "source": [
    "df.head()"
   ]
  },
  {
   "cell_type": "code",
   "execution_count": 4,
   "id": "fb43ba98",
   "metadata": {},
   "outputs": [
    {
     "data": {
      "text/html": [
       "<div>\n",
       "<style scoped>\n",
       "    .dataframe tbody tr th:only-of-type {\n",
       "        vertical-align: middle;\n",
       "    }\n",
       "\n",
       "    .dataframe tbody tr th {\n",
       "        vertical-align: top;\n",
       "    }\n",
       "\n",
       "    .dataframe thead th {\n",
       "        text-align: right;\n",
       "    }\n",
       "</style>\n",
       "<table border=\"1\" class=\"dataframe\">\n",
       "  <thead>\n",
       "    <tr style=\"text-align: right;\">\n",
       "      <th></th>\n",
       "      <th>age</th>\n",
       "      <th>sex</th>\n",
       "      <th>chest_pain_type</th>\n",
       "      <th>restbps</th>\n",
       "      <th>chol</th>\n",
       "      <th>blood_sugar</th>\n",
       "      <th>restecg</th>\n",
       "      <th>max_heartrate</th>\n",
       "      <th>exang</th>\n",
       "      <th>oldpeak</th>\n",
       "      <th>slope</th>\n",
       "      <th>dx</th>\n",
       "    </tr>\n",
       "  </thead>\n",
       "  <tbody>\n",
       "    <tr>\n",
       "      <th>count</th>\n",
       "      <td>303.000000</td>\n",
       "      <td>303.000000</td>\n",
       "      <td>303.000000</td>\n",
       "      <td>303.000000</td>\n",
       "      <td>303.000000</td>\n",
       "      <td>303.000000</td>\n",
       "      <td>303.000000</td>\n",
       "      <td>303.000000</td>\n",
       "      <td>303.000000</td>\n",
       "      <td>303.000000</td>\n",
       "      <td>303.000000</td>\n",
       "      <td>303.000000</td>\n",
       "    </tr>\n",
       "    <tr>\n",
       "      <th>mean</th>\n",
       "      <td>54.438944</td>\n",
       "      <td>0.679868</td>\n",
       "      <td>3.158416</td>\n",
       "      <td>131.689769</td>\n",
       "      <td>246.693069</td>\n",
       "      <td>0.148515</td>\n",
       "      <td>0.990099</td>\n",
       "      <td>149.607261</td>\n",
       "      <td>0.326733</td>\n",
       "      <td>1.039604</td>\n",
       "      <td>1.600660</td>\n",
       "      <td>0.937294</td>\n",
       "    </tr>\n",
       "    <tr>\n",
       "      <th>std</th>\n",
       "      <td>9.038662</td>\n",
       "      <td>0.467299</td>\n",
       "      <td>0.960126</td>\n",
       "      <td>17.599748</td>\n",
       "      <td>51.776918</td>\n",
       "      <td>0.356198</td>\n",
       "      <td>0.994971</td>\n",
       "      <td>22.875003</td>\n",
       "      <td>0.469794</td>\n",
       "      <td>1.161075</td>\n",
       "      <td>0.616226</td>\n",
       "      <td>1.228536</td>\n",
       "    </tr>\n",
       "    <tr>\n",
       "      <th>min</th>\n",
       "      <td>29.000000</td>\n",
       "      <td>0.000000</td>\n",
       "      <td>1.000000</td>\n",
       "      <td>94.000000</td>\n",
       "      <td>126.000000</td>\n",
       "      <td>0.000000</td>\n",
       "      <td>0.000000</td>\n",
       "      <td>71.000000</td>\n",
       "      <td>0.000000</td>\n",
       "      <td>0.000000</td>\n",
       "      <td>1.000000</td>\n",
       "      <td>0.000000</td>\n",
       "    </tr>\n",
       "    <tr>\n",
       "      <th>25%</th>\n",
       "      <td>48.000000</td>\n",
       "      <td>0.000000</td>\n",
       "      <td>3.000000</td>\n",
       "      <td>120.000000</td>\n",
       "      <td>211.000000</td>\n",
       "      <td>0.000000</td>\n",
       "      <td>0.000000</td>\n",
       "      <td>133.500000</td>\n",
       "      <td>0.000000</td>\n",
       "      <td>0.000000</td>\n",
       "      <td>1.000000</td>\n",
       "      <td>0.000000</td>\n",
       "    </tr>\n",
       "    <tr>\n",
       "      <th>50%</th>\n",
       "      <td>56.000000</td>\n",
       "      <td>1.000000</td>\n",
       "      <td>3.000000</td>\n",
       "      <td>130.000000</td>\n",
       "      <td>241.000000</td>\n",
       "      <td>0.000000</td>\n",
       "      <td>1.000000</td>\n",
       "      <td>153.000000</td>\n",
       "      <td>0.000000</td>\n",
       "      <td>0.800000</td>\n",
       "      <td>2.000000</td>\n",
       "      <td>0.000000</td>\n",
       "    </tr>\n",
       "    <tr>\n",
       "      <th>75%</th>\n",
       "      <td>61.000000</td>\n",
       "      <td>1.000000</td>\n",
       "      <td>4.000000</td>\n",
       "      <td>140.000000</td>\n",
       "      <td>275.000000</td>\n",
       "      <td>0.000000</td>\n",
       "      <td>2.000000</td>\n",
       "      <td>166.000000</td>\n",
       "      <td>1.000000</td>\n",
       "      <td>1.600000</td>\n",
       "      <td>2.000000</td>\n",
       "      <td>2.000000</td>\n",
       "    </tr>\n",
       "    <tr>\n",
       "      <th>max</th>\n",
       "      <td>77.000000</td>\n",
       "      <td>1.000000</td>\n",
       "      <td>4.000000</td>\n",
       "      <td>200.000000</td>\n",
       "      <td>564.000000</td>\n",
       "      <td>1.000000</td>\n",
       "      <td>2.000000</td>\n",
       "      <td>202.000000</td>\n",
       "      <td>1.000000</td>\n",
       "      <td>6.200000</td>\n",
       "      <td>3.000000</td>\n",
       "      <td>4.000000</td>\n",
       "    </tr>\n",
       "  </tbody>\n",
       "</table>\n",
       "</div>"
      ],
      "text/plain": [
       "              age         sex  chest_pain_type     restbps        chol  \\\n",
       "count  303.000000  303.000000       303.000000  303.000000  303.000000   \n",
       "mean    54.438944    0.679868         3.158416  131.689769  246.693069   \n",
       "std      9.038662    0.467299         0.960126   17.599748   51.776918   \n",
       "min     29.000000    0.000000         1.000000   94.000000  126.000000   \n",
       "25%     48.000000    0.000000         3.000000  120.000000  211.000000   \n",
       "50%     56.000000    1.000000         3.000000  130.000000  241.000000   \n",
       "75%     61.000000    1.000000         4.000000  140.000000  275.000000   \n",
       "max     77.000000    1.000000         4.000000  200.000000  564.000000   \n",
       "\n",
       "       blood_sugar     restecg  max_heartrate       exang     oldpeak  \\\n",
       "count   303.000000  303.000000     303.000000  303.000000  303.000000   \n",
       "mean      0.148515    0.990099     149.607261    0.326733    1.039604   \n",
       "std       0.356198    0.994971      22.875003    0.469794    1.161075   \n",
       "min       0.000000    0.000000      71.000000    0.000000    0.000000   \n",
       "25%       0.000000    0.000000     133.500000    0.000000    0.000000   \n",
       "50%       0.000000    1.000000     153.000000    0.000000    0.800000   \n",
       "75%       0.000000    2.000000     166.000000    1.000000    1.600000   \n",
       "max       1.000000    2.000000     202.000000    1.000000    6.200000   \n",
       "\n",
       "            slope          dx  \n",
       "count  303.000000  303.000000  \n",
       "mean     1.600660    0.937294  \n",
       "std      0.616226    1.228536  \n",
       "min      1.000000    0.000000  \n",
       "25%      1.000000    0.000000  \n",
       "50%      2.000000    0.000000  \n",
       "75%      2.000000    2.000000  \n",
       "max      3.000000    4.000000  "
      ]
     },
     "execution_count": 4,
     "metadata": {},
     "output_type": "execute_result"
    }
   ],
   "source": [
    "df.describe() # need to preprocess the data!"
   ]
  },
  {
   "cell_type": "code",
   "execution_count": 5,
   "id": "317c33b4",
   "metadata": {},
   "outputs": [
    {
     "data": {
      "text/plain": [
       "age                0\n",
       "sex                0\n",
       "chest_pain_type    0\n",
       "restbps            0\n",
       "chol               0\n",
       "blood_sugar        0\n",
       "restecg            0\n",
       "max_heartrate      0\n",
       "exang              0\n",
       "oldpeak            0\n",
       "slope              0\n",
       "num_mjr_vess       0\n",
       "thal               0\n",
       "dx                 0\n",
       "dtype: int64"
      ]
     },
     "execution_count": 5,
     "metadata": {},
     "output_type": "execute_result"
    }
   ],
   "source": [
    "df.isnull().sum()"
   ]
  },
  {
   "cell_type": "code",
   "execution_count": 6,
   "id": "cf531837",
   "metadata": {},
   "outputs": [
    {
     "data": {
      "text/plain": [
       "age                0\n",
       "sex                0\n",
       "chest_pain_type    0\n",
       "restbps            0\n",
       "chol               0\n",
       "blood_sugar        0\n",
       "restecg            0\n",
       "max_heartrate      0\n",
       "exang              0\n",
       "oldpeak            0\n",
       "slope              0\n",
       "num_mjr_vess       0\n",
       "thal               0\n",
       "dx                 0\n",
       "dtype: int64"
      ]
     },
     "execution_count": 6,
     "metadata": {},
     "output_type": "execute_result"
    }
   ],
   "source": [
    "df.isna().sum()"
   ]
  },
  {
   "cell_type": "code",
   "execution_count": 7,
   "id": "71dede00",
   "metadata": {},
   "outputs": [
    {
     "data": {
      "text/plain": [
       "(303, 14)"
      ]
     },
     "execution_count": 7,
     "metadata": {},
     "output_type": "execute_result"
    }
   ],
   "source": [
    "df.shape"
   ]
  },
  {
   "cell_type": "code",
   "execution_count": 8,
   "id": "d8960e10",
   "metadata": {},
   "outputs": [
    {
     "data": {
      "text/plain": [
       "0    164\n",
       "1     55\n",
       "2     36\n",
       "3     35\n",
       "4     13\n",
       "Name: dx, dtype: int64"
      ]
     },
     "execution_count": 8,
     "metadata": {},
     "output_type": "execute_result"
    }
   ],
   "source": [
    "df['dx'].value_counts()"
   ]
  },
  {
   "cell_type": "code",
   "execution_count": 9,
   "id": "48801f35",
   "metadata": {},
   "outputs": [
    {
     "data": {
      "text/plain": [
       "age                float64\n",
       "sex                float64\n",
       "chest_pain_type    float64\n",
       "restbps            float64\n",
       "chol               float64\n",
       "blood_sugar        float64\n",
       "restecg            float64\n",
       "max_heartrate      float64\n",
       "exang              float64\n",
       "oldpeak            float64\n",
       "slope              float64\n",
       "num_mjr_vess        object\n",
       "thal                object\n",
       "dx                   int64\n",
       "dtype: object"
      ]
     },
     "execution_count": 9,
     "metadata": {},
     "output_type": "execute_result"
    }
   ],
   "source": [
    "df.dtypes"
   ]
  },
  {
   "cell_type": "code",
   "execution_count": null,
   "id": "dbde7de5",
   "metadata": {},
   "outputs": [],
   "source": []
  },
  {
   "cell_type": "code",
   "execution_count": 10,
   "id": "7c56ba07",
   "metadata": {},
   "outputs": [],
   "source": [
    "# df['sex'] = df['sex'].astype(object)\n",
    "# df['chest_pain_type'] = df['chest_pain_type'].astype(object)\n",
    "# df['restecg'] = df['restecg'].astype(object)\n",
    "# df['exang'] = df['exang'].astype(object)\n",
    "# df['slope'] = df['slope'].astype(object)\n"
   ]
  },
  {
   "cell_type": "code",
   "execution_count": 11,
   "id": "a6aeb960",
   "metadata": {},
   "outputs": [
    {
     "data": {
      "text/plain": [
       "age                float64\n",
       "sex                float64\n",
       "chest_pain_type    float64\n",
       "restbps            float64\n",
       "chol               float64\n",
       "blood_sugar        float64\n",
       "restecg            float64\n",
       "max_heartrate      float64\n",
       "exang              float64\n",
       "oldpeak            float64\n",
       "slope              float64\n",
       "num_mjr_vess        object\n",
       "thal                object\n",
       "dx                   int64\n",
       "dtype: object"
      ]
     },
     "execution_count": 11,
     "metadata": {},
     "output_type": "execute_result"
    }
   ],
   "source": [
    "df.dtypes"
   ]
  },
  {
   "cell_type": "code",
   "execution_count": null,
   "id": "7ee537f0",
   "metadata": {},
   "outputs": [],
   "source": []
  },
  {
   "cell_type": "code",
   "execution_count": 12,
   "id": "f19e4319",
   "metadata": {
    "scrolled": true
   },
   "outputs": [
    {
     "data": {
      "text/plain": [
       "age                float64\n",
       "sex                float64\n",
       "chest_pain_type    float64\n",
       "restbps            float64\n",
       "chol               float64\n",
       "blood_sugar        float64\n",
       "restecg            float64\n",
       "max_heartrate      float64\n",
       "exang              float64\n",
       "oldpeak            float64\n",
       "slope              float64\n",
       "num_mjr_vess       float64\n",
       "thal               float64\n",
       "dx                   int64\n",
       "dtype: object"
      ]
     },
     "execution_count": 12,
     "metadata": {},
     "output_type": "execute_result"
    }
   ],
   "source": [
    "df['thal'] = pd.to_numeric(df['thal'], errors='coerce')\n",
    "df['num_mjr_vess'] = pd.to_numeric(df['num_mjr_vess'], errors='coerce')\n",
    "\n",
    "df.dtypes\n",
    "\n",
    "\n",
    "# Should I onehotencode these instead? \n",
    "# If so, do I add normal attributes or do I add the name of the new onehotencoder function?"
   ]
  },
  {
   "cell_type": "code",
   "execution_count": 13,
   "id": "28115dd7",
   "metadata": {},
   "outputs": [
    {
     "data": {
      "text/html": [
       "<div>\n",
       "<style scoped>\n",
       "    .dataframe tbody tr th:only-of-type {\n",
       "        vertical-align: middle;\n",
       "    }\n",
       "\n",
       "    .dataframe tbody tr th {\n",
       "        vertical-align: top;\n",
       "    }\n",
       "\n",
       "    .dataframe thead th {\n",
       "        text-align: right;\n",
       "    }\n",
       "</style>\n",
       "<table border=\"1\" class=\"dataframe\">\n",
       "  <thead>\n",
       "    <tr style=\"text-align: right;\">\n",
       "      <th></th>\n",
       "      <th>age</th>\n",
       "      <th>sex</th>\n",
       "      <th>chest_pain_type</th>\n",
       "      <th>restbps</th>\n",
       "      <th>chol</th>\n",
       "      <th>blood_sugar</th>\n",
       "      <th>restecg</th>\n",
       "      <th>max_heartrate</th>\n",
       "      <th>exang</th>\n",
       "      <th>oldpeak</th>\n",
       "      <th>slope</th>\n",
       "      <th>num_mjr_vess</th>\n",
       "      <th>thal</th>\n",
       "      <th>dx</th>\n",
       "    </tr>\n",
       "  </thead>\n",
       "  <tbody>\n",
       "    <tr>\n",
       "      <th>0</th>\n",
       "      <td>63.0</td>\n",
       "      <td>1.0</td>\n",
       "      <td>1.0</td>\n",
       "      <td>145.0</td>\n",
       "      <td>233.0</td>\n",
       "      <td>1.0</td>\n",
       "      <td>2.0</td>\n",
       "      <td>150.0</td>\n",
       "      <td>0.0</td>\n",
       "      <td>2.3</td>\n",
       "      <td>3.0</td>\n",
       "      <td>0.0</td>\n",
       "      <td>6.0</td>\n",
       "      <td>0</td>\n",
       "    </tr>\n",
       "    <tr>\n",
       "      <th>1</th>\n",
       "      <td>67.0</td>\n",
       "      <td>1.0</td>\n",
       "      <td>4.0</td>\n",
       "      <td>160.0</td>\n",
       "      <td>286.0</td>\n",
       "      <td>0.0</td>\n",
       "      <td>2.0</td>\n",
       "      <td>108.0</td>\n",
       "      <td>1.0</td>\n",
       "      <td>1.5</td>\n",
       "      <td>2.0</td>\n",
       "      <td>3.0</td>\n",
       "      <td>3.0</td>\n",
       "      <td>2</td>\n",
       "    </tr>\n",
       "    <tr>\n",
       "      <th>2</th>\n",
       "      <td>67.0</td>\n",
       "      <td>1.0</td>\n",
       "      <td>4.0</td>\n",
       "      <td>120.0</td>\n",
       "      <td>229.0</td>\n",
       "      <td>0.0</td>\n",
       "      <td>2.0</td>\n",
       "      <td>129.0</td>\n",
       "      <td>1.0</td>\n",
       "      <td>2.6</td>\n",
       "      <td>2.0</td>\n",
       "      <td>2.0</td>\n",
       "      <td>7.0</td>\n",
       "      <td>1</td>\n",
       "    </tr>\n",
       "    <tr>\n",
       "      <th>3</th>\n",
       "      <td>37.0</td>\n",
       "      <td>1.0</td>\n",
       "      <td>3.0</td>\n",
       "      <td>130.0</td>\n",
       "      <td>250.0</td>\n",
       "      <td>0.0</td>\n",
       "      <td>0.0</td>\n",
       "      <td>187.0</td>\n",
       "      <td>0.0</td>\n",
       "      <td>3.5</td>\n",
       "      <td>3.0</td>\n",
       "      <td>0.0</td>\n",
       "      <td>3.0</td>\n",
       "      <td>0</td>\n",
       "    </tr>\n",
       "    <tr>\n",
       "      <th>4</th>\n",
       "      <td>41.0</td>\n",
       "      <td>0.0</td>\n",
       "      <td>2.0</td>\n",
       "      <td>130.0</td>\n",
       "      <td>204.0</td>\n",
       "      <td>0.0</td>\n",
       "      <td>2.0</td>\n",
       "      <td>172.0</td>\n",
       "      <td>0.0</td>\n",
       "      <td>1.4</td>\n",
       "      <td>1.0</td>\n",
       "      <td>0.0</td>\n",
       "      <td>3.0</td>\n",
       "      <td>0</td>\n",
       "    </tr>\n",
       "  </tbody>\n",
       "</table>\n",
       "</div>"
      ],
      "text/plain": [
       "    age  sex  chest_pain_type  restbps   chol  blood_sugar  restecg  \\\n",
       "0  63.0  1.0              1.0    145.0  233.0          1.0      2.0   \n",
       "1  67.0  1.0              4.0    160.0  286.0          0.0      2.0   \n",
       "2  67.0  1.0              4.0    120.0  229.0          0.0      2.0   \n",
       "3  37.0  1.0              3.0    130.0  250.0          0.0      0.0   \n",
       "4  41.0  0.0              2.0    130.0  204.0          0.0      2.0   \n",
       "\n",
       "   max_heartrate  exang  oldpeak  slope  num_mjr_vess  thal  dx  \n",
       "0          150.0    0.0      2.3    3.0           0.0   6.0   0  \n",
       "1          108.0    1.0      1.5    2.0           3.0   3.0   2  \n",
       "2          129.0    1.0      2.6    2.0           2.0   7.0   1  \n",
       "3          187.0    0.0      3.5    3.0           0.0   3.0   0  \n",
       "4          172.0    0.0      1.4    1.0           0.0   3.0   0  "
      ]
     },
     "execution_count": 13,
     "metadata": {},
     "output_type": "execute_result"
    }
   ],
   "source": [
    "df.head()"
   ]
  },
  {
   "cell_type": "code",
   "execution_count": null,
   "id": "cc477ec3",
   "metadata": {},
   "outputs": [],
   "source": [
    "# add dropna"
   ]
  },
  {
   "cell_type": "code",
   "execution_count": null,
   "id": "7990db31",
   "metadata": {},
   "outputs": [],
   "source": []
  },
  {
   "cell_type": "code",
   "execution_count": 14,
   "id": "6f560832",
   "metadata": {
    "scrolled": true
   },
   "outputs": [
    {
     "data": {
      "text/html": [
       "<div>\n",
       "<style scoped>\n",
       "    .dataframe tbody tr th:only-of-type {\n",
       "        vertical-align: middle;\n",
       "    }\n",
       "\n",
       "    .dataframe tbody tr th {\n",
       "        vertical-align: top;\n",
       "    }\n",
       "\n",
       "    .dataframe thead th {\n",
       "        text-align: right;\n",
       "    }\n",
       "</style>\n",
       "<table border=\"1\" class=\"dataframe\">\n",
       "  <thead>\n",
       "    <tr style=\"text-align: right;\">\n",
       "      <th></th>\n",
       "      <th>age</th>\n",
       "      <th>sex</th>\n",
       "      <th>chest_pain_type</th>\n",
       "      <th>restbps</th>\n",
       "      <th>chol</th>\n",
       "      <th>blood_sugar</th>\n",
       "      <th>restecg</th>\n",
       "      <th>max_heartrate</th>\n",
       "      <th>exang</th>\n",
       "      <th>oldpeak</th>\n",
       "      <th>slope</th>\n",
       "      <th>num_mjr_vess</th>\n",
       "      <th>thal</th>\n",
       "      <th>dx</th>\n",
       "      <th>heart_dx</th>\n",
       "    </tr>\n",
       "  </thead>\n",
       "  <tbody>\n",
       "    <tr>\n",
       "      <th>298</th>\n",
       "      <td>45.0</td>\n",
       "      <td>1.0</td>\n",
       "      <td>1.0</td>\n",
       "      <td>110.0</td>\n",
       "      <td>264.0</td>\n",
       "      <td>0.0</td>\n",
       "      <td>0.0</td>\n",
       "      <td>132.0</td>\n",
       "      <td>0.0</td>\n",
       "      <td>1.2</td>\n",
       "      <td>2.0</td>\n",
       "      <td>0.0</td>\n",
       "      <td>7.0</td>\n",
       "      <td>1</td>\n",
       "      <td>1</td>\n",
       "    </tr>\n",
       "    <tr>\n",
       "      <th>299</th>\n",
       "      <td>68.0</td>\n",
       "      <td>1.0</td>\n",
       "      <td>4.0</td>\n",
       "      <td>144.0</td>\n",
       "      <td>193.0</td>\n",
       "      <td>1.0</td>\n",
       "      <td>0.0</td>\n",
       "      <td>141.0</td>\n",
       "      <td>0.0</td>\n",
       "      <td>3.4</td>\n",
       "      <td>2.0</td>\n",
       "      <td>2.0</td>\n",
       "      <td>7.0</td>\n",
       "      <td>2</td>\n",
       "      <td>1</td>\n",
       "    </tr>\n",
       "    <tr>\n",
       "      <th>300</th>\n",
       "      <td>57.0</td>\n",
       "      <td>1.0</td>\n",
       "      <td>4.0</td>\n",
       "      <td>130.0</td>\n",
       "      <td>131.0</td>\n",
       "      <td>0.0</td>\n",
       "      <td>0.0</td>\n",
       "      <td>115.0</td>\n",
       "      <td>1.0</td>\n",
       "      <td>1.2</td>\n",
       "      <td>2.0</td>\n",
       "      <td>1.0</td>\n",
       "      <td>7.0</td>\n",
       "      <td>3</td>\n",
       "      <td>1</td>\n",
       "    </tr>\n",
       "    <tr>\n",
       "      <th>301</th>\n",
       "      <td>57.0</td>\n",
       "      <td>0.0</td>\n",
       "      <td>2.0</td>\n",
       "      <td>130.0</td>\n",
       "      <td>236.0</td>\n",
       "      <td>0.0</td>\n",
       "      <td>2.0</td>\n",
       "      <td>174.0</td>\n",
       "      <td>0.0</td>\n",
       "      <td>0.0</td>\n",
       "      <td>2.0</td>\n",
       "      <td>1.0</td>\n",
       "      <td>3.0</td>\n",
       "      <td>1</td>\n",
       "      <td>1</td>\n",
       "    </tr>\n",
       "    <tr>\n",
       "      <th>302</th>\n",
       "      <td>38.0</td>\n",
       "      <td>1.0</td>\n",
       "      <td>3.0</td>\n",
       "      <td>138.0</td>\n",
       "      <td>175.0</td>\n",
       "      <td>0.0</td>\n",
       "      <td>0.0</td>\n",
       "      <td>173.0</td>\n",
       "      <td>0.0</td>\n",
       "      <td>0.0</td>\n",
       "      <td>1.0</td>\n",
       "      <td>NaN</td>\n",
       "      <td>3.0</td>\n",
       "      <td>0</td>\n",
       "      <td>0</td>\n",
       "    </tr>\n",
       "  </tbody>\n",
       "</table>\n",
       "</div>"
      ],
      "text/plain": [
       "      age  sex  chest_pain_type  restbps   chol  blood_sugar  restecg  \\\n",
       "298  45.0  1.0              1.0    110.0  264.0          0.0      0.0   \n",
       "299  68.0  1.0              4.0    144.0  193.0          1.0      0.0   \n",
       "300  57.0  1.0              4.0    130.0  131.0          0.0      0.0   \n",
       "301  57.0  0.0              2.0    130.0  236.0          0.0      2.0   \n",
       "302  38.0  1.0              3.0    138.0  175.0          0.0      0.0   \n",
       "\n",
       "     max_heartrate  exang  oldpeak  slope  num_mjr_vess  thal  dx  heart_dx  \n",
       "298          132.0    0.0      1.2    2.0           0.0   7.0   1         1  \n",
       "299          141.0    0.0      3.4    2.0           2.0   7.0   2         1  \n",
       "300          115.0    1.0      1.2    2.0           1.0   7.0   3         1  \n",
       "301          174.0    0.0      0.0    2.0           1.0   3.0   1         1  \n",
       "302          173.0    0.0      0.0    1.0           NaN   3.0   0         0  "
      ]
     },
     "execution_count": 14,
     "metadata": {},
     "output_type": "execute_result"
    }
   ],
   "source": [
    "df['heart_dx'] = df['dx'].apply(lambda x: 1 if x >= 1 else 0)\n",
    "\n",
    "df.tail()"
   ]
  },
  {
   "cell_type": "code",
   "execution_count": 15,
   "id": "0e48855a",
   "metadata": {},
   "outputs": [
    {
     "data": {
      "text/plain": [
       "0    0.541254\n",
       "1    0.458746\n",
       "Name: heart_dx, dtype: float64"
      ]
     },
     "execution_count": 15,
     "metadata": {},
     "output_type": "execute_result"
    }
   ],
   "source": [
    "df['heart_dx'].value_counts(normalize=True)"
   ]
  },
  {
   "cell_type": "markdown",
   "id": "fc5e53e5",
   "metadata": {},
   "source": [
    "### Below, I thought I should scale the enitre data set, except the diagnosis column, however, I don't think this would work. That is because there are also categorical columns within this data set that need to be preprocessed."
   ]
  },
  {
   "cell_type": "code",
   "execution_count": 16,
   "id": "1af36005",
   "metadata": {
    "scrolled": false
   },
   "outputs": [],
   "source": [
    "# X = df.iloc[:,13]\n",
    "\n",
    "# scaler = StandardScaler()\n",
    "\n",
    "# X_scaled = scaler.fit_transform(X)\n",
    "\n",
    "# X_scaled = pd.DataFrame(X_scaled, columns=cnn)\n",
    "\n",
    "# X_scaled.head()"
   ]
  },
  {
   "cell_type": "markdown",
   "id": "8498e116",
   "metadata": {},
   "source": [
    "---"
   ]
  },
  {
   "cell_type": "code",
   "execution_count": 17,
   "id": "93099df6",
   "metadata": {},
   "outputs": [
    {
     "data": {
      "text/plain": [
       "(303, 15)"
      ]
     },
     "execution_count": 17,
     "metadata": {},
     "output_type": "execute_result"
    }
   ],
   "source": [
    "df.shape"
   ]
  },
  {
   "cell_type": "code",
   "execution_count": 18,
   "id": "b4729513",
   "metadata": {},
   "outputs": [
    {
     "data": {
      "text/plain": [
       "1.0    206\n",
       "0.0     97\n",
       "Name: sex, dtype: int64"
      ]
     },
     "execution_count": 18,
     "metadata": {},
     "output_type": "execute_result"
    }
   ],
   "source": [
    "df['sex'].value_counts()"
   ]
  },
  {
   "cell_type": "markdown",
   "id": "fcc9b913",
   "metadata": {},
   "source": [
    "## Should probably use OneHotEncoder instead, however, I can't get simple imputer to remove the '?' or get the smf results function to run using the categorical attributes. Thoughts? Help?"
   ]
  },
  {
   "cell_type": "code",
   "execution_count": 19,
   "id": "6784e0e8",
   "metadata": {},
   "outputs": [],
   "source": [
    "df['Men'] = df['sex'] == 1 # Males\n",
    "\n",
    "df['Women'] = df['sex'] == 0 # Females\n",
    "\n",
    "# df.head()"
   ]
  },
  {
   "cell_type": "code",
   "execution_count": 20,
   "id": "35bec51f",
   "metadata": {},
   "outputs": [],
   "source": [
    "df['Men'] = pd.to_numeric(df['Men'], errors='coerce')\n",
    "\n",
    "df['Women'] = pd.to_numeric(df['Women'], errors='coerce')"
   ]
  },
  {
   "cell_type": "code",
   "execution_count": null,
   "id": "410cc9bc",
   "metadata": {},
   "outputs": [],
   "source": []
  },
  {
   "cell_type": "code",
   "execution_count": 70,
   "id": "615d2574",
   "metadata": {},
   "outputs": [
    {
     "data": {
      "text/html": [
       "<div>\n",
       "<style scoped>\n",
       "    .dataframe tbody tr th:only-of-type {\n",
       "        vertical-align: middle;\n",
       "    }\n",
       "\n",
       "    .dataframe tbody tr th {\n",
       "        vertical-align: top;\n",
       "    }\n",
       "\n",
       "    .dataframe thead th {\n",
       "        text-align: right;\n",
       "    }\n",
       "</style>\n",
       "<table border=\"1\" class=\"dataframe\">\n",
       "  <thead>\n",
       "    <tr style=\"text-align: right;\">\n",
       "      <th></th>\n",
       "      <th>age</th>\n",
       "      <th>sex</th>\n",
       "      <th>chest_pain_type</th>\n",
       "      <th>restbps</th>\n",
       "      <th>chol</th>\n",
       "      <th>blood_sugar</th>\n",
       "      <th>restecg</th>\n",
       "      <th>max_heartrate</th>\n",
       "      <th>exang</th>\n",
       "      <th>oldpeak</th>\n",
       "      <th>slope</th>\n",
       "      <th>num_mjr_vess</th>\n",
       "      <th>thal</th>\n",
       "      <th>dx</th>\n",
       "      <th>heart_dx</th>\n",
       "      <th>Men</th>\n",
       "      <th>Women</th>\n",
       "      <th>Age_low</th>\n",
       "      <th>Age_med</th>\n",
       "      <th>Age_high</th>\n",
       "    </tr>\n",
       "  </thead>\n",
       "  <tbody>\n",
       "    <tr>\n",
       "      <th>0</th>\n",
       "      <td>63.0</td>\n",
       "      <td>1.0</td>\n",
       "      <td>1.0</td>\n",
       "      <td>145.0</td>\n",
       "      <td>233.0</td>\n",
       "      <td>1.0</td>\n",
       "      <td>2.0</td>\n",
       "      <td>150.0</td>\n",
       "      <td>0.0</td>\n",
       "      <td>2.3</td>\n",
       "      <td>3.0</td>\n",
       "      <td>0.0</td>\n",
       "      <td>6.0</td>\n",
       "      <td>0</td>\n",
       "      <td>0</td>\n",
       "      <td>True</td>\n",
       "      <td>False</td>\n",
       "      <td>False</td>\n",
       "      <td>False</td>\n",
       "      <td>True</td>\n",
       "    </tr>\n",
       "    <tr>\n",
       "      <th>1</th>\n",
       "      <td>67.0</td>\n",
       "      <td>1.0</td>\n",
       "      <td>4.0</td>\n",
       "      <td>160.0</td>\n",
       "      <td>286.0</td>\n",
       "      <td>0.0</td>\n",
       "      <td>2.0</td>\n",
       "      <td>108.0</td>\n",
       "      <td>1.0</td>\n",
       "      <td>1.5</td>\n",
       "      <td>2.0</td>\n",
       "      <td>3.0</td>\n",
       "      <td>3.0</td>\n",
       "      <td>2</td>\n",
       "      <td>1</td>\n",
       "      <td>True</td>\n",
       "      <td>False</td>\n",
       "      <td>False</td>\n",
       "      <td>False</td>\n",
       "      <td>True</td>\n",
       "    </tr>\n",
       "    <tr>\n",
       "      <th>2</th>\n",
       "      <td>67.0</td>\n",
       "      <td>1.0</td>\n",
       "      <td>4.0</td>\n",
       "      <td>120.0</td>\n",
       "      <td>229.0</td>\n",
       "      <td>0.0</td>\n",
       "      <td>2.0</td>\n",
       "      <td>129.0</td>\n",
       "      <td>1.0</td>\n",
       "      <td>2.6</td>\n",
       "      <td>2.0</td>\n",
       "      <td>2.0</td>\n",
       "      <td>7.0</td>\n",
       "      <td>1</td>\n",
       "      <td>1</td>\n",
       "      <td>True</td>\n",
       "      <td>False</td>\n",
       "      <td>False</td>\n",
       "      <td>False</td>\n",
       "      <td>True</td>\n",
       "    </tr>\n",
       "    <tr>\n",
       "      <th>3</th>\n",
       "      <td>37.0</td>\n",
       "      <td>1.0</td>\n",
       "      <td>3.0</td>\n",
       "      <td>130.0</td>\n",
       "      <td>250.0</td>\n",
       "      <td>0.0</td>\n",
       "      <td>0.0</td>\n",
       "      <td>187.0</td>\n",
       "      <td>0.0</td>\n",
       "      <td>3.5</td>\n",
       "      <td>3.0</td>\n",
       "      <td>0.0</td>\n",
       "      <td>3.0</td>\n",
       "      <td>0</td>\n",
       "      <td>0</td>\n",
       "      <td>True</td>\n",
       "      <td>False</td>\n",
       "      <td>True</td>\n",
       "      <td>False</td>\n",
       "      <td>False</td>\n",
       "    </tr>\n",
       "    <tr>\n",
       "      <th>4</th>\n",
       "      <td>41.0</td>\n",
       "      <td>0.0</td>\n",
       "      <td>2.0</td>\n",
       "      <td>130.0</td>\n",
       "      <td>204.0</td>\n",
       "      <td>0.0</td>\n",
       "      <td>2.0</td>\n",
       "      <td>172.0</td>\n",
       "      <td>0.0</td>\n",
       "      <td>1.4</td>\n",
       "      <td>1.0</td>\n",
       "      <td>0.0</td>\n",
       "      <td>3.0</td>\n",
       "      <td>0</td>\n",
       "      <td>0</td>\n",
       "      <td>False</td>\n",
       "      <td>True</td>\n",
       "      <td>True</td>\n",
       "      <td>False</td>\n",
       "      <td>False</td>\n",
       "    </tr>\n",
       "  </tbody>\n",
       "</table>\n",
       "</div>"
      ],
      "text/plain": [
       "    age  sex  chest_pain_type  restbps   chol  blood_sugar  restecg  \\\n",
       "0  63.0  1.0              1.0    145.0  233.0          1.0      2.0   \n",
       "1  67.0  1.0              4.0    160.0  286.0          0.0      2.0   \n",
       "2  67.0  1.0              4.0    120.0  229.0          0.0      2.0   \n",
       "3  37.0  1.0              3.0    130.0  250.0          0.0      0.0   \n",
       "4  41.0  0.0              2.0    130.0  204.0          0.0      2.0   \n",
       "\n",
       "   max_heartrate  exang  oldpeak  slope  num_mjr_vess  thal  dx  heart_dx  \\\n",
       "0          150.0    0.0      2.3    3.0           0.0   6.0   0         0   \n",
       "1          108.0    1.0      1.5    2.0           3.0   3.0   2         1   \n",
       "2          129.0    1.0      2.6    2.0           2.0   7.0   1         1   \n",
       "3          187.0    0.0      3.5    3.0           0.0   3.0   0         0   \n",
       "4          172.0    0.0      1.4    1.0           0.0   3.0   0         0   \n",
       "\n",
       "     Men  Women  Age_low  Age_med  Age_high  \n",
       "0   True  False    False    False      True  \n",
       "1   True  False    False    False      True  \n",
       "2   True  False    False    False      True  \n",
       "3   True  False     True    False     False  \n",
       "4  False   True     True    False     False  "
      ]
     },
     "execution_count": 70,
     "metadata": {},
     "output_type": "execute_result"
    }
   ],
   "source": [
    "df.head()"
   ]
  },
  {
   "cell_type": "code",
   "execution_count": 22,
   "id": "c0d97411",
   "metadata": {},
   "outputs": [],
   "source": [
    "# df.head(170)\n",
    "# # didn't remove '?'!!!!"
   ]
  },
  {
   "cell_type": "markdown",
   "id": "eeca12ca",
   "metadata": {},
   "source": [
    "### All Data Log Regression Models Comparing Different Attributes"
   ]
  },
  {
   "cell_type": "code",
   "execution_count": 23,
   "id": "622d6f68",
   "metadata": {
    "scrolled": true
   },
   "outputs": [
    {
     "name": "stdout",
     "output_type": "stream",
     "text": [
      "Optimization terminated successfully.\n",
      "         Current function value: 0.416553\n",
      "         Iterations 7\n",
      "                           Logit Regression Results                           \n",
      "==============================================================================\n",
      "Dep. Variable:               heart_dx   No. Observations:                  303\n",
      "Model:                          Logit   Df Residuals:                      291\n",
      "Method:                           MLE   Df Model:                           11\n",
      "Date:                Wed, 30 Nov 2022   Pseudo R-squ.:                  0.3961\n",
      "Time:                        14:51:52   Log-Likelihood:                -126.22\n",
      "converged:                       True   LL-Null:                       -208.99\n",
      "Covariance Type:            nonrobust   LLR p-value:                 9.700e-30\n",
      "===================================================================================\n",
      "                      coef    std err          z      P>|z|      [0.025      0.975]\n",
      "-----------------------------------------------------------------------------------\n",
      "Intercept          -7.1919      2.511     -2.864      0.004     -12.113      -2.271\n",
      "age                 0.0235      0.021      1.132      0.257      -0.017       0.064\n",
      "sex                 1.9557      0.401      4.878      0.000       1.170       2.742\n",
      "chest_pain_type     0.8108      0.180      4.515      0.000       0.459       1.163\n",
      "restbps             0.0194      0.010      1.991      0.046       0.000       0.038\n",
      "chol                0.0054      0.003      1.646      0.100      -0.001       0.012\n",
      "blood_sugar        -0.2155      0.446     -0.484      0.629      -1.089       0.658\n",
      "restecg             0.2016      0.163      1.235      0.217      -0.118       0.522\n",
      "max_heartrate      -0.0240      0.009     -2.615      0.009      -0.042      -0.006\n",
      "slope               0.3209      0.321      1.000      0.317      -0.308       0.949\n",
      "exang               0.9894      0.363      2.726      0.006       0.278       1.701\n",
      "oldpeak             0.4965      0.184      2.701      0.007       0.136       0.857\n",
      "===================================================================================\n"
     ]
    }
   ],
   "source": [
    "model_all = 'heart_dx ~ age + sex + chest_pain_type + restbps + chol + blood_sugar + restecg + max_heartrate + slope + exang + oldpeak'\n",
    "\n",
    "result_all = smf.logit(formula=model_all, data=df).fit()\n",
    "print(result_all.summary())\n",
    "\n",
    "# lets say alpha = 0.05\n",
    "# so far sex is only showing for True/False or 1 or 0, therefore I excluded from each model not specific to sex.\n",
    "\n",
    "\n",
    "# this model yielded potentially usefuly results for chest paint type, exang, oldpeak. Is this acceptable?\n",
    "# This is totally different when adding sex as a factor (attribute).\n",
    "# Would have to remove the categorical data here becasue onehotencoder didn't work?! \n",
    "# Should we keep this or scrap this?\n",
    "\n"
   ]
  },
  {
   "cell_type": "code",
   "execution_count": 24,
   "id": "874a7da8",
   "metadata": {
    "scrolled": false
   },
   "outputs": [
    {
     "name": "stdout",
     "output_type": "stream",
     "text": [
      "Optimization terminated successfully.\n",
      "         Current function value: 0.385960\n",
      "         Iterations 7\n",
      "                           Logit Regression Results                           \n",
      "==============================================================================\n",
      "Dep. Variable:               heart_dx   No. Observations:                  297\n",
      "Model:                          Logit   Df Residuals:                      290\n",
      "Method:                           MLE   Df Model:                            6\n",
      "Date:                Wed, 30 Nov 2022   Pseudo R-squ.:                  0.4408\n",
      "Time:                        14:51:52   Log-Likelihood:                -114.63\n",
      "converged:                       True   LL-Null:                       -204.97\n",
      "Covariance Type:            nonrobust   LLR p-value:                 2.426e-36\n",
      "===================================================================================\n",
      "                      coef    std err          z      P>|z|      [0.025      0.975]\n",
      "-----------------------------------------------------------------------------------\n",
      "Intercept          -9.0183      1.634     -5.518      0.000     -12.222      -5.815\n",
      "chest_pain_type     0.7674      0.178      4.300      0.000       0.418       1.117\n",
      "slope               0.6130      0.318      1.930      0.054      -0.010       1.236\n",
      "num_mjr_vess        1.1927      0.229      5.216      0.000       0.745       1.641\n",
      "thal                0.4704      0.087      5.400      0.000       0.300       0.641\n",
      "restbps             0.0156      0.009      1.659      0.097      -0.003       0.034\n",
      "oldpeak             0.4428      0.195      2.267      0.023       0.060       0.826\n",
      "===================================================================================\n"
     ]
    }
   ],
   "source": [
    "model_1 = 'heart_dx ~ chest_pain_type + slope + num_mjr_vess + thal + restbps + oldpeak'\n",
    "\n",
    "result_1 = smf.logit(formula=model_1, data=df).fit()\n",
    "print(result_1.summary())\n"
   ]
  },
  {
   "cell_type": "markdown",
   "id": "32e08449",
   "metadata": {},
   "source": [
    "### Pipeline for ALL Genders and ALL Ages"
   ]
  },
  {
   "cell_type": "code",
   "execution_count": 25,
   "id": "b4b2ff4e",
   "metadata": {},
   "outputs": [
    {
     "data": {
      "text/html": [
       "<div>\n",
       "<style scoped>\n",
       "    .dataframe tbody tr th:only-of-type {\n",
       "        vertical-align: middle;\n",
       "    }\n",
       "\n",
       "    .dataframe tbody tr th {\n",
       "        vertical-align: top;\n",
       "    }\n",
       "\n",
       "    .dataframe thead th {\n",
       "        text-align: right;\n",
       "    }\n",
       "</style>\n",
       "<table border=\"1\" class=\"dataframe\">\n",
       "  <thead>\n",
       "    <tr style=\"text-align: right;\">\n",
       "      <th></th>\n",
       "      <th>age</th>\n",
       "      <th>sex</th>\n",
       "      <th>chest_pain_type</th>\n",
       "      <th>restbps</th>\n",
       "      <th>chol</th>\n",
       "      <th>blood_sugar</th>\n",
       "      <th>restecg</th>\n",
       "      <th>max_heartrate</th>\n",
       "      <th>exang</th>\n",
       "      <th>oldpeak</th>\n",
       "      <th>slope</th>\n",
       "      <th>num_mjr_vess</th>\n",
       "      <th>thal</th>\n",
       "      <th>dx</th>\n",
       "      <th>heart_dx</th>\n",
       "      <th>Men</th>\n",
       "      <th>Women</th>\n",
       "    </tr>\n",
       "  </thead>\n",
       "  <tbody>\n",
       "  </tbody>\n",
       "</table>\n",
       "</div>"
      ],
      "text/plain": [
       "Empty DataFrame\n",
       "Columns: [age, sex, chest_pain_type, restbps, chol, blood_sugar, restecg, max_heartrate, exang, oldpeak, slope, num_mjr_vess, thal, dx, heart_dx, Men, Women]\n",
       "Index: []"
      ]
     },
     "execution_count": 25,
     "metadata": {},
     "output_type": "execute_result"
    }
   ],
   "source": [
    "df[df['thal'] == '?']"
   ]
  },
  {
   "cell_type": "code",
   "execution_count": 26,
   "id": "3b24fc00",
   "metadata": {
    "scrolled": false
   },
   "outputs": [
    {
     "data": {
      "text/html": [
       "<div>\n",
       "<style scoped>\n",
       "    .dataframe tbody tr th:only-of-type {\n",
       "        vertical-align: middle;\n",
       "    }\n",
       "\n",
       "    .dataframe tbody tr th {\n",
       "        vertical-align: top;\n",
       "    }\n",
       "\n",
       "    .dataframe thead th {\n",
       "        text-align: right;\n",
       "    }\n",
       "</style>\n",
       "<table border=\"1\" class=\"dataframe\">\n",
       "  <thead>\n",
       "    <tr style=\"text-align: right;\">\n",
       "      <th></th>\n",
       "      <th>age</th>\n",
       "      <th>sex</th>\n",
       "      <th>chest_pain_type</th>\n",
       "      <th>restbps</th>\n",
       "      <th>chol</th>\n",
       "      <th>blood_sugar</th>\n",
       "      <th>restecg</th>\n",
       "      <th>max_heartrate</th>\n",
       "      <th>exang</th>\n",
       "      <th>oldpeak</th>\n",
       "      <th>slope</th>\n",
       "      <th>num_mjr_vess</th>\n",
       "      <th>thal</th>\n",
       "      <th>dx</th>\n",
       "      <th>heart_dx</th>\n",
       "      <th>Men</th>\n",
       "      <th>Women</th>\n",
       "    </tr>\n",
       "  </thead>\n",
       "  <tbody>\n",
       "  </tbody>\n",
       "</table>\n",
       "</div>"
      ],
      "text/plain": [
       "Empty DataFrame\n",
       "Columns: [age, sex, chest_pain_type, restbps, chol, blood_sugar, restecg, max_heartrate, exang, oldpeak, slope, num_mjr_vess, thal, dx, heart_dx, Men, Women]\n",
       "Index: []"
      ]
     },
     "execution_count": 26,
     "metadata": {},
     "output_type": "execute_result"
    }
   ],
   "source": [
    "df[df['num_mjr_vess'] == '?']"
   ]
  },
  {
   "cell_type": "code",
   "execution_count": null,
   "id": "300bec34",
   "metadata": {},
   "outputs": [],
   "source": []
  },
  {
   "cell_type": "markdown",
   "id": "e1270e61",
   "metadata": {},
   "source": [
    "### Attempting to compare Males Only against other attribtues"
   ]
  },
  {
   "cell_type": "code",
   "execution_count": 27,
   "id": "534dd280",
   "metadata": {},
   "outputs": [
    {
     "name": "stdout",
     "output_type": "stream",
     "text": [
      "Optimization terminated successfully.\n",
      "         Current function value: 0.416553\n",
      "         Iterations 7\n",
      "                           Logit Regression Results                           \n",
      "==============================================================================\n",
      "Dep. Variable:               heart_dx   No. Observations:                  303\n",
      "Model:                          Logit   Df Residuals:                      291\n",
      "Method:                           MLE   Df Model:                           11\n",
      "Date:                Wed, 30 Nov 2022   Pseudo R-squ.:                  0.3961\n",
      "Time:                        14:51:52   Log-Likelihood:                -126.22\n",
      "converged:                       True   LL-Null:                       -208.99\n",
      "Covariance Type:            nonrobust   LLR p-value:                 9.700e-30\n",
      "===================================================================================\n",
      "                      coef    std err          z      P>|z|      [0.025      0.975]\n",
      "-----------------------------------------------------------------------------------\n",
      "Intercept          -7.1919      2.511     -2.864      0.004     -12.113      -2.271\n",
      "Men[T.True]         1.9557      0.401      4.878      0.000       1.170       2.742\n",
      "age                 0.0235      0.021      1.132      0.257      -0.017       0.064\n",
      "chest_pain_type     0.8108      0.180      4.515      0.000       0.459       1.163\n",
      "restbps             0.0194      0.010      1.991      0.046       0.000       0.038\n",
      "chol                0.0054      0.003      1.646      0.100      -0.001       0.012\n",
      "blood_sugar        -0.2155      0.446     -0.484      0.629      -1.089       0.658\n",
      "restecg             0.2016      0.163      1.235      0.217      -0.118       0.522\n",
      "max_heartrate      -0.0240      0.009     -2.615      0.009      -0.042      -0.006\n",
      "slope               0.3209      0.321      1.000      0.317      -0.308       0.949\n",
      "exang               0.9894      0.363      2.726      0.006       0.278       1.701\n",
      "oldpeak             0.4965      0.184      2.701      0.007       0.136       0.857\n",
      "===================================================================================\n"
     ]
    }
   ],
   "source": [
    "model_Men_all = 'heart_dx ~ age + Men + chest_pain_type + restbps + chol + blood_sugar + restecg + max_heartrate + slope + exang + oldpeak'\n",
    "\n",
    "result_men_all = smf.logit(formula=model_Men_all, data=df).fit()\n",
    "print(result_men_all.summary())\n",
    "\n",
    "# lets say alpha = 0.05\n",
    "# add an interaction term to determine the signifcance \n",
    "\n",
    "#Same inital results"
   ]
  },
  {
   "cell_type": "code",
   "execution_count": 28,
   "id": "78abe738",
   "metadata": {},
   "outputs": [
    {
     "name": "stdout",
     "output_type": "stream",
     "text": [
      "Optimization terminated successfully.\n",
      "         Current function value: 0.431285\n",
      "         Iterations 7\n",
      "                           Logit Regression Results                           \n",
      "==============================================================================\n",
      "Dep. Variable:               heart_dx   No. Observations:                  303\n",
      "Model:                          Logit   Df Residuals:                      296\n",
      "Method:                           MLE   Df Model:                            6\n",
      "Date:                Wed, 30 Nov 2022   Pseudo R-squ.:                  0.3747\n",
      "Time:                        14:51:52   Log-Likelihood:                -130.68\n",
      "converged:                       True   LL-Null:                       -208.99\n",
      "Covariance Type:            nonrobust   LLR p-value:                 3.071e-31\n",
      "===================================================================================\n",
      "                      coef    std err          z      P>|z|      [0.025      0.975]\n",
      "-----------------------------------------------------------------------------------\n",
      "Intercept          -3.6460      1.819     -2.004      0.045      -7.211      -0.081\n",
      "Men[T.True]         1.6383      0.362      4.520      0.000       0.928       2.349\n",
      "chest_pain_type     0.7928      0.175      4.527      0.000       0.450       1.136\n",
      "restbps             0.0227      0.009      2.448      0.014       0.005       0.041\n",
      "max_heartrate      -0.0274      0.008     -3.435      0.001      -0.043      -0.012\n",
      "exang               0.9875      0.352      2.807      0.005       0.298       1.677\n",
      "oldpeak             0.6163      0.157      3.932      0.000       0.309       0.924\n",
      "===================================================================================\n"
     ]
    }
   ],
   "source": [
    "model_Men1 = 'heart_dx ~ Men + chest_pain_type + restbps + max_heartrate + exang + oldpeak'\n",
    "\n",
    "result_men1 = smf.logit(formula=model_Men1, data=df).fit()\n",
    "print(result_men1.summary())\n",
    "\n",
    "#age seems obsolete in this model. Changed it for the lowest p values from previous model."
   ]
  },
  {
   "cell_type": "code",
   "execution_count": 29,
   "id": "75d70922",
   "metadata": {},
   "outputs": [
    {
     "name": "stdout",
     "output_type": "stream",
     "text": [
      "Optimization terminated successfully.\n",
      "         Current function value: 0.431285\n",
      "         Iterations 7\n",
      "                           Logit Regression Results                           \n",
      "==============================================================================\n",
      "Dep. Variable:               heart_dx   No. Observations:                  303\n",
      "Model:                          Logit   Df Residuals:                      296\n",
      "Method:                           MLE   Df Model:                            6\n",
      "Date:                Wed, 30 Nov 2022   Pseudo R-squ.:                  0.3747\n",
      "Time:                        14:51:52   Log-Likelihood:                -130.68\n",
      "converged:                       True   LL-Null:                       -208.99\n",
      "Covariance Type:            nonrobust   LLR p-value:                 3.071e-31\n",
      "===================================================================================\n",
      "                      coef    std err          z      P>|z|      [0.025      0.975]\n",
      "-----------------------------------------------------------------------------------\n",
      "Intercept          -3.6460      1.819     -2.004      0.045      -7.211      -0.081\n",
      "Men[T.True]         1.6383      0.362      4.520      0.000       0.928       2.349\n",
      "chest_pain_type     0.7928      0.175      4.527      0.000       0.450       1.136\n",
      "restbps             0.0227      0.009      2.448      0.014       0.005       0.041\n",
      "max_heartrate      -0.0274      0.008     -3.435      0.001      -0.043      -0.012\n",
      "exang               0.9875      0.352      2.807      0.005       0.298       1.677\n",
      "oldpeak             0.6163      0.157      3.932      0.000       0.309       0.924\n",
      "===================================================================================\n"
     ]
    }
   ],
   "source": [
    "model_Men2 = 'heart_dx ~ Men + chest_pain_type + restbps + max_heartrate + exang + oldpeak'\n",
    "\n",
    "result_men2 = smf.logit(formula=model_Men2, data=df).fit()\n",
    "print(result_men2.summary())\n",
    "\n",
    "#changed again, based on p values from previous model"
   ]
  },
  {
   "cell_type": "code",
   "execution_count": null,
   "id": "66741ec2",
   "metadata": {},
   "outputs": [],
   "source": []
  },
  {
   "cell_type": "markdown",
   "id": "d64f50ea",
   "metadata": {},
   "source": [
    "### Attempt with Women"
   ]
  },
  {
   "cell_type": "code",
   "execution_count": 30,
   "id": "f08e69d3",
   "metadata": {},
   "outputs": [
    {
     "name": "stdout",
     "output_type": "stream",
     "text": [
      "Optimization terminated successfully.\n",
      "         Current function value: 0.416553\n",
      "         Iterations 7\n",
      "                           Logit Regression Results                           \n",
      "==============================================================================\n",
      "Dep. Variable:               heart_dx   No. Observations:                  303\n",
      "Model:                          Logit   Df Residuals:                      291\n",
      "Method:                           MLE   Df Model:                           11\n",
      "Date:                Wed, 30 Nov 2022   Pseudo R-squ.:                  0.3961\n",
      "Time:                        14:51:52   Log-Likelihood:                -126.22\n",
      "converged:                       True   LL-Null:                       -208.99\n",
      "Covariance Type:            nonrobust   LLR p-value:                 9.700e-30\n",
      "===================================================================================\n",
      "                      coef    std err          z      P>|z|      [0.025      0.975]\n",
      "-----------------------------------------------------------------------------------\n",
      "Intercept          -5.2361      2.410     -2.172      0.030      -9.960      -0.512\n",
      "Women[T.True]      -1.9557      0.401     -4.878      0.000      -2.742      -1.170\n",
      "age                 0.0235      0.021      1.132      0.257      -0.017       0.064\n",
      "chest_pain_type     0.8108      0.180      4.515      0.000       0.459       1.163\n",
      "restbps             0.0194      0.010      1.991      0.046       0.000       0.038\n",
      "chol                0.0054      0.003      1.646      0.100      -0.001       0.012\n",
      "blood_sugar        -0.2155      0.446     -0.484      0.629      -1.089       0.658\n",
      "restecg             0.2016      0.163      1.235      0.217      -0.118       0.522\n",
      "max_heartrate      -0.0240      0.009     -2.615      0.009      -0.042      -0.006\n",
      "slope               0.3209      0.321      1.000      0.317      -0.308       0.949\n",
      "exang               0.9894      0.363      2.726      0.006       0.278       1.701\n",
      "oldpeak             0.4965      0.184      2.701      0.007       0.136       0.857\n",
      "===================================================================================\n"
     ]
    }
   ],
   "source": [
    "model_W_all = 'heart_dx ~ age + Women + chest_pain_type + restbps + chol + blood_sugar + restecg + max_heartrate + slope + exang + oldpeak'\n",
    "\n",
    "result_W_all = smf.logit(formula=model_W_all, data=df).fit()\n",
    "print(result_W_all.summary())\n",
    "\n",
    "# lets say alpha = 0.05\n",
    "# model with all attributes"
   ]
  },
  {
   "cell_type": "code",
   "execution_count": 31,
   "id": "c6bc8fbd",
   "metadata": {},
   "outputs": [
    {
     "name": "stdout",
     "output_type": "stream",
     "text": [
      "Optimization terminated successfully.\n",
      "         Current function value: 0.431285\n",
      "         Iterations 7\n",
      "                           Logit Regression Results                           \n",
      "==============================================================================\n",
      "Dep. Variable:               heart_dx   No. Observations:                  303\n",
      "Model:                          Logit   Df Residuals:                      296\n",
      "Method:                           MLE   Df Model:                            6\n",
      "Date:                Wed, 30 Nov 2022   Pseudo R-squ.:                  0.3747\n",
      "Time:                        14:51:52   Log-Likelihood:                -130.68\n",
      "converged:                       True   LL-Null:                       -208.99\n",
      "Covariance Type:            nonrobust   LLR p-value:                 3.071e-31\n",
      "===================================================================================\n",
      "                      coef    std err          z      P>|z|      [0.025      0.975]\n",
      "-----------------------------------------------------------------------------------\n",
      "Intercept          -2.0077      1.787     -1.123      0.261      -5.510       1.495\n",
      "Women[T.True]      -1.6383      0.362     -4.520      0.000      -2.349      -0.928\n",
      "chest_pain_type     0.7928      0.175      4.527      0.000       0.450       1.136\n",
      "restbps             0.0227      0.009      2.448      0.014       0.005       0.041\n",
      "max_heartrate      -0.0274      0.008     -3.435      0.001      -0.043      -0.012\n",
      "exang               0.9875      0.352      2.807      0.005       0.298       1.677\n",
      "oldpeak             0.6163      0.157      3.932      0.000       0.309       0.924\n",
      "===================================================================================\n"
     ]
    }
   ],
   "source": [
    "model_W1 = 'heart_dx ~ Women + chest_pain_type + restbps + max_heartrate + exang + oldpeak'\n",
    "\n",
    "result_W1 = smf.logit(formula=model_W1, data=df).fit()\n",
    "print(result_W1.summary())\n",
    "\n",
    "#age seems obsolete in this model. Changed it for the lowest p values from previous model."
   ]
  },
  {
   "cell_type": "code",
   "execution_count": 32,
   "id": "f9bd8a35",
   "metadata": {},
   "outputs": [],
   "source": [
    "# So far all results are exactly the same. Maybe We should try a different approach?"
   ]
  },
  {
   "cell_type": "markdown",
   "id": "5702cb87",
   "metadata": {},
   "source": [
    "### Checking for Age Range Volume"
   ]
  },
  {
   "cell_type": "code",
   "execution_count": 33,
   "id": "caf8078b",
   "metadata": {},
   "outputs": [
    {
     "data": {
      "text/plain": [
       "63"
      ]
     },
     "execution_count": 33,
     "metadata": {},
     "output_type": "execute_result"
    }
   ],
   "source": [
    "df[df['age'].between(29,45)].shape[0]"
   ]
  },
  {
   "cell_type": "code",
   "execution_count": 34,
   "id": "640c45a2",
   "metadata": {},
   "outputs": [
    {
     "data": {
      "text/plain": [
       "161"
      ]
     },
     "execution_count": 34,
     "metadata": {},
     "output_type": "execute_result"
    }
   ],
   "source": [
    "df[df['age'].between(46, 60)].shape[0]"
   ]
  },
  {
   "cell_type": "code",
   "execution_count": 35,
   "id": "f974d0c6",
   "metadata": {},
   "outputs": [
    {
     "data": {
      "text/plain": [
       "79"
      ]
     },
     "execution_count": 35,
     "metadata": {},
     "output_type": "execute_result"
    }
   ],
   "source": [
    "df[df['age'].between(61,77)].shape[0]"
   ]
  },
  {
   "cell_type": "code",
   "execution_count": 36,
   "id": "ea472004",
   "metadata": {},
   "outputs": [
    {
     "data": {
      "text/plain": [
       "71"
      ]
     },
     "execution_count": 36,
     "metadata": {},
     "output_type": "execute_result"
    }
   ],
   "source": [
    "df[df['age'].between(62, 77)].shape[0]"
   ]
  },
  {
   "cell_type": "code",
   "execution_count": 37,
   "id": "1b29f852",
   "metadata": {
    "scrolled": true
   },
   "outputs": [],
   "source": [
    "df['Age_low'] = df['age'].between(29, 45)"
   ]
  },
  {
   "cell_type": "code",
   "execution_count": 38,
   "id": "ed6ffc1f",
   "metadata": {
    "scrolled": true
   },
   "outputs": [],
   "source": [
    "df['Age_med'] = df['age'].between(46, 61) #smallest range but biggest volume"
   ]
  },
  {
   "cell_type": "code",
   "execution_count": 39,
   "id": "a0fbc799",
   "metadata": {},
   "outputs": [],
   "source": [
    "df['Age_high'] = df['age'].between(62, 77)"
   ]
  },
  {
   "cell_type": "code",
   "execution_count": 40,
   "id": "272d5aaa",
   "metadata": {},
   "outputs": [
    {
     "data": {
      "text/html": [
       "<div>\n",
       "<style scoped>\n",
       "    .dataframe tbody tr th:only-of-type {\n",
       "        vertical-align: middle;\n",
       "    }\n",
       "\n",
       "    .dataframe tbody tr th {\n",
       "        vertical-align: top;\n",
       "    }\n",
       "\n",
       "    .dataframe thead th {\n",
       "        text-align: right;\n",
       "    }\n",
       "</style>\n",
       "<table border=\"1\" class=\"dataframe\">\n",
       "  <thead>\n",
       "    <tr style=\"text-align: right;\">\n",
       "      <th></th>\n",
       "      <th>age</th>\n",
       "      <th>sex</th>\n",
       "      <th>chest_pain_type</th>\n",
       "      <th>restbps</th>\n",
       "      <th>chol</th>\n",
       "      <th>blood_sugar</th>\n",
       "      <th>restecg</th>\n",
       "      <th>max_heartrate</th>\n",
       "      <th>exang</th>\n",
       "      <th>oldpeak</th>\n",
       "      <th>slope</th>\n",
       "      <th>num_mjr_vess</th>\n",
       "      <th>thal</th>\n",
       "      <th>dx</th>\n",
       "      <th>heart_dx</th>\n",
       "      <th>Men</th>\n",
       "      <th>Women</th>\n",
       "      <th>Age_low</th>\n",
       "      <th>Age_med</th>\n",
       "      <th>Age_high</th>\n",
       "    </tr>\n",
       "  </thead>\n",
       "  <tbody>\n",
       "    <tr>\n",
       "      <th>298</th>\n",
       "      <td>45.0</td>\n",
       "      <td>1.0</td>\n",
       "      <td>1.0</td>\n",
       "      <td>110.0</td>\n",
       "      <td>264.0</td>\n",
       "      <td>0.0</td>\n",
       "      <td>0.0</td>\n",
       "      <td>132.0</td>\n",
       "      <td>0.0</td>\n",
       "      <td>1.2</td>\n",
       "      <td>2.0</td>\n",
       "      <td>0.0</td>\n",
       "      <td>7.0</td>\n",
       "      <td>1</td>\n",
       "      <td>1</td>\n",
       "      <td>True</td>\n",
       "      <td>False</td>\n",
       "      <td>True</td>\n",
       "      <td>False</td>\n",
       "      <td>False</td>\n",
       "    </tr>\n",
       "    <tr>\n",
       "      <th>299</th>\n",
       "      <td>68.0</td>\n",
       "      <td>1.0</td>\n",
       "      <td>4.0</td>\n",
       "      <td>144.0</td>\n",
       "      <td>193.0</td>\n",
       "      <td>1.0</td>\n",
       "      <td>0.0</td>\n",
       "      <td>141.0</td>\n",
       "      <td>0.0</td>\n",
       "      <td>3.4</td>\n",
       "      <td>2.0</td>\n",
       "      <td>2.0</td>\n",
       "      <td>7.0</td>\n",
       "      <td>2</td>\n",
       "      <td>1</td>\n",
       "      <td>True</td>\n",
       "      <td>False</td>\n",
       "      <td>False</td>\n",
       "      <td>False</td>\n",
       "      <td>True</td>\n",
       "    </tr>\n",
       "    <tr>\n",
       "      <th>300</th>\n",
       "      <td>57.0</td>\n",
       "      <td>1.0</td>\n",
       "      <td>4.0</td>\n",
       "      <td>130.0</td>\n",
       "      <td>131.0</td>\n",
       "      <td>0.0</td>\n",
       "      <td>0.0</td>\n",
       "      <td>115.0</td>\n",
       "      <td>1.0</td>\n",
       "      <td>1.2</td>\n",
       "      <td>2.0</td>\n",
       "      <td>1.0</td>\n",
       "      <td>7.0</td>\n",
       "      <td>3</td>\n",
       "      <td>1</td>\n",
       "      <td>True</td>\n",
       "      <td>False</td>\n",
       "      <td>False</td>\n",
       "      <td>True</td>\n",
       "      <td>False</td>\n",
       "    </tr>\n",
       "    <tr>\n",
       "      <th>301</th>\n",
       "      <td>57.0</td>\n",
       "      <td>0.0</td>\n",
       "      <td>2.0</td>\n",
       "      <td>130.0</td>\n",
       "      <td>236.0</td>\n",
       "      <td>0.0</td>\n",
       "      <td>2.0</td>\n",
       "      <td>174.0</td>\n",
       "      <td>0.0</td>\n",
       "      <td>0.0</td>\n",
       "      <td>2.0</td>\n",
       "      <td>1.0</td>\n",
       "      <td>3.0</td>\n",
       "      <td>1</td>\n",
       "      <td>1</td>\n",
       "      <td>False</td>\n",
       "      <td>True</td>\n",
       "      <td>False</td>\n",
       "      <td>True</td>\n",
       "      <td>False</td>\n",
       "    </tr>\n",
       "    <tr>\n",
       "      <th>302</th>\n",
       "      <td>38.0</td>\n",
       "      <td>1.0</td>\n",
       "      <td>3.0</td>\n",
       "      <td>138.0</td>\n",
       "      <td>175.0</td>\n",
       "      <td>0.0</td>\n",
       "      <td>0.0</td>\n",
       "      <td>173.0</td>\n",
       "      <td>0.0</td>\n",
       "      <td>0.0</td>\n",
       "      <td>1.0</td>\n",
       "      <td>NaN</td>\n",
       "      <td>3.0</td>\n",
       "      <td>0</td>\n",
       "      <td>0</td>\n",
       "      <td>True</td>\n",
       "      <td>False</td>\n",
       "      <td>True</td>\n",
       "      <td>False</td>\n",
       "      <td>False</td>\n",
       "    </tr>\n",
       "  </tbody>\n",
       "</table>\n",
       "</div>"
      ],
      "text/plain": [
       "      age  sex  chest_pain_type  restbps   chol  blood_sugar  restecg  \\\n",
       "298  45.0  1.0              1.0    110.0  264.0          0.0      0.0   \n",
       "299  68.0  1.0              4.0    144.0  193.0          1.0      0.0   \n",
       "300  57.0  1.0              4.0    130.0  131.0          0.0      0.0   \n",
       "301  57.0  0.0              2.0    130.0  236.0          0.0      2.0   \n",
       "302  38.0  1.0              3.0    138.0  175.0          0.0      0.0   \n",
       "\n",
       "     max_heartrate  exang  oldpeak  slope  num_mjr_vess  thal  dx  heart_dx  \\\n",
       "298          132.0    0.0      1.2    2.0           0.0   7.0   1         1   \n",
       "299          141.0    0.0      3.4    2.0           2.0   7.0   2         1   \n",
       "300          115.0    1.0      1.2    2.0           1.0   7.0   3         1   \n",
       "301          174.0    0.0      0.0    2.0           1.0   3.0   1         1   \n",
       "302          173.0    0.0      0.0    1.0           NaN   3.0   0         0   \n",
       "\n",
       "       Men  Women  Age_low  Age_med  Age_high  \n",
       "298   True  False     True    False     False  \n",
       "299   True  False    False    False      True  \n",
       "300   True  False    False     True     False  \n",
       "301  False   True    False     True     False  \n",
       "302   True  False     True    False     False  "
      ]
     },
     "execution_count": 40,
     "metadata": {},
     "output_type": "execute_result"
    }
   ],
   "source": [
    "df.tail()"
   ]
  },
  {
   "cell_type": "markdown",
   "id": "f4b3de8b",
   "metadata": {},
   "source": [
    "### First Age Group 29 - 45"
   ]
  },
  {
   "cell_type": "code",
   "execution_count": 41,
   "id": "37e9775c",
   "metadata": {},
   "outputs": [
    {
     "name": "stdout",
     "output_type": "stream",
     "text": [
      "Optimization terminated successfully.\n",
      "         Current function value: 0.415389\n",
      "         Iterations 7\n",
      "                           Logit Regression Results                           \n",
      "==============================================================================\n",
      "Dep. Variable:               heart_dx   No. Observations:                  303\n",
      "Model:                          Logit   Df Residuals:                      291\n",
      "Method:                           MLE   Df Model:                           11\n",
      "Date:                Wed, 30 Nov 2022   Pseudo R-squ.:                  0.3978\n",
      "Time:                        14:51:52   Log-Likelihood:                -125.86\n",
      "converged:                       True   LL-Null:                       -208.99\n",
      "Covariance Type:            nonrobust   LLR p-value:                 6.945e-30\n",
      "===================================================================================\n",
      "                      coef    std err          z      P>|z|      [0.025      0.975]\n",
      "-----------------------------------------------------------------------------------\n",
      "Intercept          -5.8522      2.140     -2.735      0.006     -10.047      -1.658\n",
      "Age_low[T.True]    -0.6253      0.448     -1.397      0.162      -1.503       0.252\n",
      "sex                 1.9439      0.399      4.868      0.000       1.161       2.727\n",
      "chest_pain_type     0.8083      0.181      4.472      0.000       0.454       1.163\n",
      "restbps             0.0199      0.010      2.073      0.038       0.001       0.039\n",
      "chol                0.0058      0.003      1.777      0.076      -0.001       0.012\n",
      "blood_sugar        -0.2324      0.445     -0.522      0.601      -1.104       0.640\n",
      "restecg             0.1995      0.163      1.222      0.222      -0.120       0.520\n",
      "max_heartrate      -0.0245      0.009     -2.771      0.006      -0.042      -0.007\n",
      "slope               0.3262      0.320      1.020      0.308      -0.301       0.953\n",
      "exang               0.9774      0.363      2.689      0.007       0.265       1.690\n",
      "oldpeak             0.5039      0.184      2.735      0.006       0.143       0.865\n",
      "===================================================================================\n"
     ]
    }
   ],
   "source": [
    "model_Age1 = 'heart_dx ~ Age_low + sex + chest_pain_type + restbps + chol + blood_sugar + restecg + max_heartrate + slope + exang + oldpeak'\n",
    "\n",
    "result_Age1 = smf.logit(formula=model_Age1, data=df).fit() \n",
    "print(result_Age1.summary())\n",
    "\n",
    "# alpha = 0.05"
   ]
  },
  {
   "cell_type": "code",
   "execution_count": 42,
   "id": "dd317880",
   "metadata": {},
   "outputs": [],
   "source": [
    "# age is yielding slightly different results. The top identifiers at the moment are oldpeak, exang, chest_pain_type,\n",
    "# and max_heartrate based on 0.05 AS alpha.\n"
   ]
  },
  {
   "cell_type": "code",
   "execution_count": 43,
   "id": "688a204b",
   "metadata": {},
   "outputs": [
    {
     "name": "stdout",
     "output_type": "stream",
     "text": [
      "Optimization terminated successfully.\n",
      "         Current function value: 0.427456\n",
      "         Iterations 7\n",
      "                           Logit Regression Results                           \n",
      "==============================================================================\n",
      "Dep. Variable:               heart_dx   No. Observations:                  303\n",
      "Model:                          Logit   Df Residuals:                      295\n",
      "Method:                           MLE   Df Model:                            7\n",
      "Date:                Wed, 30 Nov 2022   Pseudo R-squ.:                  0.3803\n",
      "Time:                        14:51:52   Log-Likelihood:                -129.52\n",
      "converged:                       True   LL-Null:                       -208.99\n",
      "Covariance Type:            nonrobust   LLR p-value:                 5.351e-31\n",
      "===================================================================================\n",
      "                      coef    std err          z      P>|z|      [0.025      0.975]\n",
      "-----------------------------------------------------------------------------------\n",
      "Intercept          -3.8011      1.843     -2.062      0.039      -7.414      -0.189\n",
      "Age_low[T.True]    -0.6527      0.435     -1.502      0.133      -1.504       0.199\n",
      "sex                 1.6725      0.364      4.595      0.000       0.959       2.386\n",
      "chest_pain_type     0.7966      0.177      4.509      0.000       0.450       1.143\n",
      "restbps             0.0203      0.009      2.167      0.030       0.002       0.039\n",
      "max_heartrate      -0.0238      0.008     -2.861      0.004      -0.040      -0.008\n",
      "exang               1.0114      0.354      2.853      0.004       0.317       1.706\n",
      "oldpeak             0.6202      0.158      3.933      0.000       0.311       0.929\n",
      "===================================================================================\n"
     ]
    }
   ],
   "source": [
    "model_Age1a = 'heart_dx ~ Age_low + sex + chest_pain_type + restbps +  max_heartrate + exang + oldpeak'\n",
    "\n",
    "result_Age1a = smf.logit(formula=model_Age1a, data=df).fit()\n",
    "print(result_Age1a.summary())\n",
    "\n",
    "# alpha = 0.05"
   ]
  },
  {
   "cell_type": "code",
   "execution_count": 44,
   "id": "cc4d45fc",
   "metadata": {},
   "outputs": [],
   "source": [
    "# model_Age1b = 'heart_dx ~ Age_low + restbps + chol + blood_sugar + restecg + slope'\n",
    "\n",
    "# result_Age1b = smf.logit(formula=model_Age1b, data=df).fit()\n",
    "# print(result_Age1b.summary())\n",
    "\n",
    "# alpha = 0.05\n",
    "\n",
    "#tried something different. Used the attributes with the highest p-value to run against agre groups to see if there \n",
    "# were different attributes to consider. There were not useful results from this model. The pvalue for age was it's\n",
    "# lowest though.\n"
   ]
  },
  {
   "cell_type": "code",
   "execution_count": null,
   "id": "edbbc30e",
   "metadata": {},
   "outputs": [],
   "source": []
  },
  {
   "cell_type": "code",
   "execution_count": 45,
   "id": "c0c4130b",
   "metadata": {},
   "outputs": [
    {
     "name": "stdout",
     "output_type": "stream",
     "text": [
      "Optimization terminated successfully.\n",
      "         Current function value: 0.415122\n",
      "         Iterations 7\n",
      "                           Logit Regression Results                           \n",
      "==============================================================================\n",
      "Dep. Variable:               heart_dx   No. Observations:                  303\n",
      "Model:                          Logit   Df Residuals:                      291\n",
      "Method:                           MLE   Df Model:                           11\n",
      "Date:                Wed, 30 Nov 2022   Pseudo R-squ.:                  0.3981\n",
      "Time:                        14:51:52   Log-Likelihood:                -125.78\n",
      "converged:                       True   LL-Null:                       -208.99\n",
      "Covariance Type:            nonrobust   LLR p-value:                 6.434e-30\n",
      "===================================================================================\n",
      "                      coef    std err          z      P>|z|      [0.025      0.975]\n",
      "-----------------------------------------------------------------------------------\n",
      "Intercept          -6.0693      2.154     -2.818      0.005     -10.290      -1.848\n",
      "Age_med[T.True]     0.4775      0.327      1.458      0.145      -0.164       1.119\n",
      "sex                 1.8874      0.398      4.740      0.000       1.107       2.668\n",
      "chest_pain_type     0.7999      0.180      4.438      0.000       0.447       1.153\n",
      "restbps             0.0221      0.010      2.313      0.021       0.003       0.041\n",
      "chol                0.0066      0.003      2.018      0.044       0.000       0.013\n",
      "blood_sugar        -0.1975      0.449     -0.440      0.660      -1.077       0.682\n",
      "restecg             0.1975      0.163      1.211      0.226      -0.122       0.517\n",
      "max_heartrate      -0.0287      0.009     -3.326      0.001      -0.046      -0.012\n",
      "slope               0.3404      0.319      1.065      0.287      -0.286       0.966\n",
      "exang               0.9310      0.365      2.551      0.011       0.216       1.646\n",
      "oldpeak             0.5134      0.184      2.794      0.005       0.153       0.873\n",
      "===================================================================================\n"
     ]
    }
   ],
   "source": [
    "model_Age2 = 'heart_dx ~ Age_med + sex + chest_pain_type + restbps + chol + blood_sugar + restecg + max_heartrate + slope + exang + oldpeak'\n",
    "\n",
    "result_Age2 = smf.logit(formula=model_Age2, data=df).fit()\n",
    "print(result_Age2.summary())\n",
    "\n",
    "# results are still pretty similar"
   ]
  },
  {
   "cell_type": "code",
   "execution_count": 46,
   "id": "54c48eec",
   "metadata": {},
   "outputs": [
    {
     "name": "stdout",
     "output_type": "stream",
     "text": [
      "Optimization terminated successfully.\n",
      "         Current function value: 0.428938\n",
      "         Iterations 7\n",
      "                           Logit Regression Results                           \n",
      "==============================================================================\n",
      "Dep. Variable:               heart_dx   No. Observations:                  303\n",
      "Model:                          Logit   Df Residuals:                      295\n",
      "Method:                           MLE   Df Model:                            7\n",
      "Date:                Wed, 30 Nov 2022   Pseudo R-squ.:                  0.3781\n",
      "Time:                        14:51:52   Log-Likelihood:                -129.97\n",
      "converged:                       True   LL-Null:                       -208.99\n",
      "Covariance Type:            nonrobust   LLR p-value:                 8.267e-31\n",
      "===================================================================================\n",
      "                      coef    std err          z      P>|z|      [0.025      0.975]\n",
      "-----------------------------------------------------------------------------------\n",
      "Intercept          -3.7489      1.824     -2.056      0.040      -7.323      -0.174\n",
      "Age_med[T.True]     0.3747      0.315      1.189      0.234      -0.243       0.992\n",
      "sex                 1.5976      0.363      4.397      0.000       0.885       2.310\n",
      "chest_pain_type     0.7900      0.176      4.483      0.000       0.445       1.135\n",
      "restbps             0.0226      0.009      2.426      0.015       0.004       0.041\n",
      "max_heartrate      -0.0278      0.008     -3.462      0.001      -0.043      -0.012\n",
      "exang               0.9690      0.354      2.741      0.006       0.276       1.662\n",
      "oldpeak             0.6292      0.158      3.983      0.000       0.320       0.939\n",
      "===================================================================================\n"
     ]
    }
   ],
   "source": [
    "model_Age2a = 'heart_dx ~ Age_med + sex + chest_pain_type + restbps +  max_heartrate + exang + oldpeak'\n",
    "\n",
    "result_Age2a = smf.logit(formula=model_Age2a, data=df).fit()\n",
    "print(result_Age2a.summary())\n",
    "\n",
    "# results are still pretty similar"
   ]
  },
  {
   "cell_type": "code",
   "execution_count": null,
   "id": "5a2e9b6e",
   "metadata": {},
   "outputs": [],
   "source": []
  },
  {
   "cell_type": "code",
   "execution_count": 47,
   "id": "ff4a9bf8",
   "metadata": {},
   "outputs": [
    {
     "name": "stdout",
     "output_type": "stream",
     "text": [
      "Optimization terminated successfully.\n",
      "         Current function value: 0.418208\n",
      "         Iterations 7\n",
      "                           Logit Regression Results                           \n",
      "==============================================================================\n",
      "Dep. Variable:               heart_dx   No. Observations:                  303\n",
      "Model:                          Logit   Df Residuals:                      291\n",
      "Method:                           MLE   Df Model:                           11\n",
      "Date:                Wed, 30 Nov 2022   Pseudo R-squ.:                  0.3937\n",
      "Time:                        14:51:52   Log-Likelihood:                -126.72\n",
      "converged:                       True   LL-Null:                       -208.99\n",
      "Covariance Type:            nonrobust   LLR p-value:                 1.559e-29\n",
      "====================================================================================\n",
      "                       coef    std err          z      P>|z|      [0.025      0.975]\n",
      "------------------------------------------------------------------------------------\n",
      "Intercept           -5.6177      2.131     -2.636      0.008      -9.794      -1.441\n",
      "Age_high[T.True]    -0.2165      0.406     -0.533      0.594      -1.013       0.580\n",
      "sex                  1.8842      0.399      4.722      0.000       1.102       2.666\n",
      "chest_pain_type      0.7987      0.179      4.471      0.000       0.449       1.149\n",
      "restbps              0.0227      0.010      2.360      0.018       0.004       0.042\n",
      "chol                 0.0063      0.003      1.912      0.056      -0.000       0.013\n",
      "blood_sugar         -0.1518      0.449     -0.338      0.735      -1.031       0.728\n",
      "restecg              0.2078      0.162      1.279      0.201      -0.111       0.526\n",
      "max_heartrate       -0.0294      0.009     -3.266      0.001      -0.047      -0.012\n",
      "slope                0.3180      0.319      0.997      0.319      -0.307       0.943\n",
      "exang                0.9439      0.364      2.595      0.009       0.231       1.657\n",
      "oldpeak              0.5067      0.183      2.766      0.006       0.148       0.866\n",
      "====================================================================================\n"
     ]
    }
   ],
   "source": [
    "model_Age3 = 'heart_dx ~ Age_high + sex + chest_pain_type + restbps + chol + blood_sugar + restecg + max_heartrate + slope + exang + oldpeak'\n",
    "\n",
    "result_Age3 = smf.logit(formula=model_Age3, data=df).fit()\n",
    "print(result_Age3.summary())\n",
    "\n",
    "# this model yielded the most unique results. While the restbps and chol is higher than 0.05 (alpha), it is much closer \n",
    "# than the others. Though, the primary attributes are the same as the overall model. Likewise, the p-value for Age\n",
    "# is highest amongst the 3 age groupings.\n"
   ]
  },
  {
   "cell_type": "code",
   "execution_count": 48,
   "id": "b1a9aa5e",
   "metadata": {},
   "outputs": [
    {
     "name": "stdout",
     "output_type": "stream",
     "text": [
      "Optimization terminated successfully.\n",
      "         Current function value: 0.423121\n",
      "         Iterations 7\n",
      "                           Logit Regression Results                           \n",
      "==============================================================================\n",
      "Dep. Variable:               heart_dx   No. Observations:                  303\n",
      "Model:                          Logit   Df Residuals:                      294\n",
      "Method:                           MLE   Df Model:                            8\n",
      "Date:                Wed, 30 Nov 2022   Pseudo R-squ.:                  0.3865\n",
      "Time:                        14:51:52   Log-Likelihood:                -128.21\n",
      "converged:                       True   LL-Null:                       -208.99\n",
      "Covariance Type:            nonrobust   LLR p-value:                 7.506e-31\n",
      "====================================================================================\n",
      "                       coef    std err          z      P>|z|      [0.025      0.975]\n",
      "------------------------------------------------------------------------------------\n",
      "Intercept           -4.8525      1.965     -2.469      0.014      -8.704      -1.001\n",
      "Age_high[T.True]    -0.2084      0.402     -0.518      0.604      -0.997       0.580\n",
      "sex                  1.8509      0.393      4.715      0.000       1.082       2.620\n",
      "chest_pain_type      0.7858      0.177      4.441      0.000       0.439       1.133\n",
      "restbps              0.0229      0.009      2.422      0.015       0.004       0.041\n",
      "chol                 0.0071      0.003      2.218      0.027       0.001       0.013\n",
      "max_heartrate       -0.0316      0.009     -3.580      0.000      -0.049      -0.014\n",
      "exang                0.9496      0.361      2.633      0.008       0.243       1.656\n",
      "oldpeak              0.6093      0.158      3.861      0.000       0.300       0.919\n",
      "====================================================================================\n"
     ]
    }
   ],
   "source": [
    "model_Age3a = 'heart_dx ~ Age_high + sex + chest_pain_type + restbps + chol + max_heartrate + exang + oldpeak'\n",
    "\n",
    "result_Age3a = smf.logit(formula=model_Age3a, data=df).fit()\n",
    "print(result_Age3a.summary())\n",
    "#maybe this age groups attributes are different. I left chol and restbps and their p-values went down significantly.\n",
    "# Does the p-value of Age_high matter?"
   ]
  },
  {
   "cell_type": "code",
   "execution_count": 49,
   "id": "1e506521",
   "metadata": {},
   "outputs": [
    {
     "data": {
      "text/html": [
       "<div>\n",
       "<style scoped>\n",
       "    .dataframe tbody tr th:only-of-type {\n",
       "        vertical-align: middle;\n",
       "    }\n",
       "\n",
       "    .dataframe tbody tr th {\n",
       "        vertical-align: top;\n",
       "    }\n",
       "\n",
       "    .dataframe thead th {\n",
       "        text-align: right;\n",
       "    }\n",
       "</style>\n",
       "<table border=\"1\" class=\"dataframe\">\n",
       "  <thead>\n",
       "    <tr style=\"text-align: right;\">\n",
       "      <th></th>\n",
       "      <th>age</th>\n",
       "      <th>sex</th>\n",
       "      <th>chest_pain_type</th>\n",
       "      <th>restbps</th>\n",
       "      <th>chol</th>\n",
       "      <th>blood_sugar</th>\n",
       "      <th>restecg</th>\n",
       "      <th>max_heartrate</th>\n",
       "      <th>exang</th>\n",
       "      <th>oldpeak</th>\n",
       "      <th>slope</th>\n",
       "      <th>num_mjr_vess</th>\n",
       "      <th>thal</th>\n",
       "      <th>dx</th>\n",
       "      <th>heart_dx</th>\n",
       "      <th>Men</th>\n",
       "      <th>Women</th>\n",
       "      <th>Age_low</th>\n",
       "      <th>Age_med</th>\n",
       "      <th>Age_high</th>\n",
       "    </tr>\n",
       "  </thead>\n",
       "  <tbody>\n",
       "    <tr>\n",
       "      <th>0</th>\n",
       "      <td>63.0</td>\n",
       "      <td>1.0</td>\n",
       "      <td>1.0</td>\n",
       "      <td>145.0</td>\n",
       "      <td>233.0</td>\n",
       "      <td>1.0</td>\n",
       "      <td>2.0</td>\n",
       "      <td>150.0</td>\n",
       "      <td>0.0</td>\n",
       "      <td>2.3</td>\n",
       "      <td>3.0</td>\n",
       "      <td>0.0</td>\n",
       "      <td>6.0</td>\n",
       "      <td>0</td>\n",
       "      <td>0</td>\n",
       "      <td>True</td>\n",
       "      <td>False</td>\n",
       "      <td>False</td>\n",
       "      <td>False</td>\n",
       "      <td>True</td>\n",
       "    </tr>\n",
       "    <tr>\n",
       "      <th>1</th>\n",
       "      <td>67.0</td>\n",
       "      <td>1.0</td>\n",
       "      <td>4.0</td>\n",
       "      <td>160.0</td>\n",
       "      <td>286.0</td>\n",
       "      <td>0.0</td>\n",
       "      <td>2.0</td>\n",
       "      <td>108.0</td>\n",
       "      <td>1.0</td>\n",
       "      <td>1.5</td>\n",
       "      <td>2.0</td>\n",
       "      <td>3.0</td>\n",
       "      <td>3.0</td>\n",
       "      <td>2</td>\n",
       "      <td>1</td>\n",
       "      <td>True</td>\n",
       "      <td>False</td>\n",
       "      <td>False</td>\n",
       "      <td>False</td>\n",
       "      <td>True</td>\n",
       "    </tr>\n",
       "    <tr>\n",
       "      <th>2</th>\n",
       "      <td>67.0</td>\n",
       "      <td>1.0</td>\n",
       "      <td>4.0</td>\n",
       "      <td>120.0</td>\n",
       "      <td>229.0</td>\n",
       "      <td>0.0</td>\n",
       "      <td>2.0</td>\n",
       "      <td>129.0</td>\n",
       "      <td>1.0</td>\n",
       "      <td>2.6</td>\n",
       "      <td>2.0</td>\n",
       "      <td>2.0</td>\n",
       "      <td>7.0</td>\n",
       "      <td>1</td>\n",
       "      <td>1</td>\n",
       "      <td>True</td>\n",
       "      <td>False</td>\n",
       "      <td>False</td>\n",
       "      <td>False</td>\n",
       "      <td>True</td>\n",
       "    </tr>\n",
       "    <tr>\n",
       "      <th>3</th>\n",
       "      <td>37.0</td>\n",
       "      <td>1.0</td>\n",
       "      <td>3.0</td>\n",
       "      <td>130.0</td>\n",
       "      <td>250.0</td>\n",
       "      <td>0.0</td>\n",
       "      <td>0.0</td>\n",
       "      <td>187.0</td>\n",
       "      <td>0.0</td>\n",
       "      <td>3.5</td>\n",
       "      <td>3.0</td>\n",
       "      <td>0.0</td>\n",
       "      <td>3.0</td>\n",
       "      <td>0</td>\n",
       "      <td>0</td>\n",
       "      <td>True</td>\n",
       "      <td>False</td>\n",
       "      <td>True</td>\n",
       "      <td>False</td>\n",
       "      <td>False</td>\n",
       "    </tr>\n",
       "    <tr>\n",
       "      <th>4</th>\n",
       "      <td>41.0</td>\n",
       "      <td>0.0</td>\n",
       "      <td>2.0</td>\n",
       "      <td>130.0</td>\n",
       "      <td>204.0</td>\n",
       "      <td>0.0</td>\n",
       "      <td>2.0</td>\n",
       "      <td>172.0</td>\n",
       "      <td>0.0</td>\n",
       "      <td>1.4</td>\n",
       "      <td>1.0</td>\n",
       "      <td>0.0</td>\n",
       "      <td>3.0</td>\n",
       "      <td>0</td>\n",
       "      <td>0</td>\n",
       "      <td>False</td>\n",
       "      <td>True</td>\n",
       "      <td>True</td>\n",
       "      <td>False</td>\n",
       "      <td>False</td>\n",
       "    </tr>\n",
       "  </tbody>\n",
       "</table>\n",
       "</div>"
      ],
      "text/plain": [
       "    age  sex  chest_pain_type  restbps   chol  blood_sugar  restecg  \\\n",
       "0  63.0  1.0              1.0    145.0  233.0          1.0      2.0   \n",
       "1  67.0  1.0              4.0    160.0  286.0          0.0      2.0   \n",
       "2  67.0  1.0              4.0    120.0  229.0          0.0      2.0   \n",
       "3  37.0  1.0              3.0    130.0  250.0          0.0      0.0   \n",
       "4  41.0  0.0              2.0    130.0  204.0          0.0      2.0   \n",
       "\n",
       "   max_heartrate  exang  oldpeak  slope  num_mjr_vess  thal  dx  heart_dx  \\\n",
       "0          150.0    0.0      2.3    3.0           0.0   6.0   0         0   \n",
       "1          108.0    1.0      1.5    2.0           3.0   3.0   2         1   \n",
       "2          129.0    1.0      2.6    2.0           2.0   7.0   1         1   \n",
       "3          187.0    0.0      3.5    3.0           0.0   3.0   0         0   \n",
       "4          172.0    0.0      1.4    1.0           0.0   3.0   0         0   \n",
       "\n",
       "     Men  Women  Age_low  Age_med  Age_high  \n",
       "0   True  False    False    False      True  \n",
       "1   True  False    False    False      True  \n",
       "2   True  False    False    False      True  \n",
       "3   True  False     True    False     False  \n",
       "4  False   True     True    False     False  "
      ]
     },
     "execution_count": 49,
     "metadata": {},
     "output_type": "execute_result"
    }
   ],
   "source": [
    "df.head()"
   ]
  },
  {
   "cell_type": "code",
   "execution_count": null,
   "id": "5d0d3a93",
   "metadata": {},
   "outputs": [],
   "source": []
  },
  {
   "cell_type": "code",
   "execution_count": 50,
   "id": "cb9edc6a",
   "metadata": {},
   "outputs": [],
   "source": [
    "# Need to determine which attributes fit all models ran. Then run the test_train_split function on each model \n",
    "# (all, by gender, and by age group) model. \n",
    "\n",
    "# Then perform cross val score to determine accuracy of the models selected attributes. \n",
    "#Then add some visualizations!\n"
   ]
  },
  {
   "cell_type": "code",
   "execution_count": 51,
   "id": "477d6a7f",
   "metadata": {},
   "outputs": [
    {
     "name": "stderr",
     "output_type": "stream",
     "text": [
      "/Users/ted/opt/anaconda3/lib/python3.9/site-packages/sklearn/linear_model/_logistic.py:814: ConvergenceWarning: lbfgs failed to converge (status=1):\n",
      "STOP: TOTAL NO. of ITERATIONS REACHED LIMIT.\n",
      "\n",
      "Increase the number of iterations (max_iter) or scale the data as shown in:\n",
      "    https://scikit-learn.org/stable/modules/preprocessing.html\n",
      "Please also refer to the documentation for alternative solver options:\n",
      "    https://scikit-learn.org/stable/modules/linear_model.html#logistic-regression\n",
      "  n_iter_i = _check_optimize_result(\n"
     ]
    }
   ],
   "source": [
    "Xo = df[['age','sex','chest_pain_type','restbps','max_heartrate','exang','oldpeak']]\n",
    "\n",
    "yo = df['heart_dx']\n",
    "\n",
    "\n",
    "X_train, X_test, y_train, y_test = train_test_split(Xo, yo, random_state=40) \n",
    "\n",
    "X_test.shape\n",
    "\n",
    "\n",
    "model = LogisticRegression()\n",
    "\n",
    "model.fit(X_train, y_train)\n",
    "\n",
    "y_proba = model.predict_proba(X_test)[:,1]\n",
    "\n",
    "y_pred = model.predict(X_test)\n"
   ]
  },
  {
   "cell_type": "code",
   "execution_count": 52,
   "id": "8fb60b6e",
   "metadata": {},
   "outputs": [
    {
     "data": {
      "text/html": [
       "<div>\n",
       "<style scoped>\n",
       "    .dataframe tbody tr th:only-of-type {\n",
       "        vertical-align: middle;\n",
       "    }\n",
       "\n",
       "    .dataframe tbody tr th {\n",
       "        vertical-align: top;\n",
       "    }\n",
       "\n",
       "    .dataframe thead th {\n",
       "        text-align: right;\n",
       "    }\n",
       "</style>\n",
       "<table border=\"1\" class=\"dataframe\">\n",
       "  <thead>\n",
       "    <tr style=\"text-align: right;\">\n",
       "      <th></th>\n",
       "      <th>predict: No Heart Disease</th>\n",
       "      <th>predict: Heart Disease</th>\n",
       "    </tr>\n",
       "  </thead>\n",
       "  <tbody>\n",
       "    <tr>\n",
       "      <th>true: No Heart Disease</th>\n",
       "      <td>37</td>\n",
       "      <td>5</td>\n",
       "    </tr>\n",
       "    <tr>\n",
       "      <th>true: Heart Disease</th>\n",
       "      <td>5</td>\n",
       "      <td>29</td>\n",
       "    </tr>\n",
       "  </tbody>\n",
       "</table>\n",
       "</div>"
      ],
      "text/plain": [
       "                        predict: No Heart Disease  predict: Heart Disease\n",
       "true: No Heart Disease                         37                       5\n",
       "true: Heart Disease                             5                      29"
      ]
     },
     "execution_count": 52,
     "metadata": {},
     "output_type": "execute_result"
    }
   ],
   "source": [
    "from sklearn import metrics\n",
    "\n",
    "cm = metrics.confusion_matrix(y_test, y_pred) \n",
    "\n",
    "df_cm = pd.DataFrame(data=cm, columns=['predict: No Heart Disease', 'predict: Heart Disease'],\n",
    "                    index=['true: No Heart Disease', 'true: Heart Disease'])\n",
    "\n",
    "df_cm"
   ]
  },
  {
   "cell_type": "code",
   "execution_count": 53,
   "id": "7c71fd80",
   "metadata": {},
   "outputs": [
    {
     "name": "stdout",
     "output_type": "stream",
     "text": [
      "              precision    recall  f1-score   support\n",
      "\n",
      "           0       0.88      0.88      0.88        42\n",
      "           1       0.85      0.85      0.85        34\n",
      "\n",
      "    accuracy                           0.87        76\n",
      "   macro avg       0.87      0.87      0.87        76\n",
      "weighted avg       0.87      0.87      0.87        76\n",
      "\n"
     ]
    }
   ],
   "source": [
    "print(metrics.classification_report(y_test, y_pred))"
   ]
  },
  {
   "cell_type": "code",
   "execution_count": null,
   "id": "383e33a8",
   "metadata": {},
   "outputs": [],
   "source": []
  },
  {
   "cell_type": "code",
   "execution_count": 54,
   "id": "859e3d27",
   "metadata": {},
   "outputs": [
    {
     "name": "stderr",
     "output_type": "stream",
     "text": [
      "/Users/ted/opt/anaconda3/lib/python3.9/site-packages/sklearn/linear_model/_logistic.py:814: ConvergenceWarning: lbfgs failed to converge (status=1):\n",
      "STOP: TOTAL NO. of ITERATIONS REACHED LIMIT.\n",
      "\n",
      "Increase the number of iterations (max_iter) or scale the data as shown in:\n",
      "    https://scikit-learn.org/stable/modules/preprocessing.html\n",
      "Please also refer to the documentation for alternative solver options:\n",
      "    https://scikit-learn.org/stable/modules/linear_model.html#logistic-regression\n",
      "  n_iter_i = _check_optimize_result(\n"
     ]
    }
   ],
   "source": [
    "Xm = df[['age','Men','chest_pain_type','restbps','max_heartrate','exang','oldpeak']]\n",
    "\n",
    "ym = df['heart_dx']\n",
    "\n",
    "\n",
    "X_train, X_test, y_train, y_test = train_test_split(Xm, ym, random_state=50) \n",
    "\n",
    "X_test.shape\n",
    "\n",
    "\n",
    "model2 = LogisticRegression()\n",
    "\n",
    "model2.fit(X_train, y_train)\n",
    "\n",
    "y_proba2 = model2.predict_proba(X_test)[:,1]\n",
    "\n",
    "y_pred2 = model2.predict(X_test)\n",
    "\n"
   ]
  },
  {
   "cell_type": "code",
   "execution_count": 55,
   "id": "f07b638e",
   "metadata": {},
   "outputs": [
    {
     "data": {
      "text/html": [
       "<div>\n",
       "<style scoped>\n",
       "    .dataframe tbody tr th:only-of-type {\n",
       "        vertical-align: middle;\n",
       "    }\n",
       "\n",
       "    .dataframe tbody tr th {\n",
       "        vertical-align: top;\n",
       "    }\n",
       "\n",
       "    .dataframe thead th {\n",
       "        text-align: right;\n",
       "    }\n",
       "</style>\n",
       "<table border=\"1\" class=\"dataframe\">\n",
       "  <thead>\n",
       "    <tr style=\"text-align: right;\">\n",
       "      <th></th>\n",
       "      <th>predict: No Heart Disease</th>\n",
       "      <th>predict: Heart Disease</th>\n",
       "    </tr>\n",
       "  </thead>\n",
       "  <tbody>\n",
       "    <tr>\n",
       "      <th>true: No Heart Disease</th>\n",
       "      <td>32</td>\n",
       "      <td>5</td>\n",
       "    </tr>\n",
       "    <tr>\n",
       "      <th>true: Heart Disease</th>\n",
       "      <td>12</td>\n",
       "      <td>27</td>\n",
       "    </tr>\n",
       "  </tbody>\n",
       "</table>\n",
       "</div>"
      ],
      "text/plain": [
       "                        predict: No Heart Disease  predict: Heart Disease\n",
       "true: No Heart Disease                         32                       5\n",
       "true: Heart Disease                            12                      27"
      ]
     },
     "execution_count": 55,
     "metadata": {},
     "output_type": "execute_result"
    }
   ],
   "source": [
    "cm2 = metrics.confusion_matrix(y_test, y_pred2) \n",
    "\n",
    "df_cm2 = pd.DataFrame(data=cm2, columns=['predict: No Heart Disease', 'predict: Heart Disease'],\n",
    "                    index=['true: No Heart Disease', 'true: Heart Disease'])\n",
    "\n",
    "df_cm2"
   ]
  },
  {
   "cell_type": "code",
   "execution_count": 56,
   "id": "6f6a8530",
   "metadata": {},
   "outputs": [
    {
     "name": "stdout",
     "output_type": "stream",
     "text": [
      "              precision    recall  f1-score   support\n",
      "\n",
      "           0       0.73      0.86      0.79        37\n",
      "           1       0.84      0.69      0.76        39\n",
      "\n",
      "    accuracy                           0.78        76\n",
      "   macro avg       0.79      0.78      0.78        76\n",
      "weighted avg       0.79      0.78      0.77        76\n",
      "\n"
     ]
    }
   ],
   "source": [
    "print(metrics.classification_report(y_test, y_pred2))"
   ]
  },
  {
   "cell_type": "code",
   "execution_count": null,
   "id": "e796c1a6",
   "metadata": {},
   "outputs": [],
   "source": []
  },
  {
   "cell_type": "code",
   "execution_count": 57,
   "id": "20c0137f",
   "metadata": {},
   "outputs": [
    {
     "name": "stderr",
     "output_type": "stream",
     "text": [
      "/Users/ted/opt/anaconda3/lib/python3.9/site-packages/sklearn/linear_model/_logistic.py:814: ConvergenceWarning: lbfgs failed to converge (status=1):\n",
      "STOP: TOTAL NO. of ITERATIONS REACHED LIMIT.\n",
      "\n",
      "Increase the number of iterations (max_iter) or scale the data as shown in:\n",
      "    https://scikit-learn.org/stable/modules/preprocessing.html\n",
      "Please also refer to the documentation for alternative solver options:\n",
      "    https://scikit-learn.org/stable/modules/linear_model.html#logistic-regression\n",
      "  n_iter_i = _check_optimize_result(\n"
     ]
    }
   ],
   "source": [
    "Xw = df[['age','Women','chest_pain_type','restbps','max_heartrate','exang','oldpeak']]\n",
    "\n",
    "yw = df['heart_dx']\n",
    "\n",
    "\n",
    "X_train, X_test, y_train, y_test = train_test_split(Xw, yw, random_state=35) \n",
    "\n",
    "X_test.shape\n",
    "\n",
    "\n",
    "model3 = LogisticRegression()\n",
    "\n",
    "model3.fit(X_train, y_train)\n",
    "\n",
    "y_proba3 = model3.predict_proba(X_test)[:,1]\n",
    "\n",
    "y_pred3 = model3.predict(X_test)\n",
    "\n"
   ]
  },
  {
   "cell_type": "code",
   "execution_count": 58,
   "id": "63cbf36c",
   "metadata": {},
   "outputs": [
    {
     "data": {
      "text/html": [
       "<div>\n",
       "<style scoped>\n",
       "    .dataframe tbody tr th:only-of-type {\n",
       "        vertical-align: middle;\n",
       "    }\n",
       "\n",
       "    .dataframe tbody tr th {\n",
       "        vertical-align: top;\n",
       "    }\n",
       "\n",
       "    .dataframe thead th {\n",
       "        text-align: right;\n",
       "    }\n",
       "</style>\n",
       "<table border=\"1\" class=\"dataframe\">\n",
       "  <thead>\n",
       "    <tr style=\"text-align: right;\">\n",
       "      <th></th>\n",
       "      <th>predict: No Heart Disease</th>\n",
       "      <th>predict: Heart Disease</th>\n",
       "    </tr>\n",
       "  </thead>\n",
       "  <tbody>\n",
       "    <tr>\n",
       "      <th>true: No Heart Disease</th>\n",
       "      <td>34</td>\n",
       "      <td>5</td>\n",
       "    </tr>\n",
       "    <tr>\n",
       "      <th>true: Heart Disease</th>\n",
       "      <td>11</td>\n",
       "      <td>26</td>\n",
       "    </tr>\n",
       "  </tbody>\n",
       "</table>\n",
       "</div>"
      ],
      "text/plain": [
       "                        predict: No Heart Disease  predict: Heart Disease\n",
       "true: No Heart Disease                         34                       5\n",
       "true: Heart Disease                            11                      26"
      ]
     },
     "execution_count": 58,
     "metadata": {},
     "output_type": "execute_result"
    }
   ],
   "source": [
    "cm3 = metrics.confusion_matrix(y_test, y_pred3) \n",
    "\n",
    "df_cm3 = pd.DataFrame(data=cm3, columns=['predict: No Heart Disease', 'predict: Heart Disease'],\n",
    "                    index=['true: No Heart Disease', 'true: Heart Disease'])\n",
    "\n",
    "df_cm3"
   ]
  },
  {
   "cell_type": "code",
   "execution_count": 59,
   "id": "63f9e6e1",
   "metadata": {},
   "outputs": [
    {
     "name": "stdout",
     "output_type": "stream",
     "text": [
      "              precision    recall  f1-score   support\n",
      "\n",
      "           0       0.76      0.87      0.81        39\n",
      "           1       0.84      0.70      0.76        37\n",
      "\n",
      "    accuracy                           0.79        76\n",
      "   macro avg       0.80      0.79      0.79        76\n",
      "weighted avg       0.80      0.79      0.79        76\n",
      "\n"
     ]
    }
   ],
   "source": [
    "print(metrics.classification_report(y_test, y_pred3))"
   ]
  },
  {
   "cell_type": "code",
   "execution_count": null,
   "id": "524b8966",
   "metadata": {},
   "outputs": [],
   "source": []
  },
  {
   "cell_type": "code",
   "execution_count": null,
   "id": "23b9667b",
   "metadata": {},
   "outputs": [],
   "source": []
  },
  {
   "cell_type": "code",
   "execution_count": 60,
   "id": "9b72b380",
   "metadata": {
    "scrolled": true
   },
   "outputs": [
    {
     "name": "stderr",
     "output_type": "stream",
     "text": [
      "/Users/ted/opt/anaconda3/lib/python3.9/site-packages/sklearn/linear_model/_logistic.py:814: ConvergenceWarning: lbfgs failed to converge (status=1):\n",
      "STOP: TOTAL NO. of ITERATIONS REACHED LIMIT.\n",
      "\n",
      "Increase the number of iterations (max_iter) or scale the data as shown in:\n",
      "    https://scikit-learn.org/stable/modules/preprocessing.html\n",
      "Please also refer to the documentation for alternative solver options:\n",
      "    https://scikit-learn.org/stable/modules/linear_model.html#logistic-regression\n",
      "  n_iter_i = _check_optimize_result(\n"
     ]
    }
   ],
   "source": [
    "Xa1 = df[['Age_low','sex','chest_pain_type','restbps','max_heartrate','exang','oldpeak']]\n",
    "\n",
    "ya1 = df['heart_dx']\n",
    "\n",
    "\n",
    "X_train, X_test, y_train, y_test = train_test_split(Xa1, ya1, random_state=15) \n",
    "\n",
    "\n",
    "model4 = LogisticRegression()\n",
    "\n",
    "model4.fit(X_train, y_train)\n",
    "\n",
    "y_proba4 = model4.predict_proba(X_test)[:,1]\n",
    "\n",
    "y_pred4 = model4.predict(X_test)\n",
    "\n",
    "\n"
   ]
  },
  {
   "cell_type": "code",
   "execution_count": 61,
   "id": "07930c2b",
   "metadata": {},
   "outputs": [
    {
     "data": {
      "text/html": [
       "<div>\n",
       "<style scoped>\n",
       "    .dataframe tbody tr th:only-of-type {\n",
       "        vertical-align: middle;\n",
       "    }\n",
       "\n",
       "    .dataframe tbody tr th {\n",
       "        vertical-align: top;\n",
       "    }\n",
       "\n",
       "    .dataframe thead th {\n",
       "        text-align: right;\n",
       "    }\n",
       "</style>\n",
       "<table border=\"1\" class=\"dataframe\">\n",
       "  <thead>\n",
       "    <tr style=\"text-align: right;\">\n",
       "      <th></th>\n",
       "      <th>predict: No Heart Disease</th>\n",
       "      <th>predict: Heart Disease</th>\n",
       "    </tr>\n",
       "  </thead>\n",
       "  <tbody>\n",
       "    <tr>\n",
       "      <th>true: No Heart Disease</th>\n",
       "      <td>38</td>\n",
       "      <td>5</td>\n",
       "    </tr>\n",
       "    <tr>\n",
       "      <th>true: Heart Disease</th>\n",
       "      <td>8</td>\n",
       "      <td>25</td>\n",
       "    </tr>\n",
       "  </tbody>\n",
       "</table>\n",
       "</div>"
      ],
      "text/plain": [
       "                        predict: No Heart Disease  predict: Heart Disease\n",
       "true: No Heart Disease                         38                       5\n",
       "true: Heart Disease                             8                      25"
      ]
     },
     "execution_count": 61,
     "metadata": {},
     "output_type": "execute_result"
    }
   ],
   "source": [
    "cm4 = metrics.confusion_matrix(y_test, y_pred4) \n",
    "\n",
    "df_cm4 = pd.DataFrame(data=cm4, columns=['predict: No Heart Disease', 'predict: Heart Disease'],\n",
    "                    index=['true: No Heart Disease', 'true: Heart Disease'])\n",
    "\n",
    "df_cm4"
   ]
  },
  {
   "cell_type": "code",
   "execution_count": 62,
   "id": "819fd4e5",
   "metadata": {},
   "outputs": [
    {
     "name": "stdout",
     "output_type": "stream",
     "text": [
      "              precision    recall  f1-score   support\n",
      "\n",
      "           0       0.83      0.88      0.85        43\n",
      "           1       0.83      0.76      0.79        33\n",
      "\n",
      "    accuracy                           0.83        76\n",
      "   macro avg       0.83      0.82      0.82        76\n",
      "weighted avg       0.83      0.83      0.83        76\n",
      "\n"
     ]
    }
   ],
   "source": [
    "print(metrics.classification_report(y_test, y_pred4))"
   ]
  },
  {
   "cell_type": "code",
   "execution_count": null,
   "id": "aea967e8",
   "metadata": {},
   "outputs": [],
   "source": []
  },
  {
   "cell_type": "code",
   "execution_count": 63,
   "id": "53a46d89",
   "metadata": {},
   "outputs": [
    {
     "name": "stderr",
     "output_type": "stream",
     "text": [
      "/Users/ted/opt/anaconda3/lib/python3.9/site-packages/sklearn/linear_model/_logistic.py:814: ConvergenceWarning: lbfgs failed to converge (status=1):\n",
      "STOP: TOTAL NO. of ITERATIONS REACHED LIMIT.\n",
      "\n",
      "Increase the number of iterations (max_iter) or scale the data as shown in:\n",
      "    https://scikit-learn.org/stable/modules/preprocessing.html\n",
      "Please also refer to the documentation for alternative solver options:\n",
      "    https://scikit-learn.org/stable/modules/linear_model.html#logistic-regression\n",
      "  n_iter_i = _check_optimize_result(\n"
     ]
    }
   ],
   "source": [
    "Xa2 = df[['Age_med','sex','chest_pain_type','restbps','max_heartrate','exang','oldpeak']]\n",
    "\n",
    "ya2 = df['heart_dx']\n",
    "\n",
    "\n",
    "X_train, X_test, y_train, y_test = train_test_split(Xa2, ya2, random_state=25) \n",
    "\n",
    "X_test.shape\n",
    "\n",
    "\n",
    "model5 = LogisticRegression()\n",
    "\n",
    "model5.fit(X_train, y_train)\n",
    "\n",
    "y_proba5 = model5.predict_proba(X_test)[:,1]\n",
    "\n",
    "y_pred5 = model5.predict(X_test)\n",
    "\n"
   ]
  },
  {
   "cell_type": "code",
   "execution_count": 64,
   "id": "e2916867",
   "metadata": {},
   "outputs": [
    {
     "data": {
      "text/html": [
       "<div>\n",
       "<style scoped>\n",
       "    .dataframe tbody tr th:only-of-type {\n",
       "        vertical-align: middle;\n",
       "    }\n",
       "\n",
       "    .dataframe tbody tr th {\n",
       "        vertical-align: top;\n",
       "    }\n",
       "\n",
       "    .dataframe thead th {\n",
       "        text-align: right;\n",
       "    }\n",
       "</style>\n",
       "<table border=\"1\" class=\"dataframe\">\n",
       "  <thead>\n",
       "    <tr style=\"text-align: right;\">\n",
       "      <th></th>\n",
       "      <th>predict: No Heart Disease</th>\n",
       "      <th>predict: Heart Disease</th>\n",
       "    </tr>\n",
       "  </thead>\n",
       "  <tbody>\n",
       "    <tr>\n",
       "      <th>true: No Heart Disease</th>\n",
       "      <td>33</td>\n",
       "      <td>4</td>\n",
       "    </tr>\n",
       "    <tr>\n",
       "      <th>true: Heart Disease</th>\n",
       "      <td>6</td>\n",
       "      <td>33</td>\n",
       "    </tr>\n",
       "  </tbody>\n",
       "</table>\n",
       "</div>"
      ],
      "text/plain": [
       "                        predict: No Heart Disease  predict: Heart Disease\n",
       "true: No Heart Disease                         33                       4\n",
       "true: Heart Disease                             6                      33"
      ]
     },
     "execution_count": 64,
     "metadata": {},
     "output_type": "execute_result"
    }
   ],
   "source": [
    "cm5 = metrics.confusion_matrix(y_test, y_pred5) \n",
    "\n",
    "df_cm5 = pd.DataFrame(data=cm5, columns=['predict: No Heart Disease', 'predict: Heart Disease'],\n",
    "                    index=['true: No Heart Disease', 'true: Heart Disease'])\n",
    "\n",
    "df_cm5"
   ]
  },
  {
   "cell_type": "code",
   "execution_count": 65,
   "id": "53147034",
   "metadata": {},
   "outputs": [
    {
     "name": "stdout",
     "output_type": "stream",
     "text": [
      "              precision    recall  f1-score   support\n",
      "\n",
      "           0       0.85      0.89      0.87        37\n",
      "           1       0.89      0.85      0.87        39\n",
      "\n",
      "    accuracy                           0.87        76\n",
      "   macro avg       0.87      0.87      0.87        76\n",
      "weighted avg       0.87      0.87      0.87        76\n",
      "\n"
     ]
    }
   ],
   "source": [
    "print(metrics.classification_report(y_test, y_pred5))"
   ]
  },
  {
   "cell_type": "code",
   "execution_count": null,
   "id": "529a3624",
   "metadata": {},
   "outputs": [],
   "source": []
  },
  {
   "cell_type": "code",
   "execution_count": 66,
   "id": "86fffbe4",
   "metadata": {},
   "outputs": [
    {
     "name": "stderr",
     "output_type": "stream",
     "text": [
      "/Users/ted/opt/anaconda3/lib/python3.9/site-packages/sklearn/linear_model/_logistic.py:814: ConvergenceWarning: lbfgs failed to converge (status=1):\n",
      "STOP: TOTAL NO. of ITERATIONS REACHED LIMIT.\n",
      "\n",
      "Increase the number of iterations (max_iter) or scale the data as shown in:\n",
      "    https://scikit-learn.org/stable/modules/preprocessing.html\n",
      "Please also refer to the documentation for alternative solver options:\n",
      "    https://scikit-learn.org/stable/modules/linear_model.html#logistic-regression\n",
      "  n_iter_i = _check_optimize_result(\n"
     ]
    }
   ],
   "source": [
    "Xa3 = df[['Age_med','sex','chest_pain_type','restbps','chol','max_heartrate','exang','oldpeak']]\n",
    "\n",
    "ya3 = df['heart_dx']\n",
    "\n",
    "\n",
    "X_train, X_test, y_train, y_test = train_test_split(Xa3, ya3, random_state=88) \n",
    "\n",
    "X_test.shape\n",
    "\n",
    "\n",
    "model6 = LogisticRegression()\n",
    "\n",
    "model6.fit(X_train, y_train)\n",
    "\n",
    "y_proba6 = model6.predict_proba(X_test)[:,1]\n",
    "\n",
    "y_pred6 = model6.predict(X_test)"
   ]
  },
  {
   "cell_type": "code",
   "execution_count": 67,
   "id": "8de54dbf",
   "metadata": {
    "scrolled": true
   },
   "outputs": [
    {
     "data": {
      "text/html": [
       "<div>\n",
       "<style scoped>\n",
       "    .dataframe tbody tr th:only-of-type {\n",
       "        vertical-align: middle;\n",
       "    }\n",
       "\n",
       "    .dataframe tbody tr th {\n",
       "        vertical-align: top;\n",
       "    }\n",
       "\n",
       "    .dataframe thead th {\n",
       "        text-align: right;\n",
       "    }\n",
       "</style>\n",
       "<table border=\"1\" class=\"dataframe\">\n",
       "  <thead>\n",
       "    <tr style=\"text-align: right;\">\n",
       "      <th></th>\n",
       "      <th>predict: No Heart Disease</th>\n",
       "      <th>predict: Heart Disease</th>\n",
       "    </tr>\n",
       "  </thead>\n",
       "  <tbody>\n",
       "    <tr>\n",
       "      <th>true: No Heart Disease</th>\n",
       "      <td>36</td>\n",
       "      <td>6</td>\n",
       "    </tr>\n",
       "    <tr>\n",
       "      <th>true: Heart Disease</th>\n",
       "      <td>9</td>\n",
       "      <td>25</td>\n",
       "    </tr>\n",
       "  </tbody>\n",
       "</table>\n",
       "</div>"
      ],
      "text/plain": [
       "                        predict: No Heart Disease  predict: Heart Disease\n",
       "true: No Heart Disease                         36                       6\n",
       "true: Heart Disease                             9                      25"
      ]
     },
     "execution_count": 67,
     "metadata": {},
     "output_type": "execute_result"
    }
   ],
   "source": [
    "cm6 = metrics.confusion_matrix(y_test, y_pred6) \n",
    "\n",
    "df_cm6 = pd.DataFrame(data=cm6, columns=['predict: No Heart Disease', 'predict: Heart Disease'],\n",
    "                    index=['true: No Heart Disease', 'true: Heart Disease'])\n",
    "\n",
    "df_cm6"
   ]
  },
  {
   "cell_type": "code",
   "execution_count": 68,
   "id": "60187f5a",
   "metadata": {},
   "outputs": [
    {
     "name": "stdout",
     "output_type": "stream",
     "text": [
      "              precision    recall  f1-score   support\n",
      "\n",
      "           0       0.80      0.86      0.83        42\n",
      "           1       0.81      0.74      0.77        34\n",
      "\n",
      "    accuracy                           0.80        76\n",
      "   macro avg       0.80      0.80      0.80        76\n",
      "weighted avg       0.80      0.80      0.80        76\n",
      "\n"
     ]
    }
   ],
   "source": [
    "print(metrics.classification_report(y_test, y_pred6))"
   ]
  },
  {
   "cell_type": "code",
   "execution_count": null,
   "id": "cd810071",
   "metadata": {},
   "outputs": [],
   "source": []
  },
  {
   "cell_type": "code",
   "execution_count": 69,
   "id": "26ccbf29",
   "metadata": {},
   "outputs": [],
   "source": [
    "# Need to perform cross val score to determine accuracy of the models selected attributes. \n",
    "#Then add some visualizations!"
   ]
  },
  {
   "cell_type": "code",
   "execution_count": null,
   "id": "61846724",
   "metadata": {},
   "outputs": [],
   "source": []
  },
  {
   "cell_type": "code",
   "execution_count": null,
   "id": "24310ade",
   "metadata": {},
   "outputs": [],
   "source": []
  },
  {
   "cell_type": "code",
   "execution_count": null,
   "id": "16d6223b",
   "metadata": {},
   "outputs": [],
   "source": []
  }
 ],
 "metadata": {
  "kernelspec": {
   "display_name": "Python 3 (ipykernel)",
   "language": "python",
   "name": "python3"
  },
  "language_info": {
   "codemirror_mode": {
    "name": "ipython",
    "version": 3
   },
   "file_extension": ".py",
   "mimetype": "text/x-python",
   "name": "python",
   "nbconvert_exporter": "python",
   "pygments_lexer": "ipython3",
   "version": "3.9.12"
  }
 },
 "nbformat": 4,
 "nbformat_minor": 5
}
