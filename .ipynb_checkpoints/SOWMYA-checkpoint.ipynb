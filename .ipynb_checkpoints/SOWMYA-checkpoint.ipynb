{
 "cells": [
  {
   "cell_type": "markdown",
   "id": "402566f2",
   "metadata": {},
   "source": [
    "# Analysis of Factors Affecting Cardiovascular Health Among Men and Women"
   ]
  },
  {
   "cell_type": "markdown",
   "id": "4731b1a0",
   "metadata": {},
   "source": [
    "## 1. Explore Data"
   ]
  },
  {
   "cell_type": "code",
   "execution_count": 1,
   "id": "1a910a8f",
   "metadata": {},
   "outputs": [],
   "source": [
    "import numpy as np\n",
    "import pandas as pd\n",
    "import matplotlib.pyplot as plt\n",
    "import seaborn as sns\n",
    "import statsmodels.formula.api as smf\n",
    "from sklearn.preprocessing import StandardScaler, FunctionTransformer, OneHotEncoder\n",
    "from sklearn.model_selection import train_test_split\n",
    "from sklearn.linear_model import LogisticRegression\n",
    "from sklearn import metrics"
   ]
  },
  {
   "cell_type": "code",
   "execution_count": 2,
   "id": "d9011ff7",
   "metadata": {},
   "outputs": [
    {
     "data": {
      "text/html": [
       "<div>\n",
       "<style scoped>\n",
       "    .dataframe tbody tr th:only-of-type {\n",
       "        vertical-align: middle;\n",
       "    }\n",
       "\n",
       "    .dataframe tbody tr th {\n",
       "        vertical-align: top;\n",
       "    }\n",
       "\n",
       "    .dataframe thead th {\n",
       "        text-align: right;\n",
       "    }\n",
       "</style>\n",
       "<table border=\"1\" class=\"dataframe\">\n",
       "  <thead>\n",
       "    <tr style=\"text-align: right;\">\n",
       "      <th></th>\n",
       "      <th>age</th>\n",
       "      <th>sex</th>\n",
       "      <th>chest_pain_type</th>\n",
       "      <th>restbps</th>\n",
       "      <th>chol</th>\n",
       "      <th>blood_sugar</th>\n",
       "      <th>restecg</th>\n",
       "      <th>max_heartrate</th>\n",
       "      <th>exang</th>\n",
       "      <th>oldpeak</th>\n",
       "      <th>slope</th>\n",
       "      <th>num_mjr_vess</th>\n",
       "      <th>thal</th>\n",
       "      <th>dx</th>\n",
       "    </tr>\n",
       "  </thead>\n",
       "  <tbody>\n",
       "    <tr>\n",
       "      <th>0</th>\n",
       "      <td>63.0</td>\n",
       "      <td>1.0</td>\n",
       "      <td>1.0</td>\n",
       "      <td>145.0</td>\n",
       "      <td>233.0</td>\n",
       "      <td>1.0</td>\n",
       "      <td>2.0</td>\n",
       "      <td>150.0</td>\n",
       "      <td>0.0</td>\n",
       "      <td>2.3</td>\n",
       "      <td>3.0</td>\n",
       "      <td>0.0</td>\n",
       "      <td>6.0</td>\n",
       "      <td>0</td>\n",
       "    </tr>\n",
       "    <tr>\n",
       "      <th>1</th>\n",
       "      <td>67.0</td>\n",
       "      <td>1.0</td>\n",
       "      <td>4.0</td>\n",
       "      <td>160.0</td>\n",
       "      <td>286.0</td>\n",
       "      <td>0.0</td>\n",
       "      <td>2.0</td>\n",
       "      <td>108.0</td>\n",
       "      <td>1.0</td>\n",
       "      <td>1.5</td>\n",
       "      <td>2.0</td>\n",
       "      <td>3.0</td>\n",
       "      <td>3.0</td>\n",
       "      <td>2</td>\n",
       "    </tr>\n",
       "    <tr>\n",
       "      <th>2</th>\n",
       "      <td>67.0</td>\n",
       "      <td>1.0</td>\n",
       "      <td>4.0</td>\n",
       "      <td>120.0</td>\n",
       "      <td>229.0</td>\n",
       "      <td>0.0</td>\n",
       "      <td>2.0</td>\n",
       "      <td>129.0</td>\n",
       "      <td>1.0</td>\n",
       "      <td>2.6</td>\n",
       "      <td>2.0</td>\n",
       "      <td>2.0</td>\n",
       "      <td>7.0</td>\n",
       "      <td>1</td>\n",
       "    </tr>\n",
       "  </tbody>\n",
       "</table>\n",
       "</div>"
      ],
      "text/plain": [
       "    age  sex  chest_pain_type  restbps   chol  blood_sugar  restecg  \\\n",
       "0  63.0  1.0              1.0    145.0  233.0          1.0      2.0   \n",
       "1  67.0  1.0              4.0    160.0  286.0          0.0      2.0   \n",
       "2  67.0  1.0              4.0    120.0  229.0          0.0      2.0   \n",
       "\n",
       "   max_heartrate  exang  oldpeak  slope num_mjr_vess thal  dx  \n",
       "0          150.0    0.0      2.3    3.0          0.0  6.0   0  \n",
       "1          108.0    1.0      1.5    2.0          3.0  3.0   2  \n",
       "2          129.0    1.0      2.6    2.0          2.0  7.0   1  "
      ]
     },
     "execution_count": 2,
     "metadata": {},
     "output_type": "execute_result"
    }
   ],
   "source": [
    "cn = ['age','sex','chest_pain_type','restbps','chol','blood_sugar','restecg','max_heartrate','exang','oldpeak','slope','num_mjr_vess','thal','dx']\n",
    "\n",
    "df = pd.read_csv('https://archive.ics.uci.edu/ml/machine-learning-databases/heart-disease/processed.cleveland.data', \n",
    "                 names=cn)\n",
    "df.head(3)\n"
   ]
  },
  {
   "cell_type": "code",
   "execution_count": 3,
   "id": "1e87386c",
   "metadata": {},
   "outputs": [
    {
     "data": {
      "text/plain": [
       "(303, 14)"
      ]
     },
     "execution_count": 3,
     "metadata": {},
     "output_type": "execute_result"
    }
   ],
   "source": [
    "df.shape"
   ]
  },
  {
   "cell_type": "code",
   "execution_count": 4,
   "id": "2fd09a8f",
   "metadata": {},
   "outputs": [
    {
     "data": {
      "text/plain": [
       "age                float64\n",
       "sex                float64\n",
       "chest_pain_type    float64\n",
       "restbps            float64\n",
       "chol               float64\n",
       "blood_sugar        float64\n",
       "restecg            float64\n",
       "max_heartrate      float64\n",
       "exang              float64\n",
       "oldpeak            float64\n",
       "slope              float64\n",
       "num_mjr_vess        object\n",
       "thal                object\n",
       "dx                   int64\n",
       "dtype: object"
      ]
     },
     "execution_count": 4,
     "metadata": {},
     "output_type": "execute_result"
    }
   ],
   "source": [
    "df.dtypes"
   ]
  },
  {
   "cell_type": "code",
   "execution_count": 6,
   "id": "a0aecc32",
   "metadata": {},
   "outputs": [
    {
     "data": {
      "text/html": [
       "<div>\n",
       "<style scoped>\n",
       "    .dataframe tbody tr th:only-of-type {\n",
       "        vertical-align: middle;\n",
       "    }\n",
       "\n",
       "    .dataframe tbody tr th {\n",
       "        vertical-align: top;\n",
       "    }\n",
       "\n",
       "    .dataframe thead th {\n",
       "        text-align: right;\n",
       "    }\n",
       "</style>\n",
       "<table border=\"1\" class=\"dataframe\">\n",
       "  <thead>\n",
       "    <tr style=\"text-align: right;\">\n",
       "      <th></th>\n",
       "      <th>age</th>\n",
       "      <th>sex</th>\n",
       "      <th>chest_pain_type</th>\n",
       "      <th>restbps</th>\n",
       "      <th>chol</th>\n",
       "      <th>blood_sugar</th>\n",
       "      <th>restecg</th>\n",
       "      <th>max_heartrate</th>\n",
       "      <th>exang</th>\n",
       "      <th>oldpeak</th>\n",
       "      <th>slope</th>\n",
       "      <th>num_mjr_vess</th>\n",
       "      <th>thal</th>\n",
       "      <th>dx</th>\n",
       "    </tr>\n",
       "  </thead>\n",
       "  <tbody>\n",
       "    <tr>\n",
       "      <th>87</th>\n",
       "      <td>53.0</td>\n",
       "      <td>0.0</td>\n",
       "      <td>3.0</td>\n",
       "      <td>128.0</td>\n",
       "      <td>216.0</td>\n",
       "      <td>0.0</td>\n",
       "      <td>2.0</td>\n",
       "      <td>115.0</td>\n",
       "      <td>0.0</td>\n",
       "      <td>0.0</td>\n",
       "      <td>1.0</td>\n",
       "      <td>0.0</td>\n",
       "      <td>?</td>\n",
       "      <td>0</td>\n",
       "    </tr>\n",
       "    <tr>\n",
       "      <th>166</th>\n",
       "      <td>52.0</td>\n",
       "      <td>1.0</td>\n",
       "      <td>3.0</td>\n",
       "      <td>138.0</td>\n",
       "      <td>223.0</td>\n",
       "      <td>0.0</td>\n",
       "      <td>0.0</td>\n",
       "      <td>169.0</td>\n",
       "      <td>0.0</td>\n",
       "      <td>0.0</td>\n",
       "      <td>1.0</td>\n",
       "      <td>?</td>\n",
       "      <td>3.0</td>\n",
       "      <td>0</td>\n",
       "    </tr>\n",
       "    <tr>\n",
       "      <th>192</th>\n",
       "      <td>43.0</td>\n",
       "      <td>1.0</td>\n",
       "      <td>4.0</td>\n",
       "      <td>132.0</td>\n",
       "      <td>247.0</td>\n",
       "      <td>1.0</td>\n",
       "      <td>2.0</td>\n",
       "      <td>143.0</td>\n",
       "      <td>1.0</td>\n",
       "      <td>0.1</td>\n",
       "      <td>2.0</td>\n",
       "      <td>?</td>\n",
       "      <td>7.0</td>\n",
       "      <td>1</td>\n",
       "    </tr>\n",
       "    <tr>\n",
       "      <th>266</th>\n",
       "      <td>52.0</td>\n",
       "      <td>1.0</td>\n",
       "      <td>4.0</td>\n",
       "      <td>128.0</td>\n",
       "      <td>204.0</td>\n",
       "      <td>1.0</td>\n",
       "      <td>0.0</td>\n",
       "      <td>156.0</td>\n",
       "      <td>1.0</td>\n",
       "      <td>1.0</td>\n",
       "      <td>2.0</td>\n",
       "      <td>0.0</td>\n",
       "      <td>?</td>\n",
       "      <td>2</td>\n",
       "    </tr>\n",
       "    <tr>\n",
       "      <th>287</th>\n",
       "      <td>58.0</td>\n",
       "      <td>1.0</td>\n",
       "      <td>2.0</td>\n",
       "      <td>125.0</td>\n",
       "      <td>220.0</td>\n",
       "      <td>0.0</td>\n",
       "      <td>0.0</td>\n",
       "      <td>144.0</td>\n",
       "      <td>0.0</td>\n",
       "      <td>0.4</td>\n",
       "      <td>2.0</td>\n",
       "      <td>?</td>\n",
       "      <td>7.0</td>\n",
       "      <td>0</td>\n",
       "    </tr>\n",
       "    <tr>\n",
       "      <th>302</th>\n",
       "      <td>38.0</td>\n",
       "      <td>1.0</td>\n",
       "      <td>3.0</td>\n",
       "      <td>138.0</td>\n",
       "      <td>175.0</td>\n",
       "      <td>0.0</td>\n",
       "      <td>0.0</td>\n",
       "      <td>173.0</td>\n",
       "      <td>0.0</td>\n",
       "      <td>0.0</td>\n",
       "      <td>1.0</td>\n",
       "      <td>?</td>\n",
       "      <td>3.0</td>\n",
       "      <td>0</td>\n",
       "    </tr>\n",
       "  </tbody>\n",
       "</table>\n",
       "</div>"
      ],
      "text/plain": [
       "      age  sex  chest_pain_type  restbps   chol  blood_sugar  restecg  \\\n",
       "87   53.0  0.0              3.0    128.0  216.0          0.0      2.0   \n",
       "166  52.0  1.0              3.0    138.0  223.0          0.0      0.0   \n",
       "192  43.0  1.0              4.0    132.0  247.0          1.0      2.0   \n",
       "266  52.0  1.0              4.0    128.0  204.0          1.0      0.0   \n",
       "287  58.0  1.0              2.0    125.0  220.0          0.0      0.0   \n",
       "302  38.0  1.0              3.0    138.0  175.0          0.0      0.0   \n",
       "\n",
       "     max_heartrate  exang  oldpeak  slope num_mjr_vess thal  dx  \n",
       "87           115.0    0.0      0.0    1.0          0.0    ?   0  \n",
       "166          169.0    0.0      0.0    1.0            ?  3.0   0  \n",
       "192          143.0    1.0      0.1    2.0            ?  7.0   1  \n",
       "266          156.0    1.0      1.0    2.0          0.0    ?   2  \n",
       "287          144.0    0.0      0.4    2.0            ?  7.0   0  \n",
       "302          173.0    0.0      0.0    1.0            ?  3.0   0  "
      ]
     },
     "execution_count": 6,
     "metadata": {},
     "output_type": "execute_result"
    }
   ],
   "source": [
    "      df[(df['age'] == '?') |\n",
    "                (df['sex'] == '?') |\n",
    "                (df['chest_pain_type'] == '?') |\n",
    "                (df['restbps'] == '?') |  \n",
    "                (df['chol'] == '?') |\n",
    "                 (df['chest_pain_type'] == '?') |\n",
    "                (df['restecg'] == '?') |\n",
    "                (df['max_heartrate'] == '?') |\n",
    "                (df['exang'] == '?') |\n",
    "                (df['oldpeak'] == '?') |\n",
    "                (df['slope'] == '?') |\n",
    "                (df['num_mjr_vess'] == '?') |\n",
    "                (df['thal'] == '?') |\n",
    "                (df['dx'] == '?')]"
   ]
  },
  {
   "cell_type": "code",
   "execution_count": 7,
   "id": "0bffe370",
   "metadata": {},
   "outputs": [],
   "source": [
    "df[(df=='?')] = np.nan"
   ]
  },
  {
   "cell_type": "code",
   "execution_count": 8,
   "id": "2236001d",
   "metadata": {},
   "outputs": [
    {
     "data": {
      "text/html": [
       "<div>\n",
       "<style scoped>\n",
       "    .dataframe tbody tr th:only-of-type {\n",
       "        vertical-align: middle;\n",
       "    }\n",
       "\n",
       "    .dataframe tbody tr th {\n",
       "        vertical-align: top;\n",
       "    }\n",
       "\n",
       "    .dataframe thead th {\n",
       "        text-align: right;\n",
       "    }\n",
       "</style>\n",
       "<table border=\"1\" class=\"dataframe\">\n",
       "  <thead>\n",
       "    <tr style=\"text-align: right;\">\n",
       "      <th></th>\n",
       "      <th>age</th>\n",
       "      <th>sex</th>\n",
       "      <th>chest_pain_type</th>\n",
       "      <th>restbps</th>\n",
       "      <th>chol</th>\n",
       "      <th>blood_sugar</th>\n",
       "      <th>restecg</th>\n",
       "      <th>max_heartrate</th>\n",
       "      <th>exang</th>\n",
       "      <th>oldpeak</th>\n",
       "      <th>slope</th>\n",
       "      <th>num_mjr_vess</th>\n",
       "      <th>thal</th>\n",
       "      <th>dx</th>\n",
       "    </tr>\n",
       "  </thead>\n",
       "  <tbody>\n",
       "  </tbody>\n",
       "</table>\n",
       "</div>"
      ],
      "text/plain": [
       "Empty DataFrame\n",
       "Columns: [age, sex, chest_pain_type, restbps, chol, blood_sugar, restecg, max_heartrate, exang, oldpeak, slope, num_mjr_vess, thal, dx]\n",
       "Index: []"
      ]
     },
     "execution_count": 8,
     "metadata": {},
     "output_type": "execute_result"
    }
   ],
   "source": [
    "   df[(df['age'] == '?') |\n",
    "                (df['sex'] == '?') |\n",
    "                (df['chest_pain_type'] == '?') |\n",
    "                (df['restbps'] == '?') |  \n",
    "                (df['chol'] == '?') |\n",
    "                 (df['chest_pain_type'] == '?') |\n",
    "                (df['restecg'] == '?') |\n",
    "                (df['max_heartrate'] == '?') |\n",
    "                (df['exang'] == '?') |\n",
    "                (df['oldpeak'] == '?') |\n",
    "                (df['slope'] == '?') |\n",
    "                (df['num_mjr_vess'] == '?') |\n",
    "                (df['thal'] == '?') |\n",
    "                (df['dx'] == '?')]"
   ]
  },
  {
   "cell_type": "code",
   "execution_count": 9,
   "id": "431f2bd8",
   "metadata": {},
   "outputs": [
    {
     "data": {
      "text/plain": [
       "age                0\n",
       "sex                0\n",
       "chest_pain_type    0\n",
       "restbps            0\n",
       "chol               0\n",
       "blood_sugar        0\n",
       "restecg            0\n",
       "max_heartrate      0\n",
       "exang              0\n",
       "oldpeak            0\n",
       "slope              0\n",
       "num_mjr_vess       4\n",
       "thal               2\n",
       "dx                 0\n",
       "dtype: int64"
      ]
     },
     "execution_count": 9,
     "metadata": {},
     "output_type": "execute_result"
    }
   ],
   "source": [
    "df.isna().sum()"
   ]
  },
  {
   "cell_type": "markdown",
   "id": "5650900f",
   "metadata": {},
   "source": [
    "## 2. Preprocess the data"
   ]
  },
  {
   "cell_type": "markdown",
   "id": "2f29a4ca",
   "metadata": {},
   "source": [
    "Since there are Nan values in columns num_mjr_vess and thal , dropping those columns for preprocessing"
   ]
  },
  {
   "cell_type": "code",
   "execution_count": 10,
   "id": "b3977fb8",
   "metadata": {},
   "outputs": [],
   "source": [
    "df.dropna(inplace=True)"
   ]
  },
  {
   "cell_type": "code",
   "execution_count": 11,
   "id": "e1438cc7",
   "metadata": {},
   "outputs": [
    {
     "data": {
      "text/plain": [
       "age                0\n",
       "sex                0\n",
       "chest_pain_type    0\n",
       "restbps            0\n",
       "chol               0\n",
       "blood_sugar        0\n",
       "restecg            0\n",
       "max_heartrate      0\n",
       "exang              0\n",
       "oldpeak            0\n",
       "slope              0\n",
       "num_mjr_vess       0\n",
       "thal               0\n",
       "dx                 0\n",
       "dtype: int64"
      ]
     },
     "execution_count": 11,
     "metadata": {},
     "output_type": "execute_result"
    }
   ],
   "source": [
    "df.isna().sum()"
   ]
  },
  {
   "cell_type": "markdown",
   "id": "00cf66fb",
   "metadata": {},
   "source": [
    "converting thal and num_mjr_vess to numeric datatype"
   ]
  },
  {
   "cell_type": "code",
   "execution_count": 12,
   "id": "beebaed0",
   "metadata": {},
   "outputs": [
    {
     "data": {
      "text/plain": [
       "age                float64\n",
       "sex                float64\n",
       "chest_pain_type    float64\n",
       "restbps            float64\n",
       "chol               float64\n",
       "blood_sugar        float64\n",
       "restecg            float64\n",
       "max_heartrate      float64\n",
       "exang              float64\n",
       "oldpeak            float64\n",
       "slope              float64\n",
       "num_mjr_vess       float64\n",
       "thal               float64\n",
       "dx                   int64\n",
       "dtype: object"
      ]
     },
     "execution_count": 12,
     "metadata": {},
     "output_type": "execute_result"
    }
   ],
   "source": [
    "df['thal'] = pd.to_numeric(df['thal'], errors='coerce')\n",
    "df['num_mjr_vess'] = pd.to_numeric(df['num_mjr_vess'], errors='coerce')\n",
    "df.dtypes\n"
   ]
  },
  {
   "cell_type": "markdown",
   "id": "d379c4c3",
   "metadata": {},
   "source": [
    "dx: diagnosis of heart disease (angiographic disease status).\n",
    "This column provides the severity of heart patient ranging from (0 to 4) where 0 is abcense of  heart disease and 4 is the highest severity of heart disease\n"
   ]
  },
  {
   "cell_type": "code",
   "execution_count": 13,
   "id": "9d9def32",
   "metadata": {},
   "outputs": [
    {
     "data": {
      "text/plain": [
       "0    160\n",
       "1     54\n",
       "2     35\n",
       "3     35\n",
       "4     13\n",
       "Name: dx, dtype: int64"
      ]
     },
     "execution_count": 13,
     "metadata": {},
     "output_type": "execute_result"
    }
   ],
   "source": [
    "df['dx'].value_counts()"
   ]
  },
  {
   "cell_type": "markdown",
   "id": "8f640cb5",
   "metadata": {},
   "source": [
    "To simplify our analysis we are creating other column named \"heart_dx\" based on \"dx\" where the values are 0 and 1 .\n",
    "0 = No heart disease\n",
    "1 = Has heart disease ( 1,2,3,4)"
   ]
  },
  {
   "cell_type": "code",
   "execution_count": 15,
   "id": "96e2711a",
   "metadata": {},
   "outputs": [
    {
     "data": {
      "text/plain": [
       "0    160\n",
       "1    137\n",
       "Name: heart_dx, dtype: int64"
      ]
     },
     "execution_count": 15,
     "metadata": {},
     "output_type": "execute_result"
    }
   ],
   "source": [
    "df['heart_dx'] = df['dx'].apply(lambda x: 1 if x >= 1 else 0)\n",
    "df['heart_dx'].value_counts()"
   ]
  },
  {
   "cell_type": "markdown",
   "id": "d46d7960",
   "metadata": {},
   "source": [
    "Creating specific columns for Men and Women to use in later analysis"
   ]
  },
  {
   "cell_type": "code",
   "execution_count": 16,
   "id": "64bd105c",
   "metadata": {},
   "outputs": [
    {
     "data": {
      "text/html": [
       "<div>\n",
       "<style scoped>\n",
       "    .dataframe tbody tr th:only-of-type {\n",
       "        vertical-align: middle;\n",
       "    }\n",
       "\n",
       "    .dataframe tbody tr th {\n",
       "        vertical-align: top;\n",
       "    }\n",
       "\n",
       "    .dataframe thead th {\n",
       "        text-align: right;\n",
       "    }\n",
       "</style>\n",
       "<table border=\"1\" class=\"dataframe\">\n",
       "  <thead>\n",
       "    <tr style=\"text-align: right;\">\n",
       "      <th></th>\n",
       "      <th>age</th>\n",
       "      <th>sex</th>\n",
       "      <th>chest_pain_type</th>\n",
       "      <th>restbps</th>\n",
       "      <th>chol</th>\n",
       "      <th>blood_sugar</th>\n",
       "      <th>restecg</th>\n",
       "      <th>max_heartrate</th>\n",
       "      <th>exang</th>\n",
       "      <th>oldpeak</th>\n",
       "      <th>slope</th>\n",
       "      <th>num_mjr_vess</th>\n",
       "      <th>thal</th>\n",
       "      <th>dx</th>\n",
       "      <th>heart_dx</th>\n",
       "      <th>Men</th>\n",
       "      <th>Women</th>\n",
       "    </tr>\n",
       "  </thead>\n",
       "  <tbody>\n",
       "    <tr>\n",
       "      <th>0</th>\n",
       "      <td>63.0</td>\n",
       "      <td>1.0</td>\n",
       "      <td>1.0</td>\n",
       "      <td>145.0</td>\n",
       "      <td>233.0</td>\n",
       "      <td>1.0</td>\n",
       "      <td>2.0</td>\n",
       "      <td>150.0</td>\n",
       "      <td>0.0</td>\n",
       "      <td>2.3</td>\n",
       "      <td>3.0</td>\n",
       "      <td>0.0</td>\n",
       "      <td>6.0</td>\n",
       "      <td>0</td>\n",
       "      <td>0</td>\n",
       "      <td>True</td>\n",
       "      <td>False</td>\n",
       "    </tr>\n",
       "    <tr>\n",
       "      <th>1</th>\n",
       "      <td>67.0</td>\n",
       "      <td>1.0</td>\n",
       "      <td>4.0</td>\n",
       "      <td>160.0</td>\n",
       "      <td>286.0</td>\n",
       "      <td>0.0</td>\n",
       "      <td>2.0</td>\n",
       "      <td>108.0</td>\n",
       "      <td>1.0</td>\n",
       "      <td>1.5</td>\n",
       "      <td>2.0</td>\n",
       "      <td>3.0</td>\n",
       "      <td>3.0</td>\n",
       "      <td>2</td>\n",
       "      <td>1</td>\n",
       "      <td>True</td>\n",
       "      <td>False</td>\n",
       "    </tr>\n",
       "    <tr>\n",
       "      <th>2</th>\n",
       "      <td>67.0</td>\n",
       "      <td>1.0</td>\n",
       "      <td>4.0</td>\n",
       "      <td>120.0</td>\n",
       "      <td>229.0</td>\n",
       "      <td>0.0</td>\n",
       "      <td>2.0</td>\n",
       "      <td>129.0</td>\n",
       "      <td>1.0</td>\n",
       "      <td>2.6</td>\n",
       "      <td>2.0</td>\n",
       "      <td>2.0</td>\n",
       "      <td>7.0</td>\n",
       "      <td>1</td>\n",
       "      <td>1</td>\n",
       "      <td>True</td>\n",
       "      <td>False</td>\n",
       "    </tr>\n",
       "    <tr>\n",
       "      <th>3</th>\n",
       "      <td>37.0</td>\n",
       "      <td>1.0</td>\n",
       "      <td>3.0</td>\n",
       "      <td>130.0</td>\n",
       "      <td>250.0</td>\n",
       "      <td>0.0</td>\n",
       "      <td>0.0</td>\n",
       "      <td>187.0</td>\n",
       "      <td>0.0</td>\n",
       "      <td>3.5</td>\n",
       "      <td>3.0</td>\n",
       "      <td>0.0</td>\n",
       "      <td>3.0</td>\n",
       "      <td>0</td>\n",
       "      <td>0</td>\n",
       "      <td>True</td>\n",
       "      <td>False</td>\n",
       "    </tr>\n",
       "    <tr>\n",
       "      <th>4</th>\n",
       "      <td>41.0</td>\n",
       "      <td>0.0</td>\n",
       "      <td>2.0</td>\n",
       "      <td>130.0</td>\n",
       "      <td>204.0</td>\n",
       "      <td>0.0</td>\n",
       "      <td>2.0</td>\n",
       "      <td>172.0</td>\n",
       "      <td>0.0</td>\n",
       "      <td>1.4</td>\n",
       "      <td>1.0</td>\n",
       "      <td>0.0</td>\n",
       "      <td>3.0</td>\n",
       "      <td>0</td>\n",
       "      <td>0</td>\n",
       "      <td>False</td>\n",
       "      <td>True</td>\n",
       "    </tr>\n",
       "  </tbody>\n",
       "</table>\n",
       "</div>"
      ],
      "text/plain": [
       "    age  sex  chest_pain_type  restbps   chol  blood_sugar  restecg  \\\n",
       "0  63.0  1.0              1.0    145.0  233.0          1.0      2.0   \n",
       "1  67.0  1.0              4.0    160.0  286.0          0.0      2.0   \n",
       "2  67.0  1.0              4.0    120.0  229.0          0.0      2.0   \n",
       "3  37.0  1.0              3.0    130.0  250.0          0.0      0.0   \n",
       "4  41.0  0.0              2.0    130.0  204.0          0.0      2.0   \n",
       "\n",
       "   max_heartrate  exang  oldpeak  slope  num_mjr_vess  thal  dx  heart_dx  \\\n",
       "0          150.0    0.0      2.3    3.0           0.0   6.0   0         0   \n",
       "1          108.0    1.0      1.5    2.0           3.0   3.0   2         1   \n",
       "2          129.0    1.0      2.6    2.0           2.0   7.0   1         1   \n",
       "3          187.0    0.0      3.5    3.0           0.0   3.0   0         0   \n",
       "4          172.0    0.0      1.4    1.0           0.0   3.0   0         0   \n",
       "\n",
       "     Men  Women  \n",
       "0   True  False  \n",
       "1   True  False  \n",
       "2   True  False  \n",
       "3   True  False  \n",
       "4  False   True  "
      ]
     },
     "execution_count": 16,
     "metadata": {},
     "output_type": "execute_result"
    }
   ],
   "source": [
    "df['Men'] = df['sex'] == 1 # Males\n",
    "df['Women'] = df['sex'] == 0 # Females\n",
    "df['Men'] = pd.to_numeric(df['Men'], errors='coerce')\n",
    "df['Women'] = pd.to_numeric(df['Women'], errors='coerce')\n",
    "df.head()"
   ]
  },
  {
   "cell_type": "markdown",
   "id": "f1d1b33d",
   "metadata": {},
   "source": [
    "## 3.LOGISTIC REGRESSION MODEL based on Sex"
   ]
  },
  {
   "cell_type": "markdown",
   "id": "9d99d6b4",
   "metadata": {},
   "source": [
    "### model_all - Logistic regression model comparing all attributes"
   ]
  },
  {
   "cell_type": "code",
   "execution_count": 17,
   "id": "92d547e2",
   "metadata": {},
   "outputs": [
    {
     "name": "stdout",
     "output_type": "stream",
     "text": [
      "Optimization terminated successfully.\n",
      "         Current function value: 0.420448\n",
      "         Iterations 7\n",
      "                           Logit Regression Results                           \n",
      "==============================================================================\n",
      "Dep. Variable:               heart_dx   No. Observations:                  297\n",
      "Model:                          Logit   Df Residuals:                      284\n",
      "Method:                           MLE   Df Model:                           12\n",
      "Date:                Thu, 08 Dec 2022   Pseudo R-squ.:                  0.3908\n",
      "Time:                        19:50:54   Log-Likelihood:                -124.87\n",
      "converged:                       True   LL-Null:                       -204.97\n",
      "Covariance Type:            nonrobust   LLR p-value:                 4.781e-28\n",
      "===================================================================================\n",
      "                      coef    std err          z      P>|z|      [0.025      0.975]\n",
      "-----------------------------------------------------------------------------------\n",
      "Intercept          -7.3797      3.174     -2.325      0.020     -13.601      -1.159\n",
      "age                 0.0303      0.038      0.800      0.424      -0.044       0.105\n",
      "sex                 2.4245      2.530      0.958      0.338      -2.534       7.383\n",
      "chest_pain_type     0.7901      0.179      4.417      0.000       0.440       1.141\n",
      "restbps             0.0196      0.010      2.025      0.043       0.001       0.039\n",
      "chol                0.0052      0.003      1.589      0.112      -0.001       0.012\n",
      "blood_sugar        -0.3127      0.455     -0.687      0.492      -1.204       0.579\n",
      "restecg             0.1981      0.166      1.195      0.232      -0.127       0.523\n",
      "max_heartrate      -0.0242      0.009     -2.637      0.008      -0.042      -0.006\n",
      "slope               0.3036      0.323      0.940      0.347      -0.330       0.937\n",
      "exang               0.9392      0.366      2.566      0.010       0.222       1.657\n",
      "oldpeak             0.4922      0.185      2.666      0.008       0.130       0.854\n",
      "age:sex            -0.0086      0.043     -0.197      0.844      -0.094       0.076\n",
      "===================================================================================\n"
     ]
    }
   ],
   "source": [
    "model_all = 'heart_dx ~ \\\n",
    "                 age + sex + chest_pain_type + restbps + chol + blood_sugar + \\\n",
    "                 restecg + max_heartrate + slope + exang + oldpeak + age:sex'\n",
    "\n",
    "result_all = smf.logit(formula=model_all, data=df).fit()\n",
    "print(result_all.summary())"
   ]
  },
  {
   "cell_type": "markdown",
   "id": "4ba4e8b2",
   "metadata": {},
   "source": [
    "We used above model to determine significant attributes considering alpha=0.05.Based on the results, we found that the significant factors are chest_pain_type, slope, num_mjr_vess, thal, restbps, and oldpeak."
   ]
  },
  {
   "cell_type": "markdown",
   "id": "f3300c0a",
   "metadata": {},
   "source": [
    "### model_1 - Logistic regression model on age, sex, chol, blood_sugar, restecg, slope, and age:sex interaction\n"
   ]
  },
  {
   "cell_type": "code",
   "execution_count": 18,
   "id": "ee79ffa4",
   "metadata": {},
   "outputs": [
    {
     "name": "stdout",
     "output_type": "stream",
     "text": [
      "Optimization terminated successfully.\n",
      "         Current function value: 0.473520\n",
      "         Iterations 6\n",
      "                           Logit Regression Results                           \n",
      "==============================================================================\n",
      "Dep. Variable:               heart_dx   No. Observations:                  297\n",
      "Model:                          Logit   Df Residuals:                      291\n",
      "Method:                           MLE   Df Model:                            5\n",
      "Date:                Thu, 08 Dec 2022   Pseudo R-squ.:                  0.3139\n",
      "Time:                        19:56:51   Log-Likelihood:                -140.64\n",
      "converged:                       True   LL-Null:                       -204.97\n",
      "Covariance Type:            nonrobust   LLR p-value:                 4.545e-26\n",
      "===================================================================================\n",
      "                      coef    std err          z      P>|z|      [0.025      0.975]\n",
      "-----------------------------------------------------------------------------------\n",
      "Intercept          -2.2496      1.760     -1.278      0.201      -5.699       1.199\n",
      "chest_pain_type     0.6866      0.169      4.056      0.000       0.355       1.018\n",
      "restbps             0.0172      0.009      1.938      0.053      -0.000       0.035\n",
      "max_heartrate      -0.0224      0.007     -3.051      0.002      -0.037      -0.008\n",
      "exang               1.0422      0.337      3.092      0.002       0.382       1.703\n",
      "oldpeak             0.6495      0.154      4.226      0.000       0.348       0.951\n",
      "===================================================================================\n"
     ]
    }
   ],
   "source": [
    "model_1 = 'heart_dx ~ chest_pain_type + restbps + max_heartrate + exang + oldpeak'\n",
    "result_1 = smf.logit(formula=model_1, data=df).fit()\n",
    "print(result_1.summary())"
   ]
  },
  {
   "cell_type": "markdown",
   "id": "6b43e011",
   "metadata": {},
   "source": [
    "From the above reults,it is shown that restbps was no longer considered a significant factor anymore. Therefore, it was removed from the next model, model_2."
   ]
  },
  {
   "cell_type": "markdown",
   "id": "b82fd0ed",
   "metadata": {},
   "source": [
    "### model_2¶- Logistic regression model on chest_pain_type, max_heartrate, exang, oldpeak"
   ]
  },
  {
   "cell_type": "code",
   "execution_count": 19,
   "id": "8876586a",
   "metadata": {},
   "outputs": [
    {
     "name": "stdout",
     "output_type": "stream",
     "text": [
      "Optimization terminated successfully.\n",
      "         Current function value: 0.479995\n",
      "         Iterations 6\n",
      "                           Logit Regression Results                           \n",
      "==============================================================================\n",
      "Dep. Variable:               heart_dx   No. Observations:                  297\n",
      "Model:                          Logit   Df Residuals:                      292\n",
      "Method:                           MLE   Df Model:                            4\n",
      "Date:                Thu, 08 Dec 2022   Pseudo R-squ.:                  0.3045\n",
      "Time:                        20:01:49   Log-Likelihood:                -142.56\n",
      "converged:                       True   LL-Null:                       -204.97\n",
      "Covariance Type:            nonrobust   LLR p-value:                 4.964e-26\n",
      "===================================================================================\n",
      "                      coef    std err          z      P>|z|      [0.025      0.975]\n",
      "-----------------------------------------------------------------------------------\n",
      "Intercept          -0.0356      1.329     -0.027      0.979      -2.640       2.569\n",
      "chest_pain_type     0.6610      0.168      3.929      0.000       0.331       0.991\n",
      "max_heartrate      -0.0219      0.007     -3.010      0.003      -0.036      -0.008\n",
      "exang               1.0666      0.333      3.206      0.001       0.415       1.719\n",
      "oldpeak             0.6859      0.151      4.539      0.000       0.390       0.982\n",
      "===================================================================================\n"
     ]
    }
   ],
   "source": [
    "model_2 = 'heart_dx ~ chest_pain_type + max_heartrate + exang + oldpeak'\n",
    "result_2 = smf.logit(formula=model_2, data=df).fit()\n",
    "print(result_2.summary())"
   ]
  },
  {
   "cell_type": "markdown",
   "id": "2751bbe1",
   "metadata": {},
   "source": [
    "# model_Men_all - Logistic regression model on Male comparing all attributes"
   ]
  },
  {
   "cell_type": "code",
   "execution_count": 20,
   "id": "63e366ed",
   "metadata": {},
   "outputs": [
    {
     "name": "stdout",
     "output_type": "stream",
     "text": [
      "Optimization terminated successfully.\n",
      "         Current function value: 0.420448\n",
      "         Iterations 7\n",
      "                           Logit Regression Results                           \n",
      "==============================================================================\n",
      "Dep. Variable:               heart_dx   No. Observations:                  297\n",
      "Model:                          Logit   Df Residuals:                      284\n",
      "Method:                           MLE   Df Model:                           12\n",
      "Date:                Thu, 08 Dec 2022   Pseudo R-squ.:                  0.3908\n",
      "Time:                        20:08:27   Log-Likelihood:                -124.87\n",
      "converged:                       True   LL-Null:                       -204.97\n",
      "Covariance Type:            nonrobust   LLR p-value:                 4.781e-28\n",
      "===================================================================================\n",
      "                      coef    std err          z      P>|z|      [0.025      0.975]\n",
      "-----------------------------------------------------------------------------------\n",
      "Intercept          -7.3797      3.174     -2.325      0.020     -13.601      -1.159\n",
      "Men[T.True]         2.4245      2.530      0.958      0.338      -2.534       7.383\n",
      "age                 0.0303      0.038      0.800      0.424      -0.044       0.105\n",
      "Men[T.True]:age    -0.0086      0.043     -0.197      0.844      -0.094       0.076\n",
      "chest_pain_type     0.7901      0.179      4.417      0.000       0.440       1.141\n",
      "restbps             0.0196      0.010      2.025      0.043       0.001       0.039\n",
      "chol                0.0052      0.003      1.589      0.112      -0.001       0.012\n",
      "blood_sugar        -0.3127      0.455     -0.687      0.492      -1.204       0.579\n",
      "restecg             0.1981      0.166      1.195      0.232      -0.127       0.523\n",
      "max_heartrate      -0.0242      0.009     -2.637      0.008      -0.042      -0.006\n",
      "slope               0.3036      0.323      0.940      0.347      -0.330       0.937\n",
      "exang               0.9392      0.366      2.566      0.010       0.222       1.657\n",
      "oldpeak             0.4922      0.185      2.666      0.008       0.130       0.854\n",
      "===================================================================================\n"
     ]
    }
   ],
   "source": [
    "model_Men_all = 'heart_dx ~ age + Men + \\\n",
    "                            chest_pain_type + restbps + chol + blood_sugar + \\\n",
    "                            restecg + max_heartrate + slope + exang + oldpeak + Men:age'\n",
    "\n",
    "result_men_all = smf.logit(formula=model_Men_all, data=df).fit()\n",
    "print(result_men_all.summary())\n"
   ]
  },
  {
   "cell_type": "markdown",
   "id": "d5c60d5c",
   "metadata": {},
   "source": [
    "The above model is used to determine significant factors for Men causing heart diseas considering alpha=0.05.\n",
    "Based on the results, we found that the significant factors are the same as the above models: chest pain type, max heartrate, restbps, exang, and oldpeak. \n",
    "Likewise, instead of an interaction effect on Age and Sex, I used Men (males) and Age as the interaction effect.\n",
    "It proved to have no significance either.\n",
    "It is also noticed thatage and sex are not a significant factor like model_all"
   ]
  },
  {
   "cell_type": "markdown",
   "id": "26fe3de7",
   "metadata": {},
   "source": [
    "### model_Men1 - Logistic regression model on age, male, chol, blood_sugar, restecg, slope, and male:sex interaction"
   ]
  },
  {
   "cell_type": "code",
   "execution_count": 24,
   "id": "2be39c39",
   "metadata": {},
   "outputs": [
    {
     "name": "stdout",
     "output_type": "stream",
     "text": [
      "Optimization terminated successfully.\n",
      "         Current function value: 0.477626\n",
      "         Iterations 6\n",
      "                           Logit Regression Results                           \n",
      "==============================================================================\n",
      "Dep. Variable:               heart_dx   No. Observations:                  201\n",
      "Model:                          Logit   Df Residuals:                      195\n",
      "Method:                           MLE   Df Model:                            5\n",
      "Date:                Thu, 08 Dec 2022   Pseudo R-squ.:                  0.3043\n",
      "Time:                        20:28:39   Log-Likelihood:                -96.003\n",
      "converged:                       True   LL-Null:                       -138.00\n",
      "Covariance Type:            nonrobust   LLR p-value:                 1.219e-16\n",
      "===================================================================================\n",
      "                      coef    std err          z      P>|z|      [0.025      0.975]\n",
      "-----------------------------------------------------------------------------------\n",
      "Intercept           0.9222      2.229      0.414      0.679      -3.447       5.292\n",
      "chest_pain_type     0.6680      0.189      3.536      0.000       0.298       1.038\n",
      "restbps             0.0134      0.011      1.229      0.219      -0.008       0.035\n",
      "max_heartrate      -0.0346      0.010     -3.538      0.000      -0.054      -0.015\n",
      "exang               0.5176      0.426      1.215      0.224      -0.317       1.352\n",
      "oldpeak             0.5179      0.179      2.889      0.004       0.167       0.869\n",
      "===================================================================================\n"
     ]
    }
   ],
   "source": [
    "model_Men1 = 'heart_dx ~ chest_pain_type + restbps + max_heartrate + exang + oldpeak'\n",
    "\n",
    "result_men1 = smf.logit(formula=model_Men1, data=df[df['Men'] == True]).fit()\n",
    "print(result_men1.summary())"
   ]
  },
  {
   "cell_type": "markdown",
   "id": "aff5942a",
   "metadata": {},
   "source": [
    "In the above model, all the insiginificant factors, including the interaction effect are removed.\n",
    "That left the following factors to be considered significant: Chest pain type, max heartrate, exang, and oldpeak. This is the same results as in Model_1. Removing the factor restbps as a factor before running the final model, model_Men2.\n"
   ]
  },
  {
   "cell_type": "markdown",
   "id": "d5de1993",
   "metadata": {},
   "source": [
    "### model_Men2 - Logistic regression model on Male, chest_pain_type, max_heartrate, exang, oldpeak"
   ]
  },
  {
   "cell_type": "code",
   "execution_count": 27,
   "id": "f3dd6063",
   "metadata": {},
   "outputs": [
    {
     "name": "stdout",
     "output_type": "stream",
     "text": [
      "Optimization terminated successfully.\n",
      "         Current function value: 0.481420\n",
      "         Iterations 6\n",
      "                           Logit Regression Results                           \n",
      "==============================================================================\n",
      "Dep. Variable:               heart_dx   No. Observations:                  201\n",
      "Model:                          Logit   Df Residuals:                      196\n",
      "Method:                           MLE   Df Model:                            4\n",
      "Date:                Thu, 08 Dec 2022   Pseudo R-squ.:                  0.2988\n",
      "Time:                        20:30:46   Log-Likelihood:                -96.765\n",
      "converged:                       True   LL-Null:                       -138.00\n",
      "Covariance Type:            nonrobust   LLR p-value:                 5.202e-17\n",
      "===================================================================================\n",
      "                      coef    std err          z      P>|z|      [0.025      0.975]\n",
      "-----------------------------------------------------------------------------------\n",
      "Intercept           2.7314      1.691      1.615      0.106      -0.583       6.046\n",
      "chest_pain_type     0.6330      0.186      3.412      0.001       0.269       0.997\n",
      "max_heartrate      -0.0344      0.010     -3.538      0.000      -0.053      -0.015\n",
      "exang               0.5044      0.422      1.195      0.232      -0.323       1.332\n",
      "oldpeak             0.5420      0.177      3.068      0.002       0.196       0.888\n",
      "===================================================================================\n"
     ]
    }
   ],
   "source": [
    "model_Men2 = 'heart_dx ~ chest_pain_type + max_heartrate + exang + oldpeak'\n",
    "result_men2 = smf.logit(formula=model_Men2, data=df[df['Men'] == True]).fit()\n",
    "print(result_men2.summary())"
   ]
  },
  {
   "cell_type": "markdown",
   "id": "bebab784",
   "metadata": {},
   "source": [
    "### model_W_all - Logistic regression model on Female comparing all attributes"
   ]
  },
  {
   "cell_type": "code",
   "execution_count": 28,
   "id": "6e2a3b6d",
   "metadata": {},
   "outputs": [
    {
     "name": "stdout",
     "output_type": "stream",
     "text": [
      "Optimization terminated successfully.\n",
      "         Current function value: 0.420448\n",
      "         Iterations 7\n",
      "                           Logit Regression Results                           \n",
      "==============================================================================\n",
      "Dep. Variable:               heart_dx   No. Observations:                  297\n",
      "Model:                          Logit   Df Residuals:                      284\n",
      "Method:                           MLE   Df Model:                           12\n",
      "Date:                Thu, 08 Dec 2022   Pseudo R-squ.:                  0.3908\n",
      "Time:                        20:34:51   Log-Likelihood:                -124.87\n",
      "converged:                       True   LL-Null:                       -204.97\n",
      "Covariance Type:            nonrobust   LLR p-value:                 4.781e-28\n",
      "=====================================================================================\n",
      "                        coef    std err          z      P>|z|      [0.025      0.975]\n",
      "-------------------------------------------------------------------------------------\n",
      "Intercept            -4.9552      2.488     -1.992      0.046      -9.832      -0.078\n",
      "Women[T.True]        -2.4245      2.530     -0.958      0.338      -7.383       2.534\n",
      "age                   0.0218      0.024      0.912      0.362      -0.025       0.069\n",
      "Women[T.True]:age     0.0086      0.043      0.197      0.844      -0.076       0.094\n",
      "chest_pain_type       0.7901      0.179      4.417      0.000       0.440       1.141\n",
      "restbps               0.0196      0.010      2.025      0.043       0.001       0.039\n",
      "chol                  0.0052      0.003      1.589      0.112      -0.001       0.012\n",
      "blood_sugar          -0.3127      0.455     -0.687      0.492      -1.204       0.579\n",
      "restecg               0.1981      0.166      1.195      0.232      -0.127       0.523\n",
      "max_heartrate        -0.0242      0.009     -2.637      0.008      -0.042      -0.006\n",
      "slope                 0.3036      0.323      0.940      0.347      -0.330       0.937\n",
      "exang                 0.9392      0.366      2.566      0.010       0.222       1.657\n",
      "oldpeak               0.4922      0.185      2.666      0.008       0.130       0.854\n",
      "=====================================================================================\n"
     ]
    }
   ],
   "source": [
    "model_W_all = 'heart_dx ~ age + Women + chest_pain_type + restbps + chol + blood_sugar + restecg + max_heartrate + slope + exang + oldpeak + Women:age'\n",
    "\n",
    "result_W_all = smf.logit(formula=model_W_all, data=df).fit()\n",
    "print(result_W_all.summary())"
   ]
  },
  {
   "cell_type": "markdown",
   "id": "b9d27b54",
   "metadata": {},
   "source": [
    "### model_W1 - Logistic regression model on age, women, chol, blood_sugar, restecg, slope, and male:sex interaction¶"
   ]
  },
  {
   "cell_type": "code",
   "execution_count": 29,
   "id": "fd6dd373",
   "metadata": {},
   "outputs": [
    {
     "name": "stdout",
     "output_type": "stream",
     "text": [
      "Optimization terminated successfully.\n",
      "         Current function value: 0.312217\n",
      "         Iterations 7\n",
      "                           Logit Regression Results                           \n",
      "==============================================================================\n",
      "Dep. Variable:               heart_dx   No. Observations:                   96\n",
      "Model:                          Logit   Df Residuals:                       90\n",
      "Method:                           MLE   Df Model:                            5\n",
      "Date:                Thu, 08 Dec 2022   Pseudo R-squ.:                  0.4556\n",
      "Time:                        20:36:14   Log-Likelihood:                -29.973\n",
      "converged:                       True   LL-Null:                       -55.055\n",
      "Covariance Type:            nonrobust   LLR p-value:                 1.282e-09\n",
      "===================================================================================\n",
      "                      coef    std err          z      P>|z|      [0.025      0.975]\n",
      "-----------------------------------------------------------------------------------\n",
      "Intercept          -8.4017      3.941     -2.132      0.033     -16.126      -0.678\n",
      "chest_pain_type     1.1008      0.492      2.237      0.025       0.136       2.065\n",
      "restbps             0.0383      0.020      1.911      0.056      -0.001       0.078\n",
      "max_heartrate      -0.0200      0.017     -1.183      0.237      -0.053       0.013\n",
      "exang               1.6114      0.740      2.178      0.029       0.161       3.062\n",
      "oldpeak             0.8920      0.371      2.403      0.016       0.165       1.619\n",
      "===================================================================================\n"
     ]
    }
   ],
   "source": [
    "model_W1 = 'heart_dx ~ chest_pain_type + restbps + max_heartrate + exang + oldpeak'\n",
    "\n",
    "result_W1 = smf.logit(formula=model_W1, data=df[df['Women'] == True]).fit()\n",
    "print(result_W1.summary())\n"
   ]
  },
  {
   "cell_type": "markdown",
   "id": "93c0b301",
   "metadata": {},
   "source": [
    "### model_W2 -  Logistic regression model on Women, chest_pain_type, max_heartrate, exang, oldpeak¶"
   ]
  },
  {
   "cell_type": "code",
   "execution_count": 31,
   "id": "88bb8dad",
   "metadata": {},
   "outputs": [
    {
     "name": "stdout",
     "output_type": "stream",
     "text": [
      "Optimization terminated successfully.\n",
      "         Current function value: 0.333756\n",
      "         Iterations 7\n",
      "                           Logit Regression Results                           \n",
      "==============================================================================\n",
      "Dep. Variable:               heart_dx   No. Observations:                   96\n",
      "Model:                          Logit   Df Residuals:                       91\n",
      "Method:                           MLE   Df Model:                            4\n",
      "Date:                Thu, 08 Dec 2022   Pseudo R-squ.:                  0.4180\n",
      "Time:                        20:37:11   Log-Likelihood:                -32.041\n",
      "converged:                       True   LL-Null:                       -55.055\n",
      "Covariance Type:            nonrobust   LLR p-value:                 2.429e-09\n",
      "===================================================================================\n",
      "                      coef    std err          z      P>|z|      [0.025      0.975]\n",
      "-----------------------------------------------------------------------------------\n",
      "Intercept          -3.8285      2.977     -1.286      0.198      -9.664       2.007\n",
      "chest_pain_type     1.0971      0.495      2.216      0.027       0.127       2.068\n",
      "max_heartrate      -0.0169      0.016     -1.053      0.293      -0.048       0.015\n",
      "exang               1.9182      0.703      2.729      0.006       0.540       3.296\n",
      "oldpeak             0.9561      0.348      2.750      0.006       0.275       1.638\n",
      "===================================================================================\n"
     ]
    }
   ],
   "source": [
    "model_W2 = 'heart_dx ~ chest_pain_type + max_heartrate + exang + oldpeak'\n",
    "\n",
    "result_W2 = smf.logit(formula=model_W2, data=df[df['Women'] == True]).fit()\n",
    "print(result_W2.summary())"
   ]
  },
  {
   "cell_type": "markdown",
   "id": "2ff70267",
   "metadata": {},
   "source": [
    "## 4 . Logistic Regression model based on Age group"
   ]
  }
 ],
 "metadata": {
  "kernelspec": {
   "display_name": "Python 3 (ipykernel)",
   "language": "python",
   "name": "python3"
  },
  "language_info": {
   "codemirror_mode": {
    "name": "ipython",
    "version": 3
   },
   "file_extension": ".py",
   "mimetype": "text/x-python",
   "name": "python",
   "nbconvert_exporter": "python",
   "pygments_lexer": "ipython3",
   "version": "3.9.12"
  }
 },
 "nbformat": 4,
 "nbformat_minor": 5
}
