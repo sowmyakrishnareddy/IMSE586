{
 "cells": [
  {
   "cell_type": "markdown",
   "id": "43b24bd0",
   "metadata": {},
   "source": [
    "# Analysis of Factors Affecting Cardiovascular Health Among Men and Women"
   ]
  },
  {
   "cell_type": "markdown",
   "id": "6fa0128e",
   "metadata": {},
   "source": [
    "## 1. Explore Data"
   ]
  },
  {
   "cell_type": "code",
   "execution_count": 1,
   "id": "8000775b",
   "metadata": {},
   "outputs": [],
   "source": [
    "import numpy as np\n",
    "import pandas as pd\n",
    "import matplotlib.pyplot as plt\n",
    "import seaborn as sns\n",
    "import statsmodels.formula.api as smf\n",
    "from sklearn.preprocessing import StandardScaler, FunctionTransformer, OneHotEncoder\n",
    "from sklearn.model_selection import train_test_split\n",
    "from sklearn.linear_model import LogisticRegression\n",
    "from sklearn import metrics"
   ]
  },
  {
   "cell_type": "code",
   "execution_count": 2,
   "id": "3c3661ee",
   "metadata": {},
   "outputs": [
    {
     "data": {
      "text/html": [
       "<div>\n",
       "<style scoped>\n",
       "    .dataframe tbody tr th:only-of-type {\n",
       "        vertical-align: middle;\n",
       "    }\n",
       "\n",
       "    .dataframe tbody tr th {\n",
       "        vertical-align: top;\n",
       "    }\n",
       "\n",
       "    .dataframe thead th {\n",
       "        text-align: right;\n",
       "    }\n",
       "</style>\n",
       "<table border=\"1\" class=\"dataframe\">\n",
       "  <thead>\n",
       "    <tr style=\"text-align: right;\">\n",
       "      <th></th>\n",
       "      <th>age</th>\n",
       "      <th>sex</th>\n",
       "      <th>chest_pain_type</th>\n",
       "      <th>restbps</th>\n",
       "      <th>chol</th>\n",
       "      <th>blood_sugar</th>\n",
       "      <th>restecg</th>\n",
       "      <th>max_heartrate</th>\n",
       "      <th>exang</th>\n",
       "      <th>oldpeak</th>\n",
       "      <th>slope</th>\n",
       "      <th>num_mjr_vess</th>\n",
       "      <th>thal</th>\n",
       "      <th>dx</th>\n",
       "    </tr>\n",
       "  </thead>\n",
       "  <tbody>\n",
       "    <tr>\n",
       "      <th>0</th>\n",
       "      <td>63.0</td>\n",
       "      <td>1.0</td>\n",
       "      <td>1.0</td>\n",
       "      <td>145.0</td>\n",
       "      <td>233.0</td>\n",
       "      <td>1.0</td>\n",
       "      <td>2.0</td>\n",
       "      <td>150.0</td>\n",
       "      <td>0.0</td>\n",
       "      <td>2.3</td>\n",
       "      <td>3.0</td>\n",
       "      <td>0.0</td>\n",
       "      <td>6.0</td>\n",
       "      <td>0</td>\n",
       "    </tr>\n",
       "    <tr>\n",
       "      <th>1</th>\n",
       "      <td>67.0</td>\n",
       "      <td>1.0</td>\n",
       "      <td>4.0</td>\n",
       "      <td>160.0</td>\n",
       "      <td>286.0</td>\n",
       "      <td>0.0</td>\n",
       "      <td>2.0</td>\n",
       "      <td>108.0</td>\n",
       "      <td>1.0</td>\n",
       "      <td>1.5</td>\n",
       "      <td>2.0</td>\n",
       "      <td>3.0</td>\n",
       "      <td>3.0</td>\n",
       "      <td>2</td>\n",
       "    </tr>\n",
       "    <tr>\n",
       "      <th>2</th>\n",
       "      <td>67.0</td>\n",
       "      <td>1.0</td>\n",
       "      <td>4.0</td>\n",
       "      <td>120.0</td>\n",
       "      <td>229.0</td>\n",
       "      <td>0.0</td>\n",
       "      <td>2.0</td>\n",
       "      <td>129.0</td>\n",
       "      <td>1.0</td>\n",
       "      <td>2.6</td>\n",
       "      <td>2.0</td>\n",
       "      <td>2.0</td>\n",
       "      <td>7.0</td>\n",
       "      <td>1</td>\n",
       "    </tr>\n",
       "  </tbody>\n",
       "</table>\n",
       "</div>"
      ],
      "text/plain": [
       "    age  sex  chest_pain_type  restbps   chol  blood_sugar  restecg  \\\n",
       "0  63.0  1.0              1.0    145.0  233.0          1.0      2.0   \n",
       "1  67.0  1.0              4.0    160.0  286.0          0.0      2.0   \n",
       "2  67.0  1.0              4.0    120.0  229.0          0.0      2.0   \n",
       "\n",
       "   max_heartrate  exang  oldpeak  slope num_mjr_vess thal  dx  \n",
       "0          150.0    0.0      2.3    3.0          0.0  6.0   0  \n",
       "1          108.0    1.0      1.5    2.0          3.0  3.0   2  \n",
       "2          129.0    1.0      2.6    2.0          2.0  7.0   1  "
      ]
     },
     "execution_count": 2,
     "metadata": {},
     "output_type": "execute_result"
    }
   ],
   "source": [
    "cn = ['age','sex','chest_pain_type','restbps','chol','blood_sugar','restecg','max_heartrate','exang','oldpeak','slope','num_mjr_vess','thal','dx']\n",
    "\n",
    "df = pd.read_csv('https://archive.ics.uci.edu/ml/machine-learning-databases/heart-disease/processed.cleveland.data', \n",
    "                 names=cn)\n",
    "df.head(3)\n"
   ]
  },
  {
   "cell_type": "code",
   "execution_count": 3,
   "id": "3169d397",
   "metadata": {},
   "outputs": [
    {
     "data": {
      "text/plain": [
       "(303, 14)"
      ]
     },
     "execution_count": 3,
     "metadata": {},
     "output_type": "execute_result"
    }
   ],
   "source": [
    "df.shape"
   ]
  },
  {
   "cell_type": "code",
   "execution_count": 4,
   "id": "9f467507",
   "metadata": {},
   "outputs": [
    {
     "data": {
      "text/plain": [
       "age                float64\n",
       "sex                float64\n",
       "chest_pain_type    float64\n",
       "restbps            float64\n",
       "chol               float64\n",
       "blood_sugar        float64\n",
       "restecg            float64\n",
       "max_heartrate      float64\n",
       "exang              float64\n",
       "oldpeak            float64\n",
       "slope              float64\n",
       "num_mjr_vess        object\n",
       "thal                object\n",
       "dx                   int64\n",
       "dtype: object"
      ]
     },
     "execution_count": 4,
     "metadata": {},
     "output_type": "execute_result"
    }
   ],
   "source": [
    "df.dtypes"
   ]
  },
  {
   "cell_type": "code",
   "execution_count": 5,
   "id": "a8e4d308",
   "metadata": {},
   "outputs": [
    {
     "data": {
      "text/html": [
       "<div>\n",
       "<style scoped>\n",
       "    .dataframe tbody tr th:only-of-type {\n",
       "        vertical-align: middle;\n",
       "    }\n",
       "\n",
       "    .dataframe tbody tr th {\n",
       "        vertical-align: top;\n",
       "    }\n",
       "\n",
       "    .dataframe thead th {\n",
       "        text-align: right;\n",
       "    }\n",
       "</style>\n",
       "<table border=\"1\" class=\"dataframe\">\n",
       "  <thead>\n",
       "    <tr style=\"text-align: right;\">\n",
       "      <th></th>\n",
       "      <th>age</th>\n",
       "      <th>sex</th>\n",
       "      <th>chest_pain_type</th>\n",
       "      <th>restbps</th>\n",
       "      <th>chol</th>\n",
       "      <th>blood_sugar</th>\n",
       "      <th>restecg</th>\n",
       "      <th>max_heartrate</th>\n",
       "      <th>exang</th>\n",
       "      <th>oldpeak</th>\n",
       "      <th>slope</th>\n",
       "      <th>num_mjr_vess</th>\n",
       "      <th>thal</th>\n",
       "      <th>dx</th>\n",
       "    </tr>\n",
       "  </thead>\n",
       "  <tbody>\n",
       "    <tr>\n",
       "      <th>87</th>\n",
       "      <td>53.0</td>\n",
       "      <td>0.0</td>\n",
       "      <td>3.0</td>\n",
       "      <td>128.0</td>\n",
       "      <td>216.0</td>\n",
       "      <td>0.0</td>\n",
       "      <td>2.0</td>\n",
       "      <td>115.0</td>\n",
       "      <td>0.0</td>\n",
       "      <td>0.0</td>\n",
       "      <td>1.0</td>\n",
       "      <td>0.0</td>\n",
       "      <td>?</td>\n",
       "      <td>0</td>\n",
       "    </tr>\n",
       "    <tr>\n",
       "      <th>166</th>\n",
       "      <td>52.0</td>\n",
       "      <td>1.0</td>\n",
       "      <td>3.0</td>\n",
       "      <td>138.0</td>\n",
       "      <td>223.0</td>\n",
       "      <td>0.0</td>\n",
       "      <td>0.0</td>\n",
       "      <td>169.0</td>\n",
       "      <td>0.0</td>\n",
       "      <td>0.0</td>\n",
       "      <td>1.0</td>\n",
       "      <td>?</td>\n",
       "      <td>3.0</td>\n",
       "      <td>0</td>\n",
       "    </tr>\n",
       "    <tr>\n",
       "      <th>192</th>\n",
       "      <td>43.0</td>\n",
       "      <td>1.0</td>\n",
       "      <td>4.0</td>\n",
       "      <td>132.0</td>\n",
       "      <td>247.0</td>\n",
       "      <td>1.0</td>\n",
       "      <td>2.0</td>\n",
       "      <td>143.0</td>\n",
       "      <td>1.0</td>\n",
       "      <td>0.1</td>\n",
       "      <td>2.0</td>\n",
       "      <td>?</td>\n",
       "      <td>7.0</td>\n",
       "      <td>1</td>\n",
       "    </tr>\n",
       "    <tr>\n",
       "      <th>266</th>\n",
       "      <td>52.0</td>\n",
       "      <td>1.0</td>\n",
       "      <td>4.0</td>\n",
       "      <td>128.0</td>\n",
       "      <td>204.0</td>\n",
       "      <td>1.0</td>\n",
       "      <td>0.0</td>\n",
       "      <td>156.0</td>\n",
       "      <td>1.0</td>\n",
       "      <td>1.0</td>\n",
       "      <td>2.0</td>\n",
       "      <td>0.0</td>\n",
       "      <td>?</td>\n",
       "      <td>2</td>\n",
       "    </tr>\n",
       "    <tr>\n",
       "      <th>287</th>\n",
       "      <td>58.0</td>\n",
       "      <td>1.0</td>\n",
       "      <td>2.0</td>\n",
       "      <td>125.0</td>\n",
       "      <td>220.0</td>\n",
       "      <td>0.0</td>\n",
       "      <td>0.0</td>\n",
       "      <td>144.0</td>\n",
       "      <td>0.0</td>\n",
       "      <td>0.4</td>\n",
       "      <td>2.0</td>\n",
       "      <td>?</td>\n",
       "      <td>7.0</td>\n",
       "      <td>0</td>\n",
       "    </tr>\n",
       "    <tr>\n",
       "      <th>302</th>\n",
       "      <td>38.0</td>\n",
       "      <td>1.0</td>\n",
       "      <td>3.0</td>\n",
       "      <td>138.0</td>\n",
       "      <td>175.0</td>\n",
       "      <td>0.0</td>\n",
       "      <td>0.0</td>\n",
       "      <td>173.0</td>\n",
       "      <td>0.0</td>\n",
       "      <td>0.0</td>\n",
       "      <td>1.0</td>\n",
       "      <td>?</td>\n",
       "      <td>3.0</td>\n",
       "      <td>0</td>\n",
       "    </tr>\n",
       "  </tbody>\n",
       "</table>\n",
       "</div>"
      ],
      "text/plain": [
       "      age  sex  chest_pain_type  restbps   chol  blood_sugar  restecg  \\\n",
       "87   53.0  0.0              3.0    128.0  216.0          0.0      2.0   \n",
       "166  52.0  1.0              3.0    138.0  223.0          0.0      0.0   \n",
       "192  43.0  1.0              4.0    132.0  247.0          1.0      2.0   \n",
       "266  52.0  1.0              4.0    128.0  204.0          1.0      0.0   \n",
       "287  58.0  1.0              2.0    125.0  220.0          0.0      0.0   \n",
       "302  38.0  1.0              3.0    138.0  175.0          0.0      0.0   \n",
       "\n",
       "     max_heartrate  exang  oldpeak  slope num_mjr_vess thal  dx  \n",
       "87           115.0    0.0      0.0    1.0          0.0    ?   0  \n",
       "166          169.0    0.0      0.0    1.0            ?  3.0   0  \n",
       "192          143.0    1.0      0.1    2.0            ?  7.0   1  \n",
       "266          156.0    1.0      1.0    2.0          0.0    ?   2  \n",
       "287          144.0    0.0      0.4    2.0            ?  7.0   0  \n",
       "302          173.0    0.0      0.0    1.0            ?  3.0   0  "
      ]
     },
     "execution_count": 5,
     "metadata": {},
     "output_type": "execute_result"
    }
   ],
   "source": [
    "      df[(df['age'] == '?') |\n",
    "                (df['sex'] == '?') |\n",
    "                (df['chest_pain_type'] == '?') |\n",
    "                (df['restbps'] == '?') |  \n",
    "                (df['chol'] == '?') |\n",
    "                 (df['chest_pain_type'] == '?') |\n",
    "                (df['restecg'] == '?') |\n",
    "                (df['max_heartrate'] == '?') |\n",
    "                (df['exang'] == '?') |\n",
    "                (df['oldpeak'] == '?') |\n",
    "                (df['slope'] == '?') |\n",
    "                (df['num_mjr_vess'] == '?') |\n",
    "                (df['thal'] == '?') |\n",
    "                (df['dx'] == '?')]"
   ]
  },
  {
   "cell_type": "code",
   "execution_count": 6,
   "id": "0fdce89d",
   "metadata": {},
   "outputs": [],
   "source": [
    "df[(df=='?')] = np.nan"
   ]
  },
  {
   "cell_type": "code",
   "execution_count": 7,
   "id": "d70d5b1b",
   "metadata": {},
   "outputs": [
    {
     "data": {
      "text/html": [
       "<div>\n",
       "<style scoped>\n",
       "    .dataframe tbody tr th:only-of-type {\n",
       "        vertical-align: middle;\n",
       "    }\n",
       "\n",
       "    .dataframe tbody tr th {\n",
       "        vertical-align: top;\n",
       "    }\n",
       "\n",
       "    .dataframe thead th {\n",
       "        text-align: right;\n",
       "    }\n",
       "</style>\n",
       "<table border=\"1\" class=\"dataframe\">\n",
       "  <thead>\n",
       "    <tr style=\"text-align: right;\">\n",
       "      <th></th>\n",
       "      <th>age</th>\n",
       "      <th>sex</th>\n",
       "      <th>chest_pain_type</th>\n",
       "      <th>restbps</th>\n",
       "      <th>chol</th>\n",
       "      <th>blood_sugar</th>\n",
       "      <th>restecg</th>\n",
       "      <th>max_heartrate</th>\n",
       "      <th>exang</th>\n",
       "      <th>oldpeak</th>\n",
       "      <th>slope</th>\n",
       "      <th>num_mjr_vess</th>\n",
       "      <th>thal</th>\n",
       "      <th>dx</th>\n",
       "    </tr>\n",
       "  </thead>\n",
       "  <tbody>\n",
       "  </tbody>\n",
       "</table>\n",
       "</div>"
      ],
      "text/plain": [
       "Empty DataFrame\n",
       "Columns: [age, sex, chest_pain_type, restbps, chol, blood_sugar, restecg, max_heartrate, exang, oldpeak, slope, num_mjr_vess, thal, dx]\n",
       "Index: []"
      ]
     },
     "execution_count": 7,
     "metadata": {},
     "output_type": "execute_result"
    }
   ],
   "source": [
    "   df[(df['age'] == '?') |\n",
    "                (df['sex'] == '?') |\n",
    "                (df['chest_pain_type'] == '?') |\n",
    "                (df['restbps'] == '?') |  \n",
    "                (df['chol'] == '?') |\n",
    "                 (df['chest_pain_type'] == '?') |\n",
    "                (df['restecg'] == '?') |\n",
    "                (df['max_heartrate'] == '?') |\n",
    "                (df['exang'] == '?') |\n",
    "                (df['oldpeak'] == '?') |\n",
    "                (df['slope'] == '?') |\n",
    "                (df['num_mjr_vess'] == '?') |\n",
    "                (df['thal'] == '?') |\n",
    "                (df['dx'] == '?')]"
   ]
  },
  {
   "cell_type": "code",
   "execution_count": 8,
   "id": "c9a80522",
   "metadata": {},
   "outputs": [
    {
     "data": {
      "text/plain": [
       "age                0\n",
       "sex                0\n",
       "chest_pain_type    0\n",
       "restbps            0\n",
       "chol               0\n",
       "blood_sugar        0\n",
       "restecg            0\n",
       "max_heartrate      0\n",
       "exang              0\n",
       "oldpeak            0\n",
       "slope              0\n",
       "num_mjr_vess       4\n",
       "thal               2\n",
       "dx                 0\n",
       "dtype: int64"
      ]
     },
     "execution_count": 8,
     "metadata": {},
     "output_type": "execute_result"
    }
   ],
   "source": [
    "df.isna().sum()"
   ]
  },
  {
   "cell_type": "markdown",
   "id": "c1139f90",
   "metadata": {},
   "source": [
    "## 2. Preprocess the data"
   ]
  },
  {
   "cell_type": "markdown",
   "id": "eda13ce2",
   "metadata": {},
   "source": [
    "Since there are Nan values in columns num_mjr_vess and thal , dropping those columns for preprocessing"
   ]
  },
  {
   "cell_type": "code",
   "execution_count": 9,
   "id": "0080c29b",
   "metadata": {},
   "outputs": [],
   "source": [
    "df.dropna(inplace=True)"
   ]
  },
  {
   "cell_type": "code",
   "execution_count": 10,
   "id": "fa9e403c",
   "metadata": {},
   "outputs": [
    {
     "data": {
      "text/plain": [
       "age                0\n",
       "sex                0\n",
       "chest_pain_type    0\n",
       "restbps            0\n",
       "chol               0\n",
       "blood_sugar        0\n",
       "restecg            0\n",
       "max_heartrate      0\n",
       "exang              0\n",
       "oldpeak            0\n",
       "slope              0\n",
       "num_mjr_vess       0\n",
       "thal               0\n",
       "dx                 0\n",
       "dtype: int64"
      ]
     },
     "execution_count": 10,
     "metadata": {},
     "output_type": "execute_result"
    }
   ],
   "source": [
    "df.isna().sum()"
   ]
  },
  {
   "cell_type": "markdown",
   "id": "8a4cef4b",
   "metadata": {},
   "source": [
    "converting thal and num_mjr_vess to numeric datatype"
   ]
  },
  {
   "cell_type": "code",
   "execution_count": 11,
   "id": "4a80f93d",
   "metadata": {},
   "outputs": [
    {
     "data": {
      "text/plain": [
       "age                float64\n",
       "sex                float64\n",
       "chest_pain_type    float64\n",
       "restbps            float64\n",
       "chol               float64\n",
       "blood_sugar        float64\n",
       "restecg            float64\n",
       "max_heartrate      float64\n",
       "exang              float64\n",
       "oldpeak            float64\n",
       "slope              float64\n",
       "num_mjr_vess       float64\n",
       "thal               float64\n",
       "dx                   int64\n",
       "dtype: object"
      ]
     },
     "execution_count": 11,
     "metadata": {},
     "output_type": "execute_result"
    }
   ],
   "source": [
    "df['thal'] = pd.to_numeric(df['thal'], errors='coerce')\n",
    "df['num_mjr_vess'] = pd.to_numeric(df['num_mjr_vess'], errors='coerce')\n",
    "df.dtypes\n"
   ]
  },
  {
   "cell_type": "markdown",
   "id": "0b08f779",
   "metadata": {},
   "source": [
    "dx: diagnosis of heart disease (angiographic disease status).\n",
    "This column provides the severity of heart patient ranging from (0 to 4) where 0 is abcense of  heart disease and 4 is the highest severity of heart disease\n"
   ]
  },
  {
   "cell_type": "code",
   "execution_count": 12,
   "id": "9063e89c",
   "metadata": {},
   "outputs": [
    {
     "data": {
      "text/plain": [
       "0    160\n",
       "1     54\n",
       "2     35\n",
       "3     35\n",
       "4     13\n",
       "Name: dx, dtype: int64"
      ]
     },
     "execution_count": 12,
     "metadata": {},
     "output_type": "execute_result"
    }
   ],
   "source": [
    "df['dx'].value_counts()"
   ]
  },
  {
   "cell_type": "markdown",
   "id": "c71275fa",
   "metadata": {},
   "source": [
    "To simplify our analysis we are creating other column named \"heart_dx\" based on \"dx\" where the values are 0 and 1 .\n",
    "0 = No heart disease\n",
    "1 = Has heart disease ( 1,2,3,4)"
   ]
  },
  {
   "cell_type": "code",
   "execution_count": 13,
   "id": "fa56e052",
   "metadata": {},
   "outputs": [
    {
     "data": {
      "text/plain": [
       "0    160\n",
       "1    137\n",
       "Name: heart_dx, dtype: int64"
      ]
     },
     "execution_count": 13,
     "metadata": {},
     "output_type": "execute_result"
    }
   ],
   "source": [
    "df['heart_dx'] = df['dx'].apply(lambda x: 1 if x >= 1 else 0)\n",
    "df['heart_dx'].value_counts()"
   ]
  },
  {
   "cell_type": "code",
   "execution_count": 14,
   "id": "0edb3b80",
   "metadata": {},
   "outputs": [
    {
     "data": {
      "image/png": "[encoded data removed]",
      "text/plain": [
       "<Figure size 360x360 with 1 Axes>"
      ]
     },
     "metadata": {
      "needs_background": "light"
     },
     "output_type": "display_data"
    }
   ],
   "source": [
    "#Histogram of people without heart disease vs people with heart disease\n",
    "plt.figure(figsize=(5,5))\n",
    "sns.histplot(data=df[\"heart_dx\"], alpha=0.5 ,color=\"blue\")\n",
    "plt.xlabel(\"Heart disease\",fontsize=12)\n",
    "plt.ylabel(\"People count\", fontsize=12)\n",
    "plt.title(\"Age Distribution\", fontsize=15)\n",
    "plt.show()"
   ]
  },
  {
   "cell_type": "code",
   "execution_count": 15,
   "id": "378db694",
   "metadata": {},
   "outputs": [
    {
     "data": {
      "image/png": "[encoded data removed]",
      "text/plain": [
       "<Figure size 360x360 with 1 Axes>"
      ]
     },
     "metadata": {
      "needs_background": "light"
     },
     "output_type": "display_data"
    }
   ],
   "source": [
    "plt.figure(figsize=(5,5))\n",
    "sns.boxplot (x=\"heart_dx\",y='age',data=df)\n",
    "plt.xlabel(\"heart_dx\",fontsize=12)\n",
    "plt.ylabel(\"age\", fontsize=12)\n",
    "plt.title(\"Effect of age on heart disease\", fontsize=15)\n",
    "plt.show()\n"
   ]
  },
  {
   "cell_type": "markdown",
   "id": "7cd27a4d",
   "metadata": {},
   "source": [
    "It is seen from the above diagram that a people of higher age has high probability of getting heart disease"
   ]
  },
  {
   "cell_type": "markdown",
   "id": "18f6aeea",
   "metadata": {},
   "source": [
    "Creating specific columns for Men and Women to use in later analysis"
   ]
  },
  {
   "cell_type": "code",
   "execution_count": 16,
   "id": "485af645",
   "metadata": {},
   "outputs": [
    {
     "data": {
      "text/plain": [
       "<AxesSubplot:>"
      ]
     },
     "execution_count": 16,
     "metadata": {},
     "output_type": "execute_result"
    },
    {
     "data": {
      "image/png": "[encoded data removed]",
      "text/plain": [
       "<Figure size 1440x864 with 2 Axes>"
      ]
     },
     "metadata": {
      "needs_background": "light"
     },
     "output_type": "display_data"
    }
   ],
   "source": [
    "plt.figure( figsize = (20, 12) )\n",
    "sns.heatmap(df.corr(), annot=True, fmt=\".3f\")"
   ]
  },
  {
   "cell_type": "code",
   "execution_count": 17,
   "id": "0a1e902d",
   "metadata": {},
   "outputs": [
    {
     "data": {
      "text/html": [
       "<div>\n",
       "<style scoped>\n",
       "    .dataframe tbody tr th:only-of-type {\n",
       "        vertical-align: middle;\n",
       "    }\n",
       "\n",
       "    .dataframe tbody tr th {\n",
       "        vertical-align: top;\n",
       "    }\n",
       "\n",
       "    .dataframe thead th {\n",
       "        text-align: right;\n",
       "    }\n",
       "</style>\n",
       "<table border=\"1\" class=\"dataframe\">\n",
       "  <thead>\n",
       "    <tr style=\"text-align: right;\">\n",
       "      <th></th>\n",
       "      <th>age</th>\n",
       "      <th>sex</th>\n",
       "      <th>chest_pain_type</th>\n",
       "      <th>restbps</th>\n",
       "      <th>chol</th>\n",
       "      <th>blood_sugar</th>\n",
       "      <th>restecg</th>\n",
       "      <th>max_heartrate</th>\n",
       "      <th>exang</th>\n",
       "      <th>oldpeak</th>\n",
       "      <th>slope</th>\n",
       "      <th>num_mjr_vess</th>\n",
       "      <th>thal</th>\n",
       "      <th>dx</th>\n",
       "      <th>heart_dx</th>\n",
       "      <th>Men</th>\n",
       "      <th>Women</th>\n",
       "    </tr>\n",
       "  </thead>\n",
       "  <tbody>\n",
       "    <tr>\n",
       "      <th>0</th>\n",
       "      <td>63.0</td>\n",
       "      <td>1.0</td>\n",
       "      <td>1.0</td>\n",
       "      <td>145.0</td>\n",
       "      <td>233.0</td>\n",
       "      <td>1.0</td>\n",
       "      <td>2.0</td>\n",
       "      <td>150.0</td>\n",
       "      <td>0.0</td>\n",
       "      <td>2.3</td>\n",
       "      <td>3.0</td>\n",
       "      <td>0.0</td>\n",
       "      <td>6.0</td>\n",
       "      <td>0</td>\n",
       "      <td>0</td>\n",
       "      <td>True</td>\n",
       "      <td>False</td>\n",
       "    </tr>\n",
       "    <tr>\n",
       "      <th>1</th>\n",
       "      <td>67.0</td>\n",
       "      <td>1.0</td>\n",
       "      <td>4.0</td>\n",
       "      <td>160.0</td>\n",
       "      <td>286.0</td>\n",
       "      <td>0.0</td>\n",
       "      <td>2.0</td>\n",
       "      <td>108.0</td>\n",
       "      <td>1.0</td>\n",
       "      <td>1.5</td>\n",
       "      <td>2.0</td>\n",
       "      <td>3.0</td>\n",
       "      <td>3.0</td>\n",
       "      <td>2</td>\n",
       "      <td>1</td>\n",
       "      <td>True</td>\n",
       "      <td>False</td>\n",
       "    </tr>\n",
       "    <tr>\n",
       "      <th>2</th>\n",
       "      <td>67.0</td>\n",
       "      <td>1.0</td>\n",
       "      <td>4.0</td>\n",
       "      <td>120.0</td>\n",
       "      <td>229.0</td>\n",
       "      <td>0.0</td>\n",
       "      <td>2.0</td>\n",
       "      <td>129.0</td>\n",
       "      <td>1.0</td>\n",
       "      <td>2.6</td>\n",
       "      <td>2.0</td>\n",
       "      <td>2.0</td>\n",
       "      <td>7.0</td>\n",
       "      <td>1</td>\n",
       "      <td>1</td>\n",
       "      <td>True</td>\n",
       "      <td>False</td>\n",
       "    </tr>\n",
       "    <tr>\n",
       "      <th>3</th>\n",
       "      <td>37.0</td>\n",
       "      <td>1.0</td>\n",
       "      <td>3.0</td>\n",
       "      <td>130.0</td>\n",
       "      <td>250.0</td>\n",
       "      <td>0.0</td>\n",
       "      <td>0.0</td>\n",
       "      <td>187.0</td>\n",
       "      <td>0.0</td>\n",
       "      <td>3.5</td>\n",
       "      <td>3.0</td>\n",
       "      <td>0.0</td>\n",
       "      <td>3.0</td>\n",
       "      <td>0</td>\n",
       "      <td>0</td>\n",
       "      <td>True</td>\n",
       "      <td>False</td>\n",
       "    </tr>\n",
       "    <tr>\n",
       "      <th>4</th>\n",
       "      <td>41.0</td>\n",
       "      <td>0.0</td>\n",
       "      <td>2.0</td>\n",
       "      <td>130.0</td>\n",
       "      <td>204.0</td>\n",
       "      <td>0.0</td>\n",
       "      <td>2.0</td>\n",
       "      <td>172.0</td>\n",
       "      <td>0.0</td>\n",
       "      <td>1.4</td>\n",
       "      <td>1.0</td>\n",
       "      <td>0.0</td>\n",
       "      <td>3.0</td>\n",
       "      <td>0</td>\n",
       "      <td>0</td>\n",
       "      <td>False</td>\n",
       "      <td>True</td>\n",
       "    </tr>\n",
       "  </tbody>\n",
       "</table>\n",
       "</div>"
      ],
      "text/plain": [
       "    age  sex  chest_pain_type  restbps   chol  blood_sugar  restecg  \\\n",
       "0  63.0  1.0              1.0    145.0  233.0          1.0      2.0   \n",
       "1  67.0  1.0              4.0    160.0  286.0          0.0      2.0   \n",
       "2  67.0  1.0              4.0    120.0  229.0          0.0      2.0   \n",
       "3  37.0  1.0              3.0    130.0  250.0          0.0      0.0   \n",
       "4  41.0  0.0              2.0    130.0  204.0          0.0      2.0   \n",
       "\n",
       "   max_heartrate  exang  oldpeak  slope  num_mjr_vess  thal  dx  heart_dx  \\\n",
       "0          150.0    0.0      2.3    3.0           0.0   6.0   0         0   \n",
       "1          108.0    1.0      1.5    2.0           3.0   3.0   2         1   \n",
       "2          129.0    1.0      2.6    2.0           2.0   7.0   1         1   \n",
       "3          187.0    0.0      3.5    3.0           0.0   3.0   0         0   \n",
       "4          172.0    0.0      1.4    1.0           0.0   3.0   0         0   \n",
       "\n",
       "     Men  Women  \n",
       "0   True  False  \n",
       "1   True  False  \n",
       "2   True  False  \n",
       "3   True  False  \n",
       "4  False   True  "
      ]
     },
     "execution_count": 17,
     "metadata": {},
     "output_type": "execute_result"
    }
   ],
   "source": [
    "df['Men'] = df['sex'] == 1 # Males\n",
    "df['Women'] = df['sex'] == 0 # Females\n",
    "df['Men'] = pd.to_numeric(df['Men'], errors='coerce')\n",
    "df['Women'] = pd.to_numeric(df['Women'], errors='coerce')\n",
    "df.head()"
   ]
  },
  {
   "cell_type": "markdown",
   "id": "2fba20f7",
   "metadata": {},
   "source": [
    "## 3.LOGISTIC REGRESSION MODEL based on Sex"
   ]
  },
  {
   "cell_type": "markdown",
   "id": "8ee20302",
   "metadata": {},
   "source": [
    "### model_all - Logistic regression model comparing all attributes"
   ]
  },
  {
   "cell_type": "code",
   "execution_count": 18,
   "id": "d6015e77",
   "metadata": {},
   "outputs": [
    {
     "name": "stdout",
     "output_type": "stream",
     "text": [
      "Optimization terminated successfully.\n",
      "         Current function value: 0.420448\n",
      "         Iterations 7\n",
      "                           Logit Regression Results                           \n",
      "==============================================================================\n",
      "Dep. Variable:               heart_dx   No. Observations:                  297\n",
      "Model:                          Logit   Df Residuals:                      284\n",
      "Method:                           MLE   Df Model:                           12\n",
      "Date:                Sun, 11 Dec 2022   Pseudo R-squ.:                  0.3908\n",
      "Time:                        18:27:17   Log-Likelihood:                -124.87\n",
      "converged:                       True   LL-Null:                       -204.97\n",
      "Covariance Type:            nonrobust   LLR p-value:                 4.781e-28\n",
      "===================================================================================\n",
      "                      coef    std err          z      P>|z|      [0.025      0.975]\n",
      "-----------------------------------------------------------------------------------\n",
      "Intercept          -7.3797      3.174     -2.325      0.020     -13.601      -1.159\n",
      "age                 0.0303      0.038      0.800      0.424      -0.044       0.105\n",
      "sex                 2.4245      2.530      0.958      0.338      -2.534       7.383\n",
      "chest_pain_type     0.7901      0.179      4.417      0.000       0.440       1.141\n",
      "restbps             0.0196      0.010      2.025      0.043       0.001       0.039\n",
      "chol                0.0052      0.003      1.589      0.112      -0.001       0.012\n",
      "blood_sugar        -0.3127      0.455     -0.687      0.492      -1.204       0.579\n",
      "restecg             0.1981      0.166      1.195      0.232      -0.127       0.523\n",
      "max_heartrate      -0.0242      0.009     -2.637      0.008      -0.042      -0.006\n",
      "slope               0.3036      0.323      0.940      0.347      -0.330       0.937\n",
      "exang               0.9392      0.366      2.566      0.010       0.222       1.657\n",
      "oldpeak             0.4922      0.185      2.666      0.008       0.130       0.854\n",
      "age:sex            -0.0086      0.043     -0.197      0.844      -0.094       0.076\n",
      "===================================================================================\n"
     ]
    }
   ],
   "source": [
    "model_all = 'heart_dx ~ \\\n",
    "                 age + sex + chest_pain_type + restbps + chol + blood_sugar + \\\n",
    "                 restecg + max_heartrate + slope + exang + oldpeak + age:sex'\n",
    "\n",
    "result_all = smf.logit(formula=model_all, data=df).fit()\n",
    "print(result_all.summary())"
   ]
  },
  {
   "cell_type": "markdown",
   "id": "0be36579",
   "metadata": {},
   "source": [
    "We used above model to determine significant attributes considering alpha=0.05.Based on the results, we found that the significant factors are chest_pain_type, slope, num_mjr_vess, thal, restbps, and oldpeak."
   ]
  },
  {
   "cell_type": "markdown",
   "id": "4f6b2747",
   "metadata": {},
   "source": [
    "### model_1 - Logistic regression model on age, sex, chol, blood_sugar, restecg, slope, and age:sex interaction\n"
   ]
  },
  {
   "cell_type": "code",
   "execution_count": 19,
   "id": "bebe176b",
   "metadata": {},
   "outputs": [
    {
     "name": "stdout",
     "output_type": "stream",
     "text": [
      "Optimization terminated successfully.\n",
      "         Current function value: 0.473520\n",
      "         Iterations 6\n",
      "                           Logit Regression Results                           \n",
      "==============================================================================\n",
      "Dep. Variable:               heart_dx   No. Observations:                  297\n",
      "Model:                          Logit   Df Residuals:                      291\n",
      "Method:                           MLE   Df Model:                            5\n",
      "Date:                Sun, 11 Dec 2022   Pseudo R-squ.:                  0.3139\n",
      "Time:                        18:27:17   Log-Likelihood:                -140.64\n",
      "converged:                       True   LL-Null:                       -204.97\n",
      "Covariance Type:            nonrobust   LLR p-value:                 4.545e-26\n",
      "===================================================================================\n",
      "                      coef    std err          z      P>|z|      [0.025      0.975]\n",
      "-----------------------------------------------------------------------------------\n",
      "Intercept          -2.2496      1.760     -1.278      0.201      -5.699       1.199\n",
      "chest_pain_type     0.6866      0.169      4.056      0.000       0.355       1.018\n",
      "restbps             0.0172      0.009      1.938      0.053      -0.000       0.035\n",
      "max_heartrate      -0.0224      0.007     -3.051      0.002      -0.037      -0.008\n",
      "exang               1.0422      0.337      3.092      0.002       0.382       1.703\n",
      "oldpeak             0.6495      0.154      4.226      0.000       0.348       0.951\n",
      "===================================================================================\n"
     ]
    }
   ],
   "source": [
    "model_1 = 'heart_dx ~ chest_pain_type + restbps + max_heartrate + exang + oldpeak'\n",
    "result_1 = smf.logit(formula=model_1, data=df).fit()\n",
    "print(result_1.summary())"
   ]
  },
  {
   "cell_type": "markdown",
   "id": "edb88154",
   "metadata": {},
   "source": [
    "From the above reults,it is shown that restbps was no longer considered a significant factor anymore. Therefore, it was removed from the next model, model_2."
   ]
  },
  {
   "cell_type": "markdown",
   "id": "226dc511",
   "metadata": {},
   "source": [
    "### model_2¶- Logistic regression model on chest_pain_type, max_heartrate, exang, oldpeak"
   ]
  },
  {
   "cell_type": "code",
   "execution_count": 20,
   "id": "e40fe354",
   "metadata": {},
   "outputs": [
    {
     "name": "stdout",
     "output_type": "stream",
     "text": [
      "Optimization terminated successfully.\n",
      "         Current function value: 0.479995\n",
      "         Iterations 6\n",
      "                           Logit Regression Results                           \n",
      "==============================================================================\n",
      "Dep. Variable:               heart_dx   No. Observations:                  297\n",
      "Model:                          Logit   Df Residuals:                      292\n",
      "Method:                           MLE   Df Model:                            4\n",
      "Date:                Sun, 11 Dec 2022   Pseudo R-squ.:                  0.3045\n",
      "Time:                        18:27:17   Log-Likelihood:                -142.56\n",
      "converged:                       True   LL-Null:                       -204.97\n",
      "Covariance Type:            nonrobust   LLR p-value:                 4.964e-26\n",
      "===================================================================================\n",
      "                      coef    std err          z      P>|z|      [0.025      0.975]\n",
      "-----------------------------------------------------------------------------------\n",
      "Intercept          -0.0356      1.329     -0.027      0.979      -2.640       2.569\n",
      "chest_pain_type     0.6610      0.168      3.929      0.000       0.331       0.991\n",
      "max_heartrate      -0.0219      0.007     -3.010      0.003      -0.036      -0.008\n",
      "exang               1.0666      0.333      3.206      0.001       0.415       1.719\n",
      "oldpeak             0.6859      0.151      4.539      0.000       0.390       0.982\n",
      "===================================================================================\n"
     ]
    }
   ],
   "source": [
    "model_2 = 'heart_dx ~ chest_pain_type + max_heartrate + exang + oldpeak'\n",
    "result_2 = smf.logit(formula=model_2, data=df).fit()\n",
    "print(result_2.summary())"
   ]
  },
  {
   "cell_type": "markdown",
   "id": "a01c9c67",
   "metadata": {},
   "source": [
    "# model_Men_all - Logistic regression model on Male comparing all attributes"
   ]
  },
  {
   "cell_type": "code",
   "execution_count": 21,
   "id": "c77fc893",
   "metadata": {},
   "outputs": [
    {
     "name": "stdout",
     "output_type": "stream",
     "text": [
      "Optimization terminated successfully.\n",
      "         Current function value: 0.420448\n",
      "         Iterations 7\n",
      "                           Logit Regression Results                           \n",
      "==============================================================================\n",
      "Dep. Variable:               heart_dx   No. Observations:                  297\n",
      "Model:                          Logit   Df Residuals:                      284\n",
      "Method:                           MLE   Df Model:                           12\n",
      "Date:                Sun, 11 Dec 2022   Pseudo R-squ.:                  0.3908\n",
      "Time:                        18:27:17   Log-Likelihood:                -124.87\n",
      "converged:                       True   LL-Null:                       -204.97\n",
      "Covariance Type:            nonrobust   LLR p-value:                 4.781e-28\n",
      "===================================================================================\n",
      "                      coef    std err          z      P>|z|      [0.025      0.975]\n",
      "-----------------------------------------------------------------------------------\n",
      "Intercept          -7.3797      3.174     -2.325      0.020     -13.601      -1.159\n",
      "Men[T.True]         2.4245      2.530      0.958      0.338      -2.534       7.383\n",
      "age                 0.0303      0.038      0.800      0.424      -0.044       0.105\n",
      "Men[T.True]:age    -0.0086      0.043     -0.197      0.844      -0.094       0.076\n",
      "chest_pain_type     0.7901      0.179      4.417      0.000       0.440       1.141\n",
      "restbps             0.0196      0.010      2.025      0.043       0.001       0.039\n",
      "chol                0.0052      0.003      1.589      0.112      -0.001       0.012\n",
      "blood_sugar        -0.3127      0.455     -0.687      0.492      -1.204       0.579\n",
      "restecg             0.1981      0.166      1.195      0.232      -0.127       0.523\n",
      "max_heartrate      -0.0242      0.009     -2.637      0.008      -0.042      -0.006\n",
      "slope               0.3036      0.323      0.940      0.347      -0.330       0.937\n",
      "exang               0.9392      0.366      2.566      0.010       0.222       1.657\n",
      "oldpeak             0.4922      0.185      2.666      0.008       0.130       0.854\n",
      "===================================================================================\n"
     ]
    }
   ],
   "source": [
    "model_Men_all = 'heart_dx ~ age + Men + \\\n",
    "                            chest_pain_type + restbps + chol + blood_sugar + \\\n",
    "                            restecg + max_heartrate + slope + exang + oldpeak + Men:age'\n",
    "\n",
    "result_men_all = smf.logit(formula=model_Men_all, data=df).fit()\n",
    "print(result_men_all.summary())\n"
   ]
  },
  {
   "cell_type": "markdown",
   "id": "56de08ef",
   "metadata": {},
   "source": [
    "The above model is used to determine significant factors for Men causing heart diseas considering alpha=0.05.\n",
    "Based on the results, we found that the significant factors are the same as the above models: chest pain type, max heartrate, restbps, exang, and oldpeak. \n",
    "Likewise, instead of an interaction effect on Age and Sex, I used Men (males) and Age as the interaction effect.\n",
    "It proved to have no significance either.\n",
    "It is also noticed thatage and sex are not a significant factor like model_all"
   ]
  },
  {
   "cell_type": "markdown",
   "id": "35d35449",
   "metadata": {},
   "source": [
    "### model_Men1 - Logistic regression model on age, male, chol, blood_sugar, restecg, slope, and male:sex interaction"
   ]
  },
  {
   "cell_type": "code",
   "execution_count": 22,
   "id": "a031f96b",
   "metadata": {},
   "outputs": [
    {
     "name": "stdout",
     "output_type": "stream",
     "text": [
      "Optimization terminated successfully.\n",
      "         Current function value: 0.477626\n",
      "         Iterations 6\n",
      "                           Logit Regression Results                           \n",
      "==============================================================================\n",
      "Dep. Variable:               heart_dx   No. Observations:                  201\n",
      "Model:                          Logit   Df Residuals:                      195\n",
      "Method:                           MLE   Df Model:                            5\n",
      "Date:                Sun, 11 Dec 2022   Pseudo R-squ.:                  0.3043\n",
      "Time:                        18:27:17   Log-Likelihood:                -96.003\n",
      "converged:                       True   LL-Null:                       -138.00\n",
      "Covariance Type:            nonrobust   LLR p-value:                 1.219e-16\n",
      "===================================================================================\n",
      "                      coef    std err          z      P>|z|      [0.025      0.975]\n",
      "-----------------------------------------------------------------------------------\n",
      "Intercept           0.9222      2.229      0.414      0.679      -3.447       5.292\n",
      "chest_pain_type     0.6680      0.189      3.536      0.000       0.298       1.038\n",
      "restbps             0.0134      0.011      1.229      0.219      -0.008       0.035\n",
      "max_heartrate      -0.0346      0.010     -3.538      0.000      -0.054      -0.015\n",
      "exang               0.5176      0.426      1.215      0.224      -0.317       1.352\n",
      "oldpeak             0.5179      0.179      2.889      0.004       0.167       0.869\n",
      "===================================================================================\n"
     ]
    }
   ],
   "source": [
    "model_Men1 = 'heart_dx ~ chest_pain_type + restbps + max_heartrate + exang + oldpeak'\n",
    "\n",
    "result_men1 = smf.logit(formula=model_Men1, data=df[df['Men'] == True]).fit()\n",
    "print(result_men1.summary())"
   ]
  },
  {
   "cell_type": "markdown",
   "id": "e5378fea",
   "metadata": {},
   "source": [
    "In the above model, all the insiginificant factors, including the interaction effect are removed.\n",
    "That left the following factors to be considered significant: Chest pain type, max heartrate, exang, and oldpeak. This is the same results as in Model_1. Removing the factor restbps as a factor before running the final model, model_Men2.\n"
   ]
  },
  {
   "cell_type": "markdown",
   "id": "13ebdffe",
   "metadata": {},
   "source": [
    "### model_Men2 - Logistic regression model on Male, chest_pain_type, max_heartrate, exang, oldpeak"
   ]
  },
  {
   "cell_type": "code",
   "execution_count": 23,
   "id": "e53b68c3",
   "metadata": {},
   "outputs": [
    {
     "name": "stdout",
     "output_type": "stream",
     "text": [
      "Optimization terminated successfully.\n",
      "         Current function value: 0.481420\n",
      "         Iterations 6\n",
      "                           Logit Regression Results                           \n",
      "==============================================================================\n",
      "Dep. Variable:               heart_dx   No. Observations:                  201\n",
      "Model:                          Logit   Df Residuals:                      196\n",
      "Method:                           MLE   Df Model:                            4\n",
      "Date:                Sun, 11 Dec 2022   Pseudo R-squ.:                  0.2988\n",
      "Time:                        18:27:17   Log-Likelihood:                -96.765\n",
      "converged:                       True   LL-Null:                       -138.00\n",
      "Covariance Type:            nonrobust   LLR p-value:                 5.202e-17\n",
      "===================================================================================\n",
      "                      coef    std err          z      P>|z|      [0.025      0.975]\n",
      "-----------------------------------------------------------------------------------\n",
      "Intercept           2.7314      1.691      1.615      0.106      -0.583       6.046\n",
      "chest_pain_type     0.6330      0.186      3.412      0.001       0.269       0.997\n",
      "max_heartrate      -0.0344      0.010     -3.538      0.000      -0.053      -0.015\n",
      "exang               0.5044      0.422      1.195      0.232      -0.323       1.332\n",
      "oldpeak             0.5420      0.177      3.068      0.002       0.196       0.888\n",
      "===================================================================================\n"
     ]
    }
   ],
   "source": [
    "model_Men2 = 'heart_dx ~ chest_pain_type + max_heartrate + exang + oldpeak'\n",
    "result_men2 = smf.logit(formula=model_Men2, data=df[df['Men'] == True]).fit()\n",
    "print(result_men2.summary())"
   ]
  },
  {
   "cell_type": "markdown",
   "id": "7cc2b930",
   "metadata": {},
   "source": [
    "### model_W_all - Logistic regression model on Female comparing all attributes"
   ]
  },
  {
   "cell_type": "code",
   "execution_count": 24,
   "id": "c53ad5fa",
   "metadata": {},
   "outputs": [
    {
     "name": "stdout",
     "output_type": "stream",
     "text": [
      "Optimization terminated successfully.\n",
      "         Current function value: 0.420448\n",
      "         Iterations 7\n",
      "                           Logit Regression Results                           \n",
      "==============================================================================\n",
      "Dep. Variable:               heart_dx   No. Observations:                  297\n",
      "Model:                          Logit   Df Residuals:                      284\n",
      "Method:                           MLE   Df Model:                           12\n",
      "Date:                Sun, 11 Dec 2022   Pseudo R-squ.:                  0.3908\n",
      "Time:                        18:27:17   Log-Likelihood:                -124.87\n",
      "converged:                       True   LL-Null:                       -204.97\n",
      "Covariance Type:            nonrobust   LLR p-value:                 4.781e-28\n",
      "=====================================================================================\n",
      "                        coef    std err          z      P>|z|      [0.025      0.975]\n",
      "-------------------------------------------------------------------------------------\n",
      "Intercept            -4.9552      2.488     -1.992      0.046      -9.832      -0.078\n",
      "Women[T.True]        -2.4245      2.530     -0.958      0.338      -7.383       2.534\n",
      "age                   0.0218      0.024      0.912      0.362      -0.025       0.069\n",
      "Women[T.True]:age     0.0086      0.043      0.197      0.844      -0.076       0.094\n",
      "chest_pain_type       0.7901      0.179      4.417      0.000       0.440       1.141\n",
      "restbps               0.0196      0.010      2.025      0.043       0.001       0.039\n",
      "chol                  0.0052      0.003      1.589      0.112      -0.001       0.012\n",
      "blood_sugar          -0.3127      0.455     -0.687      0.492      -1.204       0.579\n",
      "restecg               0.1981      0.166      1.195      0.232      -0.127       0.523\n",
      "max_heartrate        -0.0242      0.009     -2.637      0.008      -0.042      -0.006\n",
      "slope                 0.3036      0.323      0.940      0.347      -0.330       0.937\n",
      "exang                 0.9392      0.366      2.566      0.010       0.222       1.657\n",
      "oldpeak               0.4922      0.185      2.666      0.008       0.130       0.854\n",
      "=====================================================================================\n"
     ]
    }
   ],
   "source": [
    "model_W_all = 'heart_dx ~ age + Women + chest_pain_type + restbps + chol + blood_sugar + restecg + max_heartrate + slope + exang + oldpeak + Women:age'\n",
    "\n",
    "result_W_all = smf.logit(formula=model_W_all, data=df).fit()\n",
    "print(result_W_all.summary())"
   ]
  },
  {
   "cell_type": "markdown",
   "id": "96a39f81",
   "metadata": {},
   "source": [
    "### model_W1 - Logistic regression model on age, women, chol, blood_sugar, restecg, slope, and male:sex interaction¶"
   ]
  },
  {
   "cell_type": "code",
   "execution_count": 25,
   "id": "231dc8ed",
   "metadata": {},
   "outputs": [
    {
     "name": "stdout",
     "output_type": "stream",
     "text": [
      "Optimization terminated successfully.\n",
      "         Current function value: 0.312217\n",
      "         Iterations 7\n",
      "                           Logit Regression Results                           \n",
      "==============================================================================\n",
      "Dep. Variable:               heart_dx   No. Observations:                   96\n",
      "Model:                          Logit   Df Residuals:                       90\n",
      "Method:                           MLE   Df Model:                            5\n",
      "Date:                Sun, 11 Dec 2022   Pseudo R-squ.:                  0.4556\n",
      "Time:                        18:27:17   Log-Likelihood:                -29.973\n",
      "converged:                       True   LL-Null:                       -55.055\n",
      "Covariance Type:            nonrobust   LLR p-value:                 1.282e-09\n",
      "===================================================================================\n",
      "                      coef    std err          z      P>|z|      [0.025      0.975]\n",
      "-----------------------------------------------------------------------------------\n",
      "Intercept          -8.4017      3.941     -2.132      0.033     -16.126      -0.678\n",
      "chest_pain_type     1.1008      0.492      2.237      0.025       0.136       2.065\n",
      "restbps             0.0383      0.020      1.911      0.056      -0.001       0.078\n",
      "max_heartrate      -0.0200      0.017     -1.183      0.237      -0.053       0.013\n",
      "exang               1.6114      0.740      2.178      0.029       0.161       3.062\n",
      "oldpeak             0.8920      0.371      2.403      0.016       0.165       1.619\n",
      "===================================================================================\n"
     ]
    }
   ],
   "source": [
    "model_W1 = 'heart_dx ~ chest_pain_type + restbps + max_heartrate + exang + oldpeak'\n",
    "\n",
    "result_W1 = smf.logit(formula=model_W1, data=df[df['Women'] == True]).fit()\n",
    "print(result_W1.summary())\n"
   ]
  },
  {
   "cell_type": "markdown",
   "id": "c4188786",
   "metadata": {},
   "source": [
    "### model_W2 -  Logistic regression model on Women, chest_pain_type, max_heartrate, exang, oldpeak¶"
   ]
  },
  {
   "cell_type": "code",
   "execution_count": 26,
   "id": "9f3c818e",
   "metadata": {},
   "outputs": [
    {
     "name": "stdout",
     "output_type": "stream",
     "text": [
      "Optimization terminated successfully.\n",
      "         Current function value: 0.333756\n",
      "         Iterations 7\n",
      "                           Logit Regression Results                           \n",
      "==============================================================================\n",
      "Dep. Variable:               heart_dx   No. Observations:                   96\n",
      "Model:                          Logit   Df Residuals:                       91\n",
      "Method:                           MLE   Df Model:                            4\n",
      "Date:                Sun, 11 Dec 2022   Pseudo R-squ.:                  0.4180\n",
      "Time:                        18:27:17   Log-Likelihood:                -32.041\n",
      "converged:                       True   LL-Null:                       -55.055\n",
      "Covariance Type:            nonrobust   LLR p-value:                 2.429e-09\n",
      "===================================================================================\n",
      "                      coef    std err          z      P>|z|      [0.025      0.975]\n",
      "-----------------------------------------------------------------------------------\n",
      "Intercept          -3.8285      2.977     -1.286      0.198      -9.664       2.007\n",
      "chest_pain_type     1.0971      0.495      2.216      0.027       0.127       2.068\n",
      "max_heartrate      -0.0169      0.016     -1.053      0.293      -0.048       0.015\n",
      "exang               1.9182      0.703      2.729      0.006       0.540       3.296\n",
      "oldpeak             0.9561      0.348      2.750      0.006       0.275       1.638\n",
      "===================================================================================\n"
     ]
    }
   ],
   "source": [
    "model_W2 = 'heart_dx ~ chest_pain_type + max_heartrate + exang + oldpeak'\n",
    "\n",
    "result_W2 = smf.logit(formula=model_W2, data=df[df['Women'] == True]).fit()\n",
    "print(result_W2.summary())"
   ]
  },
  {
   "cell_type": "code",
   "execution_count": 27,
   "id": "79e2cbe8",
   "metadata": {},
   "outputs": [
    {
     "data": {
      "text/plain": [
       "<Figure size 720x576 with 0 Axes>"
      ]
     },
     "metadata": {},
     "output_type": "display_data"
    },
    {
     "data": {
      "image/png": "[encoded data removed]",
      "text/plain": [
       "<Figure size 900x900 with 30 Axes>"
      ]
     },
     "metadata": {
      "needs_background": "light"
     },
     "output_type": "display_data"
    }
   ],
   "source": [
    "plt.figure(figsize=(10,8))\n",
    "sns.pairplot(df[['chest_pain_type','max_heartrate','exang','oldpeak','heart_dx']],palette=['orange'])\n",
    "plt.show()"
   ]
  },
  {
   "cell_type": "code",
   "execution_count": 28,
   "id": "6e19ec03",
   "metadata": {},
   "outputs": [
    {
     "name": "stderr",
     "output_type": "stream",
     "text": [
      "C:\\Users\\mysow\\anaconda3\\lib\\site-packages\\seaborn\\_decorators.py:36: FutureWarning: Pass the following variable as a keyword arg: x. From version 0.12, the only valid positional argument will be `data`, and passing other arguments without an explicit keyword will result in an error or misinterpretation.\n",
      "  warnings.warn(\n"
     ]
    },
    {
     "data": {
      "image/png": "[encoded data removed]",
      "text/plain": [
       "<Figure size 720x576 with 1 Axes>"
      ]
     },
     "metadata": {
      "needs_background": "light"
     },
     "output_type": "display_data"
    }
   ],
   "source": [
    "plt.figure(figsize=(10,8))\n",
    "g = sns.countplot(\"chest_pain_type\", hue=\"sex\", data=df,palette=['green','orange'])\n",
    "g.set_xticklabels([\"Typical\",\"Atypical\",\"Non-Anginal\",\"Asymptomatic\"])\n",
    "plt.legend([\"Women\", \"Men\"])\n",
    "plt.xlabel(\"Chest pain type\")\n",
    "plt.ylabel(\"Number of people\")\n",
    "plt.title(\"Anginal pain type distribution based on gender\")\n",
    "plt.show()"
   ]
  },
  {
   "cell_type": "code",
   "execution_count": 29,
   "id": "0aa5eaa6",
   "metadata": {},
   "outputs": [
    {
     "name": "stderr",
     "output_type": "stream",
     "text": [
      "C:\\Users\\mysow\\anaconda3\\lib\\site-packages\\seaborn\\_decorators.py:36: FutureWarning: Pass the following variables as keyword args: x, y. From version 0.12, the only valid positional argument will be `data`, and passing other arguments without an explicit keyword will result in an error or misinterpretation.\n",
      "  warnings.warn(\n"
     ]
    },
    {
     "data": {
      "image/png": "[encoded data removed]",
      "text/plain": [
       "<Figure size 720x576 with 1 Axes>"
      ]
     },
     "metadata": {
      "needs_background": "light"
     },
     "output_type": "display_data"
    }
   ],
   "source": [
    "plt.figure(figsize=(10,8))\n",
    "sns.scatterplot(\"max_heartrate\", \"age\", hue=df[\"heart_dx\"], data=df , palette=['green','orange'])\n",
    "plt.xlabel(\"Max heart rate\", fontsize=12)\n",
    "plt.ylabel(\"Age\" , fontsize=12)\n",
    "plt.title(\"Max heart rate achieved by presence of heart condition and the age distribution\", fontsize=15)\n",
    "plt.show()"
   ]
  },
  {
   "cell_type": "markdown",
   "id": "22a91e5a",
   "metadata": {},
   "source": [
    "## 4 . Logistic Regression model based on Age group"
   ]
  },
  {
   "cell_type": "markdown",
   "id": "08331a19",
   "metadata": {},
   "source": [
    "### Creating Age Ranges for Each of the Listed Individuals in the study."
   ]
  },
  {
   "cell_type": "markdown",
   "id": "bdd55480",
   "metadata": {},
   "source": [
    "we wanted to understand the number of individuals per age groupping."
   ]
  },
  {
   "cell_type": "code",
   "execution_count": 30,
   "id": "1827777b",
   "metadata": {},
   "outputs": [
    {
     "data": {
      "image/png": "[encoded data removed]",
      "text/plain": [
       "<Figure size 720x720 with 1 Axes>"
      ]
     },
     "metadata": {
      "needs_background": "light"
     },
     "output_type": "display_data"
    }
   ],
   "source": [
    "#Histogram of distribution of age\n",
    "plt.figure(figsize=(10,10))\n",
    "sns.histplot(data=df[\"age\"], alpha=0.5 ,color=\"orange\")\n",
    "plt.xlabel(\"Age\",fontsize=12)\n",
    "plt.ylabel(\"Count\", fontsize=12)\n",
    "plt.title(\"Age Distribution\", fontsize=15)\n",
    "plt.show()"
   ]
  },
  {
   "cell_type": "code",
   "execution_count": 31,
   "id": "73600191",
   "metadata": {},
   "outputs": [
    {
     "data": {
      "text/plain": [
       "61"
      ]
     },
     "execution_count": 31,
     "metadata": {},
     "output_type": "execute_result"
    }
   ],
   "source": [
    "df[df['age'].between(29,45)].shape[0]"
   ]
  },
  {
   "cell_type": "code",
   "execution_count": 32,
   "id": "0a7db290",
   "metadata": {},
   "outputs": [
    {
     "data": {
      "text/plain": [
       "157"
      ]
     },
     "execution_count": 32,
     "metadata": {},
     "output_type": "execute_result"
    }
   ],
   "source": [
    "df[df['age'].between(46, 60)].shape[0]"
   ]
  },
  {
   "cell_type": "code",
   "execution_count": 33,
   "id": "51c6cf03",
   "metadata": {},
   "outputs": [
    {
     "data": {
      "text/plain": [
       "79"
      ]
     },
     "execution_count": 33,
     "metadata": {},
     "output_type": "execute_result"
    }
   ],
   "source": [
    "df[df['age'].between(61,77)].shape[0]"
   ]
  },
  {
   "cell_type": "code",
   "execution_count": 34,
   "id": "5e4c6b46",
   "metadata": {},
   "outputs": [
    {
     "data": {
      "text/plain": [
       "71"
      ]
     },
     "execution_count": 34,
     "metadata": {},
     "output_type": "execute_result"
    }
   ],
   "source": [
    "df[df['age'].between(62, 77)].shape[0]"
   ]
  },
  {
   "cell_type": "markdown",
   "id": "dfa85b7d",
   "metadata": {},
   "source": [
    " Created columns to identify which age group each person belonged to"
   ]
  },
  {
   "cell_type": "code",
   "execution_count": 35,
   "id": "6badb7e3",
   "metadata": {},
   "outputs": [
    {
     "data": {
      "text/html": [
       "<div>\n",
       "<style scoped>\n",
       "    .dataframe tbody tr th:only-of-type {\n",
       "        vertical-align: middle;\n",
       "    }\n",
       "\n",
       "    .dataframe tbody tr th {\n",
       "        vertical-align: top;\n",
       "    }\n",
       "\n",
       "    .dataframe thead th {\n",
       "        text-align: right;\n",
       "    }\n",
       "</style>\n",
       "<table border=\"1\" class=\"dataframe\">\n",
       "  <thead>\n",
       "    <tr style=\"text-align: right;\">\n",
       "      <th></th>\n",
       "      <th>age</th>\n",
       "      <th>sex</th>\n",
       "      <th>chest_pain_type</th>\n",
       "      <th>restbps</th>\n",
       "      <th>chol</th>\n",
       "      <th>blood_sugar</th>\n",
       "      <th>restecg</th>\n",
       "      <th>max_heartrate</th>\n",
       "      <th>exang</th>\n",
       "      <th>oldpeak</th>\n",
       "      <th>slope</th>\n",
       "      <th>num_mjr_vess</th>\n",
       "      <th>thal</th>\n",
       "      <th>dx</th>\n",
       "      <th>heart_dx</th>\n",
       "      <th>Men</th>\n",
       "      <th>Women</th>\n",
       "      <th>Age_low</th>\n",
       "      <th>Age_med</th>\n",
       "      <th>Age_high</th>\n",
       "    </tr>\n",
       "  </thead>\n",
       "  <tbody>\n",
       "    <tr>\n",
       "      <th>297</th>\n",
       "      <td>57.0</td>\n",
       "      <td>0.0</td>\n",
       "      <td>4.0</td>\n",
       "      <td>140.0</td>\n",
       "      <td>241.0</td>\n",
       "      <td>0.0</td>\n",
       "      <td>0.0</td>\n",
       "      <td>123.0</td>\n",
       "      <td>1.0</td>\n",
       "      <td>0.2</td>\n",
       "      <td>2.0</td>\n",
       "      <td>0.0</td>\n",
       "      <td>7.0</td>\n",
       "      <td>1</td>\n",
       "      <td>1</td>\n",
       "      <td>False</td>\n",
       "      <td>True</td>\n",
       "      <td>False</td>\n",
       "      <td>True</td>\n",
       "      <td>False</td>\n",
       "    </tr>\n",
       "    <tr>\n",
       "      <th>298</th>\n",
       "      <td>45.0</td>\n",
       "      <td>1.0</td>\n",
       "      <td>1.0</td>\n",
       "      <td>110.0</td>\n",
       "      <td>264.0</td>\n",
       "      <td>0.0</td>\n",
       "      <td>0.0</td>\n",
       "      <td>132.0</td>\n",
       "      <td>0.0</td>\n",
       "      <td>1.2</td>\n",
       "      <td>2.0</td>\n",
       "      <td>0.0</td>\n",
       "      <td>7.0</td>\n",
       "      <td>1</td>\n",
       "      <td>1</td>\n",
       "      <td>True</td>\n",
       "      <td>False</td>\n",
       "      <td>True</td>\n",
       "      <td>False</td>\n",
       "      <td>False</td>\n",
       "    </tr>\n",
       "    <tr>\n",
       "      <th>299</th>\n",
       "      <td>68.0</td>\n",
       "      <td>1.0</td>\n",
       "      <td>4.0</td>\n",
       "      <td>144.0</td>\n",
       "      <td>193.0</td>\n",
       "      <td>1.0</td>\n",
       "      <td>0.0</td>\n",
       "      <td>141.0</td>\n",
       "      <td>0.0</td>\n",
       "      <td>3.4</td>\n",
       "      <td>2.0</td>\n",
       "      <td>2.0</td>\n",
       "      <td>7.0</td>\n",
       "      <td>2</td>\n",
       "      <td>1</td>\n",
       "      <td>True</td>\n",
       "      <td>False</td>\n",
       "      <td>False</td>\n",
       "      <td>False</td>\n",
       "      <td>True</td>\n",
       "    </tr>\n",
       "    <tr>\n",
       "      <th>300</th>\n",
       "      <td>57.0</td>\n",
       "      <td>1.0</td>\n",
       "      <td>4.0</td>\n",
       "      <td>130.0</td>\n",
       "      <td>131.0</td>\n",
       "      <td>0.0</td>\n",
       "      <td>0.0</td>\n",
       "      <td>115.0</td>\n",
       "      <td>1.0</td>\n",
       "      <td>1.2</td>\n",
       "      <td>2.0</td>\n",
       "      <td>1.0</td>\n",
       "      <td>7.0</td>\n",
       "      <td>3</td>\n",
       "      <td>1</td>\n",
       "      <td>True</td>\n",
       "      <td>False</td>\n",
       "      <td>False</td>\n",
       "      <td>True</td>\n",
       "      <td>False</td>\n",
       "    </tr>\n",
       "    <tr>\n",
       "      <th>301</th>\n",
       "      <td>57.0</td>\n",
       "      <td>0.0</td>\n",
       "      <td>2.0</td>\n",
       "      <td>130.0</td>\n",
       "      <td>236.0</td>\n",
       "      <td>0.0</td>\n",
       "      <td>2.0</td>\n",
       "      <td>174.0</td>\n",
       "      <td>0.0</td>\n",
       "      <td>0.0</td>\n",
       "      <td>2.0</td>\n",
       "      <td>1.0</td>\n",
       "      <td>3.0</td>\n",
       "      <td>1</td>\n",
       "      <td>1</td>\n",
       "      <td>False</td>\n",
       "      <td>True</td>\n",
       "      <td>False</td>\n",
       "      <td>True</td>\n",
       "      <td>False</td>\n",
       "    </tr>\n",
       "  </tbody>\n",
       "</table>\n",
       "</div>"
      ],
      "text/plain": [
       "      age  sex  chest_pain_type  restbps   chol  blood_sugar  restecg  \\\n",
       "297  57.0  0.0              4.0    140.0  241.0          0.0      0.0   \n",
       "298  45.0  1.0              1.0    110.0  264.0          0.0      0.0   \n",
       "299  68.0  1.0              4.0    144.0  193.0          1.0      0.0   \n",
       "300  57.0  1.0              4.0    130.0  131.0          0.0      0.0   \n",
       "301  57.0  0.0              2.0    130.0  236.0          0.0      2.0   \n",
       "\n",
       "     max_heartrate  exang  oldpeak  slope  num_mjr_vess  thal  dx  heart_dx  \\\n",
       "297          123.0    1.0      0.2    2.0           0.0   7.0   1         1   \n",
       "298          132.0    0.0      1.2    2.0           0.0   7.0   1         1   \n",
       "299          141.0    0.0      3.4    2.0           2.0   7.0   2         1   \n",
       "300          115.0    1.0      1.2    2.0           1.0   7.0   3         1   \n",
       "301          174.0    0.0      0.0    2.0           1.0   3.0   1         1   \n",
       "\n",
       "       Men  Women  Age_low  Age_med  Age_high  \n",
       "297  False   True    False     True     False  \n",
       "298   True  False     True    False     False  \n",
       "299   True  False    False    False      True  \n",
       "300   True  False    False     True     False  \n",
       "301  False   True    False     True     False  "
      ]
     },
     "execution_count": 35,
     "metadata": {},
     "output_type": "execute_result"
    }
   ],
   "source": [
    "df['Age_low'] = df['age'].between(29, 45)\n",
    "df['Age_med'] = df['age'].between(46, 61) #smallest range but biggest volume\n",
    "df['Age_high'] = df['age'].between(62, 77)\n",
    "df.tail()"
   ]
  },
  {
   "cell_type": "markdown",
   "id": "a29c1f39",
   "metadata": {},
   "source": [
    "### model_Age_low"
   ]
  },
  {
   "cell_type": "markdown",
   "id": "d064e307",
   "metadata": {},
   "source": [
    "This model shows what factors are significant factors for Lower Age range, 29 - 45. We used alpha=0.05 to determine each factors significance. "
   ]
  },
  {
   "cell_type": "code",
   "execution_count": 36,
   "id": "32911ee2",
   "metadata": {},
   "outputs": [
    {
     "name": "stdout",
     "output_type": "stream",
     "text": [
      "Optimization terminated successfully.\n",
      "         Current function value: 0.418016\n",
      "         Iterations 7\n",
      "                           Logit Regression Results                           \n",
      "==============================================================================\n",
      "Dep. Variable:               heart_dx   No. Observations:                  297\n",
      "Model:                          Logit   Df Residuals:                      284\n",
      "Method:                           MLE   Df Model:                           12\n",
      "Date:                Sun, 11 Dec 2022   Pseudo R-squ.:                  0.3943\n",
      "Time:                        18:27:20   Log-Likelihood:                -124.15\n",
      "converged:                       True   LL-Null:                       -204.97\n",
      "Covariance Type:            nonrobust   LLR p-value:                 2.427e-28\n",
      "=======================================================================================\n",
      "                          coef    std err          z      P>|z|      [0.025      0.975]\n",
      "---------------------------------------------------------------------------------------\n",
      "Intercept              -5.4442      2.158     -2.523      0.012      -9.674      -1.215\n",
      "Age_low[T.True]        -1.5665      1.327     -1.181      0.238      -4.167       1.034\n",
      "sex                     1.8278      0.414      4.410      0.000       1.016       2.640\n",
      "Age_low[T.True]:sex     1.0475      1.418      0.739      0.460      -1.732       3.827\n",
      "chest_pain_type         0.7847      0.180      4.364      0.000       0.432       1.137\n",
      "restbps                 0.0196      0.010      2.043      0.041       0.001       0.038\n",
      "chol                    0.0055      0.003      1.697      0.090      -0.001       0.012\n",
      "blood_sugar            -0.2947      0.457     -0.645      0.519      -1.190       0.600\n",
      "restecg                 0.2027      0.165      1.227      0.220      -0.121       0.527\n",
      "max_heartrate          -0.0251      0.009     -2.815      0.005      -0.043      -0.008\n",
      "slope                   0.3033      0.321      0.943      0.345      -0.327       0.933\n",
      "exang                   0.9354      0.366      2.555      0.011       0.218       1.653\n",
      "oldpeak                 0.5020      0.185      2.709      0.007       0.139       0.865\n",
      "=======================================================================================\n"
     ]
    }
   ],
   "source": [
    "model_Age_low = 'heart_dx ~ Age_low + sex + chest_pain_type + restbps + chol + \\\n",
    "                            blood_sugar + restecg + max_heartrate + slope + exang + oldpeak + Age_low:sex'\n",
    "\n",
    "\n",
    "result_Age_low = smf.logit(formula=model_Age_low, data=df).fit() \n",
    "print(result_Age_low.summary())"
   ]
  },
  {
   "cell_type": "markdown",
   "id": "8f7e82b1",
   "metadata": {},
   "source": [
    "we found that the significant factors are slightly different than the others. We found that the significant factors are sex, chest pain type, restbps, max heartrate, exang, and oldpeak."
   ]
  },
  {
   "cell_type": "markdown",
   "id": "104bcceb",
   "metadata": {},
   "source": [
    "### model_Age_low_sex"
   ]
  },
  {
   "cell_type": "markdown",
   "id": "522142af",
   "metadata": {},
   "source": [
    "This model is slighly different than the previous. I included sex, with the same factors, it seems to be more significant."
   ]
  },
  {
   "cell_type": "code",
   "execution_count": 37,
   "id": "3a3b7dde",
   "metadata": {},
   "outputs": [
    {
     "name": "stdout",
     "output_type": "stream",
     "text": [
      "Optimization terminated successfully.\n",
      "         Current function value: 0.435038\n",
      "         Iterations 7\n",
      "                           Logit Regression Results                           \n",
      "==============================================================================\n",
      "Dep. Variable:               heart_dx   No. Observations:                  297\n",
      "Model:                          Logit   Df Residuals:                      290\n",
      "Method:                           MLE   Df Model:                            6\n",
      "Date:                Sun, 11 Dec 2022   Pseudo R-squ.:                  0.3696\n",
      "Time:                        18:27:20   Log-Likelihood:                -129.21\n",
      "converged:                       True   LL-Null:                       -204.97\n",
      "Covariance Type:            nonrobust   LLR p-value:                 3.667e-30\n",
      "===================================================================================\n",
      "                      coef    std err          z      P>|z|      [0.025      0.975]\n",
      "-----------------------------------------------------------------------------------\n",
      "Intercept          -3.5124      1.827     -1.923      0.054      -7.092       0.068\n",
      "sex                 1.6221      0.362      4.485      0.000       0.913       2.331\n",
      "chest_pain_type     0.7758      0.174      4.446      0.000       0.434       1.118\n",
      "restbps             0.0227      0.009      2.466      0.014       0.005       0.041\n",
      "max_heartrate      -0.0276      0.008     -3.452      0.001      -0.043      -0.012\n",
      "exang               0.9295      0.354      2.627      0.009       0.236       1.623\n",
      "oldpeak             0.6022      0.157      3.843      0.000       0.295       0.909\n",
      "===================================================================================\n"
     ]
    }
   ],
   "source": [
    "model_Age_low_sex = 'heart_dx ~ sex + chest_pain_type + restbps +  max_heartrate + exang + oldpeak'\n",
    "\n",
    "result_Age_low_sex = smf.logit(formula=model_Age_low_sex, data=df).fit()\n",
    "print(result_Age_low_sex.summary())"
   ]
  },
  {
   "cell_type": "markdown",
   "id": "edb73492",
   "metadata": {},
   "source": [
    "### model_Age_med"
   ]
  },
  {
   "cell_type": "markdown",
   "id": "2b5a502e",
   "metadata": {},
   "source": [
    "This model shows what factors are significant factors for Medium Age range, 46 - 61. We used alpha=0.05 to determine each factors significance. Based on the results, we found that the significant factors are similar to model_Age1 but still different."
   ]
  },
  {
   "cell_type": "code",
   "execution_count": 38,
   "id": "f50c0c45",
   "metadata": {},
   "outputs": [
    {
     "name": "stdout",
     "output_type": "stream",
     "text": [
      "Optimization terminated successfully.\n",
      "         Current function value: 0.421054\n",
      "         Iterations 7\n",
      "                           Logit Regression Results                           \n",
      "==============================================================================\n",
      "Dep. Variable:               heart_dx   No. Observations:                  297\n",
      "Model:                          Logit   Df Residuals:                      286\n",
      "Method:                           MLE   Df Model:                           10\n",
      "Date:                Sun, 11 Dec 2022   Pseudo R-squ.:                  0.3899\n",
      "Time:                        18:27:20   Log-Likelihood:                -125.05\n",
      "converged:                       True   LL-Null:                       -204.97\n",
      "Covariance Type:            nonrobust   LLR p-value:                 3.496e-29\n",
      "=======================================================================================\n",
      "                          coef    std err          z      P>|z|      [0.025      0.975]\n",
      "---------------------------------------------------------------------------------------\n",
      "Intercept              -6.0291      2.171     -2.777      0.005     -10.285      -1.773\n",
      "Age_med[T.True]         0.8410      0.607      1.386      0.166      -0.348       2.030\n",
      "sex                     2.1116      0.561      3.764      0.000       1.012       3.211\n",
      "Age_med[T.True]:sex    -0.4600      0.710     -0.648      0.517      -1.852       0.932\n",
      "chest_pain_type         0.7826      0.179      4.373      0.000       0.432       1.133\n",
      "restbps                 0.0224      0.009      2.382      0.017       0.004       0.041\n",
      "chol                    0.0074      0.003      2.289      0.022       0.001       0.014\n",
      "max_heartrate          -0.0299      0.009     -3.448      0.001      -0.047      -0.013\n",
      "slope                   0.3422      0.315      1.088      0.277      -0.274       0.959\n",
      "exang                   0.8410      0.367      2.290      0.022       0.121       1.561\n",
      "oldpeak                 0.5201      0.182      2.858      0.004       0.163       0.877\n",
      "=======================================================================================\n"
     ]
    }
   ],
   "source": [
    "model_Age_med = 'heart_dx ~ Age_med + sex + chest_pain_type + restbps + chol + max_heartrate + slope + exang + oldpeak + Age_med:sex'\n",
    "\n",
    "result_Age_med = smf.logit(formula=model_Age_med, data=df).fit()\n",
    "print(result_Age_med.summary())"
   ]
  },
  {
   "cell_type": "markdown",
   "id": "59ecf3bf",
   "metadata": {},
   "source": [
    "We found that the significant factors are sex, chest pain type, chol, restbps, max heartrate, exang, and oldpeak."
   ]
  },
  {
   "cell_type": "markdown",
   "id": "7f98eea2",
   "metadata": {},
   "source": [
    "### model_Age_med_sex "
   ]
  },
  {
   "cell_type": "code",
   "execution_count": 39,
   "id": "8e1701ee",
   "metadata": {},
   "outputs": [
    {
     "name": "stdout",
     "output_type": "stream",
     "text": [
      "Optimization terminated successfully.\n",
      "         Current function value: 0.427624\n",
      "         Iterations 7\n",
      "                           Logit Regression Results                           \n",
      "==============================================================================\n",
      "Dep. Variable:               heart_dx   No. Observations:                  297\n",
      "Model:                          Logit   Df Residuals:                      289\n",
      "Method:                           MLE   Df Model:                            7\n",
      "Date:                Sun, 11 Dec 2022   Pseudo R-squ.:                  0.3804\n",
      "Time:                        18:27:20   Log-Likelihood:                -127.00\n",
      "converged:                       True   LL-Null:                       -204.97\n",
      "Covariance Type:            nonrobust   LLR p-value:                 2.294e-30\n",
      "===================================================================================\n",
      "                      coef    std err          z      P>|z|      [0.025      0.975]\n",
      "-----------------------------------------------------------------------------------\n",
      "Intercept          -4.7825      1.960     -2.441      0.015      -8.623      -0.942\n",
      "sex                 1.8478      0.389      4.754      0.000       1.086       2.610\n",
      "chest_pain_type     0.7706      0.176      4.376      0.000       0.425       1.116\n",
      "restbps             0.0221      0.009      2.389      0.017       0.004       0.040\n",
      "chol                0.0066      0.003      2.101      0.036       0.000       0.013\n",
      "max_heartrate      -0.0302      0.008     -3.627      0.000      -0.047      -0.014\n",
      "exang               0.9098      0.360      2.526      0.012       0.204       1.616\n",
      "oldpeak             0.5910      0.157      3.766      0.000       0.283       0.899\n",
      "===================================================================================\n"
     ]
    }
   ],
   "source": [
    "model_Age_med_sex = 'heart_dx ~ sex + chest_pain_type + restbps + chol + max_heartrate + exang + oldpeak'\n",
    "\n",
    "result_Age2a = smf.logit(formula=model_Age_med_sex, data=df).fit()\n",
    "print(result_Age2a.summary())"
   ]
  },
  {
   "cell_type": "markdown",
   "id": "26a74f9c",
   "metadata": {},
   "source": [
    "### model_Age_high"
   ]
  },
  {
   "cell_type": "markdown",
   "id": "746404cd",
   "metadata": {},
   "source": [
    "This model shows what factors are significant factors for Medium Age range, 62 - 77. We used alpha=0.05 to determine each factors significance. Based on the results, we found that the significant factors are similar to *model_Age_low*. We found that the significant factors are sex, chest pain type, restbps, max heartrate, exang, and oldpeak. \n"
   ]
  },
  {
   "cell_type": "code",
   "execution_count": 40,
   "id": "51d4c660",
   "metadata": {},
   "outputs": [
    {
     "name": "stdout",
     "output_type": "stream",
     "text": [
      "Optimization terminated successfully.\n",
      "         Current function value: 0.425322\n",
      "         Iterations 7\n",
      "                           Logit Regression Results                           \n",
      "==============================================================================\n",
      "Dep. Variable:               heart_dx   No. Observations:                  297\n",
      "Model:                          Logit   Df Residuals:                      287\n",
      "Method:                           MLE   Df Model:                            9\n",
      "Date:                Sun, 11 Dec 2022   Pseudo R-squ.:                  0.3837\n",
      "Time:                        18:27:20   Log-Likelihood:                -126.32\n",
      "converged:                       True   LL-Null:                       -204.97\n",
      "Covariance Type:            nonrobust   LLR p-value:                 2.695e-29\n",
      "====================================================================================\n",
      "                       coef    std err          z      P>|z|      [0.025      0.975]\n",
      "------------------------------------------------------------------------------------\n",
      "Intercept           -5.4072      2.121     -2.549      0.011      -9.565      -1.250\n",
      "Age_high[T.True]    -0.2425      0.403     -0.602      0.547      -1.032       0.547\n",
      "sex                  1.8631      0.395      4.714      0.000       1.088       2.638\n",
      "chest_pain_type      0.7796      0.178      4.391      0.000       0.432       1.128\n",
      "restbps              0.0230      0.009      2.436      0.015       0.004       0.042\n",
      "chol                 0.0071      0.003      2.193      0.028       0.001       0.013\n",
      "max_heartrate       -0.0303      0.009     -3.362      0.001      -0.048      -0.013\n",
      "slope                0.3245      0.314      1.034      0.301      -0.291       0.940\n",
      "exang                0.8690      0.364      2.385      0.017       0.155       1.583\n",
      "oldpeak              0.5029      0.181      2.782      0.005       0.149       0.857\n",
      "====================================================================================\n"
     ]
    }
   ],
   "source": [
    "model_Age_high = 'heart_dx ~ Age_high + sex + chest_pain_type + restbps + chol + max_heartrate + slope + exang + oldpeak'\n",
    "\n",
    "result_Age_high = smf.logit(formula=model_Age_high, data=df).fit()\n",
    "print(result_Age_high.summary())"
   ]
  },
  {
   "cell_type": "code",
   "execution_count": 41,
   "id": "87c2189b",
   "metadata": {},
   "outputs": [
    {
     "name": "stdout",
     "output_type": "stream",
     "text": [
      "Optimization terminated successfully.\n",
      "         Current function value: 0.435038\n",
      "         Iterations 7\n",
      "                           Logit Regression Results                           \n",
      "==============================================================================\n",
      "Dep. Variable:               heart_dx   No. Observations:                  297\n",
      "Model:                          Logit   Df Residuals:                      290\n",
      "Method:                           MLE   Df Model:                            6\n",
      "Date:                Sun, 11 Dec 2022   Pseudo R-squ.:                  0.3696\n",
      "Time:                        18:27:20   Log-Likelihood:                -129.21\n",
      "converged:                       True   LL-Null:                       -204.97\n",
      "Covariance Type:            nonrobust   LLR p-value:                 3.667e-30\n",
      "===================================================================================\n",
      "                      coef    std err          z      P>|z|      [0.025      0.975]\n",
      "-----------------------------------------------------------------------------------\n",
      "Intercept          -3.5124      1.827     -1.923      0.054      -7.092       0.068\n",
      "sex                 1.6221      0.362      4.485      0.000       0.913       2.331\n",
      "chest_pain_type     0.7758      0.174      4.446      0.000       0.434       1.118\n",
      "restbps             0.0227      0.009      2.466      0.014       0.005       0.041\n",
      "max_heartrate      -0.0276      0.008     -3.452      0.001      -0.043      -0.012\n",
      "exang               0.9295      0.354      2.627      0.009       0.236       1.623\n",
      "oldpeak             0.6022      0.157      3.843      0.000       0.295       0.909\n",
      "===================================================================================\n"
     ]
    }
   ],
   "source": [
    "model_Age3a = 'heart_dx ~ sex + chest_pain_type + restbps + max_heartrate + exang + oldpeak'\n",
    "\n",
    "result_Age3a = smf.logit(formula=model_Age3a, data=df).fit()\n",
    "print(result_Age3a.summary())"
   ]
  },
  {
   "cell_type": "markdown",
   "id": "154b5634",
   "metadata": {},
   "source": [
    "### Validation of 3 models based on factors that were found significant."
   ]
  },
  {
   "cell_type": "code",
   "execution_count": 42,
   "id": "a2ffbf4e",
   "metadata": {},
   "outputs": [
    {
     "data": {
      "text/plain": [
       "(75, 5)"
      ]
     },
     "execution_count": 42,
     "metadata": {},
     "output_type": "execute_result"
    }
   ],
   "source": [
    "Xo = df[['chest_pain_type','restbps','max_heartrate','exang','oldpeak']]\n",
    "\n",
    "yo = df['heart_dx']\n",
    "\n",
    "\n",
    "X_train, X_test, y_train, y_test = train_test_split(Xo, yo, random_state=40) \n",
    "\n",
    "X_test.shape"
   ]
  },
  {
   "cell_type": "code",
   "execution_count": 43,
   "id": "4286207d",
   "metadata": {},
   "outputs": [],
   "source": [
    "\n",
    "model = LogisticRegression()\n",
    "\n",
    "model.fit(X_train, y_train)\n",
    "\n",
    "y_proba = model.predict_proba(X_test)[:,1]\n",
    "\n",
    "y_pred = model.predict(X_test)"
   ]
  },
  {
   "cell_type": "code",
   "execution_count": 44,
   "id": "895ffddf",
   "metadata": {},
   "outputs": [
    {
     "data": {
      "text/html": [
       "<div>\n",
       "<style scoped>\n",
       "    .dataframe tbody tr th:only-of-type {\n",
       "        vertical-align: middle;\n",
       "    }\n",
       "\n",
       "    .dataframe tbody tr th {\n",
       "        vertical-align: top;\n",
       "    }\n",
       "\n",
       "    .dataframe thead th {\n",
       "        text-align: right;\n",
       "    }\n",
       "</style>\n",
       "<table border=\"1\" class=\"dataframe\">\n",
       "  <thead>\n",
       "    <tr style=\"text-align: right;\">\n",
       "      <th></th>\n",
       "      <th>predict: No Heart Disease</th>\n",
       "      <th>predict: Heart Disease</th>\n",
       "    </tr>\n",
       "  </thead>\n",
       "  <tbody>\n",
       "    <tr>\n",
       "      <th>true: No Heart Disease</th>\n",
       "      <td>30</td>\n",
       "      <td>5</td>\n",
       "    </tr>\n",
       "    <tr>\n",
       "      <th>true: Heart Disease</th>\n",
       "      <td>13</td>\n",
       "      <td>27</td>\n",
       "    </tr>\n",
       "  </tbody>\n",
       "</table>\n",
       "</div>"
      ],
      "text/plain": [
       "                        predict: No Heart Disease  predict: Heart Disease\n",
       "true: No Heart Disease                         30                       5\n",
       "true: Heart Disease                            13                      27"
      ]
     },
     "execution_count": 44,
     "metadata": {},
     "output_type": "execute_result"
    }
   ],
   "source": [
    "from sklearn import metrics\n",
    "\n",
    "cm = metrics.confusion_matrix(y_test, y_pred) \n",
    "\n",
    "df_cm = pd.DataFrame(data=cm, columns=['predict: No Heart Disease', 'predict: Heart Disease'],\n",
    "                    index=['true: No Heart Disease', 'true: Heart Disease'])\n",
    "\n",
    "df_cm"
   ]
  },
  {
   "cell_type": "code",
   "execution_count": 45,
   "id": "09ccc004",
   "metadata": {},
   "outputs": [
    {
     "name": "stdout",
     "output_type": "stream",
     "text": [
      "              precision    recall  f1-score   support\n",
      "\n",
      "           0       0.70      0.86      0.77        35\n",
      "           1       0.84      0.68      0.75        40\n",
      "\n",
      "    accuracy                           0.76        75\n",
      "   macro avg       0.77      0.77      0.76        75\n",
      "weighted avg       0.78      0.76      0.76        75\n",
      "\n"
     ]
    }
   ],
   "source": [
    "print(metrics.classification_report(y_test, y_pred))"
   ]
  },
  {
   "cell_type": "code",
   "execution_count": 46,
   "id": "9456bc4c",
   "metadata": {},
   "outputs": [
    {
     "name": "stderr",
     "output_type": "stream",
     "text": [
      "C:\\Users\\mysow\\anaconda3\\lib\\site-packages\\sklearn\\linear_model\\_logistic.py:814: ConvergenceWarning: lbfgs failed to converge (status=1):\n",
      "STOP: TOTAL NO. of ITERATIONS REACHED LIMIT.\n",
      "\n",
      "Increase the number of iterations (max_iter) or scale the data as shown in:\n",
      "    https://scikit-learn.org/stable/modules/preprocessing.html\n",
      "Please also refer to the documentation for alternative solver options:\n",
      "    https://scikit-learn.org/stable/modules/linear_model.html#logistic-regression\n",
      "  n_iter_i = _check_optimize_result(\n"
     ]
    }
   ],
   "source": [
    "Xo2 = df[['sex','chest_pain_type','restbps','max_heartrate','exang','oldpeak']]\n",
    "\n",
    "yo2 = df['heart_dx']\n",
    "\n",
    "X_train, X_test, y_train, y_test = train_test_split(Xo2, yo2, random_state=68) \n",
    "\n",
    "X_test.shape\n",
    "\n",
    "model2 = LogisticRegression()\n",
    "\n",
    "model2.fit(X_train, y_train)\n",
    "\n",
    "y_proba2 = model2.predict_proba(X_test)[:,1]\n",
    "\n",
    "y_pred2 = model2.predict(X_test)"
   ]
  },
  {
   "cell_type": "code",
   "execution_count": 47,
   "id": "83d21f51",
   "metadata": {},
   "outputs": [
    {
     "data": {
      "text/html": [
       "<div>\n",
       "<style scoped>\n",
       "    .dataframe tbody tr th:only-of-type {\n",
       "        vertical-align: middle;\n",
       "    }\n",
       "\n",
       "    .dataframe tbody tr th {\n",
       "        vertical-align: top;\n",
       "    }\n",
       "\n",
       "    .dataframe thead th {\n",
       "        text-align: right;\n",
       "    }\n",
       "</style>\n",
       "<table border=\"1\" class=\"dataframe\">\n",
       "  <thead>\n",
       "    <tr style=\"text-align: right;\">\n",
       "      <th></th>\n",
       "      <th>predict: No Heart Disease</th>\n",
       "      <th>predict: Heart Disease</th>\n",
       "    </tr>\n",
       "  </thead>\n",
       "  <tbody>\n",
       "    <tr>\n",
       "      <th>true: No Heart Disease</th>\n",
       "      <td>36</td>\n",
       "      <td>6</td>\n",
       "    </tr>\n",
       "    <tr>\n",
       "      <th>true: Heart Disease</th>\n",
       "      <td>8</td>\n",
       "      <td>25</td>\n",
       "    </tr>\n",
       "  </tbody>\n",
       "</table>\n",
       "</div>"
      ],
      "text/plain": [
       "                        predict: No Heart Disease  predict: Heart Disease\n",
       "true: No Heart Disease                         36                       6\n",
       "true: Heart Disease                             8                      25"
      ]
     },
     "execution_count": 47,
     "metadata": {},
     "output_type": "execute_result"
    }
   ],
   "source": [
    "cm2 = metrics.confusion_matrix(y_test, y_pred2) \n",
    "\n",
    "df_cm2 = pd.DataFrame(data=cm2, columns=['predict: No Heart Disease', 'predict: Heart Disease'],\n",
    "                    index=['true: No Heart Disease', 'true: Heart Disease'])\n",
    "\n",
    "df_cm2"
   ]
  },
  {
   "cell_type": "code",
   "execution_count": 48,
   "id": "02cf4b15",
   "metadata": {},
   "outputs": [
    {
     "name": "stdout",
     "output_type": "stream",
     "text": [
      "              precision    recall  f1-score   support\n",
      "\n",
      "           0       0.82      0.86      0.84        42\n",
      "           1       0.81      0.76      0.78        33\n",
      "\n",
      "    accuracy                           0.81        75\n",
      "   macro avg       0.81      0.81      0.81        75\n",
      "weighted avg       0.81      0.81      0.81        75\n",
      "\n"
     ]
    }
   ],
   "source": [
    "print(metrics.classification_report(y_test, y_pred2))"
   ]
  },
  {
   "cell_type": "code",
   "execution_count": 49,
   "id": "87eac4e5",
   "metadata": {},
   "outputs": [
    {
     "name": "stderr",
     "output_type": "stream",
     "text": [
      "C:\\Users\\mysow\\anaconda3\\lib\\site-packages\\sklearn\\linear_model\\_logistic.py:814: ConvergenceWarning: lbfgs failed to converge (status=1):\n",
      "STOP: TOTAL NO. of ITERATIONS REACHED LIMIT.\n",
      "\n",
      "Increase the number of iterations (max_iter) or scale the data as shown in:\n",
      "    https://scikit-learn.org/stable/modules/preprocessing.html\n",
      "Please also refer to the documentation for alternative solver options:\n",
      "    https://scikit-learn.org/stable/modules/linear_model.html#logistic-regression\n",
      "  n_iter_i = _check_optimize_result(\n"
     ]
    }
   ],
   "source": [
    "Xo3 = df[['sex','chest_pain_type', 'chol','restbps','max_heartrate','exang','oldpeak']]\n",
    "\n",
    "yo3 = df['heart_dx']\n",
    "\n",
    "\n",
    "X_train, X_test, y_train, y_test = train_test_split(Xo3, yo3, random_state=33) \n",
    "\n",
    "X_test.shape\n",
    "\n",
    "\n",
    "model3 = LogisticRegression()\n",
    "\n",
    "model3.fit(X_train, y_train)\n",
    "\n",
    "y_proba3 = model3.predict_proba(X_test)[:,1]\n",
    "\n",
    "y_pred3 = model3.predict(X_test)\n"
   ]
  },
  {
   "cell_type": "code",
   "execution_count": 50,
   "id": "efa94c99",
   "metadata": {},
   "outputs": [
    {
     "data": {
      "text/html": [
       "<div>\n",
       "<style scoped>\n",
       "    .dataframe tbody tr th:only-of-type {\n",
       "        vertical-align: middle;\n",
       "    }\n",
       "\n",
       "    .dataframe tbody tr th {\n",
       "        vertical-align: top;\n",
       "    }\n",
       "\n",
       "    .dataframe thead th {\n",
       "        text-align: right;\n",
       "    }\n",
       "</style>\n",
       "<table border=\"1\" class=\"dataframe\">\n",
       "  <thead>\n",
       "    <tr style=\"text-align: right;\">\n",
       "      <th></th>\n",
       "      <th>predict: No Heart Disease</th>\n",
       "      <th>predict: Heart Disease</th>\n",
       "    </tr>\n",
       "  </thead>\n",
       "  <tbody>\n",
       "    <tr>\n",
       "      <th>true: No Heart Disease</th>\n",
       "      <td>32</td>\n",
       "      <td>6</td>\n",
       "    </tr>\n",
       "    <tr>\n",
       "      <th>true: Heart Disease</th>\n",
       "      <td>9</td>\n",
       "      <td>28</td>\n",
       "    </tr>\n",
       "  </tbody>\n",
       "</table>\n",
       "</div>"
      ],
      "text/plain": [
       "                        predict: No Heart Disease  predict: Heart Disease\n",
       "true: No Heart Disease                         32                       6\n",
       "true: Heart Disease                             9                      28"
      ]
     },
     "execution_count": 50,
     "metadata": {},
     "output_type": "execute_result"
    }
   ],
   "source": [
    "cm3 = metrics.confusion_matrix(y_test, y_pred3) \n",
    "\n",
    "df_cm3 = pd.DataFrame(data=cm3, columns=['predict: No Heart Disease', 'predict: Heart Disease'],\n",
    "                    index=['true: No Heart Disease', 'true: Heart Disease'])\n",
    "\n",
    "df_cm3"
   ]
  },
  {
   "cell_type": "code",
   "execution_count": 51,
   "id": "0a109c9b",
   "metadata": {},
   "outputs": [
    {
     "name": "stdout",
     "output_type": "stream",
     "text": [
      "              precision    recall  f1-score   support\n",
      "\n",
      "           0       0.78      0.84      0.81        38\n",
      "           1       0.82      0.76      0.79        37\n",
      "\n",
      "    accuracy                           0.80        75\n",
      "   macro avg       0.80      0.80      0.80        75\n",
      "weighted avg       0.80      0.80      0.80        75\n",
      "\n"
     ]
    }
   ],
   "source": [
    "print(metrics.classification_report(y_test, y_pred3))"
   ]
  },
  {
   "cell_type": "code",
   "execution_count": 52,
   "id": "5767cf9a",
   "metadata": {},
   "outputs": [
    {
     "name": "stderr",
     "output_type": "stream",
     "text": [
      "C:\\Users\\mysow\\anaconda3\\lib\\site-packages\\seaborn\\_decorators.py:36: FutureWarning: Pass the following variables as keyword args: x, y. From version 0.12, the only valid positional argument will be `data`, and passing other arguments without an explicit keyword will result in an error or misinterpretation.\n",
      "  warnings.warn(\n"
     ]
    },
    {
     "data": {
      "image/png": "[encoded data removed]",
      "text/plain": [
       "<Figure size 720x576 with 1 Axes>"
      ]
     },
     "metadata": {
      "needs_background": "light"
     },
     "output_type": "display_data"
    }
   ],
   "source": [
    "plt.figure(figsize=(10,8))\n",
    "sns.scatterplot(\"chol\", \"age\", hue=df[\"heart_dx\"], data=df , palette=['green','orange'])\n",
    "plt.xlabel(\"chol\", fontsize=12)\n",
    "plt.ylabel(\"Age\" , fontsize=12)\n",
    "plt.title(\"Max heart rate achieved by presence of heart condition and the age distribution\", fontsize=15)\n",
    "plt.show()"
   ]
  },
  {
   "cell_type": "markdown",
   "id": "c8973b8d",
   "metadata": {},
   "source": [
    "### StatsModel Conclusions"
   ]
  },
  {
   "cell_type": "markdown",
   "id": "fe793fcb",
   "metadata": {},
   "source": [
    "\n",
    "The major factors to classifying heart disease are chest_pain_type, restbps, max_heartrate, exang, and oldpeak. However, when we analyzed the data specifically based on age ranges and for each regression model, sex was considered a significant factor.\n",
    "\n",
    "The middle age group, 46 - 61, found that chol is a significant factor. This age group had the largest population. This could indicate that choloesterol matters more based on age range?\n",
    "\n",
    "I used the metrics function to assess the most accurate model, it seems that according to the statsmodel, leaving sex in as a significant factor increases the accruacy, Precision, Recall, and F1-Score are all almost the same otherwise. This makes for a slighlty inconclusive results to our original question."
   ]
  },
  {
   "cell_type": "markdown",
   "id": "534fa287",
   "metadata": {},
   "source": [
    "## 5. Pipeline"
   ]
  },
  {
   "cell_type": "markdown",
   "id": "a6bac423",
   "metadata": {},
   "source": [
    "In order to determine the best models. We decided to run two 3 pipeline using logistic regression, one using the following factors for each pipeline.\n",
    "\n",
    "- Pipeline1: Factors = chest_pain_type, max_heartrate, exang, oldpeak\n",
    "- Pipeline2: Factors = sex, chest_pain_type, max_heartrate, exang, oldpeak\n",
    "- Pipeline3: Factors = sex, chest_pain_type, chol, max_heartrate, exang, oldpeak"
   ]
  },
  {
   "cell_type": "code",
   "execution_count": 53,
   "id": "9ddd4089",
   "metadata": {},
   "outputs": [],
   "source": [
    "from sklearn.preprocessing import StandardScaler, FunctionTransformer, OneHotEncoder, MinMaxScaler\n",
    "from sklearn.model_selection import train_test_split\n",
    "from sklearn.linear_model import LogisticRegression"
   ]
  },
  {
   "cell_type": "code",
   "execution_count": 54,
   "id": "e68c3fcd",
   "metadata": {},
   "outputs": [
    {
     "data": {
      "text/html": [
       "<div>\n",
       "<style scoped>\n",
       "    .dataframe tbody tr th:only-of-type {\n",
       "        vertical-align: middle;\n",
       "    }\n",
       "\n",
       "    .dataframe tbody tr th {\n",
       "        vertical-align: top;\n",
       "    }\n",
       "\n",
       "    .dataframe thead th {\n",
       "        text-align: right;\n",
       "    }\n",
       "</style>\n",
       "<table border=\"1\" class=\"dataframe\">\n",
       "  <thead>\n",
       "    <tr style=\"text-align: right;\">\n",
       "      <th></th>\n",
       "      <th>age</th>\n",
       "      <th>sex</th>\n",
       "      <th>chest_pain_type</th>\n",
       "      <th>restbps</th>\n",
       "      <th>chol</th>\n",
       "      <th>blood_sugar</th>\n",
       "      <th>restecg</th>\n",
       "      <th>max_heartrate</th>\n",
       "      <th>exang</th>\n",
       "      <th>oldpeak</th>\n",
       "      <th>slope</th>\n",
       "      <th>num_mjr_vess</th>\n",
       "      <th>thal</th>\n",
       "      <th>dx</th>\n",
       "      <th>heart_dx</th>\n",
       "    </tr>\n",
       "  </thead>\n",
       "  <tbody>\n",
       "    <tr>\n",
       "      <th>0</th>\n",
       "      <td>63.0</td>\n",
       "      <td>1.0</td>\n",
       "      <td>1.0</td>\n",
       "      <td>145.0</td>\n",
       "      <td>233.0</td>\n",
       "      <td>1.0</td>\n",
       "      <td>2.0</td>\n",
       "      <td>150.0</td>\n",
       "      <td>0.0</td>\n",
       "      <td>2.3</td>\n",
       "      <td>3.0</td>\n",
       "      <td>0.0</td>\n",
       "      <td>6.0</td>\n",
       "      <td>0</td>\n",
       "      <td>0</td>\n",
       "    </tr>\n",
       "    <tr>\n",
       "      <th>1</th>\n",
       "      <td>67.0</td>\n",
       "      <td>1.0</td>\n",
       "      <td>4.0</td>\n",
       "      <td>160.0</td>\n",
       "      <td>286.0</td>\n",
       "      <td>0.0</td>\n",
       "      <td>2.0</td>\n",
       "      <td>108.0</td>\n",
       "      <td>1.0</td>\n",
       "      <td>1.5</td>\n",
       "      <td>2.0</td>\n",
       "      <td>3.0</td>\n",
       "      <td>3.0</td>\n",
       "      <td>2</td>\n",
       "      <td>1</td>\n",
       "    </tr>\n",
       "    <tr>\n",
       "      <th>2</th>\n",
       "      <td>67.0</td>\n",
       "      <td>1.0</td>\n",
       "      <td>4.0</td>\n",
       "      <td>120.0</td>\n",
       "      <td>229.0</td>\n",
       "      <td>0.0</td>\n",
       "      <td>2.0</td>\n",
       "      <td>129.0</td>\n",
       "      <td>1.0</td>\n",
       "      <td>2.6</td>\n",
       "      <td>2.0</td>\n",
       "      <td>2.0</td>\n",
       "      <td>7.0</td>\n",
       "      <td>1</td>\n",
       "      <td>1</td>\n",
       "    </tr>\n",
       "    <tr>\n",
       "      <th>3</th>\n",
       "      <td>37.0</td>\n",
       "      <td>1.0</td>\n",
       "      <td>3.0</td>\n",
       "      <td>130.0</td>\n",
       "      <td>250.0</td>\n",
       "      <td>0.0</td>\n",
       "      <td>0.0</td>\n",
       "      <td>187.0</td>\n",
       "      <td>0.0</td>\n",
       "      <td>3.5</td>\n",
       "      <td>3.0</td>\n",
       "      <td>0.0</td>\n",
       "      <td>3.0</td>\n",
       "      <td>0</td>\n",
       "      <td>0</td>\n",
       "    </tr>\n",
       "    <tr>\n",
       "      <th>4</th>\n",
       "      <td>41.0</td>\n",
       "      <td>0.0</td>\n",
       "      <td>2.0</td>\n",
       "      <td>130.0</td>\n",
       "      <td>204.0</td>\n",
       "      <td>0.0</td>\n",
       "      <td>2.0</td>\n",
       "      <td>172.0</td>\n",
       "      <td>0.0</td>\n",
       "      <td>1.4</td>\n",
       "      <td>1.0</td>\n",
       "      <td>0.0</td>\n",
       "      <td>3.0</td>\n",
       "      <td>0</td>\n",
       "      <td>0</td>\n",
       "    </tr>\n",
       "  </tbody>\n",
       "</table>\n",
       "</div>"
      ],
      "text/plain": [
       "    age  sex chest_pain_type  restbps   chol  blood_sugar restecg  \\\n",
       "0  63.0  1.0             1.0    145.0  233.0          1.0     2.0   \n",
       "1  67.0  1.0             4.0    160.0  286.0          0.0     2.0   \n",
       "2  67.0  1.0             4.0    120.0  229.0          0.0     2.0   \n",
       "3  37.0  1.0             3.0    130.0  250.0          0.0     0.0   \n",
       "4  41.0  0.0             2.0    130.0  204.0          0.0     2.0   \n",
       "\n",
       "   max_heartrate exang  oldpeak slope num_mjr_vess thal  dx  heart_dx  \n",
       "0          150.0   0.0      2.3   3.0          0.0  6.0   0         0  \n",
       "1          108.0   1.0      1.5   2.0          3.0  3.0   2         1  \n",
       "2          129.0   1.0      2.6   2.0          2.0  7.0   1         1  \n",
       "3          187.0   0.0      3.5   3.0          0.0  3.0   0         0  \n",
       "4          172.0   0.0      1.4   1.0          0.0  3.0   0         0  "
      ]
     },
     "execution_count": 54,
     "metadata": {},
     "output_type": "execute_result"
    }
   ],
   "source": [
    "cn = ['age','sex','chest_pain_type','restbps','chol','blood_sugar','restecg','max_heartrate','exang','oldpeak','slope','num_mjr_vess','thal','dx']\n",
    "\n",
    "df = pd.read_csv('https://archive.ics.uci.edu/ml/machine-learning-databases/heart-disease/processed.cleveland.data', names=cn)\n",
    "df['sex'] = df['sex'].astype(object)\n",
    "df['chest_pain_type'] = df['chest_pain_type'].astype(object)\n",
    "df['restecg'] = df['restecg'].astype(object)\n",
    "df['exang'] = df['exang'].astype(object)\n",
    "df['slope'] = df['slope'].astype(object)\n",
    "\n",
    "df['heart_dx'] = df['dx'].apply(lambda x: 1 if x >= 1 else 0)\n",
    "\n",
    "df.head()"
   ]
  },
  {
   "cell_type": "markdown",
   "id": "1ff5bd5c",
   "metadata": {},
   "source": [
    "### Pipeline 1"
   ]
  },
  {
   "cell_type": "markdown",
   "id": "38702ed9",
   "metadata": {},
   "source": [
    "This pipeline includes all provided possible factors from the data set: age, sex, chest pain type, restbps, chol, blood sugar, restecg, max heartrate, exang, old peak, slope, number of major vessels, and thal. "
   ]
  },
  {
   "cell_type": "code",
   "execution_count": 55,
   "id": "472d0c0c",
   "metadata": {},
   "outputs": [
    {
     "data": {
      "text/plain": [
       "(61, 13)"
      ]
     },
     "execution_count": 55,
     "metadata": {},
     "output_type": "execute_result"
    }
   ],
   "source": [
    "features = df[['age','sex','chest_pain_type','restbps','chol','blood_sugar','restecg','max_heartrate','exang','oldpeak','slope','num_mjr_vess','thal']]\n",
    "\n",
    "X = features\n",
    "\n",
    "y = df['heart_dx']\n",
    "\n",
    "X_train, X_test, y_train, y_test = train_test_split(X, y, \n",
    "                                                    test_size=.20,\n",
    "                                                    stratify=y,\n",
    "                                                    random_state=88\n",
    "                                                   )\n",
    "X_test.shape"
   ]
  },
  {
   "cell_type": "markdown",
   "id": "317095b7",
   "metadata": {},
   "source": [
    "#### Preprocessing pipeline"
   ]
  },
  {
   "cell_type": "code",
   "execution_count": 56,
   "id": "60af4e58",
   "metadata": {},
   "outputs": [
    {
     "data": {
      "text/plain": [
       "[array([0.0, 1.0], dtype=object),\n",
       " array([1.0, 2.0, 3.0, 4.0], dtype=object),\n",
       " array([0.0, 1.0, 2.0], dtype=object),\n",
       " array([0.0, 1.0], dtype=object),\n",
       " array([1.0, 2.0, 3.0], dtype=object),\n",
       " array(['0.0', '1.0', '2.0', '3.0'], dtype=object),\n",
       " array(['3.0', '6.0', '7.0'], dtype=object)]"
      ]
     },
     "execution_count": 56,
     "metadata": {},
     "output_type": "execute_result"
    }
   ],
   "source": [
    "from sklearn.impute import SimpleImputer\n",
    "\n",
    "cat_imputed = SimpleImputer(missing_values='?', strategy='most_frequent').fit_transform(df[['sex', 'chest_pain_type', 'restecg', 'exang', 'slope', 'num_mjr_vess','thal']])\n",
    "\n",
    "enc = OneHotEncoder(sparse=False)\n",
    "\n",
    "enc.fit_transform(cat_imputed)\n",
    "\n",
    "enc.categories_"
   ]
  },
  {
   "cell_type": "code",
   "execution_count": 57,
   "id": "55975c9f",
   "metadata": {},
   "outputs": [
    {
     "data": {
      "text/plain": [
       "array([[ 63. , 145. , 233. ,   1. , 150. ,   2.3],\n",
       "       [ 67. , 160. , 286. ,   0. , 108. ,   1.5],\n",
       "       [ 67. , 120. , 229. ,   0. , 129. ,   2.6],\n",
       "       ...,\n",
       "       [ 57. , 130. , 131. ,   0. , 115. ,   1.2],\n",
       "       [ 57. , 130. , 236. ,   0. , 174. ,   0. ],\n",
       "       [ 38. , 138. , 175. ,   0. , 173. ,   0. ]])"
      ]
     },
     "execution_count": 57,
     "metadata": {},
     "output_type": "execute_result"
    }
   ],
   "source": [
    "SimpleImputer(strategy='mean').fit_transform(df[['age','restbps','chol','blood_sugar','max_heartrate','oldpeak']]\n",
    "\n",
    ")"
   ]
  },
  {
   "cell_type": "code",
   "execution_count": 58,
   "id": "97bb9ffd",
   "metadata": {},
   "outputs": [
    {
     "data": {
      "text/plain": [
       "array([[ 0.94872647,  0.75752504, -0.2649003 ,  2.394438  ,  0.01719733,\n",
       "         1.08733806],\n",
       "       [ 1.39200191,  1.61121989,  0.76041519, -0.41763453, -1.82190531,\n",
       "         0.39718162],\n",
       "       [ 1.39200191, -0.6652997 , -0.34228261, -0.41763453, -0.90235399,\n",
       "         1.34614673],\n",
       "       ...,\n",
       "       [ 0.28381332, -0.0961698 , -2.23814899, -0.41763453, -1.51538821,\n",
       "         0.13837295],\n",
       "       [ 0.28381332, -0.0961698 , -0.20686358, -0.41763453,  1.06811312,\n",
       "        -0.89686172],\n",
       "       [-1.82174501,  0.35913411, -1.38694368, -0.41763453,  1.02432497,\n",
       "        -0.89686172]])"
      ]
     },
     "execution_count": 58,
     "metadata": {},
     "output_type": "execute_result"
    }
   ],
   "source": [
    "StandardScaler().fit_transform(df[['age','restbps','chol','blood_sugar','max_heartrate','oldpeak']]\n",
    "\n",
    ")"
   ]
  },
  {
   "cell_type": "code",
   "execution_count": 59,
   "id": "0478ed16",
   "metadata": {},
   "outputs": [],
   "source": [
    "# Begin making the pipeline\n",
    "from sklearn.pipeline import make_pipeline\n",
    "from sklearn.compose import make_column_transformer\n",
    "\n",
    "imp_ohe = make_pipeline(SimpleImputer(strategy='most_frequent'),\n",
    "             OneHotEncoder(sparse=False))\n",
    "\n",
    "imp_mean = make_pipeline(SimpleImputer(strategy='mean'),\n",
    "                       StandardScaler())\n",
    "\n",
    "preprocessor = make_column_transformer((imp_ohe, ['sex', 'chest_pain_type', 'restecg', 'exang', 'slope', 'num_mjr_vess','thal']),\n",
    "                       (imp_mean, ['age','restbps','chol','blood_sugar','max_heartrate','oldpeak'])\n",
    "                       )"
   ]
  },
  {
   "cell_type": "code",
   "execution_count": 60,
   "id": "3fc480c1",
   "metadata": {},
   "outputs": [
    {
     "data": {
      "text/plain": [
       "Pipeline(steps=[('columntransformer',\n",
       "                 ColumnTransformer(transformers=[('pipeline-1',\n",
       "                                                  Pipeline(steps=[('simpleimputer',\n",
       "                                                                   SimpleImputer(strategy='most_frequent')),\n",
       "                                                                  ('onehotencoder',\n",
       "                                                                   OneHotEncoder(sparse=False))]),\n",
       "                                                  ['sex', 'chest_pain_type',\n",
       "                                                   'restecg', 'exang', 'slope',\n",
       "                                                   'num_mjr_vess', 'thal']),\n",
       "                                                 ('pipeline-2',\n",
       "                                                  Pipeline(steps=[('simpleimputer',\n",
       "                                                                   SimpleImputer()),\n",
       "                                                                  ('standardscaler',\n",
       "                                                                   StandardScaler())]),\n",
       "                                                  ['age', 'restbps', 'chol',\n",
       "                                                   'blood_sugar',\n",
       "                                                   'max_heartrate',\n",
       "                                                   'oldpeak'])])),\n",
       "                ('logisticregression', LogisticRegression())])"
      ]
     },
     "execution_count": 60,
     "metadata": {},
     "output_type": "execute_result"
    }
   ],
   "source": [
    "clf1 = LogisticRegression() \n",
    "pipe1 = make_pipeline(preprocessor, clf1)\n",
    "pipe1"
   ]
  },
  {
   "cell_type": "code",
   "execution_count": 61,
   "id": "77bcfd8c",
   "metadata": {},
   "outputs": [
    {
     "data": {
      "text/plain": [
       "Pipeline(steps=[('columntransformer',\n",
       "                 ColumnTransformer(transformers=[('pipeline-1',\n",
       "                                                  Pipeline(steps=[('simpleimputer',\n",
       "                                                                   SimpleImputer(strategy='most_frequent')),\n",
       "                                                                  ('onehotencoder',\n",
       "                                                                   OneHotEncoder(sparse=False))]),\n",
       "                                                  ['sex', 'chest_pain_type',\n",
       "                                                   'restecg', 'exang', 'slope',\n",
       "                                                   'num_mjr_vess', 'thal']),\n",
       "                                                 ('pipeline-2',\n",
       "                                                  Pipeline(steps=[('simpleimputer',\n",
       "                                                                   SimpleImputer()),\n",
       "                                                                  ('standardscaler',\n",
       "                                                                   StandardScaler())]),\n",
       "                                                  ['age', 'restbps', 'chol',\n",
       "                                                   'blood_sugar',\n",
       "                                                   'max_heartrate',\n",
       "                                                   'oldpeak'])])),\n",
       "                ('logisticregression', LogisticRegression())])"
      ]
     },
     "execution_count": 61,
     "metadata": {},
     "output_type": "execute_result"
    }
   ],
   "source": [
    "pipe1.fit(X_train, y_train)"
   ]
  },
  {
   "cell_type": "code",
   "execution_count": 62,
   "id": "dffe84e1",
   "metadata": {},
   "outputs": [],
   "source": [
    "y_pred1 = pipe1.predict(X_test)\n",
    "# y_pred"
   ]
  },
  {
   "cell_type": "code",
   "execution_count": 63,
   "id": "2939d2c1",
   "metadata": {},
   "outputs": [
    {
     "name": "stdout",
     "output_type": "stream",
     "text": [
      "R2 Metric 0.34\n"
     ]
    }
   ],
   "source": [
    "from sklearn import metrics\n",
    "print('R2 Metric', round(metrics.r2_score(y_test, y_pred1),2))"
   ]
  },
  {
   "cell_type": "code",
   "execution_count": 64,
   "id": "c8bae7f6",
   "metadata": {},
   "outputs": [
    {
     "data": {
      "text/plain": [
       "array([0.3592106 , 0.31108551, 0.40160966, 0.25819889, 0.31622777,\n",
       "       0.4472136 , 0.40824829, 0.31622777, 0.48304589, 0.4472136 ])"
      ]
     },
     "execution_count": 64,
     "metadata": {},
     "output_type": "execute_result"
    }
   ],
   "source": [
    "from sklearn.model_selection import cross_val_score\n",
    "\n",
    "- (cross_val_score(pipe1, X, y, cv=10, scoring='neg_root_mean_squared_error'))"
   ]
  },
  {
   "cell_type": "markdown",
   "id": "f962e773",
   "metadata": {},
   "source": [
    "## Performed a Grid Search to determine best Pipeline to determine factors."
   ]
  },
  {
   "cell_type": "code",
   "execution_count": 65,
   "id": "96522382",
   "metadata": {
    "scrolled": true
   },
   "outputs": [
    {
     "data": {
      "text/plain": [
       "{'memory': None,\n",
       " 'steps': [('columntransformer',\n",
       "   ColumnTransformer(transformers=[('pipeline-1',\n",
       "                                    Pipeline(steps=[('simpleimputer',\n",
       "                                                     SimpleImputer(strategy='most_frequent')),\n",
       "                                                    ('onehotencoder',\n",
       "                                                     OneHotEncoder(sparse=False))]),\n",
       "                                    ['sex', 'chest_pain_type', 'restecg', 'exang',\n",
       "                                     'slope', 'num_mjr_vess', 'thal']),\n",
       "                                   ('pipeline-2',\n",
       "                                    Pipeline(steps=[('simpleimputer',\n",
       "                                                     SimpleImputer()),\n",
       "                                                    ('standardscaler',\n",
       "                                                     StandardScaler())]),\n",
       "                                    ['age', 'restbps', 'chol', 'blood_sugar',\n",
       "                                     'max_heartrate', 'oldpeak'])])),\n",
       "  ('logisticregression', LogisticRegression())],\n",
       " 'verbose': False,\n",
       " 'columntransformer': ColumnTransformer(transformers=[('pipeline-1',\n",
       "                                  Pipeline(steps=[('simpleimputer',\n",
       "                                                   SimpleImputer(strategy='most_frequent')),\n",
       "                                                  ('onehotencoder',\n",
       "                                                   OneHotEncoder(sparse=False))]),\n",
       "                                  ['sex', 'chest_pain_type', 'restecg', 'exang',\n",
       "                                   'slope', 'num_mjr_vess', 'thal']),\n",
       "                                 ('pipeline-2',\n",
       "                                  Pipeline(steps=[('simpleimputer',\n",
       "                                                   SimpleImputer()),\n",
       "                                                  ('standardscaler',\n",
       "                                                   StandardScaler())]),\n",
       "                                  ['age', 'restbps', 'chol', 'blood_sugar',\n",
       "                                   'max_heartrate', 'oldpeak'])]),\n",
       " 'logisticregression': LogisticRegression(),\n",
       " 'columntransformer__n_jobs': None,\n",
       " 'columntransformer__remainder': 'drop',\n",
       " 'columntransformer__sparse_threshold': 0.3,\n",
       " 'columntransformer__transformer_weights': None,\n",
       " 'columntransformer__transformers': [('pipeline-1',\n",
       "   Pipeline(steps=[('simpleimputer', SimpleImputer(strategy='most_frequent')),\n",
       "                   ('onehotencoder', OneHotEncoder(sparse=False))]),\n",
       "   ['sex',\n",
       "    'chest_pain_type',\n",
       "    'restecg',\n",
       "    'exang',\n",
       "    'slope',\n",
       "    'num_mjr_vess',\n",
       "    'thal']),\n",
       "  ('pipeline-2',\n",
       "   Pipeline(steps=[('simpleimputer', SimpleImputer()),\n",
       "                   ('standardscaler', StandardScaler())]),\n",
       "   ['age', 'restbps', 'chol', 'blood_sugar', 'max_heartrate', 'oldpeak'])],\n",
       " 'columntransformer__verbose': False,\n",
       " 'columntransformer__verbose_feature_names_out': True,\n",
       " 'columntransformer__pipeline-1': Pipeline(steps=[('simpleimputer', SimpleImputer(strategy='most_frequent')),\n",
       "                 ('onehotencoder', OneHotEncoder(sparse=False))]),\n",
       " 'columntransformer__pipeline-2': Pipeline(steps=[('simpleimputer', SimpleImputer()),\n",
       "                 ('standardscaler', StandardScaler())]),\n",
       " 'columntransformer__pipeline-1__memory': None,\n",
       " 'columntransformer__pipeline-1__steps': [('simpleimputer',\n",
       "   SimpleImputer(strategy='most_frequent')),\n",
       "  ('onehotencoder', OneHotEncoder(sparse=False))],\n",
       " 'columntransformer__pipeline-1__verbose': False,\n",
       " 'columntransformer__pipeline-1__simpleimputer': SimpleImputer(strategy='most_frequent'),\n",
       " 'columntransformer__pipeline-1__onehotencoder': OneHotEncoder(sparse=False),\n",
       " 'columntransformer__pipeline-1__simpleimputer__add_indicator': False,\n",
       " 'columntransformer__pipeline-1__simpleimputer__copy': True,\n",
       " 'columntransformer__pipeline-1__simpleimputer__fill_value': None,\n",
       " 'columntransformer__pipeline-1__simpleimputer__missing_values': nan,\n",
       " 'columntransformer__pipeline-1__simpleimputer__strategy': 'most_frequent',\n",
       " 'columntransformer__pipeline-1__simpleimputer__verbose': 0,\n",
       " 'columntransformer__pipeline-1__onehotencoder__categories': 'auto',\n",
       " 'columntransformer__pipeline-1__onehotencoder__drop': None,\n",
       " 'columntransformer__pipeline-1__onehotencoder__dtype': numpy.float64,\n",
       " 'columntransformer__pipeline-1__onehotencoder__handle_unknown': 'error',\n",
       " 'columntransformer__pipeline-1__onehotencoder__sparse': False,\n",
       " 'columntransformer__pipeline-2__memory': None,\n",
       " 'columntransformer__pipeline-2__steps': [('simpleimputer', SimpleImputer()),\n",
       "  ('standardscaler', StandardScaler())],\n",
       " 'columntransformer__pipeline-2__verbose': False,\n",
       " 'columntransformer__pipeline-2__simpleimputer': SimpleImputer(),\n",
       " 'columntransformer__pipeline-2__standardscaler': StandardScaler(),\n",
       " 'columntransformer__pipeline-2__simpleimputer__add_indicator': False,\n",
       " 'columntransformer__pipeline-2__simpleimputer__copy': True,\n",
       " 'columntransformer__pipeline-2__simpleimputer__fill_value': None,\n",
       " 'columntransformer__pipeline-2__simpleimputer__missing_values': nan,\n",
       " 'columntransformer__pipeline-2__simpleimputer__strategy': 'mean',\n",
       " 'columntransformer__pipeline-2__simpleimputer__verbose': 0,\n",
       " 'columntransformer__pipeline-2__standardscaler__copy': True,\n",
       " 'columntransformer__pipeline-2__standardscaler__with_mean': True,\n",
       " 'columntransformer__pipeline-2__standardscaler__with_std': True,\n",
       " 'logisticregression__C': 1.0,\n",
       " 'logisticregression__class_weight': None,\n",
       " 'logisticregression__dual': False,\n",
       " 'logisticregression__fit_intercept': True,\n",
       " 'logisticregression__intercept_scaling': 1,\n",
       " 'logisticregression__l1_ratio': None,\n",
       " 'logisticregression__max_iter': 100,\n",
       " 'logisticregression__multi_class': 'auto',\n",
       " 'logisticregression__n_jobs': None,\n",
       " 'logisticregression__penalty': 'l2',\n",
       " 'logisticregression__random_state': None,\n",
       " 'logisticregression__solver': 'lbfgs',\n",
       " 'logisticregression__tol': 0.0001,\n",
       " 'logisticregression__verbose': 0,\n",
       " 'logisticregression__warm_start': False}"
      ]
     },
     "execution_count": 65,
     "metadata": {},
     "output_type": "execute_result"
    }
   ],
   "source": [
    "from sklearn.model_selection import GridSearchCV\n",
    "\n",
    "pipe1.get_params()"
   ]
  },
  {
   "cell_type": "code",
   "execution_count": 66,
   "id": "f8620092",
   "metadata": {},
   "outputs": [],
   "source": [
    "param_grid = {'columntransformer__pipeline-2__standardscaler':\n",
    "              [StandardScaler(), MinMaxScaler(), 'passthrough'],\n",
    "              'columntransformer__pipeline-2__simpleimputer__strategy':\n",
    "              ['mean', 'median'],\n",
    "              'logisticregression__fit_intercept': [True, False]\n",
    "             }"
   ]
  },
  {
   "cell_type": "code",
   "execution_count": 67,
   "id": "026252cd",
   "metadata": {},
   "outputs": [
    {
     "name": "stderr",
     "output_type": "stream",
     "text": [
      "C:\\Users\\mysow\\anaconda3\\lib\\site-packages\\sklearn\\model_selection\\_search.py:969: UserWarning: One or more of the test scores are non-finite: [nan nan nan nan nan nan nan nan nan nan nan nan]\n",
      "  warnings.warn(\n"
     ]
    },
    {
     "data": {
      "text/plain": [
       "{'columntransformer__pipeline-2__simpleimputer__strategy': 'mean',\n",
       " 'columntransformer__pipeline-2__standardscaler': StandardScaler(),\n",
       " 'logisticregression__fit_intercept': True}"
      ]
     },
     "execution_count": 67,
     "metadata": {},
     "output_type": "execute_result"
    }
   ],
   "source": [
    "gs = GridSearchCV(pipe1, param_grid=param_grid, cv=10, scoring='neg_root_mean_squared_error', n_jobs=-1)\n",
    "\n",
    "gs.fit(X_train, y_train)\n",
    "\n",
    "gs.best_params_"
   ]
  },
  {
   "cell_type": "markdown",
   "id": "091bb10b",
   "metadata": {},
   "source": [
    "---"
   ]
  },
  {
   "cell_type": "markdown",
   "id": "73580162",
   "metadata": {},
   "source": [
    "## Pipeline 2\n",
    "This pipeline includes all the significant factors associated with the overall Statsmodel model as well as the gender related Statsmodel models: ***sex***, chest pain type, restbps, max heartrate, exang, and old peak."
   ]
  },
  {
   "cell_type": "code",
   "execution_count": 68,
   "id": "d3882dd6",
   "metadata": {},
   "outputs": [
    {
     "data": {
      "text/html": [
       "<div>\n",
       "<style scoped>\n",
       "    .dataframe tbody tr th:only-of-type {\n",
       "        vertical-align: middle;\n",
       "    }\n",
       "\n",
       "    .dataframe tbody tr th {\n",
       "        vertical-align: top;\n",
       "    }\n",
       "\n",
       "    .dataframe thead th {\n",
       "        text-align: right;\n",
       "    }\n",
       "</style>\n",
       "<table border=\"1\" class=\"dataframe\">\n",
       "  <thead>\n",
       "    <tr style=\"text-align: right;\">\n",
       "      <th></th>\n",
       "      <th>sex</th>\n",
       "      <th>chest_pain_type</th>\n",
       "      <th>restbps</th>\n",
       "      <th>max_heartrate</th>\n",
       "      <th>exang</th>\n",
       "      <th>oldpeak</th>\n",
       "    </tr>\n",
       "  </thead>\n",
       "  <tbody>\n",
       "    <tr>\n",
       "      <th>89</th>\n",
       "      <td>0.0</td>\n",
       "      <td>3.0</td>\n",
       "      <td>130.0</td>\n",
       "      <td>149.0</td>\n",
       "      <td>0.0</td>\n",
       "      <td>0.5</td>\n",
       "    </tr>\n",
       "    <tr>\n",
       "      <th>126</th>\n",
       "      <td>0.0</td>\n",
       "      <td>4.0</td>\n",
       "      <td>200.0</td>\n",
       "      <td>133.0</td>\n",
       "      <td>1.0</td>\n",
       "      <td>4.0</td>\n",
       "    </tr>\n",
       "    <tr>\n",
       "      <th>299</th>\n",
       "      <td>1.0</td>\n",
       "      <td>4.0</td>\n",
       "      <td>144.0</td>\n",
       "      <td>141.0</td>\n",
       "      <td>0.0</td>\n",
       "      <td>3.4</td>\n",
       "    </tr>\n",
       "    <tr>\n",
       "      <th>17</th>\n",
       "      <td>1.0</td>\n",
       "      <td>4.0</td>\n",
       "      <td>140.0</td>\n",
       "      <td>160.0</td>\n",
       "      <td>0.0</td>\n",
       "      <td>1.2</td>\n",
       "    </tr>\n",
       "    <tr>\n",
       "      <th>158</th>\n",
       "      <td>1.0</td>\n",
       "      <td>4.0</td>\n",
       "      <td>140.0</td>\n",
       "      <td>170.0</td>\n",
       "      <td>0.0</td>\n",
       "      <td>1.2</td>\n",
       "    </tr>\n",
       "  </tbody>\n",
       "</table>\n",
       "</div>"
      ],
      "text/plain": [
       "     sex chest_pain_type  restbps  max_heartrate exang  oldpeak\n",
       "89   0.0             3.0    130.0          149.0   0.0      0.5\n",
       "126  0.0             4.0    200.0          133.0   1.0      4.0\n",
       "299  1.0             4.0    144.0          141.0   0.0      3.4\n",
       "17   1.0             4.0    140.0          160.0   0.0      1.2\n",
       "158  1.0             4.0    140.0          170.0   0.0      1.2"
      ]
     },
     "execution_count": 68,
     "metadata": {},
     "output_type": "execute_result"
    }
   ],
   "source": [
    "X2 = df[['sex','chest_pain_type','restbps','max_heartrate','exang', 'oldpeak']]\n",
    "\n",
    "y2 = df['heart_dx']\n",
    "\n",
    "# X2.head()\n",
    "\n",
    "\n",
    "X_train, X_test, y_train, y_test = train_test_split(X2, y2, \n",
    "                                                    test_size=.2,\n",
    "                                                    stratify=y2,\n",
    "                                                    random_state=19\n",
    "                                                    )\n",
    "X_test.head()\n",
    "\n",
    "#used stratify to equate those who have been diagnosed and those who haven't."
   ]
  },
  {
   "cell_type": "markdown",
   "id": "9432895c",
   "metadata": {},
   "source": [
    "### Preprocessing the Pipeline 2"
   ]
  },
  {
   "cell_type": "code",
   "execution_count": 69,
   "id": "94b50364",
   "metadata": {},
   "outputs": [
    {
     "data": {
      "text/plain": [
       "[array([0.0, 1.0], dtype=object),\n",
       " array([1.0, 2.0, 3.0, 4.0], dtype=object),\n",
       " array([0.0, 1.0], dtype=object)]"
      ]
     },
     "execution_count": 69,
     "metadata": {},
     "output_type": "execute_result"
    }
   ],
   "source": [
    "cat_imputed2 = SimpleImputer(missing_values='?', strategy='most_frequent').fit_transform(df[['sex', 'chest_pain_type', 'exang']])\n",
    "\n",
    "enc = OneHotEncoder(sparse=False)\n",
    "\n",
    "enc.fit_transform(cat_imputed2)\n",
    "\n",
    "\n",
    "enc.categories_"
   ]
  },
  {
   "cell_type": "code",
   "execution_count": 70,
   "id": "24f56ba8",
   "metadata": {},
   "outputs": [
    {
     "data": {
      "text/plain": [
       "array([[1.45e+02, 1.50e+02, 2.30e+00],\n",
       "       [1.60e+02, 1.08e+02, 1.50e+00],\n",
       "       [1.20e+02, 1.29e+02, 2.60e+00],\n",
       "       [1.30e+02, 1.87e+02, 3.50e+00],\n",
       "       [1.30e+02, 1.72e+02, 1.40e+00],\n",
       "       [1.20e+02, 1.78e+02, 8.00e-01],\n",
       "       [1.40e+02, 1.60e+02, 3.60e+00],\n",
       "       [1.20e+02, 1.63e+02, 6.00e-01],\n",
       "       [1.30e+02, 1.47e+02, 1.40e+00],\n",
       "       [1.40e+02, 1.55e+02, 3.10e+00],\n",
       "       [1.40e+02, 1.48e+02, 4.00e-01],\n",
       "       [1.40e+02, 1.53e+02, 1.30e+00],\n",
       "       [1.30e+02, 1.42e+02, 6.00e-01],\n",
       "       [1.20e+02, 1.73e+02, 0.00e+00],\n",
       "       [1.72e+02, 1.62e+02, 5.00e-01],\n",
       "       [1.50e+02, 1.74e+02, 1.60e+00],\n",
       "       [1.10e+02, 1.68e+02, 1.00e+00],\n",
       "       [1.40e+02, 1.60e+02, 1.20e+00],\n",
       "       [1.30e+02, 1.39e+02, 2.00e-01],\n",
       "       [1.30e+02, 1.71e+02, 6.00e-01],\n",
       "       [1.10e+02, 1.44e+02, 1.80e+00],\n",
       "       [1.50e+02, 1.62e+02, 1.00e+00],\n",
       "       [1.20e+02, 1.60e+02, 1.80e+00],\n",
       "       [1.32e+02, 1.73e+02, 3.20e+00],\n",
       "       [1.30e+02, 1.32e+02, 2.40e+00],\n",
       "       [1.20e+02, 1.58e+02, 1.60e+00],\n",
       "       [1.20e+02, 1.72e+02, 0.00e+00],\n",
       "       [1.50e+02, 1.14e+02, 2.60e+00],\n",
       "       [1.50e+02, 1.71e+02, 1.50e+00],\n",
       "       [1.10e+02, 1.14e+02, 2.00e+00],\n",
       "       [1.40e+02, 1.51e+02, 1.80e+00],\n",
       "       [1.17e+02, 1.60e+02, 1.40e+00],\n",
       "       [1.40e+02, 1.58e+02, 0.00e+00],\n",
       "       [1.35e+02, 1.61e+02, 5.00e-01],\n",
       "       [1.30e+02, 1.79e+02, 4.00e-01],\n",
       "       [1.40e+02, 1.78e+02, 0.00e+00],\n",
       "       [1.20e+02, 1.20e+02, 2.50e+00],\n",
       "       [1.50e+02, 1.12e+02, 6.00e-01],\n",
       "       [1.32e+02, 1.32e+02, 1.20e+00],\n",
       "       [1.50e+02, 1.37e+02, 1.00e+00],\n",
       "       [1.50e+02, 1.14e+02, 1.00e+00],\n",
       "       [1.40e+02, 1.78e+02, 1.40e+00],\n",
       "       [1.60e+02, 1.62e+02, 4.00e-01],\n",
       "       [1.50e+02, 1.57e+02, 1.60e+00],\n",
       "       [1.30e+02, 1.69e+02, 0.00e+00],\n",
       "       [1.12e+02, 1.65e+02, 2.50e+00],\n",
       "       [1.10e+02, 1.23e+02, 6.00e-01],\n",
       "       [1.50e+02, 1.28e+02, 2.60e+00],\n",
       "       [1.40e+02, 1.57e+02, 8.00e-01],\n",
       "       [1.30e+02, 1.52e+02, 1.20e+00],\n",
       "       [1.05e+02, 1.68e+02, 0.00e+00],\n",
       "       [1.20e+02, 1.40e+02, 4.00e-01],\n",
       "       [1.12e+02, 1.53e+02, 0.00e+00],\n",
       "       [1.30e+02, 1.88e+02, 0.00e+00],\n",
       "       [1.30e+02, 1.44e+02, 1.40e+00],\n",
       "       [1.24e+02, 1.09e+02, 2.20e+00],\n",
       "       [1.40e+02, 1.63e+02, 6.00e-01],\n",
       "       [1.10e+02, 1.58e+02, 0.00e+00],\n",
       "       [1.25e+02, 1.52e+02, 5.00e-01],\n",
       "       [1.25e+02, 1.25e+02, 1.40e+00],\n",
       "       [1.30e+02, 1.42e+02, 1.20e+00],\n",
       "       [1.42e+02, 1.60e+02, 1.40e+00],\n",
       "       [1.28e+02, 1.31e+02, 2.20e+00],\n",
       "       [1.35e+02, 1.70e+02, 0.00e+00],\n",
       "       [1.20e+02, 1.13e+02, 1.40e+00],\n",
       "       [1.45e+02, 1.42e+02, 2.80e+00],\n",
       "       [1.40e+02, 1.55e+02, 3.00e+00],\n",
       "       [1.50e+02, 1.65e+02, 1.60e+00],\n",
       "       [1.70e+02, 1.40e+02, 3.40e+00],\n",
       "       [1.50e+02, 1.47e+02, 3.60e+00],\n",
       "       [1.55e+02, 1.48e+02, 8.00e-01],\n",
       "       [1.25e+02, 1.63e+02, 2.00e-01],\n",
       "       [1.20e+02, 9.90e+01, 1.80e+00],\n",
       "       [1.10e+02, 1.58e+02, 6.00e-01],\n",
       "       [1.10e+02, 1.77e+02, 0.00e+00],\n",
       "       [1.60e+02, 1.51e+02, 8.00e-01],\n",
       "       [1.25e+02, 1.41e+02, 2.80e+00],\n",
       "       [1.40e+02, 1.42e+02, 1.50e+00],\n",
       "       [1.30e+02, 1.80e+02, 2.00e-01],\n",
       "       [1.50e+02, 1.11e+02, 8.00e-01],\n",
       "       [1.04e+02, 1.48e+02, 3.00e+00],\n",
       "       [1.30e+02, 1.43e+02, 4.00e-01],\n",
       "       [1.40e+02, 1.82e+02, 0.00e+00],\n",
       "       [1.80e+02, 1.50e+02, 1.60e+00],\n",
       "       [1.20e+02, 1.72e+02, 2.00e-01],\n",
       "       [1.40e+02, 1.80e+02, 0.00e+00],\n",
       "       [1.38e+02, 1.56e+02, 0.00e+00],\n",
       "       [1.28e+02, 1.15e+02, 0.00e+00],\n",
       "       [1.38e+02, 1.60e+02, 0.00e+00],\n",
       "       [1.30e+02, 1.49e+02, 5.00e-01],\n",
       "       [1.20e+02, 1.51e+02, 4.00e-01],\n",
       "       [1.60e+02, 1.45e+02, 6.20e+00],\n",
       "       [1.30e+02, 1.46e+02, 1.80e+00],\n",
       "       [1.08e+02, 1.75e+02, 6.00e-01],\n",
       "       [1.35e+02, 1.72e+02, 0.00e+00],\n",
       "       [1.28e+02, 1.61e+02, 0.00e+00],\n",
       "       [1.10e+02, 1.42e+02, 1.20e+00],\n",
       "       [1.50e+02, 1.57e+02, 2.60e+00],\n",
       "       [1.34e+02, 1.58e+02, 8.00e-01],\n",
       "       [1.22e+02, 1.86e+02, 0.00e+00],\n",
       "       [1.15e+02, 1.85e+02, 0.00e+00],\n",
       "       [1.18e+02, 1.74e+02, 0.00e+00],\n",
       "       [1.28e+02, 1.59e+02, 0.00e+00],\n",
       "       [1.10e+02, 1.30e+02, 0.00e+00],\n",
       "       [1.20e+02, 1.39e+02, 2.00e+00],\n",
       "       [1.08e+02, 1.56e+02, 0.00e+00],\n",
       "       [1.40e+02, 1.62e+02, 0.00e+00],\n",
       "       [1.28e+02, 1.50e+02, 4.00e-01],\n",
       "       [1.20e+02, 1.40e+02, 3.60e+00],\n",
       "       [1.18e+02, 1.40e+02, 1.20e+00],\n",
       "       [1.45e+02, 1.46e+02, 1.00e+00],\n",
       "       [1.25e+02, 1.44e+02, 1.20e+00],\n",
       "       [1.18e+02, 1.90e+02, 0.00e+00],\n",
       "       [1.32e+02, 1.36e+02, 3.00e+00],\n",
       "       [1.30e+02, 9.70e+01, 1.20e+00],\n",
       "       [1.35e+02, 1.32e+02, 0.00e+00],\n",
       "       [1.40e+02, 1.65e+02, 0.00e+00],\n",
       "       [1.38e+02, 1.82e+02, 1.40e+00],\n",
       "       [1.30e+02, 1.32e+02, 1.80e+00],\n",
       "       [1.35e+02, 1.27e+02, 2.80e+00],\n",
       "       [1.30e+02, 1.50e+02, 0.00e+00],\n",
       "       [1.50e+02, 1.54e+02, 4.00e+00],\n",
       "       [1.00e+02, 1.43e+02, 1.20e+00],\n",
       "       [1.40e+02, 1.11e+02, 5.60e+00],\n",
       "       [1.38e+02, 1.74e+02, 1.40e+00],\n",
       "       [1.30e+02, 1.75e+02, 6.00e-01],\n",
       "       [2.00e+02, 1.33e+02, 4.00e+00],\n",
       "       [1.10e+02, 1.26e+02, 2.80e+00],\n",
       "       [1.20e+02, 1.70e+02, 0.00e+00],\n",
       "       [1.24e+02, 1.63e+02, 0.00e+00],\n",
       "       [1.20e+02, 1.47e+02, 4.00e-01],\n",
       "       [9.40e+01, 1.54e+02, 0.00e+00],\n",
       "       [1.30e+02, 2.02e+02, 0.00e+00],\n",
       "       [1.40e+02, 1.86e+02, 0.00e+00],\n",
       "       [1.22e+02, 1.65e+02, 2.00e-01],\n",
       "       [1.35e+02, 1.61e+02, 1.40e+00],\n",
       "       [1.45e+02, 1.25e+02, 2.60e+00],\n",
       "       [1.20e+02, 1.03e+02, 1.40e+00],\n",
       "       [1.20e+02, 1.30e+02, 1.60e+00],\n",
       "       [1.25e+02, 1.66e+02, 2.40e+00],\n",
       "       [1.40e+02, 1.64e+02, 0.00e+00],\n",
       "       [1.70e+02, 1.59e+02, 2.00e-01],\n",
       "       [1.28e+02, 1.84e+02, 0.00e+00],\n",
       "       [1.25e+02, 1.31e+02, 1.80e+00],\n",
       "       [1.05e+02, 1.54e+02, 6.00e-01],\n",
       "       [1.08e+02, 1.52e+02, 0.00e+00],\n",
       "       [1.65e+02, 1.24e+02, 1.00e+00],\n",
       "       [1.12e+02, 1.79e+02, 0.00e+00],\n",
       "       [1.28e+02, 1.70e+02, 0.00e+00],\n",
       "       [1.02e+02, 1.60e+02, 0.00e+00],\n",
       "       [1.52e+02, 1.78e+02, 1.20e+00],\n",
       "       [1.02e+02, 1.22e+02, 6.00e-01],\n",
       "       [1.15e+02, 1.60e+02, 1.60e+00],\n",
       "       [1.60e+02, 1.45e+02, 8.00e-01],\n",
       "       [1.20e+02, 9.60e+01, 2.20e+00],\n",
       "       [1.30e+02, 1.09e+02, 2.40e+00],\n",
       "       [1.40e+02, 1.73e+02, 1.60e+00],\n",
       "       [1.25e+02, 1.71e+02, 0.00e+00],\n",
       "       [1.40e+02, 1.70e+02, 1.20e+00],\n",
       "       [1.18e+02, 1.51e+02, 1.00e+00],\n",
       "       [1.01e+02, 1.56e+02, 0.00e+00],\n",
       "       [1.25e+02, 1.62e+02, 0.00e+00],\n",
       "       [1.10e+02, 1.58e+02, 1.60e+00],\n",
       "       [1.00e+02, 1.22e+02, 1.00e+00],\n",
       "       [1.24e+02, 1.75e+02, 0.00e+00],\n",
       "       [1.32e+02, 1.68e+02, 0.00e+00],\n",
       "       [1.38e+02, 1.69e+02, 0.00e+00],\n",
       "       [1.32e+02, 1.59e+02, 0.00e+00],\n",
       "       [1.26e+02, 1.56e+02, 0.00e+00],\n",
       "       [1.12e+02, 1.38e+02, 0.00e+00],\n",
       "       [1.60e+02, 1.12e+02, 2.90e+00],\n",
       "       [1.42e+02, 1.11e+02, 0.00e+00],\n",
       "       [1.74e+02, 1.43e+02, 0.00e+00],\n",
       "       [1.40e+02, 1.57e+02, 1.20e+00],\n",
       "       [1.45e+02, 1.32e+02, 2.00e+00],\n",
       "       [1.52e+02, 8.80e+01, 1.20e+00],\n",
       "       [1.08e+02, 1.47e+02, 1.00e-01],\n",
       "       [1.32e+02, 1.05e+02, 2.10e+00],\n",
       "       [1.30e+02, 1.62e+02, 1.90e+00],\n",
       "       [1.30e+02, 1.73e+02, 0.00e+00],\n",
       "       [1.24e+02, 1.66e+02, 5.00e-01],\n",
       "       [1.34e+02, 1.50e+02, 1.90e+00],\n",
       "       [1.48e+02, 1.78e+02, 8.00e-01],\n",
       "       [1.78e+02, 1.45e+02, 4.20e+00],\n",
       "       [1.58e+02, 1.61e+02, 0.00e+00],\n",
       "       [1.40e+02, 1.79e+02, 0.00e+00],\n",
       "       [1.20e+02, 1.94e+02, 8.00e-01],\n",
       "       [1.60e+02, 1.20e+02, 0.00e+00],\n",
       "       [1.92e+02, 1.95e+02, 0.00e+00],\n",
       "       [1.40e+02, 1.46e+02, 2.00e+00],\n",
       "       [1.29e+02, 1.63e+02, 0.00e+00],\n",
       "       [1.40e+02, 1.22e+02, 4.20e+00],\n",
       "       [1.32e+02, 1.43e+02, 1.00e-01],\n",
       "       [1.38e+02, 1.06e+02, 1.90e+00],\n",
       "       [1.20e+02, 1.15e+02, 1.50e+00],\n",
       "       [1.00e+02, 1.25e+02, 9.00e-01],\n",
       "       [1.60e+02, 1.31e+02, 1.00e-01],\n",
       "       [1.38e+02, 1.52e+02, 2.00e-01],\n",
       "       [1.20e+02, 1.62e+02, 1.10e+00],\n",
       "       [1.60e+02, 1.25e+02, 0.00e+00],\n",
       "       [1.10e+02, 1.59e+02, 0.00e+00],\n",
       "       [1.80e+02, 1.54e+02, 0.00e+00],\n",
       "       [1.50e+02, 1.73e+02, 2.00e-01],\n",
       "       [1.40e+02, 1.33e+02, 2.00e-01],\n",
       "       [1.10e+02, 1.61e+02, 0.00e+00],\n",
       "       [1.42e+02, 1.47e+02, 0.00e+00],\n",
       "       [1.28e+02, 1.30e+02, 3.00e+00],\n",
       "       [1.44e+02, 1.26e+02, 9.00e-01],\n",
       "       [1.30e+02, 1.55e+02, 0.00e+00],\n",
       "       [1.50e+02, 1.54e+02, 1.40e+00],\n",
       "       [1.20e+02, 1.70e+02, 0.00e+00],\n",
       "       [1.20e+02, 1.82e+02, 3.80e+00],\n",
       "       [1.30e+02, 1.68e+02, 2.00e+00],\n",
       "       [1.78e+02, 1.65e+02, 1.00e+00],\n",
       "       [1.12e+02, 1.60e+02, 0.00e+00],\n",
       "       [1.20e+02, 1.62e+02, 1.90e+00],\n",
       "       [1.05e+02, 1.72e+02, 0.00e+00],\n",
       "       [1.38e+02, 1.52e+02, 0.00e+00],\n",
       "       [1.30e+02, 1.22e+02, 2.00e+00],\n",
       "       [1.38e+02, 1.82e+02, 0.00e+00],\n",
       "       [1.12e+02, 1.72e+02, 0.00e+00],\n",
       "       [1.08e+02, 1.67e+02, 0.00e+00],\n",
       "       [9.40e+01, 1.79e+02, 0.00e+00],\n",
       "       [1.23e+02, 9.50e+01, 2.00e+00],\n",
       "       [1.08e+02, 1.69e+02, 1.80e+00],\n",
       "       [1.18e+02, 1.92e+02, 7.00e-01],\n",
       "       [1.12e+02, 1.43e+02, 1.00e-01],\n",
       "       [1.52e+02, 1.72e+02, 0.00e+00],\n",
       "       [1.10e+02, 1.08e+02, 0.00e+00],\n",
       "       [1.12e+02, 1.32e+02, 1.00e-01],\n",
       "       [1.36e+02, 1.69e+02, 1.00e-01],\n",
       "       [1.80e+02, 1.17e+02, 3.40e+00],\n",
       "       [1.18e+02, 1.26e+02, 8.00e-01],\n",
       "       [1.20e+02, 1.21e+02, 2.00e-01],\n",
       "       [1.60e+02, 1.63e+02, 0.00e+00],\n",
       "       [1.22e+02, 1.16e+02, 3.20e+00],\n",
       "       [1.30e+02, 1.03e+02, 1.60e+00],\n",
       "       [1.20e+02, 1.44e+02, 8.00e-01],\n",
       "       [1.34e+02, 1.62e+02, 0.00e+00],\n",
       "       [1.20e+02, 1.62e+02, 0.00e+00],\n",
       "       [1.10e+02, 1.53e+02, 0.00e+00],\n",
       "       [1.26e+02, 1.63e+02, 0.00e+00],\n",
       "       [1.30e+02, 1.63e+02, 0.00e+00],\n",
       "       [1.34e+02, 1.45e+02, 2.60e+00],\n",
       "       [1.20e+02, 9.60e+01, 0.00e+00],\n",
       "       [1.20e+02, 7.10e+01, 1.00e+00],\n",
       "       [1.00e+02, 1.56e+02, 1.00e-01],\n",
       "       [1.10e+02, 1.18e+02, 1.00e+00],\n",
       "       [1.25e+02, 1.68e+02, 1.00e+00],\n",
       "       [1.28e+02, 1.40e+02, 0.00e+00],\n",
       "       [1.10e+02, 1.26e+02, 1.50e+00],\n",
       "       [1.46e+02, 1.05e+02, 2.00e+00],\n",
       "       [1.28e+02, 1.05e+02, 2.00e-01],\n",
       "       [1.20e+02, 1.57e+02, 6.00e-01],\n",
       "       [1.15e+02, 1.81e+02, 1.20e+00],\n",
       "       [1.20e+02, 1.73e+02, 0.00e+00],\n",
       "       [1.06e+02, 1.42e+02, 3.00e-01],\n",
       "       [1.40e+02, 1.16e+02, 1.10e+00],\n",
       "       [1.56e+02, 1.43e+02, 0.00e+00],\n",
       "       [1.24e+02, 1.41e+02, 3.00e-01],\n",
       "       [1.18e+02, 1.49e+02, 3.00e-01],\n",
       "       [1.36e+02, 1.52e+02, 0.00e+00],\n",
       "       [1.50e+02, 1.71e+02, 9.00e-01],\n",
       "       [1.20e+02, 1.69e+02, 0.00e+00],\n",
       "       [1.38e+02, 1.25e+02, 3.60e+00],\n",
       "       [1.36e+02, 1.25e+02, 1.80e+00],\n",
       "       [1.28e+02, 1.56e+02, 1.00e+00],\n",
       "       [1.26e+02, 1.34e+02, 2.20e+00],\n",
       "       [1.52e+02, 1.81e+02, 0.00e+00],\n",
       "       [1.30e+02, 1.50e+02, 0.00e+00],\n",
       "       [1.40e+02, 1.38e+02, 1.90e+00],\n",
       "       [1.60e+02, 1.38e+02, 2.30e+00],\n",
       "       [1.40e+02, 1.20e+02, 1.80e+00],\n",
       "       [1.12e+02, 1.25e+02, 1.60e+00],\n",
       "       [1.34e+02, 1.62e+02, 8.00e-01],\n",
       "       [1.70e+02, 1.55e+02, 6.00e-01],\n",
       "       [1.46e+02, 1.52e+02, 0.00e+00],\n",
       "       [1.38e+02, 1.52e+02, 0.00e+00],\n",
       "       [1.54e+02, 1.64e+02, 0.00e+00],\n",
       "       [1.30e+02, 1.31e+02, 6.00e-01],\n",
       "       [1.10e+02, 1.43e+02, 3.00e+00],\n",
       "       [1.30e+02, 1.79e+02, 0.00e+00],\n",
       "       [1.28e+02, 1.30e+02, 2.00e+00],\n",
       "       [1.22e+02, 1.74e+02, 0.00e+00],\n",
       "       [1.48e+02, 1.61e+02, 0.00e+00],\n",
       "       [1.14e+02, 1.40e+02, 4.40e+00],\n",
       "       [1.70e+02, 1.46e+02, 2.80e+00],\n",
       "       [1.25e+02, 1.44e+02, 4.00e-01],\n",
       "       [1.30e+02, 1.63e+02, 0.00e+00],\n",
       "       [1.20e+02, 1.69e+02, 0.00e+00],\n",
       "       [1.52e+02, 1.50e+02, 8.00e-01],\n",
       "       [1.32e+02, 1.66e+02, 1.20e+00],\n",
       "       [1.20e+02, 1.44e+02, 2.80e+00],\n",
       "       [1.40e+02, 1.44e+02, 4.00e+00],\n",
       "       [1.24e+02, 1.36e+02, 0.00e+00],\n",
       "       [1.20e+02, 1.82e+02, 0.00e+00],\n",
       "       [1.64e+02, 9.00e+01, 1.00e+00],\n",
       "       [1.40e+02, 1.23e+02, 2.00e-01],\n",
       "       [1.10e+02, 1.32e+02, 1.20e+00],\n",
       "       [1.44e+02, 1.41e+02, 3.40e+00],\n",
       "       [1.30e+02, 1.15e+02, 1.20e+00],\n",
       "       [1.30e+02, 1.74e+02, 0.00e+00],\n",
       "       [1.38e+02, 1.73e+02, 0.00e+00]])"
      ]
     },
     "execution_count": 70,
     "metadata": {},
     "output_type": "execute_result"
    }
   ],
   "source": [
    "SimpleImputer(strategy='mean').fit_transform(df[['restbps','max_heartrate','oldpeak',]]\n",
    "\n",
    ")"
   ]
  },
  {
   "cell_type": "code",
   "execution_count": 71,
   "id": "5909b589",
   "metadata": {},
   "outputs": [
    {
     "data": {
      "text/plain": [
       "array([[ 0.75752504,  0.01719733,  1.08733806],\n",
       "       [ 1.61121989, -1.82190531,  0.39718162],\n",
       "       [-0.6652997 , -0.90235399,  1.34614673],\n",
       "       [-0.0961698 ,  1.63735918,  2.12257273],\n",
       "       [-0.0961698 ,  0.98053681,  0.31091206],\n",
       "       [-0.6652997 ,  1.24326576, -0.20670527],\n",
       "       [ 0.47296009,  0.45507891,  2.20884228],\n",
       "       [-0.6652997 ,  0.58644339, -0.37924438],\n",
       "       [-0.0961698 , -0.11416714,  0.31091206],\n",
       "       [ 0.47296009,  0.23613812,  1.77749451],\n",
       "       [ 0.47296009, -0.07037899, -0.55178349],\n",
       "       [ 0.47296009,  0.1485618 ,  0.22464251],\n",
       "       [-0.0961698 , -0.33310794, -0.37924438],\n",
       "       [-0.6652997 ,  1.02432497, -0.89686172],\n",
       "       [ 2.29417576,  0.54265523, -0.46551394],\n",
       "       [ 1.04208999,  1.06811312,  0.48345117],\n",
       "       [-1.2344296 ,  0.80538418, -0.03416616],\n",
       "       [ 0.47296009,  0.45507891,  0.13837295],\n",
       "       [-0.0961698 , -0.46447241, -0.7243226 ],\n",
       "       [-0.0961698 ,  0.93674865, -0.37924438],\n",
       "       [-1.2344296 , -0.24553162,  0.65599028],\n",
       "       [ 1.04208999,  0.54265523, -0.03416616],\n",
       "       [-0.6652997 ,  0.45507891,  0.65599028],\n",
       "       [ 0.01765618,  1.02432497,  1.86376406],\n",
       "       [-0.0961698 , -0.77098952,  1.17360762],\n",
       "       [-0.6652997 ,  0.36750259,  0.48345117],\n",
       "       [-0.6652997 ,  0.98053681, -0.89686172],\n",
       "       [ 1.04208999, -1.55917636,  1.34614673],\n",
       "       [ 1.04208999,  0.93674865,  0.39718162],\n",
       "       [-1.2344296 , -1.55917636,  0.82852939],\n",
       "       [ 0.47296009,  0.06098549,  0.65599028],\n",
       "       [-0.83603867,  0.45507891,  0.31091206],\n",
       "       [ 0.47296009,  0.36750259, -0.89686172],\n",
       "       [ 0.18839514,  0.49886707, -0.46551394],\n",
       "       [-0.0961698 ,  1.28705392, -0.55178349],\n",
       "       [ 0.47296009,  1.24326576, -0.89686172],\n",
       "       [-0.6652997 , -1.29644741,  1.25987717],\n",
       "       [ 1.04208999, -1.64675268, -0.37924438],\n",
       "       [ 0.01765618, -0.77098952,  0.13837295],\n",
       "       [ 1.04208999, -0.55204873, -0.03416616],\n",
       "       [ 1.04208999, -1.55917636, -0.03416616],\n",
       "       [ 0.47296009,  1.24326576,  0.31091206],\n",
       "       [ 1.61121989,  0.54265523, -0.55178349],\n",
       "       [ 1.04208999,  0.32371444,  0.48345117],\n",
       "       [-0.0961698 ,  0.84917233, -0.89686172],\n",
       "       [-1.12060362,  0.6740197 ,  1.25987717],\n",
       "       [-1.2344296 , -1.16508294, -0.37924438],\n",
       "       [ 1.04208999, -0.94614215,  1.34614673],\n",
       "       [ 0.47296009,  0.32371444, -0.20670527],\n",
       "       [-0.0961698 ,  0.10477365,  0.13837295],\n",
       "       [-1.51899455,  0.80538418, -0.89686172],\n",
       "       [-0.6652997 , -0.42068425, -0.55178349],\n",
       "       [-1.12060362,  0.1485618 , -0.89686172],\n",
       "       [-0.0961698 ,  1.68114734, -0.89686172],\n",
       "       [-0.0961698 , -0.24553162,  0.31091206],\n",
       "       [-0.43764774, -1.77811715,  1.00106851],\n",
       "       [ 0.47296009,  0.58644339, -0.37924438],\n",
       "       [-1.2344296 ,  0.36750259, -0.89686172],\n",
       "       [-0.38073475,  0.10477365, -0.46551394],\n",
       "       [-0.38073475, -1.07750662,  0.31091206],\n",
       "       [-0.0961698 , -0.33310794,  0.13837295],\n",
       "       [ 0.58678607,  0.45507891,  0.31091206],\n",
       "       [-0.20999578, -0.81477768,  1.00106851],\n",
       "       [ 0.18839514,  0.89296049, -0.89686172],\n",
       "       [-0.6652997 , -1.60296452,  0.31091206],\n",
       "       [ 0.75752504, -0.33310794,  1.51868584],\n",
       "       [ 0.47296009,  0.23613812,  1.69122495],\n",
       "       [ 1.04208999,  0.6740197 ,  0.48345117],\n",
       "       [ 2.18034978, -0.42068425,  2.03630317],\n",
       "       [ 1.04208999, -0.11416714,  2.20884228],\n",
       "       [ 1.32665494, -0.07037899, -0.20670527],\n",
       "       [-0.38073475,  0.58644339, -0.7243226 ],\n",
       "       [-0.6652997 , -2.21599874,  0.65599028],\n",
       "       [-1.2344296 ,  0.36750259, -0.37924438],\n",
       "       [-1.2344296 ,  1.1994776 , -0.89686172],\n",
       "       [ 1.61121989,  0.06098549, -0.20670527],\n",
       "       [-0.38073475, -0.37689609,  1.51868584],\n",
       "       [ 0.47296009, -0.33310794,  0.39718162],\n",
       "       [-0.0961698 ,  1.33084207, -0.7243226 ],\n",
       "       [ 1.04208999, -1.69054084, -0.20670527],\n",
       "       [-1.57590754, -0.07037899,  1.69122495],\n",
       "       [-0.0961698 , -0.28931978, -0.55178349],\n",
       "       [ 0.47296009,  1.41841839, -0.89686172],\n",
       "       [ 2.74947968,  0.01719733,  0.48345117],\n",
       "       [-0.6652997 ,  0.98053681, -0.7243226 ],\n",
       "       [ 0.47296009,  1.33084207, -0.89686172],\n",
       "       [ 0.35913411,  0.27992628, -0.89686172],\n",
       "       [-0.20999578, -1.51538821, -0.89686172],\n",
       "       [ 0.35913411,  0.45507891, -0.89686172],\n",
       "       [-0.0961698 , -0.02659083, -0.46551394],\n",
       "       [-0.6652997 ,  0.06098549, -0.55178349],\n",
       "       [ 1.61121989, -0.20174346,  4.45185073],\n",
       "       [-0.0961698 , -0.1579553 ,  0.65599028],\n",
       "       [-1.34825558,  1.11190128, -0.37924438],\n",
       "       [ 0.18839514,  0.98053681, -0.89686172],\n",
       "       [-0.20999578,  0.49886707, -0.89686172],\n",
       "       [-1.2344296 , -0.33310794,  0.13837295],\n",
       "       [ 1.04208999,  0.32371444,  1.34614673],\n",
       "       [ 0.13148215,  0.36750259, -0.20670527],\n",
       "       [-0.55147372,  1.59357102, -0.89686172],\n",
       "       [-0.94986465,  1.54978286, -0.89686172],\n",
       "       [-0.77912568,  1.06811312, -0.89686172],\n",
       "       [-0.20999578,  0.41129075, -0.89686172],\n",
       "       [-1.2344296 , -0.85856583, -0.89686172],\n",
       "       [-0.6652997 , -0.46447241,  0.82852939],\n",
       "       [-1.34825558,  0.27992628, -0.89686172],\n",
       "       [ 0.47296009,  0.54265523, -0.89686172],\n",
       "       [-0.20999578,  0.01719733, -0.55178349],\n",
       "       [-0.6652997 , -0.42068425,  2.20884228],\n",
       "       [-0.77912568, -0.42068425,  0.13837295],\n",
       "       [ 0.75752504, -0.1579553 , -0.03416616],\n",
       "       [-0.38073475, -0.24553162,  0.13837295],\n",
       "       [-0.77912568,  1.76872365, -0.89686172],\n",
       "       [ 0.01765618, -0.59583688,  1.69122495],\n",
       "       [-0.0961698 , -2.30357505,  0.13837295],\n",
       "       [ 0.18839514, -0.77098952, -0.89686172],\n",
       "       [ 0.47296009,  0.6740197 , -0.89686172],\n",
       "       [ 0.35913411,  1.41841839,  0.31091206],\n",
       "       [-0.0961698 , -0.77098952,  0.65599028],\n",
       "       [ 0.18839514, -0.98993031,  1.51868584],\n",
       "       [-0.0961698 ,  0.01719733, -0.89686172],\n",
       "       [ 1.04208999,  0.19234996,  2.55392051],\n",
       "       [-1.80355949, -0.28931978,  0.13837295],\n",
       "       [ 0.47296009, -1.69054084,  3.93423339],\n",
       "       [ 0.35913411,  1.06811312,  0.31091206],\n",
       "       [-0.0961698 ,  1.11190128, -0.37924438],\n",
       "       [ 3.88773947, -0.72720136,  2.55392051],\n",
       "       [-1.2344296 , -1.03371847,  1.51868584],\n",
       "       [-0.6652997 ,  0.89296049, -0.89686172],\n",
       "       [-0.43764774,  0.58644339, -0.89686172],\n",
       "       [-0.6652997 , -0.11416714, -0.55178349],\n",
       "       [-2.14503743,  0.19234996, -0.89686172],\n",
       "       [-0.0961698 ,  2.29418155, -0.89686172],\n",
       "       [ 0.47296009,  1.59357102, -0.89686172],\n",
       "       [-0.55147372,  0.6740197 , -0.7243226 ],\n",
       "       [ 0.18839514,  0.49886707,  0.31091206],\n",
       "       [ 0.75752504, -1.07750662,  1.34614673],\n",
       "       [-0.6652997 , -2.0408461 ,  0.31091206],\n",
       "       [-0.6652997 , -0.85856583,  0.48345117],\n",
       "       [-0.38073475,  0.71780786,  1.17360762],\n",
       "       [ 0.47296009,  0.63023154, -0.89686172],\n",
       "       [ 2.18034978,  0.41129075, -0.7243226 ],\n",
       "       [-0.20999578,  1.50599471, -0.89686172],\n",
       "       [-0.38073475, -0.81477768,  0.65599028],\n",
       "       [-1.51899455,  0.19234996, -0.37924438],\n",
       "       [-1.34825558,  0.10477365, -0.89686172],\n",
       "       [ 1.89578483, -1.12129478, -0.03416616],\n",
       "       [-1.12060362,  1.28705392, -0.89686172],\n",
       "       [-0.20999578,  0.89296049, -0.89686172],\n",
       "       [-1.68973352,  0.45507891, -0.89686172],\n",
       "       [ 1.15591597,  1.24326576,  0.13837295],\n",
       "       [-1.68973352, -1.2088711 , -0.37924438],\n",
       "       [-0.94986465,  0.45507891,  0.48345117],\n",
       "       [ 1.61121989, -0.20174346, -0.20670527],\n",
       "       [-0.6652997 , -2.34736321,  1.00106851],\n",
       "       [-0.0961698 , -1.77811715,  1.17360762],\n",
       "       [ 0.47296009,  1.02432497,  0.48345117],\n",
       "       [-0.38073475,  0.93674865, -0.89686172],\n",
       "       [ 0.47296009,  0.89296049,  0.13837295],\n",
       "       [-0.77912568,  0.06098549, -0.03416616],\n",
       "       [-1.7466465 ,  0.27992628, -0.89686172],\n",
       "       [-0.38073475,  0.54265523, -0.89686172],\n",
       "       [-1.2344296 ,  0.36750259,  0.48345117],\n",
       "       [-1.80355949, -1.2088711 , -0.03416616],\n",
       "       [-0.43764774,  1.11190128, -0.89686172],\n",
       "       [ 0.01765618,  0.80538418, -0.89686172],\n",
       "       [ 0.35913411,  0.84917233, -0.89686172],\n",
       "       [ 0.01765618,  0.41129075, -0.89686172],\n",
       "       [-0.32382176,  0.27992628, -0.89686172],\n",
       "       [-1.12060362, -0.50826057, -0.89686172],\n",
       "       [ 1.61121989, -1.64675268,  1.60495539],\n",
       "       [ 0.58678607, -1.69054084, -0.89686172],\n",
       "       [ 2.40800174, -0.28931978, -0.89686172],\n",
       "       [ 0.47296009,  0.32371444,  0.13837295],\n",
       "       [ 0.75752504, -0.77098952,  0.82852939],\n",
       "       [ 1.15591597, -2.69766847,  0.13837295],\n",
       "       [-1.34825558, -0.11416714, -0.81059216],\n",
       "       [ 0.01765618, -1.95326979,  0.91479895],\n",
       "       [-0.0961698 ,  0.54265523,  0.74225984],\n",
       "       [-0.0961698 ,  1.02432497, -0.89686172],\n",
       "       [-0.43764774,  0.71780786, -0.46551394],\n",
       "       [ 0.13148215,  0.01719733,  0.74225984],\n",
       "       [ 0.92826401,  1.24326576, -0.20670527],\n",
       "       [ 2.6356537 , -0.20174346,  2.72645962],\n",
       "       [ 1.49739391,  0.49886707, -0.89686172],\n",
       "       [ 0.47296009,  1.28705392, -0.89686172],\n",
       "       [-0.6652997 ,  1.94387629, -0.20670527],\n",
       "       [ 1.61121989, -1.29644741, -0.89686172],\n",
       "       [ 3.43243556,  1.98766445, -0.89686172],\n",
       "       [ 0.47296009, -0.1579553 ,  0.82852939],\n",
       "       [-0.15308279,  0.58644339, -0.89686172],\n",
       "       [ 0.47296009, -1.2088711 ,  2.72645962],\n",
       "       [ 0.01765618, -0.28931978, -0.81059216],\n",
       "       [ 0.35913411, -1.90948163,  0.74225984],\n",
       "       [-0.6652997 , -1.51538821,  0.39718162],\n",
       "       [-1.80355949, -1.07750662, -0.12043572],\n",
       "       [ 1.61121989, -0.81477768, -0.81059216],\n",
       "       [ 0.35913411,  0.10477365, -0.7243226 ],\n",
       "       [-0.6652997 ,  0.54265523,  0.05210339],\n",
       "       [ 1.61121989, -1.07750662, -0.89686172],\n",
       "       [-1.2344296 ,  0.41129075, -0.89686172],\n",
       "       [ 2.74947968,  0.19234996, -0.89686172],\n",
       "       [ 1.04208999,  1.02432497, -0.7243226 ],\n",
       "       [ 0.47296009, -0.72720136, -0.7243226 ],\n",
       "       [-1.2344296 ,  0.49886707, -0.89686172],\n",
       "       [ 0.58678607, -0.11416714, -0.89686172],\n",
       "       [-0.20999578, -0.85856583,  1.69122495],\n",
       "       [ 0.70061205, -1.03371847, -0.12043572],\n",
       "       [-0.0961698 ,  0.23613812, -0.89686172],\n",
       "       [ 1.04208999,  0.19234996,  0.31091206],\n",
       "       [-0.6652997 ,  0.89296049, -0.89686172],\n",
       "       [-0.6652997 ,  1.41841839,  2.38138139],\n",
       "       [-0.0961698 ,  0.80538418,  0.82852939],\n",
       "       [ 2.6356537 ,  0.6740197 , -0.03416616],\n",
       "       [-1.12060362,  0.45507891, -0.89686172],\n",
       "       [-0.6652997 ,  0.54265523,  0.74225984],\n",
       "       [-1.51899455,  0.98053681, -0.89686172],\n",
       "       [ 0.35913411,  0.10477365, -0.89686172],\n",
       "       [-0.0961698 , -1.2088711 ,  0.82852939],\n",
       "       [ 0.35913411,  1.41841839, -0.89686172],\n",
       "       [-1.12060362,  0.98053681, -0.89686172],\n",
       "       [-1.34825558,  0.76159602, -0.89686172],\n",
       "       [-2.14503743,  1.28705392, -0.89686172],\n",
       "       [-0.49456073, -2.39115137,  0.82852939],\n",
       "       [-1.34825558,  0.84917233,  0.65599028],\n",
       "       [-0.77912568,  1.85629997, -0.29297483],\n",
       "       [-1.12060362, -0.28931978, -0.81059216],\n",
       "       [ 1.15591597,  0.98053681, -0.89686172],\n",
       "       [-1.2344296 , -1.82190531, -0.89686172],\n",
       "       [-1.12060362, -0.77098952, -0.81059216],\n",
       "       [ 0.24530813,  0.84917233, -0.81059216],\n",
       "       [ 2.74947968, -1.42781189,  2.03630317],\n",
       "       [-0.77912568, -1.03371847, -0.20670527],\n",
       "       [-0.6652997 , -1.25265926, -0.7243226 ],\n",
       "       [ 1.61121989,  0.58644339, -0.89686172],\n",
       "       [-0.55147372, -1.47160005,  1.86376406],\n",
       "       [-0.0961698 , -2.0408461 ,  0.48345117],\n",
       "       [-0.6652997 , -0.24553162, -0.20670527],\n",
       "       [ 0.13148215,  0.54265523, -0.89686172],\n",
       "       [-0.6652997 ,  0.54265523, -0.89686172],\n",
       "       [-1.2344296 ,  0.1485618 , -0.89686172],\n",
       "       [-0.32382176,  0.58644339, -0.89686172],\n",
       "       [-0.0961698 ,  0.58644339, -0.89686172],\n",
       "       [ 0.13148215, -0.20174346,  1.34614673],\n",
       "       [-0.6652997 , -2.34736321, -0.89686172],\n",
       "       [-0.6652997 , -3.44206716, -0.03416616],\n",
       "       [-1.80355949,  0.27992628, -0.81059216],\n",
       "       [-1.2344296 , -1.38402373, -0.03416616],\n",
       "       [-0.38073475,  0.80538418, -0.03416616],\n",
       "       [-0.20999578, -0.42068425, -0.89686172],\n",
       "       [-1.2344296 , -1.03371847,  0.39718162],\n",
       "       [ 0.81443803, -1.95326979,  0.82852939],\n",
       "       [-0.20999578, -1.95326979, -0.7243226 ],\n",
       "       [-0.6652997 ,  0.32371444, -0.37924438],\n",
       "       [-0.94986465,  1.37463023,  0.13837295],\n",
       "       [-0.6652997 ,  1.02432497, -0.89686172],\n",
       "       [-1.46208156, -0.33310794, -0.63805305],\n",
       "       [ 0.47296009, -1.47160005,  0.05210339],\n",
       "       [ 1.38356793, -0.28931978, -0.89686172],\n",
       "       [-0.43764774, -0.37689609, -0.63805305],\n",
       "       [-0.77912568, -0.02659083, -0.63805305],\n",
       "       [ 0.24530813,  0.10477365, -0.89686172],\n",
       "       [ 1.04208999,  0.93674865, -0.12043572],\n",
       "       [-0.6652997 ,  0.84917233, -0.89686172],\n",
       "       [ 0.35913411, -1.07750662,  2.20884228],\n",
       "       [ 0.24530813, -1.07750662,  0.65599028],\n",
       "       [-0.20999578,  0.27992628, -0.03416616],\n",
       "       [-0.32382176, -0.6834132 ,  1.00106851],\n",
       "       [ 1.15591597,  1.37463023, -0.89686172],\n",
       "       [-0.0961698 ,  0.01719733, -0.89686172],\n",
       "       [ 0.47296009, -0.50826057,  0.74225984],\n",
       "       [ 1.61121989, -0.50826057,  1.08733806],\n",
       "       [ 0.47296009, -1.29644741,  0.65599028],\n",
       "       [-1.12060362, -1.07750662,  0.48345117],\n",
       "       [ 0.13148215,  0.54265523, -0.20670527],\n",
       "       [ 2.18034978,  0.23613812, -0.37924438],\n",
       "       [ 0.81443803,  0.10477365, -0.89686172],\n",
       "       [ 0.35913411,  0.10477365, -0.89686172],\n",
       "       [ 1.26974195,  0.63023154, -0.89686172],\n",
       "       [-0.0961698 , -0.81477768, -0.37924438],\n",
       "       [-1.2344296 , -0.28931978,  1.69122495],\n",
       "       [-0.0961698 ,  1.28705392, -0.89686172],\n",
       "       [-0.20999578, -0.85856583,  0.82852939],\n",
       "       [-0.55147372,  1.06811312, -0.89686172],\n",
       "       [ 0.92826401,  0.49886707, -0.89686172],\n",
       "       [-1.00677764, -0.42068425,  2.89899873],\n",
       "       [ 2.18034978, -0.1579553 ,  1.51868584],\n",
       "       [-0.38073475, -0.24553162, -0.55178349],\n",
       "       [-0.0961698 ,  0.58644339, -0.89686172],\n",
       "       [-0.6652997 ,  0.84917233, -0.89686172],\n",
       "       [ 1.15591597,  0.01719733, -0.20670527],\n",
       "       [ 0.01765618,  0.71780786,  0.13837295],\n",
       "       [-0.6652997 , -0.24553162,  1.51868584],\n",
       "       [ 0.47296009, -0.24553162,  2.55392051],\n",
       "       [-0.43764774, -0.59583688, -0.89686172],\n",
       "       [-0.6652997 ,  1.41841839, -0.89686172],\n",
       "       [ 1.83887184, -2.61009216, -0.03416616],\n",
       "       [ 0.47296009, -1.16508294, -0.7243226 ],\n",
       "       [-1.2344296 , -0.77098952,  0.13837295],\n",
       "       [ 0.70061205, -0.37689609,  2.03630317],\n",
       "       [-0.0961698 , -1.51538821,  0.13837295],\n",
       "       [-0.0961698 ,  1.06811312, -0.89686172],\n",
       "       [ 0.35913411,  1.02432497, -0.89686172]])"
      ]
     },
     "execution_count": 71,
     "metadata": {},
     "output_type": "execute_result"
    }
   ],
   "source": [
    "StandardScaler().fit_transform(df[['restbps','max_heartrate','oldpeak']]\n",
    "\n",
    ")\n",
    "\n"
   ]
  },
  {
   "cell_type": "code",
   "execution_count": 72,
   "id": "11027db1",
   "metadata": {},
   "outputs": [],
   "source": [
    "# Begin making the pipeline\n",
    "\n",
    "imp_ohe = make_pipeline(SimpleImputer(strategy='most_frequent'),\n",
    "             OneHotEncoder(sparse=False))\n",
    "\n",
    "imp_mean = make_pipeline(SimpleImputer(strategy='mean'),\n",
    "                       StandardScaler())\n",
    "\n",
    "preprocessor2 = make_column_transformer((imp_ohe, ['sex', 'chest_pain_type', 'exang']),\n",
    "                       (imp_mean, ['restbps', 'max_heartrate','oldpeak'])\n",
    "                       )"
   ]
  },
  {
   "cell_type": "code",
   "execution_count": 73,
   "id": "3dd30e7a",
   "metadata": {},
   "outputs": [],
   "source": [
    "clf2 = LogisticRegression()  "
   ]
  },
  {
   "cell_type": "code",
   "execution_count": 74,
   "id": "3a598df7",
   "metadata": {},
   "outputs": [
    {
     "data": {
      "text/plain": [
       "Pipeline(steps=[('columntransformer',\n",
       "                 ColumnTransformer(transformers=[('pipeline-1',\n",
       "                                                  Pipeline(steps=[('simpleimputer',\n",
       "                                                                   SimpleImputer(strategy='most_frequent')),\n",
       "                                                                  ('onehotencoder',\n",
       "                                                                   OneHotEncoder(sparse=False))]),\n",
       "                                                  ['sex', 'chest_pain_type',\n",
       "                                                   'exang']),\n",
       "                                                 ('pipeline-2',\n",
       "                                                  Pipeline(steps=[('simpleimputer',\n",
       "                                                                   SimpleImputer()),\n",
       "                                                                  ('standardscaler',\n",
       "                                                                   StandardScaler())]),\n",
       "                                                  ['restbps', 'max_heartrate',\n",
       "                                                   'oldpeak'])])),\n",
       "                ('logisticregression', LogisticRegression())])"
      ]
     },
     "execution_count": 74,
     "metadata": {},
     "output_type": "execute_result"
    }
   ],
   "source": [
    "pipe2 = make_pipeline(preprocessor2, clf2)\n",
    "pipe2"
   ]
  },
  {
   "cell_type": "code",
   "execution_count": 75,
   "id": "37f0a26b",
   "metadata": {},
   "outputs": [],
   "source": [
    "pipe2.fit(X_train, y_train)\n",
    "y_pred2 = pipe2.predict(X_test)\n",
    "# y_pred2"
   ]
  },
  {
   "cell_type": "code",
   "execution_count": 76,
   "id": "77d73964",
   "metadata": {},
   "outputs": [
    {
     "name": "stdout",
     "output_type": "stream",
     "text": [
      "R2 Metric 0.27\n"
     ]
    }
   ],
   "source": [
    "print('R2 Metric', round(metrics.r2_score(y_test, y_pred2),2))"
   ]
  },
  {
   "cell_type": "code",
   "execution_count": 77,
   "id": "d1a03d68",
   "metadata": {},
   "outputs": [
    {
     "data": {
      "text/plain": [
       "array([0.3592106 , 0.31108551, 0.40160966, 0.25819889, 0.31622777,\n",
       "       0.4472136 , 0.40824829, 0.31622777, 0.48304589, 0.4472136 ])"
      ]
     },
     "execution_count": 77,
     "metadata": {},
     "output_type": "execute_result"
    }
   ],
   "source": [
    "- (cross_val_score(pipe1, X, y, cv=10, scoring='neg_root_mean_squared_error'))"
   ]
  },
  {
   "cell_type": "markdown",
   "id": "eac78102",
   "metadata": {},
   "source": [
    "## Performed a Grid Search to determine best Pipeline to determine factors."
   ]
  },
  {
   "cell_type": "code",
   "execution_count": 78,
   "id": "9d10fcf6",
   "metadata": {
    "scrolled": true
   },
   "outputs": [
    {
     "data": {
      "text/plain": [
       "{'memory': None,\n",
       " 'steps': [('columntransformer',\n",
       "   ColumnTransformer(transformers=[('pipeline-1',\n",
       "                                    Pipeline(steps=[('simpleimputer',\n",
       "                                                     SimpleImputer(strategy='most_frequent')),\n",
       "                                                    ('onehotencoder',\n",
       "                                                     OneHotEncoder(sparse=False))]),\n",
       "                                    ['sex', 'chest_pain_type', 'exang']),\n",
       "                                   ('pipeline-2',\n",
       "                                    Pipeline(steps=[('simpleimputer',\n",
       "                                                     SimpleImputer()),\n",
       "                                                    ('standardscaler',\n",
       "                                                     StandardScaler())]),\n",
       "                                    ['restbps', 'max_heartrate', 'oldpeak'])])),\n",
       "  ('logisticregression', LogisticRegression())],\n",
       " 'verbose': False,\n",
       " 'columntransformer': ColumnTransformer(transformers=[('pipeline-1',\n",
       "                                  Pipeline(steps=[('simpleimputer',\n",
       "                                                   SimpleImputer(strategy='most_frequent')),\n",
       "                                                  ('onehotencoder',\n",
       "                                                   OneHotEncoder(sparse=False))]),\n",
       "                                  ['sex', 'chest_pain_type', 'exang']),\n",
       "                                 ('pipeline-2',\n",
       "                                  Pipeline(steps=[('simpleimputer',\n",
       "                                                   SimpleImputer()),\n",
       "                                                  ('standardscaler',\n",
       "                                                   StandardScaler())]),\n",
       "                                  ['restbps', 'max_heartrate', 'oldpeak'])]),\n",
       " 'logisticregression': LogisticRegression(),\n",
       " 'columntransformer__n_jobs': None,\n",
       " 'columntransformer__remainder': 'drop',\n",
       " 'columntransformer__sparse_threshold': 0.3,\n",
       " 'columntransformer__transformer_weights': None,\n",
       " 'columntransformer__transformers': [('pipeline-1',\n",
       "   Pipeline(steps=[('simpleimputer', SimpleImputer(strategy='most_frequent')),\n",
       "                   ('onehotencoder', OneHotEncoder(sparse=False))]),\n",
       "   ['sex', 'chest_pain_type', 'exang']),\n",
       "  ('pipeline-2',\n",
       "   Pipeline(steps=[('simpleimputer', SimpleImputer()),\n",
       "                   ('standardscaler', StandardScaler())]),\n",
       "   ['restbps', 'max_heartrate', 'oldpeak'])],\n",
       " 'columntransformer__verbose': False,\n",
       " 'columntransformer__verbose_feature_names_out': True,\n",
       " 'columntransformer__pipeline-1': Pipeline(steps=[('simpleimputer', SimpleImputer(strategy='most_frequent')),\n",
       "                 ('onehotencoder', OneHotEncoder(sparse=False))]),\n",
       " 'columntransformer__pipeline-2': Pipeline(steps=[('simpleimputer', SimpleImputer()),\n",
       "                 ('standardscaler', StandardScaler())]),\n",
       " 'columntransformer__pipeline-1__memory': None,\n",
       " 'columntransformer__pipeline-1__steps': [('simpleimputer',\n",
       "   SimpleImputer(strategy='most_frequent')),\n",
       "  ('onehotencoder', OneHotEncoder(sparse=False))],\n",
       " 'columntransformer__pipeline-1__verbose': False,\n",
       " 'columntransformer__pipeline-1__simpleimputer': SimpleImputer(strategy='most_frequent'),\n",
       " 'columntransformer__pipeline-1__onehotencoder': OneHotEncoder(sparse=False),\n",
       " 'columntransformer__pipeline-1__simpleimputer__add_indicator': False,\n",
       " 'columntransformer__pipeline-1__simpleimputer__copy': True,\n",
       " 'columntransformer__pipeline-1__simpleimputer__fill_value': None,\n",
       " 'columntransformer__pipeline-1__simpleimputer__missing_values': nan,\n",
       " 'columntransformer__pipeline-1__simpleimputer__strategy': 'most_frequent',\n",
       " 'columntransformer__pipeline-1__simpleimputer__verbose': 0,\n",
       " 'columntransformer__pipeline-1__onehotencoder__categories': 'auto',\n",
       " 'columntransformer__pipeline-1__onehotencoder__drop': None,\n",
       " 'columntransformer__pipeline-1__onehotencoder__dtype': numpy.float64,\n",
       " 'columntransformer__pipeline-1__onehotencoder__handle_unknown': 'error',\n",
       " 'columntransformer__pipeline-1__onehotencoder__sparse': False,\n",
       " 'columntransformer__pipeline-2__memory': None,\n",
       " 'columntransformer__pipeline-2__steps': [('simpleimputer', SimpleImputer()),\n",
       "  ('standardscaler', StandardScaler())],\n",
       " 'columntransformer__pipeline-2__verbose': False,\n",
       " 'columntransformer__pipeline-2__simpleimputer': SimpleImputer(),\n",
       " 'columntransformer__pipeline-2__standardscaler': StandardScaler(),\n",
       " 'columntransformer__pipeline-2__simpleimputer__add_indicator': False,\n",
       " 'columntransformer__pipeline-2__simpleimputer__copy': True,\n",
       " 'columntransformer__pipeline-2__simpleimputer__fill_value': None,\n",
       " 'columntransformer__pipeline-2__simpleimputer__missing_values': nan,\n",
       " 'columntransformer__pipeline-2__simpleimputer__strategy': 'mean',\n",
       " 'columntransformer__pipeline-2__simpleimputer__verbose': 0,\n",
       " 'columntransformer__pipeline-2__standardscaler__copy': True,\n",
       " 'columntransformer__pipeline-2__standardscaler__with_mean': True,\n",
       " 'columntransformer__pipeline-2__standardscaler__with_std': True,\n",
       " 'logisticregression__C': 1.0,\n",
       " 'logisticregression__class_weight': None,\n",
       " 'logisticregression__dual': False,\n",
       " 'logisticregression__fit_intercept': True,\n",
       " 'logisticregression__intercept_scaling': 1,\n",
       " 'logisticregression__l1_ratio': None,\n",
       " 'logisticregression__max_iter': 100,\n",
       " 'logisticregression__multi_class': 'auto',\n",
       " 'logisticregression__n_jobs': None,\n",
       " 'logisticregression__penalty': 'l2',\n",
       " 'logisticregression__random_state': None,\n",
       " 'logisticregression__solver': 'lbfgs',\n",
       " 'logisticregression__tol': 0.0001,\n",
       " 'logisticregression__verbose': 0,\n",
       " 'logisticregression__warm_start': False}"
      ]
     },
     "execution_count": 78,
     "metadata": {},
     "output_type": "execute_result"
    }
   ],
   "source": [
    "pipe2.get_params()"
   ]
  },
  {
   "cell_type": "code",
   "execution_count": 79,
   "id": "9da0a7cd",
   "metadata": {},
   "outputs": [],
   "source": [
    "param_grid2 = {'columntransformer__pipeline-2__standardscaler':\n",
    "              [StandardScaler(), MinMaxScaler(), 'passthrough'],\n",
    "              'columntransformer__pipeline-2__simpleimputer__strategy':\n",
    "              ['mean', 'median'],\n",
    "              'logisticregression__fit_intercept': [True, False]\n",
    "             }"
   ]
  },
  {
   "cell_type": "code",
   "execution_count": 80,
   "id": "9be27b90",
   "metadata": {},
   "outputs": [
    {
     "data": {
      "text/plain": [
       "{'columntransformer__pipeline-2__simpleimputer__strategy': 'mean',\n",
       " 'columntransformer__pipeline-2__standardscaler': StandardScaler(),\n",
       " 'logisticregression__fit_intercept': True}"
      ]
     },
     "execution_count": 80,
     "metadata": {},
     "output_type": "execute_result"
    }
   ],
   "source": [
    "gs2 = GridSearchCV(pipe2, param_grid=param_grid2, cv=10, scoring='neg_root_mean_squared_error', n_jobs=-1)\n",
    "\n",
    "gs2.fit(X_train, y_train)\n",
    "\n",
    "gs2.best_params_"
   ]
  },
  {
   "cell_type": "markdown",
   "id": "f9a0c858",
   "metadata": {},
   "source": [
    "## Pipeline 3\n",
    "This pipeline includes all the significant factors associated with the Age Group Statsmodel models: sex, chest pain type, ***chol***, restbps, max heartrate, exang, and old peak."
   ]
  },
  {
   "cell_type": "code",
   "execution_count": 81,
   "id": "6aca3e89",
   "metadata": {},
   "outputs": [
    {
     "data": {
      "text/html": [
       "<div>\n",
       "<style scoped>\n",
       "    .dataframe tbody tr th:only-of-type {\n",
       "        vertical-align: middle;\n",
       "    }\n",
       "\n",
       "    .dataframe tbody tr th {\n",
       "        vertical-align: top;\n",
       "    }\n",
       "\n",
       "    .dataframe thead th {\n",
       "        text-align: right;\n",
       "    }\n",
       "</style>\n",
       "<table border=\"1\" class=\"dataframe\">\n",
       "  <thead>\n",
       "    <tr style=\"text-align: right;\">\n",
       "      <th></th>\n",
       "      <th>sex</th>\n",
       "      <th>chest_pain_type</th>\n",
       "      <th>chol</th>\n",
       "      <th>restbps</th>\n",
       "      <th>max_heartrate</th>\n",
       "      <th>exang</th>\n",
       "      <th>oldpeak</th>\n",
       "    </tr>\n",
       "  </thead>\n",
       "  <tbody>\n",
       "    <tr>\n",
       "      <th>155</th>\n",
       "      <td>1.0</td>\n",
       "      <td>4.0</td>\n",
       "      <td>322.0</td>\n",
       "      <td>130.0</td>\n",
       "      <td>109.0</td>\n",
       "      <td>0.0</td>\n",
       "      <td>2.4</td>\n",
       "    </tr>\n",
       "    <tr>\n",
       "      <th>296</th>\n",
       "      <td>1.0</td>\n",
       "      <td>4.0</td>\n",
       "      <td>176.0</td>\n",
       "      <td>164.0</td>\n",
       "      <td>90.0</td>\n",
       "      <td>0.0</td>\n",
       "      <td>1.0</td>\n",
       "    </tr>\n",
       "    <tr>\n",
       "      <th>71</th>\n",
       "      <td>1.0</td>\n",
       "      <td>4.0</td>\n",
       "      <td>254.0</td>\n",
       "      <td>125.0</td>\n",
       "      <td>163.0</td>\n",
       "      <td>0.0</td>\n",
       "      <td>0.2</td>\n",
       "    </tr>\n",
       "    <tr>\n",
       "      <th>139</th>\n",
       "      <td>1.0</td>\n",
       "      <td>3.0</td>\n",
       "      <td>245.0</td>\n",
       "      <td>125.0</td>\n",
       "      <td>166.0</td>\n",
       "      <td>0.0</td>\n",
       "      <td>2.4</td>\n",
       "    </tr>\n",
       "    <tr>\n",
       "      <th>181</th>\n",
       "      <td>0.0</td>\n",
       "      <td>4.0</td>\n",
       "      <td>409.0</td>\n",
       "      <td>134.0</td>\n",
       "      <td>150.0</td>\n",
       "      <td>1.0</td>\n",
       "      <td>1.9</td>\n",
       "    </tr>\n",
       "  </tbody>\n",
       "</table>\n",
       "</div>"
      ],
      "text/plain": [
       "     sex chest_pain_type   chol  restbps  max_heartrate exang  oldpeak\n",
       "155  1.0             4.0  322.0    130.0          109.0   0.0      2.4\n",
       "296  1.0             4.0  176.0    164.0           90.0   0.0      1.0\n",
       "71   1.0             4.0  254.0    125.0          163.0   0.0      0.2\n",
       "139  1.0             3.0  245.0    125.0          166.0   0.0      2.4\n",
       "181  0.0             4.0  409.0    134.0          150.0   1.0      1.9"
      ]
     },
     "execution_count": 81,
     "metadata": {},
     "output_type": "execute_result"
    }
   ],
   "source": [
    "X3 = df[['sex','chest_pain_type','chol','restbps','max_heartrate','exang', 'oldpeak']]\n",
    "\n",
    "y3 = df['heart_dx']\n",
    "\n",
    "# X2.head()\n",
    "\n",
    "\n",
    "X_train, X_test, y_train, y_test = train_test_split(X3, y3, \n",
    "                                                    test_size=.2,\n",
    "                                                    stratify=y3,\n",
    "                                                    random_state=53\n",
    "                                                    )\n",
    "X_test.head()\n",
    "\n",
    "#used stratify to equate those who have been diagnosed and those who haven't."
   ]
  },
  {
   "cell_type": "markdown",
   "id": "42ddccf7",
   "metadata": {},
   "source": [
    "### Preprocessing the Pipeline 3"
   ]
  },
  {
   "cell_type": "code",
   "execution_count": 82,
   "id": "f97cd4c1",
   "metadata": {},
   "outputs": [
    {
     "data": {
      "text/plain": [
       "[array([0.0, 1.0], dtype=object),\n",
       " array([1.0, 2.0, 3.0, 4.0], dtype=object),\n",
       " array([0.0, 1.0], dtype=object)]"
      ]
     },
     "execution_count": 82,
     "metadata": {},
     "output_type": "execute_result"
    }
   ],
   "source": [
    "cat_imputed3 = SimpleImputer(missing_values='?', strategy='most_frequent').fit_transform(df[['sex', 'chest_pain_type', 'exang']])\n",
    "\n",
    "enc = OneHotEncoder(sparse=False)\n",
    "\n",
    "enc.fit_transform(cat_imputed3)\n",
    "\n",
    "\n",
    "enc.categories_"
   ]
  },
  {
   "cell_type": "code",
   "execution_count": 83,
   "id": "b23fc6ec",
   "metadata": {},
   "outputs": [
    {
     "data": {
      "text/plain": [
       "array([[145. , 233. , 150. ,   2.3],\n",
       "       [160. , 286. , 108. ,   1.5],\n",
       "       [120. , 229. , 129. ,   2.6],\n",
       "       ...,\n",
       "       [130. , 131. , 115. ,   1.2],\n",
       "       [130. , 236. , 174. ,   0. ],\n",
       "       [138. , 175. , 173. ,   0. ]])"
      ]
     },
     "execution_count": 83,
     "metadata": {},
     "output_type": "execute_result"
    }
   ],
   "source": [
    "SimpleImputer(strategy='mean').fit_transform(df[['restbps','chol','max_heartrate','oldpeak',]]\n",
    "\n",
    ")"
   ]
  },
  {
   "cell_type": "code",
   "execution_count": 84,
   "id": "7fa83670",
   "metadata": {},
   "outputs": [
    {
     "data": {
      "text/plain": [
       "array([[ 0.75752504, -0.2649003 ,  0.01719733,  1.08733806],\n",
       "       [ 1.61121989,  0.76041519, -1.82190531,  0.39718162],\n",
       "       [-0.6652997 , -0.34228261, -0.90235399,  1.34614673],\n",
       "       ...,\n",
       "       [-0.0961698 , -2.23814899, -1.51538821,  0.13837295],\n",
       "       [-0.0961698 , -0.20686358,  1.06811312, -0.89686172],\n",
       "       [ 0.35913411, -1.38694368,  1.02432497, -0.89686172]])"
      ]
     },
     "execution_count": 84,
     "metadata": {},
     "output_type": "execute_result"
    }
   ],
   "source": [
    "StandardScaler().fit_transform(df[['restbps','chol','max_heartrate','oldpeak']]\n",
    "\n",
    ")"
   ]
  },
  {
   "cell_type": "code",
   "execution_count": 85,
   "id": "774e92bf",
   "metadata": {},
   "outputs": [],
   "source": [
    "imp_ohe = make_pipeline(SimpleImputer(strategy='most_frequent'),\n",
    "             OneHotEncoder(sparse=False))\n",
    "\n",
    "imp_mean = make_pipeline(SimpleImputer(strategy='mean'),\n",
    "                       StandardScaler())\n",
    "\n",
    "preprocessor3 = make_column_transformer((imp_ohe, ['sex', 'chest_pain_type', 'exang']),\n",
    "                       (imp_mean, ['restbps','chol', 'max_heartrate','oldpeak']))"
   ]
  },
  {
   "cell_type": "code",
   "execution_count": 86,
   "id": "eb4a7483",
   "metadata": {},
   "outputs": [
    {
     "data": {
      "text/plain": [
       "Pipeline(steps=[('columntransformer',\n",
       "                 ColumnTransformer(transformers=[('pipeline-1',\n",
       "                                                  Pipeline(steps=[('simpleimputer',\n",
       "                                                                   SimpleImputer(strategy='most_frequent')),\n",
       "                                                                  ('onehotencoder',\n",
       "                                                                   OneHotEncoder(sparse=False))]),\n",
       "                                                  ['sex', 'chest_pain_type',\n",
       "                                                   'exang']),\n",
       "                                                 ('pipeline-2',\n",
       "                                                  Pipeline(steps=[('simpleimputer',\n",
       "                                                                   SimpleImputer()),\n",
       "                                                                  ('standardscaler',\n",
       "                                                                   StandardScaler())]),\n",
       "                                                  ['restbps', 'chol',\n",
       "                                                   'max_heartrate',\n",
       "                                                   'oldpeak'])])),\n",
       "                ('logisticregression', LogisticRegression())])"
      ]
     },
     "execution_count": 86,
     "metadata": {},
     "output_type": "execute_result"
    }
   ],
   "source": [
    "clf3 = LogisticRegression()  \n",
    "\n",
    "pipe3 = make_pipeline(preprocessor3, clf3)\n",
    "pipe3"
   ]
  },
  {
   "cell_type": "code",
   "execution_count": 87,
   "id": "0f41e0d9",
   "metadata": {},
   "outputs": [],
   "source": [
    "pipe3.fit(X_train, y_train)\n",
    "y_pred3 = pipe3.predict(X_test)\n",
    "# y_pred3"
   ]
  },
  {
   "cell_type": "code",
   "execution_count": 88,
   "id": "e80ff1f6",
   "metadata": {
    "scrolled": true
   },
   "outputs": [
    {
     "name": "stdout",
     "output_type": "stream",
     "text": [
      "R2 Metric 0.21\n"
     ]
    }
   ],
   "source": [
    "print('R2 Metric', round(metrics.r2_score(y_test, y_pred3),2))"
   ]
  },
  {
   "cell_type": "code",
   "execution_count": 89,
   "id": "eec661d8",
   "metadata": {},
   "outputs": [
    {
     "data": {
      "text/plain": [
       "array([0.50800051, 0.53881591, 0.40160966, 0.36514837, 0.36514837,\n",
       "       0.40824829, 0.36514837, 0.40824829, 0.51639778, 0.40824829])"
      ]
     },
     "execution_count": 89,
     "metadata": {},
     "output_type": "execute_result"
    }
   ],
   "source": [
    "- (cross_val_score(pipe3, X3, y3, cv=10, scoring='neg_root_mean_squared_error'))"
   ]
  },
  {
   "cell_type": "code",
   "execution_count": 90,
   "id": "7fd301ff",
   "metadata": {
    "scrolled": true
   },
   "outputs": [
    {
     "data": {
      "text/plain": [
       "{'memory': None,\n",
       " 'steps': [('columntransformer',\n",
       "   ColumnTransformer(transformers=[('pipeline-1',\n",
       "                                    Pipeline(steps=[('simpleimputer',\n",
       "                                                     SimpleImputer(strategy='most_frequent')),\n",
       "                                                    ('onehotencoder',\n",
       "                                                     OneHotEncoder(sparse=False))]),\n",
       "                                    ['sex', 'chest_pain_type', 'exang']),\n",
       "                                   ('pipeline-2',\n",
       "                                    Pipeline(steps=[('simpleimputer',\n",
       "                                                     SimpleImputer()),\n",
       "                                                    ('standardscaler',\n",
       "                                                     StandardScaler())]),\n",
       "                                    ['restbps', 'chol', 'max_heartrate',\n",
       "                                     'oldpeak'])])),\n",
       "  ('logisticregression', LogisticRegression())],\n",
       " 'verbose': False,\n",
       " 'columntransformer': ColumnTransformer(transformers=[('pipeline-1',\n",
       "                                  Pipeline(steps=[('simpleimputer',\n",
       "                                                   SimpleImputer(strategy='most_frequent')),\n",
       "                                                  ('onehotencoder',\n",
       "                                                   OneHotEncoder(sparse=False))]),\n",
       "                                  ['sex', 'chest_pain_type', 'exang']),\n",
       "                                 ('pipeline-2',\n",
       "                                  Pipeline(steps=[('simpleimputer',\n",
       "                                                   SimpleImputer()),\n",
       "                                                  ('standardscaler',\n",
       "                                                   StandardScaler())]),\n",
       "                                  ['restbps', 'chol', 'max_heartrate',\n",
       "                                   'oldpeak'])]),\n",
       " 'logisticregression': LogisticRegression(),\n",
       " 'columntransformer__n_jobs': None,\n",
       " 'columntransformer__remainder': 'drop',\n",
       " 'columntransformer__sparse_threshold': 0.3,\n",
       " 'columntransformer__transformer_weights': None,\n",
       " 'columntransformer__transformers': [('pipeline-1',\n",
       "   Pipeline(steps=[('simpleimputer', SimpleImputer(strategy='most_frequent')),\n",
       "                   ('onehotencoder', OneHotEncoder(sparse=False))]),\n",
       "   ['sex', 'chest_pain_type', 'exang']),\n",
       "  ('pipeline-2',\n",
       "   Pipeline(steps=[('simpleimputer', SimpleImputer()),\n",
       "                   ('standardscaler', StandardScaler())]),\n",
       "   ['restbps', 'chol', 'max_heartrate', 'oldpeak'])],\n",
       " 'columntransformer__verbose': False,\n",
       " 'columntransformer__verbose_feature_names_out': True,\n",
       " 'columntransformer__pipeline-1': Pipeline(steps=[('simpleimputer', SimpleImputer(strategy='most_frequent')),\n",
       "                 ('onehotencoder', OneHotEncoder(sparse=False))]),\n",
       " 'columntransformer__pipeline-2': Pipeline(steps=[('simpleimputer', SimpleImputer()),\n",
       "                 ('standardscaler', StandardScaler())]),\n",
       " 'columntransformer__pipeline-1__memory': None,\n",
       " 'columntransformer__pipeline-1__steps': [('simpleimputer',\n",
       "   SimpleImputer(strategy='most_frequent')),\n",
       "  ('onehotencoder', OneHotEncoder(sparse=False))],\n",
       " 'columntransformer__pipeline-1__verbose': False,\n",
       " 'columntransformer__pipeline-1__simpleimputer': SimpleImputer(strategy='most_frequent'),\n",
       " 'columntransformer__pipeline-1__onehotencoder': OneHotEncoder(sparse=False),\n",
       " 'columntransformer__pipeline-1__simpleimputer__add_indicator': False,\n",
       " 'columntransformer__pipeline-1__simpleimputer__copy': True,\n",
       " 'columntransformer__pipeline-1__simpleimputer__fill_value': None,\n",
       " 'columntransformer__pipeline-1__simpleimputer__missing_values': nan,\n",
       " 'columntransformer__pipeline-1__simpleimputer__strategy': 'most_frequent',\n",
       " 'columntransformer__pipeline-1__simpleimputer__verbose': 0,\n",
       " 'columntransformer__pipeline-1__onehotencoder__categories': 'auto',\n",
       " 'columntransformer__pipeline-1__onehotencoder__drop': None,\n",
       " 'columntransformer__pipeline-1__onehotencoder__dtype': numpy.float64,\n",
       " 'columntransformer__pipeline-1__onehotencoder__handle_unknown': 'error',\n",
       " 'columntransformer__pipeline-1__onehotencoder__sparse': False,\n",
       " 'columntransformer__pipeline-2__memory': None,\n",
       " 'columntransformer__pipeline-2__steps': [('simpleimputer', SimpleImputer()),\n",
       "  ('standardscaler', StandardScaler())],\n",
       " 'columntransformer__pipeline-2__verbose': False,\n",
       " 'columntransformer__pipeline-2__simpleimputer': SimpleImputer(),\n",
       " 'columntransformer__pipeline-2__standardscaler': StandardScaler(),\n",
       " 'columntransformer__pipeline-2__simpleimputer__add_indicator': False,\n",
       " 'columntransformer__pipeline-2__simpleimputer__copy': True,\n",
       " 'columntransformer__pipeline-2__simpleimputer__fill_value': None,\n",
       " 'columntransformer__pipeline-2__simpleimputer__missing_values': nan,\n",
       " 'columntransformer__pipeline-2__simpleimputer__strategy': 'mean',\n",
       " 'columntransformer__pipeline-2__simpleimputer__verbose': 0,\n",
       " 'columntransformer__pipeline-2__standardscaler__copy': True,\n",
       " 'columntransformer__pipeline-2__standardscaler__with_mean': True,\n",
       " 'columntransformer__pipeline-2__standardscaler__with_std': True,\n",
       " 'logisticregression__C': 1.0,\n",
       " 'logisticregression__class_weight': None,\n",
       " 'logisticregression__dual': False,\n",
       " 'logisticregression__fit_intercept': True,\n",
       " 'logisticregression__intercept_scaling': 1,\n",
       " 'logisticregression__l1_ratio': None,\n",
       " 'logisticregression__max_iter': 100,\n",
       " 'logisticregression__multi_class': 'auto',\n",
       " 'logisticregression__n_jobs': None,\n",
       " 'logisticregression__penalty': 'l2',\n",
       " 'logisticregression__random_state': None,\n",
       " 'logisticregression__solver': 'lbfgs',\n",
       " 'logisticregression__tol': 0.0001,\n",
       " 'logisticregression__verbose': 0,\n",
       " 'logisticregression__warm_start': False}"
      ]
     },
     "execution_count": 90,
     "metadata": {},
     "output_type": "execute_result"
    }
   ],
   "source": [
    "pipe3.get_params()"
   ]
  },
  {
   "cell_type": "code",
   "execution_count": 91,
   "id": "831f2cb7",
   "metadata": {},
   "outputs": [
    {
     "data": {
      "text/html": [
       "<style>#sk-4ce1fdf5-889f-4e3b-8bc6-e3587ef44507 {color: black;background-color: white;}#sk-4ce1fdf5-889f-4e3b-8bc6-e3587ef44507 pre{padding: 0;}#sk-4ce1fdf5-889f-4e3b-8bc6-e3587ef44507 div.sk-toggleable {background-color: white;}#sk-4ce1fdf5-889f-4e3b-8bc6-e3587ef44507 label.sk-toggleable__label {cursor: pointer;display: block;width: 100%;margin-bottom: 0;padding: 0.3em;box-sizing: border-box;text-align: center;}#sk-4ce1fdf5-889f-4e3b-8bc6-e3587ef44507 label.sk-toggleable__label-arrow:before {content: \"▸\";float: left;margin-right: 0.25em;color: #696969;}#sk-4ce1fdf5-889f-4e3b-8bc6-e3587ef44507 label.sk-toggleable__label-arrow:hover:before {color: black;}#sk-4ce1fdf5-889f-4e3b-8bc6-e3587ef44507 div.sk-estimator:hover label.sk-toggleable__label-arrow:before {color: black;}#sk-4ce1fdf5-889f-4e3b-8bc6-e3587ef44507 div.sk-toggleable__content {max-height: 0;max-width: 0;overflow: hidden;text-align: left;background-color: #f0f8ff;}#sk-4ce1fdf5-889f-4e3b-8bc6-e3587ef44507 div.sk-toggleable__content pre {margin: 0.2em;color: black;border-radius: 0.25em;background-color: #f0f8ff;}#sk-4ce1fdf5-889f-4e3b-8bc6-e3587ef44507 input.sk-toggleable__control:checked~div.sk-toggleable__content {max-height: 200px;max-width: 100%;overflow: auto;}#sk-4ce1fdf5-889f-4e3b-8bc6-e3587ef44507 input.sk-toggleable__control:checked~label.sk-toggleable__label-arrow:before {content: \"▾\";}#sk-4ce1fdf5-889f-4e3b-8bc6-e3587ef44507 div.sk-estimator input.sk-toggleable__control:checked~label.sk-toggleable__label {background-color: #d4ebff;}#sk-4ce1fdf5-889f-4e3b-8bc6-e3587ef44507 div.sk-label input.sk-toggleable__control:checked~label.sk-toggleable__label {background-color: #d4ebff;}#sk-4ce1fdf5-889f-4e3b-8bc6-e3587ef44507 input.sk-hidden--visually {border: 0;clip: rect(1px 1px 1px 1px);clip: rect(1px, 1px, 1px, 1px);height: 1px;margin: -1px;overflow: hidden;padding: 0;position: absolute;width: 1px;}#sk-4ce1fdf5-889f-4e3b-8bc6-e3587ef44507 div.sk-estimator {font-family: monospace;background-color: #f0f8ff;border: 1px dotted black;border-radius: 0.25em;box-sizing: border-box;margin-bottom: 0.5em;}#sk-4ce1fdf5-889f-4e3b-8bc6-e3587ef44507 div.sk-estimator:hover {background-color: #d4ebff;}#sk-4ce1fdf5-889f-4e3b-8bc6-e3587ef44507 div.sk-parallel-item::after {content: \"\";width: 100%;border-bottom: 1px solid gray;flex-grow: 1;}#sk-4ce1fdf5-889f-4e3b-8bc6-e3587ef44507 div.sk-label:hover label.sk-toggleable__label {background-color: #d4ebff;}#sk-4ce1fdf5-889f-4e3b-8bc6-e3587ef44507 div.sk-serial::before {content: \"\";position: absolute;border-left: 1px solid gray;box-sizing: border-box;top: 2em;bottom: 0;left: 50%;}#sk-4ce1fdf5-889f-4e3b-8bc6-e3587ef44507 div.sk-serial {display: flex;flex-direction: column;align-items: center;background-color: white;padding-right: 0.2em;padding-left: 0.2em;}#sk-4ce1fdf5-889f-4e3b-8bc6-e3587ef44507 div.sk-item {z-index: 1;}#sk-4ce1fdf5-889f-4e3b-8bc6-e3587ef44507 div.sk-parallel {display: flex;align-items: stretch;justify-content: center;background-color: white;}#sk-4ce1fdf5-889f-4e3b-8bc6-e3587ef44507 div.sk-parallel::before {content: \"\";position: absolute;border-left: 1px solid gray;box-sizing: border-box;top: 2em;bottom: 0;left: 50%;}#sk-4ce1fdf5-889f-4e3b-8bc6-e3587ef44507 div.sk-parallel-item {display: flex;flex-direction: column;position: relative;background-color: white;}#sk-4ce1fdf5-889f-4e3b-8bc6-e3587ef44507 div.sk-parallel-item:first-child::after {align-self: flex-end;width: 50%;}#sk-4ce1fdf5-889f-4e3b-8bc6-e3587ef44507 div.sk-parallel-item:last-child::after {align-self: flex-start;width: 50%;}#sk-4ce1fdf5-889f-4e3b-8bc6-e3587ef44507 div.sk-parallel-item:only-child::after {width: 0;}#sk-4ce1fdf5-889f-4e3b-8bc6-e3587ef44507 div.sk-dashed-wrapped {border: 1px dashed gray;margin: 0 0.4em 0.5em 0.4em;box-sizing: border-box;padding-bottom: 0.4em;background-color: white;position: relative;}#sk-4ce1fdf5-889f-4e3b-8bc6-e3587ef44507 div.sk-label label {font-family: monospace;font-weight: bold;background-color: white;display: inline-block;line-height: 1.2em;}#sk-4ce1fdf5-889f-4e3b-8bc6-e3587ef44507 div.sk-label-container {position: relative;z-index: 2;text-align: center;}#sk-4ce1fdf5-889f-4e3b-8bc6-e3587ef44507 div.sk-container {/* jupyter's `normalize.less` sets `[hidden] { display: none; }` but bootstrap.min.css set `[hidden] { display: none !important; }` so we also need the `!important` here to be able to override the default hidden behavior on the sphinx rendered scikit-learn.org. See: https://github.com/scikit-learn/scikit-learn/issues/21755 */display: inline-block !important;position: relative;}#sk-4ce1fdf5-889f-4e3b-8bc6-e3587ef44507 div.sk-text-repr-fallback {display: none;}</style><div id=\"sk-4ce1fdf5-889f-4e3b-8bc6-e3587ef44507\" class=\"sk-top-container\"><div class=\"sk-text-repr-fallback\"><pre>Pipeline(steps=[(&#x27;columntransformer&#x27;,\n",
       "                 ColumnTransformer(transformers=[(&#x27;pipeline-1&#x27;,\n",
       "                                                  Pipeline(steps=[(&#x27;simpleimputer&#x27;,\n",
       "                                                                   SimpleImputer(strategy=&#x27;most_frequent&#x27;)),\n",
       "                                                                  (&#x27;onehotencoder&#x27;,\n",
       "                                                                   OneHotEncoder(sparse=False))]),\n",
       "                                                  [&#x27;sex&#x27;, &#x27;chest_pain_type&#x27;,\n",
       "                                                   &#x27;exang&#x27;]),\n",
       "                                                 (&#x27;pipeline-2&#x27;,\n",
       "                                                  Pipeline(steps=[(&#x27;simpleimputer&#x27;,\n",
       "                                                                   SimpleImputer()),\n",
       "                                                                  (&#x27;standardscaler&#x27;,\n",
       "                                                                   StandardScaler())]),\n",
       "                                                  [&#x27;restbps&#x27;, &#x27;chol&#x27;,\n",
       "                                                   &#x27;max_heartrate&#x27;,\n",
       "                                                   &#x27;oldpeak&#x27;])])),\n",
       "                (&#x27;logisticregression&#x27;, LogisticRegression())])</pre><b>Please rerun this cell to show the HTML repr or trust the notebook.</b></div><div class=\"sk-container\" hidden><div class=\"sk-item sk-dashed-wrapped\"><div class=\"sk-label-container\"><div class=\"sk-label sk-toggleable\"><input class=\"sk-toggleable__control sk-hidden--visually\" id=\"7e1de3bd-c47f-42ef-b6ac-dfa45611c848\" type=\"checkbox\" ><label for=\"7e1de3bd-c47f-42ef-b6ac-dfa45611c848\" class=\"sk-toggleable__label sk-toggleable__label-arrow\">Pipeline</label><div class=\"sk-toggleable__content\"><pre>Pipeline(steps=[(&#x27;columntransformer&#x27;,\n",
       "                 ColumnTransformer(transformers=[(&#x27;pipeline-1&#x27;,\n",
       "                                                  Pipeline(steps=[(&#x27;simpleimputer&#x27;,\n",
       "                                                                   SimpleImputer(strategy=&#x27;most_frequent&#x27;)),\n",
       "                                                                  (&#x27;onehotencoder&#x27;,\n",
       "                                                                   OneHotEncoder(sparse=False))]),\n",
       "                                                  [&#x27;sex&#x27;, &#x27;chest_pain_type&#x27;,\n",
       "                                                   &#x27;exang&#x27;]),\n",
       "                                                 (&#x27;pipeline-2&#x27;,\n",
       "                                                  Pipeline(steps=[(&#x27;simpleimputer&#x27;,\n",
       "                                                                   SimpleImputer()),\n",
       "                                                                  (&#x27;standardscaler&#x27;,\n",
       "                                                                   StandardScaler())]),\n",
       "                                                  [&#x27;restbps&#x27;, &#x27;chol&#x27;,\n",
       "                                                   &#x27;max_heartrate&#x27;,\n",
       "                                                   &#x27;oldpeak&#x27;])])),\n",
       "                (&#x27;logisticregression&#x27;, LogisticRegression())])</pre></div></div></div><div class=\"sk-serial\"><div class=\"sk-item sk-dashed-wrapped\"><div class=\"sk-label-container\"><div class=\"sk-label sk-toggleable\"><input class=\"sk-toggleable__control sk-hidden--visually\" id=\"1289bddd-42c0-41c3-9c87-c437fb2f81b9\" type=\"checkbox\" ><label for=\"1289bddd-42c0-41c3-9c87-c437fb2f81b9\" class=\"sk-toggleable__label sk-toggleable__label-arrow\">columntransformer: ColumnTransformer</label><div class=\"sk-toggleable__content\"><pre>ColumnTransformer(transformers=[(&#x27;pipeline-1&#x27;,\n",
       "                                 Pipeline(steps=[(&#x27;simpleimputer&#x27;,\n",
       "                                                  SimpleImputer(strategy=&#x27;most_frequent&#x27;)),\n",
       "                                                 (&#x27;onehotencoder&#x27;,\n",
       "                                                  OneHotEncoder(sparse=False))]),\n",
       "                                 [&#x27;sex&#x27;, &#x27;chest_pain_type&#x27;, &#x27;exang&#x27;]),\n",
       "                                (&#x27;pipeline-2&#x27;,\n",
       "                                 Pipeline(steps=[(&#x27;simpleimputer&#x27;,\n",
       "                                                  SimpleImputer()),\n",
       "                                                 (&#x27;standardscaler&#x27;,\n",
       "                                                  StandardScaler())]),\n",
       "                                 [&#x27;restbps&#x27;, &#x27;chol&#x27;, &#x27;max_heartrate&#x27;,\n",
       "                                  &#x27;oldpeak&#x27;])])</pre></div></div></div><div class=\"sk-parallel\"><div class=\"sk-parallel-item\"><div class=\"sk-item\"><div class=\"sk-label-container\"><div class=\"sk-label sk-toggleable\"><input class=\"sk-toggleable__control sk-hidden--visually\" id=\"592b1bd9-6539-4db4-a77e-b4dd230b9147\" type=\"checkbox\" ><label for=\"592b1bd9-6539-4db4-a77e-b4dd230b9147\" class=\"sk-toggleable__label sk-toggleable__label-arrow\">pipeline-1</label><div class=\"sk-toggleable__content\"><pre>[&#x27;sex&#x27;, &#x27;chest_pain_type&#x27;, &#x27;exang&#x27;]</pre></div></div></div><div class=\"sk-serial\"><div class=\"sk-item\"><div class=\"sk-serial\"><div class=\"sk-item\"><div class=\"sk-estimator sk-toggleable\"><input class=\"sk-toggleable__control sk-hidden--visually\" id=\"8e8d09da-5fb8-49ac-b002-c8804d535d1a\" type=\"checkbox\" ><label for=\"8e8d09da-5fb8-49ac-b002-c8804d535d1a\" class=\"sk-toggleable__label sk-toggleable__label-arrow\">SimpleImputer</label><div class=\"sk-toggleable__content\"><pre>SimpleImputer(strategy=&#x27;most_frequent&#x27;)</pre></div></div></div><div class=\"sk-item\"><div class=\"sk-estimator sk-toggleable\"><input class=\"sk-toggleable__control sk-hidden--visually\" id=\"eb3b70b1-6200-43e7-b438-0d2515bf983e\" type=\"checkbox\" ><label for=\"eb3b70b1-6200-43e7-b438-0d2515bf983e\" class=\"sk-toggleable__label sk-toggleable__label-arrow\">OneHotEncoder</label><div class=\"sk-toggleable__content\"><pre>OneHotEncoder(sparse=False)</pre></div></div></div></div></div></div></div></div><div class=\"sk-parallel-item\"><div class=\"sk-item\"><div class=\"sk-label-container\"><div class=\"sk-label sk-toggleable\"><input class=\"sk-toggleable__control sk-hidden--visually\" id=\"7dfc84d7-b0d1-4d9c-9499-9ba0a77b915a\" type=\"checkbox\" ><label for=\"7dfc84d7-b0d1-4d9c-9499-9ba0a77b915a\" class=\"sk-toggleable__label sk-toggleable__label-arrow\">pipeline-2</label><div class=\"sk-toggleable__content\"><pre>[&#x27;restbps&#x27;, &#x27;chol&#x27;, &#x27;max_heartrate&#x27;, &#x27;oldpeak&#x27;]</pre></div></div></div><div class=\"sk-serial\"><div class=\"sk-item\"><div class=\"sk-serial\"><div class=\"sk-item\"><div class=\"sk-estimator sk-toggleable\"><input class=\"sk-toggleable__control sk-hidden--visually\" id=\"b0379a13-479d-47b4-8341-da1b1a61b417\" type=\"checkbox\" ><label for=\"b0379a13-479d-47b4-8341-da1b1a61b417\" class=\"sk-toggleable__label sk-toggleable__label-arrow\">SimpleImputer</label><div class=\"sk-toggleable__content\"><pre>SimpleImputer()</pre></div></div></div><div class=\"sk-item\"><div class=\"sk-estimator sk-toggleable\"><input class=\"sk-toggleable__control sk-hidden--visually\" id=\"b970a7ed-b3ac-4326-8e33-8d93b113e9fc\" type=\"checkbox\" ><label for=\"b970a7ed-b3ac-4326-8e33-8d93b113e9fc\" class=\"sk-toggleable__label sk-toggleable__label-arrow\">StandardScaler</label><div class=\"sk-toggleable__content\"><pre>StandardScaler()</pre></div></div></div></div></div></div></div></div></div></div><div class=\"sk-item\"><div class=\"sk-estimator sk-toggleable\"><input class=\"sk-toggleable__control sk-hidden--visually\" id=\"57617148-d418-4248-8394-4d917a033256\" type=\"checkbox\" ><label for=\"57617148-d418-4248-8394-4d917a033256\" class=\"sk-toggleable__label sk-toggleable__label-arrow\">LogisticRegression</label><div class=\"sk-toggleable__content\"><pre>LogisticRegression()</pre></div></div></div></div></div></div></div>"
      ],
      "text/plain": [
       "Pipeline(steps=[('columntransformer',\n",
       "                 ColumnTransformer(transformers=[('pipeline-1',\n",
       "                                                  Pipeline(steps=[('simpleimputer',\n",
       "                                                                   SimpleImputer(strategy='most_frequent')),\n",
       "                                                                  ('onehotencoder',\n",
       "                                                                   OneHotEncoder(sparse=False))]),\n",
       "                                                  ['sex', 'chest_pain_type',\n",
       "                                                   'exang']),\n",
       "                                                 ('pipeline-2',\n",
       "                                                  Pipeline(steps=[('simpleimputer',\n",
       "                                                                   SimpleImputer()),\n",
       "                                                                  ('standardscaler',\n",
       "                                                                   StandardScaler())]),\n",
       "                                                  ['restbps', 'chol',\n",
       "                                                   'max_heartrate',\n",
       "                                                   'oldpeak'])])),\n",
       "                ('logisticregression', LogisticRegression())])"
      ]
     },
     "execution_count": 91,
     "metadata": {},
     "output_type": "execute_result"
    }
   ],
   "source": [
    "from sklearn import set_config\n",
    "set_config(display=\"diagram\")\n",
    "pipe3"
   ]
  },
  {
   "cell_type": "code",
   "execution_count": 92,
   "id": "3f32e4dd",
   "metadata": {},
   "outputs": [],
   "source": [
    "param_grid3 = {'columntransformer__pipeline-2__standardscaler':\n",
    "              [StandardScaler(), MinMaxScaler(), 'passthrough'],\n",
    "              'columntransformer__pipeline-2__simpleimputer__strategy':\n",
    "              ['mean', 'median'],\n",
    "              'logisticregression__fit_intercept': [True, False]\n",
    "             }"
   ]
  },
  {
   "cell_type": "code",
   "execution_count": 93,
   "id": "557a3ed6",
   "metadata": {},
   "outputs": [
    {
     "data": {
      "text/plain": [
       "{'columntransformer__pipeline-2__simpleimputer__strategy': 'mean',\n",
       " 'columntransformer__pipeline-2__standardscaler': MinMaxScaler(),\n",
       " 'logisticregression__fit_intercept': False}"
      ]
     },
     "execution_count": 93,
     "metadata": {},
     "output_type": "execute_result"
    }
   ],
   "source": [
    "gs3 = GridSearchCV(pipe3, param_grid=param_grid3, cv=10, scoring='neg_root_mean_squared_error', n_jobs=-1)\n",
    "\n",
    "gs3.fit(X_train, y_train)\n",
    "\n",
    "gs3.best_params_"
   ]
  },
  {
   "cell_type": "markdown",
   "id": "6f32ddaa",
   "metadata": {},
   "source": [
    "## Pipeline Conclusions\n",
    "\n",
    "The after running the various pipelines, the RSME for the second pipeline was the highest, which leads us to believe that the second pipeline is the most accurate. Likewise, based on the grid search we performed, we used the best parameters to run the pipeline: SimpleImputer is mean, StandardScaler is Standard, and Logistic Regression Fit to Intercept is True.\n"
   ]
  },
  {
   "cell_type": "code",
   "execution_count": null,
   "id": "8354067c",
   "metadata": {},
   "outputs": [],
   "source": []
  },
  {
   "cell_type": "code",
   "execution_count": null,
   "id": "e520c30f",
   "metadata": {},
   "outputs": [],
   "source": []
  }
 ],
 "metadata": {
  "kernelspec": {
   "display_name": "Python 3 (ipykernel)",
   "language": "python",
   "name": "python3"
  },
  "language_info": {
   "codemirror_mode": {
    "name": "ipython",
    "version": 3
   },
   "file_extension": ".py",
   "mimetype": "text/x-python",
   "name": "python",
   "nbconvert_exporter": "python",
   "pygments_lexer": "ipython3",
   "version": "3.9.12"
  }
 },
 "nbformat": 4,
 "nbformat_minor": 5
}
